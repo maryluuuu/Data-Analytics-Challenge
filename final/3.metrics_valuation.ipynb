{
 "cells": [
  {
   "cell_type": "code",
   "execution_count": 13,
   "id": "b732aa61",
   "metadata": {},
   "outputs": [
    {
     "name": "stdout",
     "output_type": "stream",
     "text": [
      "Accuracy: 0.81\n",
      "              precision    recall  f1-score   support\n",
      "\n",
      "           1       0.93      0.95      0.94       561\n",
      "           2       0.77      0.78      0.77       586\n",
      "           3       0.68      0.66      0.67       563\n",
      "           4       0.86      0.85      0.85       594\n",
      "\n",
      "    accuracy                           0.81      2304\n",
      "   macro avg       0.81      0.81      0.81      2304\n",
      "weighted avg       0.81      0.81      0.81      2304\n",
      "\n"
     ]
    }
   ],
   "source": [
    "from pickle import load\n",
    "import pandas as pd\n",
    "from sklearn.metrics import accuracy_score, classification_report\n",
    "\n",
    "resource_folder = 'res'\n",
    "\n",
    "with open(f'{resource_folder}/datasets.pkl', 'rb') as f:\n",
    "    X_train, X_test, y_train, y_test = load(f)\n",
    "\n",
    "with open(f'{resource_folder}/model.pkl', 'rb') as f:\n",
    "    model = load(f)\n",
    "\n",
    "\n",
    "y_pred = model.predict(X_test)\n",
    "accuracy = accuracy_score(y_test, y_pred)\n",
    "\n",
    "print(f'Accuracy: {accuracy:.2f}')\n",
    "print(classification_report(y_test, y_pred, zero_division=0))\n"
   ]
  }
 ],
 "metadata": {
  "kernelspec": {
   "display_name": "rossi-manno",
   "language": "python",
   "name": "python3"
  },
  "language_info": {
   "codemirror_mode": {
    "name": "ipython",
    "version": 3
   },
   "file_extension": ".py",
   "mimetype": "text/x-python",
   "name": "python",
   "nbconvert_exporter": "python",
   "pygments_lexer": "ipython3",
   "version": "3.13.3"
  }
 },
 "nbformat": 4,
 "nbformat_minor": 5
}
