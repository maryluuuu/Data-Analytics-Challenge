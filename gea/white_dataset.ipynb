{
 "cells": [
  {
   "cell_type": "markdown",
   "metadata": {},
   "source": [
    "# Oversampling on class regrouping"
   ]
  },
  {
   "cell_type": "code",
   "execution_count": 9,
   "metadata": {
    "id": "QXle-8ckvm2Y"
   },
   "outputs": [],
   "source": [
    "import pandas as pd\n",
    "import numpy as np\n",
    "import matplotlib.pyplot as plt\n",
    "import seaborn as sns\n",
    "from sklearn.datasets import load_digits\n",
    "from sklearn.decomposition import PCA\n",
    "from sklearn.preprocessing import StandardScaler\n",
    "from imblearn.over_sampling import SMOTE\n",
    "from sklearn.model_selection import train_test_split, StratifiedKFold, GridSearchCV\n",
    "from sklearn.pipeline import Pipeline\n",
    "from sklearn.feature_selection import RFECV\n",
    "from sklearn.metrics import classification_report, accuracy_score\n",
    "from sklearn.svm import SVC\n",
    "from sklearn.linear_model import LogisticRegression\n",
    "from sklearn.neural_network import MLPClassifier\n",
    "from sklearn.tree import DecisionTreeClassifier\n",
    "from tqdm import tqdm\n",
    "from sklearn.pipeline import make_pipeline\n",
    "\n",
    "import warnings\n",
    "\n",
    "# suppress warning from MLP\n",
    "warnings.filterwarnings(\"ignore\")\n",
    "warnings.filterwarnings(\"ignore\", category=FutureWarning)\n"
   ]
  },
  {
   "cell_type": "markdown",
   "metadata": {},
   "source": [
    "Importing datasets manually"
   ]
  },
  {
   "cell_type": "code",
   "execution_count": 10,
   "metadata": {},
   "outputs": [],
   "source": [
    "df_white = pd.read_csv('../winequality-white.csv', sep=';')"
   ]
  },
  {
   "cell_type": "markdown",
   "metadata": {},
   "source": [
    "I add a color column to the datasets"
   ]
  },
  {
   "cell_type": "code",
   "execution_count": 11,
   "metadata": {},
   "outputs": [
    {
     "data": {
      "text/html": [
       "<div>\n",
       "<style scoped>\n",
       "    .dataframe tbody tr th:only-of-type {\n",
       "        vertical-align: middle;\n",
       "    }\n",
       "\n",
       "    .dataframe tbody tr th {\n",
       "        vertical-align: top;\n",
       "    }\n",
       "\n",
       "    .dataframe thead th {\n",
       "        text-align: right;\n",
       "    }\n",
       "</style>\n",
       "<table border=\"1\" class=\"dataframe\">\n",
       "  <thead>\n",
       "    <tr style=\"text-align: right;\">\n",
       "      <th></th>\n",
       "      <th>fixed acidity</th>\n",
       "      <th>volatile acidity</th>\n",
       "      <th>citric acid</th>\n",
       "      <th>residual sugar</th>\n",
       "      <th>chlorides</th>\n",
       "      <th>free sulfur dioxide</th>\n",
       "      <th>total sulfur dioxide</th>\n",
       "      <th>density</th>\n",
       "      <th>pH</th>\n",
       "      <th>sulphates</th>\n",
       "      <th>alcohol</th>\n",
       "      <th>quality</th>\n",
       "    </tr>\n",
       "  </thead>\n",
       "  <tbody>\n",
       "    <tr>\n",
       "      <th>0</th>\n",
       "      <td>7.0</td>\n",
       "      <td>0.27</td>\n",
       "      <td>0.36</td>\n",
       "      <td>20.7</td>\n",
       "      <td>0.045</td>\n",
       "      <td>45.0</td>\n",
       "      <td>170.0</td>\n",
       "      <td>1.00100</td>\n",
       "      <td>3.00</td>\n",
       "      <td>0.45</td>\n",
       "      <td>8.8</td>\n",
       "      <td>6</td>\n",
       "    </tr>\n",
       "    <tr>\n",
       "      <th>1</th>\n",
       "      <td>6.3</td>\n",
       "      <td>0.30</td>\n",
       "      <td>0.34</td>\n",
       "      <td>1.6</td>\n",
       "      <td>0.049</td>\n",
       "      <td>14.0</td>\n",
       "      <td>132.0</td>\n",
       "      <td>0.99400</td>\n",
       "      <td>3.30</td>\n",
       "      <td>0.49</td>\n",
       "      <td>9.5</td>\n",
       "      <td>6</td>\n",
       "    </tr>\n",
       "    <tr>\n",
       "      <th>2</th>\n",
       "      <td>8.1</td>\n",
       "      <td>0.28</td>\n",
       "      <td>0.40</td>\n",
       "      <td>6.9</td>\n",
       "      <td>0.050</td>\n",
       "      <td>30.0</td>\n",
       "      <td>97.0</td>\n",
       "      <td>0.99510</td>\n",
       "      <td>3.26</td>\n",
       "      <td>0.44</td>\n",
       "      <td>10.1</td>\n",
       "      <td>6</td>\n",
       "    </tr>\n",
       "    <tr>\n",
       "      <th>3</th>\n",
       "      <td>7.2</td>\n",
       "      <td>0.23</td>\n",
       "      <td>0.32</td>\n",
       "      <td>8.5</td>\n",
       "      <td>0.058</td>\n",
       "      <td>47.0</td>\n",
       "      <td>186.0</td>\n",
       "      <td>0.99560</td>\n",
       "      <td>3.19</td>\n",
       "      <td>0.40</td>\n",
       "      <td>9.9</td>\n",
       "      <td>6</td>\n",
       "    </tr>\n",
       "    <tr>\n",
       "      <th>4</th>\n",
       "      <td>7.2</td>\n",
       "      <td>0.23</td>\n",
       "      <td>0.32</td>\n",
       "      <td>8.5</td>\n",
       "      <td>0.058</td>\n",
       "      <td>47.0</td>\n",
       "      <td>186.0</td>\n",
       "      <td>0.99560</td>\n",
       "      <td>3.19</td>\n",
       "      <td>0.40</td>\n",
       "      <td>9.9</td>\n",
       "      <td>6</td>\n",
       "    </tr>\n",
       "    <tr>\n",
       "      <th>...</th>\n",
       "      <td>...</td>\n",
       "      <td>...</td>\n",
       "      <td>...</td>\n",
       "      <td>...</td>\n",
       "      <td>...</td>\n",
       "      <td>...</td>\n",
       "      <td>...</td>\n",
       "      <td>...</td>\n",
       "      <td>...</td>\n",
       "      <td>...</td>\n",
       "      <td>...</td>\n",
       "      <td>...</td>\n",
       "    </tr>\n",
       "    <tr>\n",
       "      <th>4893</th>\n",
       "      <td>6.2</td>\n",
       "      <td>0.21</td>\n",
       "      <td>0.29</td>\n",
       "      <td>1.6</td>\n",
       "      <td>0.039</td>\n",
       "      <td>24.0</td>\n",
       "      <td>92.0</td>\n",
       "      <td>0.99114</td>\n",
       "      <td>3.27</td>\n",
       "      <td>0.50</td>\n",
       "      <td>11.2</td>\n",
       "      <td>6</td>\n",
       "    </tr>\n",
       "    <tr>\n",
       "      <th>4894</th>\n",
       "      <td>6.6</td>\n",
       "      <td>0.32</td>\n",
       "      <td>0.36</td>\n",
       "      <td>8.0</td>\n",
       "      <td>0.047</td>\n",
       "      <td>57.0</td>\n",
       "      <td>168.0</td>\n",
       "      <td>0.99490</td>\n",
       "      <td>3.15</td>\n",
       "      <td>0.46</td>\n",
       "      <td>9.6</td>\n",
       "      <td>5</td>\n",
       "    </tr>\n",
       "    <tr>\n",
       "      <th>4895</th>\n",
       "      <td>6.5</td>\n",
       "      <td>0.24</td>\n",
       "      <td>0.19</td>\n",
       "      <td>1.2</td>\n",
       "      <td>0.041</td>\n",
       "      <td>30.0</td>\n",
       "      <td>111.0</td>\n",
       "      <td>0.99254</td>\n",
       "      <td>2.99</td>\n",
       "      <td>0.46</td>\n",
       "      <td>9.4</td>\n",
       "      <td>6</td>\n",
       "    </tr>\n",
       "    <tr>\n",
       "      <th>4896</th>\n",
       "      <td>5.5</td>\n",
       "      <td>0.29</td>\n",
       "      <td>0.30</td>\n",
       "      <td>1.1</td>\n",
       "      <td>0.022</td>\n",
       "      <td>20.0</td>\n",
       "      <td>110.0</td>\n",
       "      <td>0.98869</td>\n",
       "      <td>3.34</td>\n",
       "      <td>0.38</td>\n",
       "      <td>12.8</td>\n",
       "      <td>7</td>\n",
       "    </tr>\n",
       "    <tr>\n",
       "      <th>4897</th>\n",
       "      <td>6.0</td>\n",
       "      <td>0.21</td>\n",
       "      <td>0.38</td>\n",
       "      <td>0.8</td>\n",
       "      <td>0.020</td>\n",
       "      <td>22.0</td>\n",
       "      <td>98.0</td>\n",
       "      <td>0.98941</td>\n",
       "      <td>3.26</td>\n",
       "      <td>0.32</td>\n",
       "      <td>11.8</td>\n",
       "      <td>6</td>\n",
       "    </tr>\n",
       "  </tbody>\n",
       "</table>\n",
       "<p>4898 rows × 12 columns</p>\n",
       "</div>"
      ],
      "text/plain": [
       "      fixed acidity  volatile acidity  citric acid  residual sugar  chlorides  \\\n",
       "0               7.0              0.27         0.36            20.7      0.045   \n",
       "1               6.3              0.30         0.34             1.6      0.049   \n",
       "2               8.1              0.28         0.40             6.9      0.050   \n",
       "3               7.2              0.23         0.32             8.5      0.058   \n",
       "4               7.2              0.23         0.32             8.5      0.058   \n",
       "...             ...               ...          ...             ...        ...   \n",
       "4893            6.2              0.21         0.29             1.6      0.039   \n",
       "4894            6.6              0.32         0.36             8.0      0.047   \n",
       "4895            6.5              0.24         0.19             1.2      0.041   \n",
       "4896            5.5              0.29         0.30             1.1      0.022   \n",
       "4897            6.0              0.21         0.38             0.8      0.020   \n",
       "\n",
       "      free sulfur dioxide  total sulfur dioxide  density    pH  sulphates  \\\n",
       "0                    45.0                 170.0  1.00100  3.00       0.45   \n",
       "1                    14.0                 132.0  0.99400  3.30       0.49   \n",
       "2                    30.0                  97.0  0.99510  3.26       0.44   \n",
       "3                    47.0                 186.0  0.99560  3.19       0.40   \n",
       "4                    47.0                 186.0  0.99560  3.19       0.40   \n",
       "...                   ...                   ...      ...   ...        ...   \n",
       "4893                 24.0                  92.0  0.99114  3.27       0.50   \n",
       "4894                 57.0                 168.0  0.99490  3.15       0.46   \n",
       "4895                 30.0                 111.0  0.99254  2.99       0.46   \n",
       "4896                 20.0                 110.0  0.98869  3.34       0.38   \n",
       "4897                 22.0                  98.0  0.98941  3.26       0.32   \n",
       "\n",
       "      alcohol  quality  \n",
       "0         8.8        6  \n",
       "1         9.5        6  \n",
       "2        10.1        6  \n",
       "3         9.9        6  \n",
       "4         9.9        6  \n",
       "...       ...      ...  \n",
       "4893     11.2        6  \n",
       "4894      9.6        5  \n",
       "4895      9.4        6  \n",
       "4896     12.8        7  \n",
       "4897     11.8        6  \n",
       "\n",
       "[4898 rows x 12 columns]"
      ]
     },
     "execution_count": 11,
     "metadata": {},
     "output_type": "execute_result"
    }
   ],
   "source": [
    "df_white"
   ]
  },
  {
   "cell_type": "code",
   "execution_count": 12,
   "metadata": {},
   "outputs": [
    {
     "data": {
      "image/png": "[encoded data removed]",
      "text/plain": [
       "<Figure size 1000x600 with 1 Axes>"
      ]
     },
     "metadata": {},
     "output_type": "display_data"
    }
   ],
   "source": [
    "y = df_white['quality']\n",
    "count = y.value_counts()\n",
    "plt.figure(figsize=(10, 6))\n",
    "plt.pie(count, labels=None, autopct='%1.1f%%')\n",
    "plt.title('Proportion of quality levels')\n",
    "plt.legend(labels=count.index, title=\"Quality\", loc=\"best\")\n",
    "plt.show()"
   ]
  },
  {
   "cell_type": "markdown",
   "metadata": {},
   "source": [
    "## Regrouping the target classes\n",
    "\n",
    "3--4 $\\rightarrow$ 1;   \n",
    "5 $\\rightarrow$ 2;  \n",
    "6 $\\rightarrow$ 3;  \n",
    "7--8--9 $\\rightarrow$ 4;    \n",
    "\n"
   ]
  },
  {
   "cell_type": "code",
   "execution_count": 13,
   "metadata": {},
   "outputs": [],
   "source": [
    "df_white['quality'] = df_white['quality'].replace({\n",
    "    3: 1, 4: 1,\n",
    "    5: 2,\n",
    "    6: 3,\n",
    "    7: 4, 8: 4, 9: 4\n",
    "})\n"
   ]
  },
  {
   "cell_type": "code",
   "execution_count": 14,
   "metadata": {},
   "outputs": [
    {
     "data": {
      "text/plain": [
       "quality\n",
       "3    2198\n",
       "2    2198\n",
       "4    2198\n",
       "1    2198\n",
       "Name: count, dtype: int64"
      ]
     },
     "execution_count": 14,
     "metadata": {},
     "output_type": "execute_result"
    }
   ],
   "source": [
    "# Use smote to balance the dataset\n",
    "X = df_white.drop('quality', axis=1)\n",
    "y = df_white['quality']\n",
    "smote = SMOTE(random_state=42)\n",
    "X_resampled, y_resampled = smote.fit_resample(X, y)\n",
    "X_resampled = pd.DataFrame(X_resampled, columns=X.columns)\n",
    "y_resampled = pd.Series(y_resampled, name='quality')\n",
    "\n",
    "df_white = pd.concat([X_resampled, y_resampled], axis=1)\n",
    "df_white['quality'].value_counts()\n"
   ]
  },
  {
   "cell_type": "markdown",
   "metadata": {
    "id": "F5sGPsmOuAeH"
   },
   "source": [
    "## Expolaratory Data analysis"
   ]
  },
  {
   "cell_type": "markdown",
   "metadata": {},
   "source": [
    "We start with a pie chart to look at the proportion of quality levels"
   ]
  },
  {
   "cell_type": "code",
   "execution_count": 15,
   "metadata": {
    "colab": {
     "base_uri": "https://localhost:8080/",
     "height": 521
    },
    "id": "7iNYx9fKvxim",
    "outputId": "5d31b05e-93b4-49cf-f5d0-a1234dff4288"
   },
   "outputs": [
    {
     "data": {
      "image/png": "[encoded data removed]",
      "text/plain": [
       "<Figure size 1000x600 with 1 Axes>"
      ]
     },
     "metadata": {},
     "output_type": "display_data"
    }
   ],
   "source": [
    "y = df_white['quality']\n",
    "count = y.value_counts()\n",
    "plt.figure(figsize=(10, 6))\n",
    "plt.pie(count, labels=None, autopct='%1.1f%%')\n",
    "plt.title('Proportion of quality levels')\n",
    "plt.legend(labels=count.index, title=\"Quality\", loc=\"best\")\n",
    "plt.show()"
   ]
  },
  {
   "cell_type": "code",
   "execution_count": 16,
   "metadata": {},
   "outputs": [
    {
     "data": {
      "image/png": "[encoded data removed]",
      "text/plain": [
       "<Figure size 800x500 with 1 Axes>"
      ]
     },
     "metadata": {},
     "output_type": "display_data"
    }
   ],
   "source": [
    "plt.figure(figsize=(8, 5))\n",
    "sns.histplot(df_white['quality'], bins=range(df_white['quality'].min(), df_white['quality'].max()+2), color='skyblue')\n",
    "plt.title(\"Distribuzione di quality\")\n",
    "plt.xlabel(\"Quality\")\n",
    "plt.ylabel(\"Freq\")\n",
    "plt.grid(True)\n",
    "plt.show()"
   ]
  },
  {
   "cell_type": "markdown",
   "metadata": {},
   "source": [
    "It is a good distribution, thus i'll try first without oversampling"
   ]
  },
  {
   "cell_type": "code",
   "execution_count": 17,
   "metadata": {},
   "outputs": [
    {
     "data": {
      "text/html": [
       "<div>\n",
       "<style scoped>\n",
       "    .dataframe tbody tr th:only-of-type {\n",
       "        vertical-align: middle;\n",
       "    }\n",
       "\n",
       "    .dataframe tbody tr th {\n",
       "        vertical-align: top;\n",
       "    }\n",
       "\n",
       "    .dataframe thead th {\n",
       "        text-align: right;\n",
       "    }\n",
       "</style>\n",
       "<table border=\"1\" class=\"dataframe\">\n",
       "  <thead>\n",
       "    <tr style=\"text-align: right;\">\n",
       "      <th></th>\n",
       "      <th>fixed acidity</th>\n",
       "      <th>volatile acidity</th>\n",
       "      <th>citric acid</th>\n",
       "      <th>residual sugar</th>\n",
       "      <th>chlorides</th>\n",
       "      <th>free sulfur dioxide</th>\n",
       "      <th>total sulfur dioxide</th>\n",
       "      <th>density</th>\n",
       "      <th>pH</th>\n",
       "      <th>sulphates</th>\n",
       "      <th>alcohol</th>\n",
       "    </tr>\n",
       "  </thead>\n",
       "  <tbody>\n",
       "    <tr>\n",
       "      <th>6906</th>\n",
       "      <td>8.663543</td>\n",
       "      <td>0.269356</td>\n",
       "      <td>0.335577</td>\n",
       "      <td>2.831900</td>\n",
       "      <td>0.033493</td>\n",
       "      <td>5.000000</td>\n",
       "      <td>33.584449</td>\n",
       "      <td>0.992193</td>\n",
       "      <td>2.960134</td>\n",
       "      <td>0.326756</td>\n",
       "      <td>10.885788</td>\n",
       "    </tr>\n",
       "    <tr>\n",
       "      <th>3399</th>\n",
       "      <td>5.600000</td>\n",
       "      <td>0.320000</td>\n",
       "      <td>0.330000</td>\n",
       "      <td>7.400000</td>\n",
       "      <td>0.037000</td>\n",
       "      <td>25.000000</td>\n",
       "      <td>95.000000</td>\n",
       "      <td>0.992680</td>\n",
       "      <td>3.250000</td>\n",
       "      <td>0.490000</td>\n",
       "      <td>11.100000</td>\n",
       "    </tr>\n",
       "    <tr>\n",
       "      <th>2485</th>\n",
       "      <td>8.000000</td>\n",
       "      <td>0.280000</td>\n",
       "      <td>0.320000</td>\n",
       "      <td>7.600000</td>\n",
       "      <td>0.045000</td>\n",
       "      <td>61.000000</td>\n",
       "      <td>204.000000</td>\n",
       "      <td>0.995430</td>\n",
       "      <td>3.100000</td>\n",
       "      <td>0.550000</td>\n",
       "      <td>10.100000</td>\n",
       "    </tr>\n",
       "    <tr>\n",
       "      <th>694</th>\n",
       "      <td>7.600000</td>\n",
       "      <td>0.290000</td>\n",
       "      <td>0.580000</td>\n",
       "      <td>17.500000</td>\n",
       "      <td>0.041000</td>\n",
       "      <td>51.000000</td>\n",
       "      <td>225.000000</td>\n",
       "      <td>0.999700</td>\n",
       "      <td>3.160000</td>\n",
       "      <td>0.660000</td>\n",
       "      <td>9.500000</td>\n",
       "    </tr>\n",
       "    <tr>\n",
       "      <th>4119</th>\n",
       "      <td>6.500000</td>\n",
       "      <td>0.400000</td>\n",
       "      <td>0.310000</td>\n",
       "      <td>3.500000</td>\n",
       "      <td>0.046000</td>\n",
       "      <td>22.000000</td>\n",
       "      <td>147.000000</td>\n",
       "      <td>0.990240</td>\n",
       "      <td>3.150000</td>\n",
       "      <td>0.310000</td>\n",
       "      <td>12.000000</td>\n",
       "    </tr>\n",
       "    <tr>\n",
       "      <th>...</th>\n",
       "      <td>...</td>\n",
       "      <td>...</td>\n",
       "      <td>...</td>\n",
       "      <td>...</td>\n",
       "      <td>...</td>\n",
       "      <td>...</td>\n",
       "      <td>...</td>\n",
       "      <td>...</td>\n",
       "      <td>...</td>\n",
       "      <td>...</td>\n",
       "      <td>...</td>\n",
       "    </tr>\n",
       "    <tr>\n",
       "      <th>5734</th>\n",
       "      <td>6.700000</td>\n",
       "      <td>0.315564</td>\n",
       "      <td>0.309032</td>\n",
       "      <td>9.832263</td>\n",
       "      <td>0.040218</td>\n",
       "      <td>9.951616</td>\n",
       "      <td>175.072575</td>\n",
       "      <td>0.995293</td>\n",
       "      <td>3.452742</td>\n",
       "      <td>0.545887</td>\n",
       "      <td>11.351616</td>\n",
       "    </tr>\n",
       "    <tr>\n",
       "      <th>5191</th>\n",
       "      <td>6.410833</td>\n",
       "      <td>0.387591</td>\n",
       "      <td>0.245783</td>\n",
       "      <td>6.634965</td>\n",
       "      <td>0.067843</td>\n",
       "      <td>9.096376</td>\n",
       "      <td>117.096376</td>\n",
       "      <td>0.994266</td>\n",
       "      <td>3.150964</td>\n",
       "      <td>0.355783</td>\n",
       "      <td>10.161449</td>\n",
       "    </tr>\n",
       "    <tr>\n",
       "      <th>5390</th>\n",
       "      <td>9.418226</td>\n",
       "      <td>0.328364</td>\n",
       "      <td>0.683739</td>\n",
       "      <td>10.120560</td>\n",
       "      <td>0.093776</td>\n",
       "      <td>35.397199</td>\n",
       "      <td>225.401867</td>\n",
       "      <td>0.997821</td>\n",
       "      <td>3.021823</td>\n",
       "      <td>0.492289</td>\n",
       "      <td>9.819160</td>\n",
       "    </tr>\n",
       "    <tr>\n",
       "      <th>860</th>\n",
       "      <td>8.100000</td>\n",
       "      <td>0.270000</td>\n",
       "      <td>0.350000</td>\n",
       "      <td>1.700000</td>\n",
       "      <td>0.030000</td>\n",
       "      <td>38.000000</td>\n",
       "      <td>103.000000</td>\n",
       "      <td>0.992550</td>\n",
       "      <td>3.220000</td>\n",
       "      <td>0.630000</td>\n",
       "      <td>10.400000</td>\n",
       "    </tr>\n",
       "    <tr>\n",
       "      <th>7270</th>\n",
       "      <td>6.304881</td>\n",
       "      <td>0.269512</td>\n",
       "      <td>0.229268</td>\n",
       "      <td>2.880475</td>\n",
       "      <td>0.047171</td>\n",
       "      <td>13.012203</td>\n",
       "      <td>100.000000</td>\n",
       "      <td>0.993587</td>\n",
       "      <td>3.277437</td>\n",
       "      <td>0.431464</td>\n",
       "      <td>9.796339</td>\n",
       "    </tr>\n",
       "  </tbody>\n",
       "</table>\n",
       "<p>7033 rows × 11 columns</p>\n",
       "</div>"
      ],
      "text/plain": [
       "      fixed acidity  volatile acidity  citric acid  residual sugar  chlorides  \\\n",
       "6906       8.663543          0.269356     0.335577        2.831900   0.033493   \n",
       "3399       5.600000          0.320000     0.330000        7.400000   0.037000   \n",
       "2485       8.000000          0.280000     0.320000        7.600000   0.045000   \n",
       "694        7.600000          0.290000     0.580000       17.500000   0.041000   \n",
       "4119       6.500000          0.400000     0.310000        3.500000   0.046000   \n",
       "...             ...               ...          ...             ...        ...   \n",
       "5734       6.700000          0.315564     0.309032        9.832263   0.040218   \n",
       "5191       6.410833          0.387591     0.245783        6.634965   0.067843   \n",
       "5390       9.418226          0.328364     0.683739       10.120560   0.093776   \n",
       "860        8.100000          0.270000     0.350000        1.700000   0.030000   \n",
       "7270       6.304881          0.269512     0.229268        2.880475   0.047171   \n",
       "\n",
       "      free sulfur dioxide  total sulfur dioxide   density        pH  \\\n",
       "6906             5.000000             33.584449  0.992193  2.960134   \n",
       "3399            25.000000             95.000000  0.992680  3.250000   \n",
       "2485            61.000000            204.000000  0.995430  3.100000   \n",
       "694             51.000000            225.000000  0.999700  3.160000   \n",
       "4119            22.000000            147.000000  0.990240  3.150000   \n",
       "...                   ...                   ...       ...       ...   \n",
       "5734             9.951616            175.072575  0.995293  3.452742   \n",
       "5191             9.096376            117.096376  0.994266  3.150964   \n",
       "5390            35.397199            225.401867  0.997821  3.021823   \n",
       "860             38.000000            103.000000  0.992550  3.220000   \n",
       "7270            13.012203            100.000000  0.993587  3.277437   \n",
       "\n",
       "      sulphates    alcohol  \n",
       "6906   0.326756  10.885788  \n",
       "3399   0.490000  11.100000  \n",
       "2485   0.550000  10.100000  \n",
       "694    0.660000   9.500000  \n",
       "4119   0.310000  12.000000  \n",
       "...         ...        ...  \n",
       "5734   0.545887  11.351616  \n",
       "5191   0.355783  10.161449  \n",
       "5390   0.492289   9.819160  \n",
       "860    0.630000  10.400000  \n",
       "7270   0.431464   9.796339  \n",
       "\n",
       "[7033 rows x 11 columns]"
      ]
     },
     "execution_count": 17,
     "metadata": {},
     "output_type": "execute_result"
    }
   ],
   "source": [
    "X = df_white.drop(columns='quality')\n",
    "X_train, X_test, y_train, y_test = train_test_split(X, y, test_size=0.2, random_state = 42, shuffle= True)\n",
    "\n",
    "X_train"
   ]
  },
  {
   "cell_type": "markdown",
   "metadata": {},
   "source": [
    "# EXPERIMENTS\n",
    "We start by looking at the best performing models w/o optmization.\n",
    "First we load the models"
   ]
  },
  {
   "cell_type": "code",
   "execution_count": 18,
   "metadata": {},
   "outputs": [],
   "source": [
    "models = {\n",
    "    'SVM': SVC(),\n",
    "    'Logistic Regression': LogisticRegression(max_iter=1000),\n",
    "    'MLP': MLPClassifier(max_iter=1000),\n",
    "    'Decision Tree': DecisionTreeClassifier()\n",
    "}"
   ]
  },
  {
   "cell_type": "markdown",
   "metadata": {},
   "source": [
    "We then scale the sets"
   ]
  },
  {
   "cell_type": "code",
   "execution_count": 19,
   "metadata": {},
   "outputs": [],
   "source": [
    "scaler = StandardScaler()\n",
    "scaler.fit(X_train)\n",
    "\n",
    "X_train_scaled = scaler.transform(X_train)\n",
    "X_test_scaled = scaler.transform(X_test)"
   ]
  },
  {
   "cell_type": "markdown",
   "metadata": {},
   "source": [
    "And now we train all the models to select the best permorming ones."
   ]
  },
  {
   "cell_type": "code",
   "execution_count": 20,
   "metadata": {},
   "outputs": [
    {
     "data": {
      "text/plain": [
       "{'Decision Tree': 0.7288231949971575,\n",
       " 'MLP': 0.7060830017055145,\n",
       " 'SVM': 0.6526435474701535,\n",
       " 'Logistic Regression': 0.5252984650369528}"
      ]
     },
     "execution_count": 20,
     "metadata": {},
     "output_type": "execute_result"
    }
   ],
   "source": [
    "results = {}\n",
    "\n",
    "for name, model in models.items():\n",
    "    if name == 'Decision Tree':\n",
    "\n",
    "        model.fit(X_train, y_train)\n",
    "        y_pred = model.predict(X_test)\n",
    "\n",
    "        acc = accuracy_score(y_test, y_pred)\n",
    "        results[name] = acc\n",
    "    else:\n",
    "\n",
    "        model.fit(X_train_scaled, y_train)\n",
    "        y_pred = model.predict(X_test_scaled)\n",
    "\n",
    "        acc = accuracy_score(y_test, y_pred)\n",
    "        results[name] = acc\n",
    "\n",
    "\n",
    "# sort the map results by accuracy\n",
    "results = dict(sorted(results.items(), key=lambda item: item[1], reverse=True))\n",
    "results"
   ]
  },
  {
   "cell_type": "code",
   "execution_count": 21,
   "metadata": {},
   "outputs": [],
   "source": [
    "# code to take only the first 2 models\n",
    "top_models = list(results.keys()) #[:2]"
   ]
  },
  {
   "cell_type": "code",
   "execution_count": 22,
   "metadata": {},
   "outputs": [],
   "source": [
    "param_grids = {\n",
    "    'MLP': {\n",
    "        'mlpclassifier__hidden_layer_sizes': [(50,), (100,), (100, 50)],\n",
    "        'mlpclassifier__alpha': [0.0001, 0.001]\n",
    "    },\n",
    "    'SVM': {\n",
    "        'svc__C': [0.1, 1, 10],\n",
    "        'svc__kernel': ['linear', 'rbf']\n",
    "    },\n",
    "    'Logistic Regression': {\n",
    "        'logisticregression__C': [0.1, 1, 10],\n",
    "        'logisticregression__penalty': ['l2', 'l1'],\n",
    "        'logisticregression__solver': ['liblinear']\n",
    "    },\n",
    "    'Decision Tree': {\n",
    "        'max_depth': [None, 10, 20],\n",
    "        'min_samples_split': [2, 5, 10]\n",
    "    }\n",
    "}\n"
   ]
  },
  {
   "cell_type": "code",
   "execution_count": 23,
   "metadata": {},
   "outputs": [
    {
     "data": {
      "text/plain": [
       "{'MLP': {'mlpclassifier__hidden_layer_sizes': [(50,), (100,), (100, 50)],\n",
       "  'mlpclassifier__alpha': [0.0001, 0.001]},\n",
       " 'SVM': {'svc__C': [0.1, 1, 10], 'svc__kernel': ['linear', 'rbf']},\n",
       " 'Logistic Regression': {'logisticregression__C': [0.1, 1, 10],\n",
       "  'logisticregression__penalty': ['l2', 'l1'],\n",
       "  'logisticregression__solver': ['liblinear']},\n",
       " 'Decision Tree': {'max_depth': [None, 10, 20],\n",
       "  'min_samples_split': [2, 5, 10]}}"
      ]
     },
     "execution_count": 23,
     "metadata": {},
     "output_type": "execute_result"
    }
   ],
   "source": [
    "\n",
    "# i wanto to pop the key that there aren't in the top_models\n",
    "for model in list(param_grids.keys()):\n",
    "    if model not in top_models:\n",
    "        param_grids.pop(model)\n",
    "\n",
    "param_grids"
   ]
  },
  {
   "cell_type": "markdown",
   "metadata": {},
   "source": [
    "Here we train using gridsearch (and also RFE for decision trees)"
   ]
  },
  {
   "cell_type": "code",
   "execution_count": 24,
   "metadata": {},
   "outputs": [
    {
     "name": "stderr",
     "output_type": "stream",
     "text": [
      "Grid search:   0%|          | 0/4 [00:00<?, ?it/s]"
     ]
    },
    {
     "name": "stdout",
     "output_type": "stream",
     "text": [
      "\n",
      "Eseguo GridSearch per: MLP\n"
     ]
    },
    {
     "name": "stderr",
     "output_type": "stream",
     "text": [
      "Grid search:  25%|██▌       | 1/4 [01:11<03:33, 71.25s/it]"
     ]
    },
    {
     "name": "stdout",
     "output_type": "stream",
     "text": [
      "Migliori parametri per MLP: {'mlpclassifier__alpha': 0.0001, 'mlpclassifier__hidden_layer_sizes': (100, 50)}\n",
      "Score: 0.7085\n",
      "\n",
      "Eseguo GridSearch per: SVM\n"
     ]
    },
    {
     "name": "stderr",
     "output_type": "stream",
     "text": [
      "Grid search:  50%|█████     | 2/4 [01:21<01:10, 35.38s/it]"
     ]
    },
    {
     "name": "stdout",
     "output_type": "stream",
     "text": [
      "Migliori parametri per SVM: {'svc__C': 10, 'svc__kernel': 'rbf'}\n",
      "Score: 0.6777\n",
      "\n",
      "Eseguo GridSearch per: Logistic Regression\n"
     ]
    },
    {
     "name": "stderr",
     "output_type": "stream",
     "text": [
      "Grid search:  75%|███████▌  | 3/4 [01:22<00:19, 19.57s/it]"
     ]
    },
    {
     "name": "stdout",
     "output_type": "stream",
     "text": [
      "Migliori parametri per Logistic Regression: {'logisticregression__C': 0.1, 'logisticregression__penalty': 'l1', 'logisticregression__solver': 'liblinear'}\n",
      "Score: 0.5066\n",
      "\n",
      "Eseguo GridSearch per: Decision Tree\n"
     ]
    },
    {
     "name": "stderr",
     "output_type": "stream",
     "text": [
      "Grid search: 100%|██████████| 4/4 [01:22<00:00, 20.71s/it]"
     ]
    },
    {
     "name": "stdout",
     "output_type": "stream",
     "text": [
      "Migliori parametri per Decision Tree: {'max_depth': 20, 'min_samples_split': 2}\n",
      "Score: 0.6518\n"
     ]
    },
    {
     "name": "stderr",
     "output_type": "stream",
     "text": [
      "\n"
     ]
    },
    {
     "data": {
      "text/plain": [
       "{'MLP': {'mlpclassifier__alpha': 0.0001,\n",
       "  'mlpclassifier__hidden_layer_sizes': (100, 50)},\n",
       " 'SVM': {'svc__C': 10, 'svc__kernel': 'rbf'},\n",
       " 'Logistic Regression': {'logisticregression__C': 0.1,\n",
       "  'logisticregression__penalty': 'l1',\n",
       "  'logisticregression__solver': 'liblinear'},\n",
       " 'Decision Tree': {'max_depth': 20, 'min_samples_split': 2}}"
      ]
     },
     "execution_count": 24,
     "metadata": {},
     "output_type": "execute_result"
    }
   ],
   "source": [
    "models = {\n",
    "    'MLP': make_pipeline(StandardScaler(), MLPClassifier(max_iter=1000)),\n",
    "    'SVM': make_pipeline(StandardScaler(), SVC()),\n",
    "    'Logistic Regression': make_pipeline(StandardScaler(), LogisticRegression(max_iter=1000)),\n",
    "    'Decision Tree': DecisionTreeClassifier()\n",
    "}\n",
    "\n",
    "# Grid Search con tqdm\n",
    "best_models = {}\n",
    "for name in tqdm(param_grids.keys(), desc=\"Grid search\", total=len(param_grids)):\n",
    "\n",
    "    print(f\"\\nEseguo GridSearch per: {name}\")\n",
    "    model = models[name]\n",
    "    grid = GridSearchCV(model, param_grids[name], cv=5, n_jobs=-1, verbose=0)\n",
    "    grid.fit(X, y)\n",
    "    best_models[name] = grid.best_params_\n",
    "    print(f\"Migliori parametri per {name}: {grid.best_params_}\")\n",
    "    print(f\"Score: {grid.best_score_:.4f}\")\n",
    "\n",
    "best_models\n"
   ]
  },
  {
   "cell_type": "code",
   "execution_count": 25,
   "metadata": {},
   "outputs": [
    {
     "name": "stdout",
     "output_type": "stream",
     "text": [
      "\n",
      "Classification Report for Decision Tree:\n",
      "              precision    recall  f1-score   support\n",
      "\n",
      "           1       0.86      0.86      0.86       469\n",
      "           2       0.63      0.65      0.64       429\n",
      "           3       0.60      0.60      0.60       439\n",
      "           4       0.78      0.76      0.77       422\n",
      "\n",
      "    accuracy                           0.72      1759\n",
      "   macro avg       0.72      0.72      0.72      1759\n",
      "weighted avg       0.72      0.72      0.72      1759\n",
      "\n",
      "\n",
      "Classification Report for MLP:\n",
      "              precision    recall  f1-score   support\n",
      "\n",
      "           1       0.92      0.94      0.93       469\n",
      "           2       0.74      0.73      0.74       429\n",
      "           3       0.65      0.58      0.61       439\n",
      "           4       0.76      0.84      0.80       422\n",
      "\n",
      "    accuracy                           0.78      1759\n",
      "   macro avg       0.77      0.78      0.77      1759\n",
      "weighted avg       0.77      0.78      0.77      1759\n",
      "\n",
      "\n",
      "Classification Report for SVM:\n",
      "              precision    recall  f1-score   support\n",
      "\n",
      "           1       0.85      0.94      0.89       469\n",
      "           2       0.69      0.69      0.69       429\n",
      "           3       0.62      0.48      0.54       439\n",
      "           4       0.73      0.81      0.77       422\n",
      "\n",
      "    accuracy                           0.73      1759\n",
      "   macro avg       0.72      0.73      0.72      1759\n",
      "weighted avg       0.72      0.73      0.73      1759\n",
      "\n",
      "\n",
      "Classification Report for Logistic Regression:\n",
      "              precision    recall  f1-score   support\n",
      "\n",
      "           1       0.61      0.64      0.63       469\n",
      "           2       0.43      0.50      0.46       429\n",
      "           3       0.43      0.20      0.28       439\n",
      "           4       0.56      0.75      0.64       422\n",
      "\n",
      "    accuracy                           0.52      1759\n",
      "   macro avg       0.51      0.52      0.50      1759\n",
      "weighted avg       0.51      0.52      0.50      1759\n",
      "\n",
      "\n",
      "Accuracies of the tuned models:\n",
      "MLP: 0.7777\n",
      "SVM: 0.7339\n",
      "Decision Tree: 0.7186\n",
      "Logistic Regression: 0.5230\n"
     ]
    }
   ],
   "source": [
    "# instancing the model with the best parameters\n",
    "accuracies = {}\n",
    "\n",
    "for model_name in top_models:\n",
    "    match model_name:\n",
    "        case 'Decision Tree':\n",
    "            tuned_model = DecisionTreeClassifier(**best_models[model_name])\n",
    "        case 'MLP':\n",
    "            tuned_model = make_pipeline(StandardScaler(), MLPClassifier(max_iter=1000))\n",
    "            tuned_model.set_params(**best_models[model_name])\n",
    "        case 'SVM':\n",
    "            tuned_model = make_pipeline(StandardScaler(), SVC())\n",
    "            tuned_model.set_params(**best_models[model_name])\n",
    "        case 'Logistic Regression':\n",
    "            tuned_model = make_pipeline(StandardScaler(), LogisticRegression(max_iter=1000))\n",
    "            tuned_model.set_params(**best_models[model_name])\n",
    "    \n",
    "    tuned_model.fit(X_train, y_train)\n",
    "    y_pred = tuned_model.predict(X_test)\n",
    "    accuracies[model_name] = accuracy_score(y_test, y_pred)\n",
    "\n",
    "    print(f\"\\nClassification Report for {model_name}:\")\n",
    "    print(classification_report(y_test, y_pred))\n",
    "\n",
    "# Sort accuracies\n",
    "accuracies = dict(sorted(accuracies.items(), key=lambda item: item[1], reverse=True))\n",
    "print(\"\\nAccuracies of the tuned models:\")\n",
    "for model_name, accuracy in accuracies.items():\n",
    "    print(f\"{model_name}: {accuracy:.4f}\")"
   ]
  },
  {
   "cell_type": "code",
   "execution_count": 26,
   "metadata": {},
   "outputs": [
    {
     "name": "stdout",
     "output_type": "stream",
     "text": [
      "Fitting 3 folds for each of 180 candidates, totalling 540 fits\n",
      "[CV 1/3; 1/180] START mlpclassifier__activation=relu, mlpclassifier__alpha=1e-05, mlpclassifier__hidden_layer_sizes=(128, 64), mlpclassifier__learning_rate=constant, mlpclassifier__learning_rate_init=0.0005, mlpclassifier__solver=adam\n",
      "[CV 2/3; 1/180] START mlpclassifier__activation=relu, mlpclassifier__alpha=1e-05, mlpclassifier__hidden_layer_sizes=(128, 64), mlpclassifier__learning_rate=constant, mlpclassifier__learning_rate_init=0.0005, mlpclassifier__solver=adam\n",
      "[CV 1/3; 2/180] START mlpclassifier__activation=relu, mlpclassifier__alpha=1e-05, mlpclassifier__hidden_layer_sizes=(128, 64), mlpclassifier__learning_rate=constant, mlpclassifier__learning_rate_init=0.001, mlpclassifier__solver=adam\n",
      "[CV 2/3; 2/180] START mlpclassifier__activation=relu, mlpclassifier__alpha=1e-05, mlpclassifier__hidden_layer_sizes=(128, 64), mlpclassifier__learning_rate=constant, mlpclassifier__learning_rate_init=0.001, mlpclassifier__solver=adam\n",
      "[CV 3/3; 1/180] START mlpclassifier__activation=relu, mlpclassifier__alpha=1e-05, mlpclassifier__hidden_layer_sizes=(128, 64), mlpclassifier__learning_rate=constant, mlpclassifier__learning_rate_init=0.0005, mlpclassifier__solver=adam\n",
      "[CV 1/3; 3/180] START mlpclassifier__activation=relu, mlpclassifier__alpha=1e-05, mlpclassifier__hidden_layer_sizes=(128, 64), mlpclassifier__learning_rate=constant, mlpclassifier__learning_rate_init=0.005, mlpclassifier__solver=adam\n",
      "[CV 3/3; 2/180] START mlpclassifier__activation=relu, mlpclassifier__alpha=1e-05, mlpclassifier__hidden_layer_sizes=(128, 64), mlpclassifier__learning_rate=constant, mlpclassifier__learning_rate_init=0.001, mlpclassifier__solver=adam\n",
      "[CV 2/3; 3/180] START mlpclassifier__activation=relu, mlpclassifier__alpha=1e-05, mlpclassifier__hidden_layer_sizes=(128, 64), mlpclassifier__learning_rate=constant, mlpclassifier__learning_rate_init=0.005, mlpclassifier__solver=adam\n",
      "[CV 2/3; 3/180] END mlpclassifier__activation=relu, mlpclassifier__alpha=1e-05, mlpclassifier__hidden_layer_sizes=(128, 64), mlpclassifier__learning_rate=constant, mlpclassifier__learning_rate_init=0.005, mlpclassifier__solver=adam;, score=0.663 total time=   3.9s\n",
      "[CV 3/3; 3/180] START mlpclassifier__activation=relu, mlpclassifier__alpha=1e-05, mlpclassifier__hidden_layer_sizes=(128, 64), mlpclassifier__learning_rate=constant, mlpclassifier__learning_rate_init=0.005, mlpclassifier__solver=adam\n",
      "[CV 1/3; 3/180] END mlpclassifier__activation=relu, mlpclassifier__alpha=1e-05, mlpclassifier__hidden_layer_sizes=(128, 64), mlpclassifier__learning_rate=constant, mlpclassifier__learning_rate_init=0.005, mlpclassifier__solver=adam;, score=0.680 total time=   4.1s\n",
      "[CV 1/3; 4/180] START mlpclassifier__activation=relu, mlpclassifier__alpha=1e-05, mlpclassifier__hidden_layer_sizes=(128, 64), mlpclassifier__learning_rate=adaptive, mlpclassifier__learning_rate_init=0.0005, mlpclassifier__solver=adam\n",
      "[CV 3/3; 3/180] END mlpclassifier__activation=relu, mlpclassifier__alpha=1e-05, mlpclassifier__hidden_layer_sizes=(128, 64), mlpclassifier__learning_rate=constant, mlpclassifier__learning_rate_init=0.005, mlpclassifier__solver=adam;, score=0.727 total time=   4.2s\n",
      "[CV 2/3; 4/180] START mlpclassifier__activation=relu, mlpclassifier__alpha=1e-05, mlpclassifier__hidden_layer_sizes=(128, 64), mlpclassifier__learning_rate=adaptive, mlpclassifier__learning_rate_init=0.0005, mlpclassifier__solver=adam\n",
      "[CV 2/3; 2/180] END mlpclassifier__activation=relu, mlpclassifier__alpha=1e-05, mlpclassifier__hidden_layer_sizes=(128, 64), mlpclassifier__learning_rate=constant, mlpclassifier__learning_rate_init=0.001, mlpclassifier__solver=adam;, score=0.695 total time=  15.1s\n",
      "[CV 3/3; 4/180] START mlpclassifier__activation=relu, mlpclassifier__alpha=1e-05, mlpclassifier__hidden_layer_sizes=(128, 64), mlpclassifier__learning_rate=adaptive, mlpclassifier__learning_rate_init=0.0005, mlpclassifier__solver=adam\n"
     ]
    },
    {
     "name": "stderr",
     "output_type": "stream",
     "text": [
      "/opt/anaconda3/lib/python3.12/site-packages/sklearn/neural_network/_multilayer_perceptron.py:690: ConvergenceWarning: Stochastic Optimizer: Maximum iterations (500) reached and the optimization hasn't converged yet.\n",
      "  warnings.warn(\n",
      "/opt/anaconda3/lib/python3.12/site-packages/sklearn/neural_network/_multilayer_perceptron.py:690: ConvergenceWarning: Stochastic Optimizer: Maximum iterations (500) reached and the optimization hasn't converged yet.\n",
      "  warnings.warn(\n",
      "/opt/anaconda3/lib/python3.12/site-packages/sklearn/neural_network/_multilayer_perceptron.py:690: ConvergenceWarning: Stochastic Optimizer: Maximum iterations (500) reached and the optimization hasn't converged yet.\n",
      "  warnings.warn(\n"
     ]
    },
    {
     "name": "stdout",
     "output_type": "stream",
     "text": [
      "[CV 3/3; 2/180] END mlpclassifier__activation=relu, mlpclassifier__alpha=1e-05, mlpclassifier__hidden_layer_sizes=(128, 64), mlpclassifier__learning_rate=constant, mlpclassifier__learning_rate_init=0.001, mlpclassifier__solver=adam;, score=0.748 total time=  15.7s\n",
      "[CV 1/3; 5/180] START mlpclassifier__activation=relu, mlpclassifier__alpha=1e-05, mlpclassifier__hidden_layer_sizes=(128, 64), mlpclassifier__learning_rate=adaptive, mlpclassifier__learning_rate_init=0.001, mlpclassifier__solver=adam\n",
      "[CV 3/3; 1/180] END mlpclassifier__activation=relu, mlpclassifier__alpha=1e-05, mlpclassifier__hidden_layer_sizes=(128, 64), mlpclassifier__learning_rate=constant, mlpclassifier__learning_rate_init=0.0005, mlpclassifier__solver=adam;, score=0.738 total time=  15.9s\n",
      "[CV 2/3; 5/180] START mlpclassifier__activation=relu, mlpclassifier__alpha=1e-05, mlpclassifier__hidden_layer_sizes=(128, 64), mlpclassifier__learning_rate=adaptive, mlpclassifier__learning_rate_init=0.001, mlpclassifier__solver=adam\n",
      "[CV 1/3; 2/180] END mlpclassifier__activation=relu, mlpclassifier__alpha=1e-05, mlpclassifier__hidden_layer_sizes=(128, 64), mlpclassifier__learning_rate=constant, mlpclassifier__learning_rate_init=0.001, mlpclassifier__solver=adam;, score=0.692 total time=  15.9s\n"
     ]
    },
    {
     "name": "stderr",
     "output_type": "stream",
     "text": [
      "/opt/anaconda3/lib/python3.12/site-packages/sklearn/neural_network/_multilayer_perceptron.py:690: ConvergenceWarning: Stochastic Optimizer: Maximum iterations (500) reached and the optimization hasn't converged yet.\n",
      "  warnings.warn(\n",
      "/opt/anaconda3/lib/python3.12/site-packages/sklearn/neural_network/_multilayer_perceptron.py:690: ConvergenceWarning: Stochastic Optimizer: Maximum iterations (500) reached and the optimization hasn't converged yet.\n",
      "  warnings.warn(\n"
     ]
    },
    {
     "name": "stdout",
     "output_type": "stream",
     "text": [
      "[CV 1/3; 1/180] END mlpclassifier__activation=relu, mlpclassifier__alpha=1e-05, mlpclassifier__hidden_layer_sizes=(128, 64), mlpclassifier__learning_rate=constant, mlpclassifier__learning_rate_init=0.0005, mlpclassifier__solver=adam;, score=0.675 total time=  16.0s\n",
      "[CV 3/3; 5/180] START mlpclassifier__activation=relu, mlpclassifier__alpha=1e-05, mlpclassifier__hidden_layer_sizes=(128, 64), mlpclassifier__learning_rate=adaptive, mlpclassifier__learning_rate_init=0.001, mlpclassifier__solver=adam\n",
      "[CV 1/3; 6/180] START mlpclassifier__activation=relu, mlpclassifier__alpha=1e-05, mlpclassifier__hidden_layer_sizes=(128, 64), mlpclassifier__learning_rate=adaptive, mlpclassifier__learning_rate_init=0.005, mlpclassifier__solver=adam\n",
      "[CV 2/3; 1/180] END mlpclassifier__activation=relu, mlpclassifier__alpha=1e-05, mlpclassifier__hidden_layer_sizes=(128, 64), mlpclassifier__learning_rate=constant, mlpclassifier__learning_rate_init=0.0005, mlpclassifier__solver=adam;, score=0.690 total time=  16.1s\n",
      "[CV 2/3; 6/180] START mlpclassifier__activation=relu, mlpclassifier__alpha=1e-05, mlpclassifier__hidden_layer_sizes=(128, 64), mlpclassifier__learning_rate=adaptive, mlpclassifier__learning_rate_init=0.005, mlpclassifier__solver=adam\n",
      "[CV 1/3; 6/180] END mlpclassifier__activation=relu, mlpclassifier__alpha=1e-05, mlpclassifier__hidden_layer_sizes=(128, 64), mlpclassifier__learning_rate=adaptive, mlpclassifier__learning_rate_init=0.005, mlpclassifier__solver=adam;, score=0.680 total time=   4.4s\n",
      "[CV 3/3; 6/180] START mlpclassifier__activation=relu, mlpclassifier__alpha=1e-05, mlpclassifier__hidden_layer_sizes=(128, 64), mlpclassifier__learning_rate=adaptive, mlpclassifier__learning_rate_init=0.005, mlpclassifier__solver=adam\n",
      "[CV 2/3; 6/180] END mlpclassifier__activation=relu, mlpclassifier__alpha=1e-05, mlpclassifier__hidden_layer_sizes=(128, 64), mlpclassifier__learning_rate=adaptive, mlpclassifier__learning_rate_init=0.005, mlpclassifier__solver=adam;, score=0.663 total time=   4.2s\n",
      "[CV 1/3; 7/180] START mlpclassifier__activation=relu, mlpclassifier__alpha=1e-05, mlpclassifier__hidden_layer_sizes=(100, 50), mlpclassifier__learning_rate=constant, mlpclassifier__learning_rate_init=0.0005, mlpclassifier__solver=adam\n"
     ]
    },
    {
     "name": "stderr",
     "output_type": "stream",
     "text": [
      "/opt/anaconda3/lib/python3.12/site-packages/sklearn/neural_network/_multilayer_perceptron.py:690: ConvergenceWarning: Stochastic Optimizer: Maximum iterations (500) reached and the optimization hasn't converged yet.\n",
      "  warnings.warn(\n"
     ]
    },
    {
     "name": "stdout",
     "output_type": "stream",
     "text": [
      "[CV 1/3; 4/180] END mlpclassifier__activation=relu, mlpclassifier__alpha=1e-05, mlpclassifier__hidden_layer_sizes=(128, 64), mlpclassifier__learning_rate=adaptive, mlpclassifier__learning_rate_init=0.0005, mlpclassifier__solver=adam;, score=0.675 total time=  16.8s\n",
      "[CV 2/3; 7/180] START mlpclassifier__activation=relu, mlpclassifier__alpha=1e-05, mlpclassifier__hidden_layer_sizes=(100, 50), mlpclassifier__learning_rate=constant, mlpclassifier__learning_rate_init=0.0005, mlpclassifier__solver=adam\n"
     ]
    },
    {
     "name": "stderr",
     "output_type": "stream",
     "text": [
      "/opt/anaconda3/lib/python3.12/site-packages/sklearn/neural_network/_multilayer_perceptron.py:690: ConvergenceWarning: Stochastic Optimizer: Maximum iterations (500) reached and the optimization hasn't converged yet.\n",
      "  warnings.warn(\n"
     ]
    },
    {
     "name": "stdout",
     "output_type": "stream",
     "text": [
      "[CV 2/3; 4/180] END mlpclassifier__activation=relu, mlpclassifier__alpha=1e-05, mlpclassifier__hidden_layer_sizes=(128, 64), mlpclassifier__learning_rate=adaptive, mlpclassifier__learning_rate_init=0.0005, mlpclassifier__solver=adam;, score=0.690 total time=  16.4s\n",
      "[CV 3/3; 7/180] START mlpclassifier__activation=relu, mlpclassifier__alpha=1e-05, mlpclassifier__hidden_layer_sizes=(100, 50), mlpclassifier__learning_rate=constant, mlpclassifier__learning_rate_init=0.0005, mlpclassifier__solver=adam\n",
      "[CV 3/3; 6/180] END mlpclassifier__activation=relu, mlpclassifier__alpha=1e-05, mlpclassifier__hidden_layer_sizes=(128, 64), mlpclassifier__learning_rate=adaptive, mlpclassifier__learning_rate_init=0.005, mlpclassifier__solver=adam;, score=0.727 total time=   4.4s\n",
      "[CV 1/3; 8/180] START mlpclassifier__activation=relu, mlpclassifier__alpha=1e-05, mlpclassifier__hidden_layer_sizes=(100, 50), mlpclassifier__learning_rate=constant, mlpclassifier__learning_rate_init=0.001, mlpclassifier__solver=adam\n"
     ]
    },
    {
     "name": "stderr",
     "output_type": "stream",
     "text": [
      "/opt/anaconda3/lib/python3.12/site-packages/sklearn/neural_network/_multilayer_perceptron.py:690: ConvergenceWarning: Stochastic Optimizer: Maximum iterations (500) reached and the optimization hasn't converged yet.\n",
      "  warnings.warn(\n"
     ]
    },
    {
     "name": "stdout",
     "output_type": "stream",
     "text": [
      "[CV 3/3; 4/180] END mlpclassifier__activation=relu, mlpclassifier__alpha=1e-05, mlpclassifier__hidden_layer_sizes=(128, 64), mlpclassifier__learning_rate=adaptive, mlpclassifier__learning_rate_init=0.0005, mlpclassifier__solver=adam;, score=0.738 total time=  16.4s\n",
      "[CV 2/3; 8/180] START mlpclassifier__activation=relu, mlpclassifier__alpha=1e-05, mlpclassifier__hidden_layer_sizes=(100, 50), mlpclassifier__learning_rate=constant, mlpclassifier__learning_rate_init=0.001, mlpclassifier__solver=adam\n",
      "[CV 2/3; 5/180] END mlpclassifier__activation=relu, mlpclassifier__alpha=1e-05, mlpclassifier__hidden_layer_sizes=(128, 64), mlpclassifier__learning_rate=adaptive, mlpclassifier__learning_rate_init=0.001, mlpclassifier__solver=adam;, score=0.695 total time=  15.9s\n",
      "[CV 3/3; 8/180] START mlpclassifier__activation=relu, mlpclassifier__alpha=1e-05, mlpclassifier__hidden_layer_sizes=(100, 50), mlpclassifier__learning_rate=constant, mlpclassifier__learning_rate_init=0.001, mlpclassifier__solver=adam\n"
     ]
    },
    {
     "name": "stderr",
     "output_type": "stream",
     "text": [
      "/opt/anaconda3/lib/python3.12/site-packages/sklearn/neural_network/_multilayer_perceptron.py:690: ConvergenceWarning: Stochastic Optimizer: Maximum iterations (500) reached and the optimization hasn't converged yet.\n",
      "  warnings.warn(\n",
      "/opt/anaconda3/lib/python3.12/site-packages/sklearn/neural_network/_multilayer_perceptron.py:690: ConvergenceWarning: Stochastic Optimizer: Maximum iterations (500) reached and the optimization hasn't converged yet.\n",
      "  warnings.warn(\n"
     ]
    },
    {
     "name": "stdout",
     "output_type": "stream",
     "text": [
      "[CV 1/3; 5/180] END mlpclassifier__activation=relu, mlpclassifier__alpha=1e-05, mlpclassifier__hidden_layer_sizes=(128, 64), mlpclassifier__learning_rate=adaptive, mlpclassifier__learning_rate_init=0.001, mlpclassifier__solver=adam;, score=0.692 total time=  16.5s\n",
      "[CV 1/3; 9/180] START mlpclassifier__activation=relu, mlpclassifier__alpha=1e-05, mlpclassifier__hidden_layer_sizes=(100, 50), mlpclassifier__learning_rate=constant, mlpclassifier__learning_rate_init=0.005, mlpclassifier__solver=adam\n",
      "[CV 3/3; 5/180] END mlpclassifier__activation=relu, mlpclassifier__alpha=1e-05, mlpclassifier__hidden_layer_sizes=(128, 64), mlpclassifier__learning_rate=adaptive, mlpclassifier__learning_rate_init=0.001, mlpclassifier__solver=adam;, score=0.748 total time=  16.5s\n",
      "[CV 2/3; 9/180] START mlpclassifier__activation=relu, mlpclassifier__alpha=1e-05, mlpclassifier__hidden_layer_sizes=(100, 50), mlpclassifier__learning_rate=constant, mlpclassifier__learning_rate_init=0.005, mlpclassifier__solver=adam\n"
     ]
    },
    {
     "name": "stderr",
     "output_type": "stream",
     "text": [
      "/opt/anaconda3/lib/python3.12/site-packages/sklearn/neural_network/_multilayer_perceptron.py:690: ConvergenceWarning: Stochastic Optimizer: Maximum iterations (500) reached and the optimization hasn't converged yet.\n",
      "  warnings.warn(\n"
     ]
    },
    {
     "name": "stdout",
     "output_type": "stream",
     "text": [
      "[CV 1/3; 7/180] END mlpclassifier__activation=relu, mlpclassifier__alpha=1e-05, mlpclassifier__hidden_layer_sizes=(100, 50), mlpclassifier__learning_rate=constant, mlpclassifier__learning_rate_init=0.0005, mlpclassifier__solver=adam;, score=0.656 total time=  12.8s\n",
      "[CV 3/3; 9/180] START mlpclassifier__activation=relu, mlpclassifier__alpha=1e-05, mlpclassifier__hidden_layer_sizes=(100, 50), mlpclassifier__learning_rate=constant, mlpclassifier__learning_rate_init=0.005, mlpclassifier__solver=adam\n"
     ]
    },
    {
     "name": "stderr",
     "output_type": "stream",
     "text": [
      "/opt/anaconda3/lib/python3.12/site-packages/sklearn/neural_network/_multilayer_perceptron.py:690: ConvergenceWarning: Stochastic Optimizer: Maximum iterations (500) reached and the optimization hasn't converged yet.\n",
      "  warnings.warn(\n"
     ]
    },
    {
     "name": "stdout",
     "output_type": "stream",
     "text": [
      "[CV 2/3; 7/180] END mlpclassifier__activation=relu, mlpclassifier__alpha=1e-05, mlpclassifier__hidden_layer_sizes=(100, 50), mlpclassifier__learning_rate=constant, mlpclassifier__learning_rate_init=0.0005, mlpclassifier__solver=adam;, score=0.671 total time=  12.8s\n",
      "[CV 1/3; 10/180] START mlpclassifier__activation=relu, mlpclassifier__alpha=1e-05, mlpclassifier__hidden_layer_sizes=(100, 50), mlpclassifier__learning_rate=adaptive, mlpclassifier__learning_rate_init=0.0005, mlpclassifier__solver=adam\n",
      "[CV 2/3; 9/180] END mlpclassifier__activation=relu, mlpclassifier__alpha=1e-05, mlpclassifier__hidden_layer_sizes=(100, 50), mlpclassifier__learning_rate=constant, mlpclassifier__learning_rate_init=0.005, mlpclassifier__solver=adam;, score=0.695 total time=   3.6s\n",
      "[CV 2/3; 10/180] START mlpclassifier__activation=relu, mlpclassifier__alpha=1e-05, mlpclassifier__hidden_layer_sizes=(100, 50), mlpclassifier__learning_rate=adaptive, mlpclassifier__learning_rate_init=0.0005, mlpclassifier__solver=adam\n",
      "[CV 3/3; 9/180] END mlpclassifier__activation=relu, mlpclassifier__alpha=1e-05, mlpclassifier__hidden_layer_sizes=(100, 50), mlpclassifier__learning_rate=constant, mlpclassifier__learning_rate_init=0.005, mlpclassifier__solver=adam;, score=0.719 total time=   3.7s\n",
      "[CV 3/3; 10/180] START mlpclassifier__activation=relu, mlpclassifier__alpha=1e-05, mlpclassifier__hidden_layer_sizes=(100, 50), mlpclassifier__learning_rate=adaptive, mlpclassifier__learning_rate_init=0.0005, mlpclassifier__solver=adam\n",
      "[CV 1/3; 8/180] END mlpclassifier__activation=relu, mlpclassifier__alpha=1e-05, mlpclassifier__hidden_layer_sizes=(100, 50), mlpclassifier__learning_rate=constant, mlpclassifier__learning_rate_init=0.001, mlpclassifier__solver=adam;, score=0.667 total time=  12.5s\n",
      "[CV 1/3; 11/180] START mlpclassifier__activation=relu, mlpclassifier__alpha=1e-05, mlpclassifier__hidden_layer_sizes=(100, 50), mlpclassifier__learning_rate=adaptive, mlpclassifier__learning_rate_init=0.001, mlpclassifier__solver=adam\n",
      "[CV 3/3; 7/180] END mlpclassifier__activation=relu, mlpclassifier__alpha=1e-05, mlpclassifier__hidden_layer_sizes=(100, 50), mlpclassifier__learning_rate=constant, mlpclassifier__learning_rate_init=0.0005, mlpclassifier__solver=adam;, score=0.726 total time=  12.7s\n",
      "[CV 2/3; 11/180] START mlpclassifier__activation=relu, mlpclassifier__alpha=1e-05, mlpclassifier__hidden_layer_sizes=(100, 50), mlpclassifier__learning_rate=adaptive, mlpclassifier__learning_rate_init=0.001, mlpclassifier__solver=adam\n"
     ]
    },
    {
     "name": "stderr",
     "output_type": "stream",
     "text": [
      "/opt/anaconda3/lib/python3.12/site-packages/sklearn/neural_network/_multilayer_perceptron.py:690: ConvergenceWarning: Stochastic Optimizer: Maximum iterations (500) reached and the optimization hasn't converged yet.\n",
      "  warnings.warn(\n"
     ]
    },
    {
     "name": "stdout",
     "output_type": "stream",
     "text": [
      "[CV 1/3; 9/180] END mlpclassifier__activation=relu, mlpclassifier__alpha=1e-05, mlpclassifier__hidden_layer_sizes=(100, 50), mlpclassifier__learning_rate=constant, mlpclassifier__learning_rate_init=0.005, mlpclassifier__solver=adam;, score=0.669 total time=   5.3s\n",
      "[CV 3/3; 11/180] START mlpclassifier__activation=relu, mlpclassifier__alpha=1e-05, mlpclassifier__hidden_layer_sizes=(100, 50), mlpclassifier__learning_rate=adaptive, mlpclassifier__learning_rate_init=0.001, mlpclassifier__solver=adam\n",
      "[CV 2/3; 8/180] END mlpclassifier__activation=relu, mlpclassifier__alpha=1e-05, mlpclassifier__hidden_layer_sizes=(100, 50), mlpclassifier__learning_rate=constant, mlpclassifier__learning_rate_init=0.001, mlpclassifier__solver=adam;, score=0.686 total time=  11.3s\n",
      "[CV 1/3; 12/180] START mlpclassifier__activation=relu, mlpclassifier__alpha=1e-05, mlpclassifier__hidden_layer_sizes=(100, 50), mlpclassifier__learning_rate=adaptive, mlpclassifier__learning_rate_init=0.005, mlpclassifier__solver=adam\n"
     ]
    },
    {
     "name": "stderr",
     "output_type": "stream",
     "text": [
      "/opt/anaconda3/lib/python3.12/site-packages/sklearn/neural_network/_multilayer_perceptron.py:690: ConvergenceWarning: Stochastic Optimizer: Maximum iterations (500) reached and the optimization hasn't converged yet.\n",
      "  warnings.warn(\n"
     ]
    },
    {
     "name": "stdout",
     "output_type": "stream",
     "text": [
      "[CV 3/3; 8/180] END mlpclassifier__activation=relu, mlpclassifier__alpha=1e-05, mlpclassifier__hidden_layer_sizes=(100, 50), mlpclassifier__learning_rate=constant, mlpclassifier__learning_rate_init=0.001, mlpclassifier__solver=adam;, score=0.716 total time=  12.7s\n",
      "[CV 2/3; 12/180] START mlpclassifier__activation=relu, mlpclassifier__alpha=1e-05, mlpclassifier__hidden_layer_sizes=(100, 50), mlpclassifier__learning_rate=adaptive, mlpclassifier__learning_rate_init=0.005, mlpclassifier__solver=adam\n"
     ]
    },
    {
     "name": "stderr",
     "output_type": "stream",
     "text": [
      "/opt/anaconda3/lib/python3.12/site-packages/sklearn/neural_network/_multilayer_perceptron.py:690: ConvergenceWarning: Stochastic Optimizer: Maximum iterations (500) reached and the optimization hasn't converged yet.\n",
      "  warnings.warn(\n"
     ]
    },
    {
     "name": "stdout",
     "output_type": "stream",
     "text": [
      "[CV 1/3; 10/180] END mlpclassifier__activation=relu, mlpclassifier__alpha=1e-05, mlpclassifier__hidden_layer_sizes=(100, 50), mlpclassifier__learning_rate=adaptive, mlpclassifier__learning_rate_init=0.0005, mlpclassifier__solver=adam;, score=0.656 total time=  12.6s\n",
      "[CV 3/3; 12/180] START mlpclassifier__activation=relu, mlpclassifier__alpha=1e-05, mlpclassifier__hidden_layer_sizes=(100, 50), mlpclassifier__learning_rate=adaptive, mlpclassifier__learning_rate_init=0.005, mlpclassifier__solver=adam\n",
      "[CV 2/3; 12/180] END mlpclassifier__activation=relu, mlpclassifier__alpha=1e-05, mlpclassifier__hidden_layer_sizes=(100, 50), mlpclassifier__learning_rate=adaptive, mlpclassifier__learning_rate_init=0.005, mlpclassifier__solver=adam;, score=0.695 total time=   3.4s\n",
      "[CV 1/3; 13/180] START mlpclassifier__activation=relu, mlpclassifier__alpha=1e-05, mlpclassifier__hidden_layer_sizes=(128, 64, 32), mlpclassifier__learning_rate=constant, mlpclassifier__learning_rate_init=0.0005, mlpclassifier__solver=adam\n",
      "[CV 1/3; 12/180] END mlpclassifier__activation=relu, mlpclassifier__alpha=1e-05, mlpclassifier__hidden_layer_sizes=(100, 50), mlpclassifier__learning_rate=adaptive, mlpclassifier__learning_rate_init=0.005, mlpclassifier__solver=adam;, score=0.669 total time=   5.1s\n",
      "[CV 2/3; 13/180] START mlpclassifier__activation=relu, mlpclassifier__alpha=1e-05, mlpclassifier__hidden_layer_sizes=(128, 64, 32), mlpclassifier__learning_rate=constant, mlpclassifier__learning_rate_init=0.0005, mlpclassifier__solver=adam\n",
      "[CV 2/3; 11/180] END mlpclassifier__activation=relu, mlpclassifier__alpha=1e-05, mlpclassifier__hidden_layer_sizes=(100, 50), mlpclassifier__learning_rate=adaptive, mlpclassifier__learning_rate_init=0.001, mlpclassifier__solver=adam;, score=0.686 total time=  11.2s\n",
      "[CV 3/3; 13/180] START mlpclassifier__activation=relu, mlpclassifier__alpha=1e-05, mlpclassifier__hidden_layer_sizes=(128, 64, 32), mlpclassifier__learning_rate=constant, mlpclassifier__learning_rate_init=0.0005, mlpclassifier__solver=adam\n",
      "[CV 2/3; 10/180] END mlpclassifier__activation=relu, mlpclassifier__alpha=1e-05, mlpclassifier__hidden_layer_sizes=(100, 50), mlpclassifier__learning_rate=adaptive, mlpclassifier__learning_rate_init=0.0005, mlpclassifier__solver=adam;, score=0.671 total time=  12.6s\n",
      "[CV 1/3; 14/180] START mlpclassifier__activation=relu, mlpclassifier__alpha=1e-05, mlpclassifier__hidden_layer_sizes=(128, 64, 32), mlpclassifier__learning_rate=constant, mlpclassifier__learning_rate_init=0.001, mlpclassifier__solver=adam\n"
     ]
    },
    {
     "name": "stderr",
     "output_type": "stream",
     "text": [
      "/opt/anaconda3/lib/python3.12/site-packages/sklearn/neural_network/_multilayer_perceptron.py:690: ConvergenceWarning: Stochastic Optimizer: Maximum iterations (500) reached and the optimization hasn't converged yet.\n",
      "  warnings.warn(\n",
      "/opt/anaconda3/lib/python3.12/site-packages/sklearn/neural_network/_multilayer_perceptron.py:690: ConvergenceWarning: Stochastic Optimizer: Maximum iterations (500) reached and the optimization hasn't converged yet.\n",
      "  warnings.warn(\n"
     ]
    },
    {
     "name": "stdout",
     "output_type": "stream",
     "text": [
      "[CV 3/3; 10/180] END mlpclassifier__activation=relu, mlpclassifier__alpha=1e-05, mlpclassifier__hidden_layer_sizes=(100, 50), mlpclassifier__learning_rate=adaptive, mlpclassifier__learning_rate_init=0.0005, mlpclassifier__solver=adam;, score=0.726 total time=  12.6s\n",
      "[CV 2/3; 14/180] START mlpclassifier__activation=relu, mlpclassifier__alpha=1e-05, mlpclassifier__hidden_layer_sizes=(128, 64, 32), mlpclassifier__learning_rate=constant, mlpclassifier__learning_rate_init=0.001, mlpclassifier__solver=adam\n",
      "[CV 1/3; 11/180] END mlpclassifier__activation=relu, mlpclassifier__alpha=1e-05, mlpclassifier__hidden_layer_sizes=(100, 50), mlpclassifier__learning_rate=adaptive, mlpclassifier__learning_rate_init=0.001, mlpclassifier__solver=adam;, score=0.667 total time=  12.5s\n",
      "[CV 3/3; 14/180] START mlpclassifier__activation=relu, mlpclassifier__alpha=1e-05, mlpclassifier__hidden_layer_sizes=(128, 64, 32), mlpclassifier__learning_rate=constant, mlpclassifier__learning_rate_init=0.001, mlpclassifier__solver=adam\n",
      "[CV 3/3; 12/180] END mlpclassifier__activation=relu, mlpclassifier__alpha=1e-05, mlpclassifier__hidden_layer_sizes=(100, 50), mlpclassifier__learning_rate=adaptive, mlpclassifier__learning_rate_init=0.005, mlpclassifier__solver=adam;, score=0.719 total time=   3.8s\n",
      "[CV 1/3; 15/180] START mlpclassifier__activation=relu, mlpclassifier__alpha=1e-05, mlpclassifier__hidden_layer_sizes=(128, 64, 32), mlpclassifier__learning_rate=constant, mlpclassifier__learning_rate_init=0.005, mlpclassifier__solver=adam\n",
      "[CV 3/3; 11/180] END mlpclassifier__activation=relu, mlpclassifier__alpha=1e-05, mlpclassifier__hidden_layer_sizes=(100, 50), mlpclassifier__learning_rate=adaptive, mlpclassifier__learning_rate_init=0.001, mlpclassifier__solver=adam;, score=0.716 total time=  12.7s\n",
      "[CV 2/3; 15/180] START mlpclassifier__activation=relu, mlpclassifier__alpha=1e-05, mlpclassifier__hidden_layer_sizes=(128, 64, 32), mlpclassifier__learning_rate=constant, mlpclassifier__learning_rate_init=0.005, mlpclassifier__solver=adam\n"
     ]
    },
    {
     "name": "stderr",
     "output_type": "stream",
     "text": [
      "/opt/anaconda3/lib/python3.12/site-packages/sklearn/neural_network/_multilayer_perceptron.py:690: ConvergenceWarning: Stochastic Optimizer: Maximum iterations (500) reached and the optimization hasn't converged yet.\n",
      "  warnings.warn(\n"
     ]
    },
    {
     "name": "stdout",
     "output_type": "stream",
     "text": [
      "[CV 1/3; 15/180] END mlpclassifier__activation=relu, mlpclassifier__alpha=1e-05, mlpclassifier__hidden_layer_sizes=(128, 64, 32), mlpclassifier__learning_rate=constant, mlpclassifier__learning_rate_init=0.005, mlpclassifier__solver=adam;, score=0.683 total time=   3.0s\n",
      "[CV 3/3; 15/180] START mlpclassifier__activation=relu, mlpclassifier__alpha=1e-05, mlpclassifier__hidden_layer_sizes=(128, 64, 32), mlpclassifier__learning_rate=constant, mlpclassifier__learning_rate_init=0.005, mlpclassifier__solver=adam\n",
      "[CV 2/3; 15/180] END mlpclassifier__activation=relu, mlpclassifier__alpha=1e-05, mlpclassifier__hidden_layer_sizes=(128, 64, 32), mlpclassifier__learning_rate=constant, mlpclassifier__learning_rate_init=0.005, mlpclassifier__solver=adam;, score=0.686 total time=   3.9s\n",
      "[CV 1/3; 16/180] START mlpclassifier__activation=relu, mlpclassifier__alpha=1e-05, mlpclassifier__hidden_layer_sizes=(128, 64, 32), mlpclassifier__learning_rate=adaptive, mlpclassifier__learning_rate_init=0.0005, mlpclassifier__solver=adam\n",
      "[CV 3/3; 15/180] END mlpclassifier__activation=relu, mlpclassifier__alpha=1e-05, mlpclassifier__hidden_layer_sizes=(128, 64, 32), mlpclassifier__learning_rate=constant, mlpclassifier__learning_rate_init=0.005, mlpclassifier__solver=adam;, score=0.728 total time=   4.7s\n",
      "[CV 2/3; 16/180] START mlpclassifier__activation=relu, mlpclassifier__alpha=1e-05, mlpclassifier__hidden_layer_sizes=(128, 64, 32), mlpclassifier__learning_rate=adaptive, mlpclassifier__learning_rate_init=0.0005, mlpclassifier__solver=adam\n",
      "[CV 3/3; 14/180] END mlpclassifier__activation=relu, mlpclassifier__alpha=1e-05, mlpclassifier__hidden_layer_sizes=(128, 64, 32), mlpclassifier__learning_rate=constant, mlpclassifier__learning_rate_init=0.001, mlpclassifier__solver=adam;, score=0.744 total time=  10.3s\n",
      "[CV 3/3; 16/180] START mlpclassifier__activation=relu, mlpclassifier__alpha=1e-05, mlpclassifier__hidden_layer_sizes=(128, 64, 32), mlpclassifier__learning_rate=adaptive, mlpclassifier__learning_rate_init=0.0005, mlpclassifier__solver=adam\n",
      "[CV 2/3; 14/180] END mlpclassifier__activation=relu, mlpclassifier__alpha=1e-05, mlpclassifier__hidden_layer_sizes=(128, 64, 32), mlpclassifier__learning_rate=constant, mlpclassifier__learning_rate_init=0.001, mlpclassifier__solver=adam;, score=0.693 total time=  10.6s\n",
      "[CV 1/3; 17/180] START mlpclassifier__activation=relu, mlpclassifier__alpha=1e-05, mlpclassifier__hidden_layer_sizes=(128, 64, 32), mlpclassifier__learning_rate=adaptive, mlpclassifier__learning_rate_init=0.001, mlpclassifier__solver=adam\n",
      "[CV 1/3; 14/180] END mlpclassifier__activation=relu, mlpclassifier__alpha=1e-05, mlpclassifier__hidden_layer_sizes=(128, 64, 32), mlpclassifier__learning_rate=constant, mlpclassifier__learning_rate_init=0.001, mlpclassifier__solver=adam;, score=0.673 total time=  11.6s\n",
      "[CV 2/3; 17/180] START mlpclassifier__activation=relu, mlpclassifier__alpha=1e-05, mlpclassifier__hidden_layer_sizes=(128, 64, 32), mlpclassifier__learning_rate=adaptive, mlpclassifier__learning_rate_init=0.001, mlpclassifier__solver=adam\n",
      "[CV 2/3; 13/180] END mlpclassifier__activation=relu, mlpclassifier__alpha=1e-05, mlpclassifier__hidden_layer_sizes=(128, 64, 32), mlpclassifier__learning_rate=constant, mlpclassifier__learning_rate_init=0.0005, mlpclassifier__solver=adam;, score=0.687 total time=  16.9s\n",
      "[CV 3/3; 17/180] START mlpclassifier__activation=relu, mlpclassifier__alpha=1e-05, mlpclassifier__hidden_layer_sizes=(128, 64, 32), mlpclassifier__learning_rate=adaptive, mlpclassifier__learning_rate_init=0.001, mlpclassifier__solver=adam\n",
      "[CV 1/3; 13/180] END mlpclassifier__activation=relu, mlpclassifier__alpha=1e-05, mlpclassifier__hidden_layer_sizes=(128, 64, 32), mlpclassifier__learning_rate=constant, mlpclassifier__learning_rate_init=0.0005, mlpclassifier__solver=adam;, score=0.692 total time=  17.6s\n",
      "[CV 1/3; 18/180] START mlpclassifier__activation=relu, mlpclassifier__alpha=1e-05, mlpclassifier__hidden_layer_sizes=(128, 64, 32), mlpclassifier__learning_rate=adaptive, mlpclassifier__learning_rate_init=0.005, mlpclassifier__solver=adam\n",
      "[CV 1/3; 18/180] END mlpclassifier__activation=relu, mlpclassifier__alpha=1e-05, mlpclassifier__hidden_layer_sizes=(128, 64, 32), mlpclassifier__learning_rate=adaptive, mlpclassifier__learning_rate_init=0.005, mlpclassifier__solver=adam;, score=0.683 total time=   3.0s\n",
      "[CV 2/3; 18/180] START mlpclassifier__activation=relu, mlpclassifier__alpha=1e-05, mlpclassifier__hidden_layer_sizes=(128, 64, 32), mlpclassifier__learning_rate=adaptive, mlpclassifier__learning_rate_init=0.005, mlpclassifier__solver=adam\n"
     ]
    },
    {
     "name": "stderr",
     "output_type": "stream",
     "text": [
      "/opt/anaconda3/lib/python3.12/site-packages/sklearn/neural_network/_multilayer_perceptron.py:690: ConvergenceWarning: Stochastic Optimizer: Maximum iterations (500) reached and the optimization hasn't converged yet.\n",
      "  warnings.warn(\n"
     ]
    },
    {
     "name": "stdout",
     "output_type": "stream",
     "text": [
      "[CV 3/3; 13/180] END mlpclassifier__activation=relu, mlpclassifier__alpha=1e-05, mlpclassifier__hidden_layer_sizes=(128, 64, 32), mlpclassifier__learning_rate=constant, mlpclassifier__learning_rate_init=0.0005, mlpclassifier__solver=adam;, score=0.733 total time=  21.6s\n",
      "[CV 3/3; 18/180] START mlpclassifier__activation=relu, mlpclassifier__alpha=1e-05, mlpclassifier__hidden_layer_sizes=(128, 64, 32), mlpclassifier__learning_rate=adaptive, mlpclassifier__learning_rate_init=0.005, mlpclassifier__solver=adam\n",
      "[CV 2/3; 17/180] END mlpclassifier__activation=relu, mlpclassifier__alpha=1e-05, mlpclassifier__hidden_layer_sizes=(128, 64, 32), mlpclassifier__learning_rate=adaptive, mlpclassifier__learning_rate_init=0.001, mlpclassifier__solver=adam;, score=0.693 total time=  10.7s\n",
      "[CV 1/3; 19/180] START mlpclassifier__activation=relu, mlpclassifier__alpha=5.623413251903491e-05, mlpclassifier__hidden_layer_sizes=(128, 64), mlpclassifier__learning_rate=constant, mlpclassifier__learning_rate_init=0.0005, mlpclassifier__solver=adam\n",
      "[CV 1/3; 17/180] END mlpclassifier__activation=relu, mlpclassifier__alpha=1e-05, mlpclassifier__hidden_layer_sizes=(128, 64, 32), mlpclassifier__learning_rate=adaptive, mlpclassifier__learning_rate_init=0.001, mlpclassifier__solver=adam;, score=0.673 total time=  11.6s\n",
      "[CV 2/3; 19/180] START mlpclassifier__activation=relu, mlpclassifier__alpha=5.623413251903491e-05, mlpclassifier__hidden_layer_sizes=(128, 64), mlpclassifier__learning_rate=constant, mlpclassifier__learning_rate_init=0.0005, mlpclassifier__solver=adam\n",
      "[CV 1/3; 16/180] END mlpclassifier__activation=relu, mlpclassifier__alpha=1e-05, mlpclassifier__hidden_layer_sizes=(128, 64, 32), mlpclassifier__learning_rate=adaptive, mlpclassifier__learning_rate_init=0.0005, mlpclassifier__solver=adam;, score=0.692 total time=  18.0s\n",
      "[CV 3/3; 19/180] START mlpclassifier__activation=relu, mlpclassifier__alpha=5.623413251903491e-05, mlpclassifier__hidden_layer_sizes=(128, 64), mlpclassifier__learning_rate=constant, mlpclassifier__learning_rate_init=0.0005, mlpclassifier__solver=adam\n",
      "[CV 2/3; 18/180] END mlpclassifier__activation=relu, mlpclassifier__alpha=1e-05, mlpclassifier__hidden_layer_sizes=(128, 64, 32), mlpclassifier__learning_rate=adaptive, mlpclassifier__learning_rate_init=0.005, mlpclassifier__solver=adam;, score=0.686 total time=   4.3s\n",
      "[CV 1/3; 20/180] START mlpclassifier__activation=relu, mlpclassifier__alpha=5.623413251903491e-05, mlpclassifier__hidden_layer_sizes=(128, 64), mlpclassifier__learning_rate=constant, mlpclassifier__learning_rate_init=0.001, mlpclassifier__solver=adam\n",
      "[CV 3/3; 18/180] END mlpclassifier__activation=relu, mlpclassifier__alpha=1e-05, mlpclassifier__hidden_layer_sizes=(128, 64, 32), mlpclassifier__learning_rate=adaptive, mlpclassifier__learning_rate_init=0.005, mlpclassifier__solver=adam;, score=0.728 total time=   4.7s\n",
      "[CV 2/3; 20/180] START mlpclassifier__activation=relu, mlpclassifier__alpha=5.623413251903491e-05, mlpclassifier__hidden_layer_sizes=(128, 64), mlpclassifier__learning_rate=constant, mlpclassifier__learning_rate_init=0.001, mlpclassifier__solver=adam\n",
      "[CV 2/3; 16/180] END mlpclassifier__activation=relu, mlpclassifier__alpha=1e-05, mlpclassifier__hidden_layer_sizes=(128, 64, 32), mlpclassifier__learning_rate=adaptive, mlpclassifier__learning_rate_init=0.0005, mlpclassifier__solver=adam;, score=0.687 total time=  17.2s\n",
      "[CV 3/3; 20/180] START mlpclassifier__activation=relu, mlpclassifier__alpha=5.623413251903491e-05, mlpclassifier__hidden_layer_sizes=(128, 64), mlpclassifier__learning_rate=constant, mlpclassifier__learning_rate_init=0.001, mlpclassifier__solver=adam\n",
      "[CV 3/3; 17/180] END mlpclassifier__activation=relu, mlpclassifier__alpha=1e-05, mlpclassifier__hidden_layer_sizes=(128, 64, 32), mlpclassifier__learning_rate=adaptive, mlpclassifier__learning_rate_init=0.001, mlpclassifier__solver=adam;, score=0.744 total time=  10.5s\n",
      "[CV 1/3; 21/180] START mlpclassifier__activation=relu, mlpclassifier__alpha=5.623413251903491e-05, mlpclassifier__hidden_layer_sizes=(128, 64), mlpclassifier__learning_rate=constant, mlpclassifier__learning_rate_init=0.005, mlpclassifier__solver=adam\n",
      "[CV 1/3; 21/180] END mlpclassifier__activation=relu, mlpclassifier__alpha=5.623413251903491e-05, mlpclassifier__hidden_layer_sizes=(128, 64), mlpclassifier__learning_rate=constant, mlpclassifier__learning_rate_init=0.005, mlpclassifier__solver=adam;, score=0.679 total time=   4.1s\n",
      "[CV 2/3; 21/180] START mlpclassifier__activation=relu, mlpclassifier__alpha=5.623413251903491e-05, mlpclassifier__hidden_layer_sizes=(128, 64), mlpclassifier__learning_rate=constant, mlpclassifier__learning_rate_init=0.005, mlpclassifier__solver=adam\n"
     ]
    },
    {
     "name": "stderr",
     "output_type": "stream",
     "text": [
      "/opt/anaconda3/lib/python3.12/site-packages/sklearn/neural_network/_multilayer_perceptron.py:690: ConvergenceWarning: Stochastic Optimizer: Maximum iterations (500) reached and the optimization hasn't converged yet.\n",
      "  warnings.warn(\n"
     ]
    },
    {
     "name": "stdout",
     "output_type": "stream",
     "text": [
      "[CV 3/3; 16/180] END mlpclassifier__activation=relu, mlpclassifier__alpha=1e-05, mlpclassifier__hidden_layer_sizes=(128, 64, 32), mlpclassifier__learning_rate=adaptive, mlpclassifier__learning_rate_init=0.0005, mlpclassifier__solver=adam;, score=0.733 total time=  21.4s\n",
      "[CV 3/3; 21/180] START mlpclassifier__activation=relu, mlpclassifier__alpha=5.623413251903491e-05, mlpclassifier__hidden_layer_sizes=(128, 64), mlpclassifier__learning_rate=constant, mlpclassifier__learning_rate_init=0.005, mlpclassifier__solver=adam\n",
      "[CV 2/3; 21/180] END mlpclassifier__activation=relu, mlpclassifier__alpha=5.623413251903491e-05, mlpclassifier__hidden_layer_sizes=(128, 64), mlpclassifier__learning_rate=constant, mlpclassifier__learning_rate_init=0.005, mlpclassifier__solver=adam;, score=0.694 total time=   4.7s\n",
      "[CV 1/3; 22/180] START mlpclassifier__activation=relu, mlpclassifier__alpha=5.623413251903491e-05, mlpclassifier__hidden_layer_sizes=(128, 64), mlpclassifier__learning_rate=adaptive, mlpclassifier__learning_rate_init=0.0005, mlpclassifier__solver=adam\n",
      "[CV 3/3; 21/180] END mlpclassifier__activation=relu, mlpclassifier__alpha=5.623413251903491e-05, mlpclassifier__hidden_layer_sizes=(128, 64), mlpclassifier__learning_rate=constant, mlpclassifier__learning_rate_init=0.005, mlpclassifier__solver=adam;, score=0.738 total time=   5.6s\n",
      "[CV 2/3; 22/180] START mlpclassifier__activation=relu, mlpclassifier__alpha=5.623413251903491e-05, mlpclassifier__hidden_layer_sizes=(128, 64), mlpclassifier__learning_rate=adaptive, mlpclassifier__learning_rate_init=0.0005, mlpclassifier__solver=adam\n"
     ]
    },
    {
     "name": "stderr",
     "output_type": "stream",
     "text": [
      "/opt/anaconda3/lib/python3.12/site-packages/sklearn/neural_network/_multilayer_perceptron.py:690: ConvergenceWarning: Stochastic Optimizer: Maximum iterations (500) reached and the optimization hasn't converged yet.\n",
      "  warnings.warn(\n"
     ]
    },
    {
     "name": "stdout",
     "output_type": "stream",
     "text": [
      "[CV 1/3; 19/180] END mlpclassifier__activation=relu, mlpclassifier__alpha=5.623413251903491e-05, mlpclassifier__hidden_layer_sizes=(128, 64), mlpclassifier__learning_rate=constant, mlpclassifier__learning_rate_init=0.0005, mlpclassifier__solver=adam;, score=0.680 total time=  17.5s\n",
      "[CV 3/3; 22/180] START mlpclassifier__activation=relu, mlpclassifier__alpha=5.623413251903491e-05, mlpclassifier__hidden_layer_sizes=(128, 64), mlpclassifier__learning_rate=adaptive, mlpclassifier__learning_rate_init=0.0005, mlpclassifier__solver=adam\n"
     ]
    },
    {
     "name": "stderr",
     "output_type": "stream",
     "text": [
      "/opt/anaconda3/lib/python3.12/site-packages/sklearn/neural_network/_multilayer_perceptron.py:690: ConvergenceWarning: Stochastic Optimizer: Maximum iterations (500) reached and the optimization hasn't converged yet.\n",
      "  warnings.warn(\n"
     ]
    },
    {
     "name": "stdout",
     "output_type": "stream",
     "text": [
      "[CV 2/3; 19/180] END mlpclassifier__activation=relu, mlpclassifier__alpha=5.623413251903491e-05, mlpclassifier__hidden_layer_sizes=(128, 64), mlpclassifier__learning_rate=constant, mlpclassifier__learning_rate_init=0.0005, mlpclassifier__solver=adam;, score=0.688 total time=  17.8s\n",
      "[CV 1/3; 23/180] START mlpclassifier__activation=relu, mlpclassifier__alpha=5.623413251903491e-05, mlpclassifier__hidden_layer_sizes=(128, 64), mlpclassifier__learning_rate=adaptive, mlpclassifier__learning_rate_init=0.001, mlpclassifier__solver=adam\n",
      "[CV 1/3; 20/180] END mlpclassifier__activation=relu, mlpclassifier__alpha=5.623413251903491e-05, mlpclassifier__hidden_layer_sizes=(128, 64), mlpclassifier__learning_rate=constant, mlpclassifier__learning_rate_init=0.001, mlpclassifier__solver=adam;, score=0.686 total time=  17.1s\n",
      "[CV 2/3; 23/180] START mlpclassifier__activation=relu, mlpclassifier__alpha=5.623413251903491e-05, mlpclassifier__hidden_layer_sizes=(128, 64), mlpclassifier__learning_rate=adaptive, mlpclassifier__learning_rate_init=0.001, mlpclassifier__solver=adam\n",
      "[CV 3/3; 19/180] END mlpclassifier__activation=relu, mlpclassifier__alpha=5.623413251903491e-05, mlpclassifier__hidden_layer_sizes=(128, 64), mlpclassifier__learning_rate=constant, mlpclassifier__learning_rate_init=0.0005, mlpclassifier__solver=adam;, score=0.733 total time=  17.7s\n",
      "[CV 3/3; 23/180] START mlpclassifier__activation=relu, mlpclassifier__alpha=5.623413251903491e-05, mlpclassifier__hidden_layer_sizes=(128, 64), mlpclassifier__learning_rate=adaptive, mlpclassifier__learning_rate_init=0.001, mlpclassifier__solver=adam\n"
     ]
    },
    {
     "name": "stderr",
     "output_type": "stream",
     "text": [
      "/opt/anaconda3/lib/python3.12/site-packages/sklearn/neural_network/_multilayer_perceptron.py:690: ConvergenceWarning: Stochastic Optimizer: Maximum iterations (500) reached and the optimization hasn't converged yet.\n",
      "  warnings.warn(\n"
     ]
    },
    {
     "name": "stdout",
     "output_type": "stream",
     "text": [
      "[CV 3/3; 20/180] END mlpclassifier__activation=relu, mlpclassifier__alpha=5.623413251903491e-05, mlpclassifier__hidden_layer_sizes=(128, 64), mlpclassifier__learning_rate=constant, mlpclassifier__learning_rate_init=0.001, mlpclassifier__solver=adam;, score=0.742 total time=  15.8s\n",
      "[CV 1/3; 24/180] START mlpclassifier__activation=relu, mlpclassifier__alpha=5.623413251903491e-05, mlpclassifier__hidden_layer_sizes=(128, 64), mlpclassifier__learning_rate=adaptive, mlpclassifier__learning_rate_init=0.005, mlpclassifier__solver=adam\n",
      "[CV 2/3; 20/180] END mlpclassifier__activation=relu, mlpclassifier__alpha=5.623413251903491e-05, mlpclassifier__hidden_layer_sizes=(128, 64), mlpclassifier__learning_rate=constant, mlpclassifier__learning_rate_init=0.001, mlpclassifier__solver=adam;, score=0.691 total time=  17.6s\n",
      "[CV 2/3; 24/180] START mlpclassifier__activation=relu, mlpclassifier__alpha=5.623413251903491e-05, mlpclassifier__hidden_layer_sizes=(128, 64), mlpclassifier__learning_rate=adaptive, mlpclassifier__learning_rate_init=0.005, mlpclassifier__solver=adam\n",
      "[CV 1/3; 24/180] END mlpclassifier__activation=relu, mlpclassifier__alpha=5.623413251903491e-05, mlpclassifier__hidden_layer_sizes=(128, 64), mlpclassifier__learning_rate=adaptive, mlpclassifier__learning_rate_init=0.005, mlpclassifier__solver=adam;, score=0.679 total time=   4.3s\n",
      "[CV 3/3; 24/180] START mlpclassifier__activation=relu, mlpclassifier__alpha=5.623413251903491e-05, mlpclassifier__hidden_layer_sizes=(128, 64), mlpclassifier__learning_rate=adaptive, mlpclassifier__learning_rate_init=0.005, mlpclassifier__solver=adam\n",
      "[CV 2/3; 24/180] END mlpclassifier__activation=relu, mlpclassifier__alpha=5.623413251903491e-05, mlpclassifier__hidden_layer_sizes=(128, 64), mlpclassifier__learning_rate=adaptive, mlpclassifier__learning_rate_init=0.005, mlpclassifier__solver=adam;, score=0.694 total time=   4.6s\n",
      "[CV 1/3; 25/180] START mlpclassifier__activation=relu, mlpclassifier__alpha=5.623413251903491e-05, mlpclassifier__hidden_layer_sizes=(100, 50), mlpclassifier__learning_rate=constant, mlpclassifier__learning_rate_init=0.0005, mlpclassifier__solver=adam\n",
      "[CV 3/3; 24/180] END mlpclassifier__activation=relu, mlpclassifier__alpha=5.623413251903491e-05, mlpclassifier__hidden_layer_sizes=(128, 64), mlpclassifier__learning_rate=adaptive, mlpclassifier__learning_rate_init=0.005, mlpclassifier__solver=adam;, score=0.738 total time=   5.3s\n",
      "[CV 2/3; 25/180] START mlpclassifier__activation=relu, mlpclassifier__alpha=5.623413251903491e-05, mlpclassifier__hidden_layer_sizes=(100, 50), mlpclassifier__learning_rate=constant, mlpclassifier__learning_rate_init=0.0005, mlpclassifier__solver=adam\n"
     ]
    },
    {
     "name": "stderr",
     "output_type": "stream",
     "text": [
      "/opt/anaconda3/lib/python3.12/site-packages/sklearn/neural_network/_multilayer_perceptron.py:690: ConvergenceWarning: Stochastic Optimizer: Maximum iterations (500) reached and the optimization hasn't converged yet.\n",
      "  warnings.warn(\n"
     ]
    },
    {
     "name": "stdout",
     "output_type": "stream",
     "text": [
      "[CV 1/3; 22/180] END mlpclassifier__activation=relu, mlpclassifier__alpha=5.623413251903491e-05, mlpclassifier__hidden_layer_sizes=(128, 64), mlpclassifier__learning_rate=adaptive, mlpclassifier__learning_rate_init=0.0005, mlpclassifier__solver=adam;, score=0.680 total time=  17.8s\n",
      "[CV 3/3; 25/180] START mlpclassifier__activation=relu, mlpclassifier__alpha=5.623413251903491e-05, mlpclassifier__hidden_layer_sizes=(100, 50), mlpclassifier__learning_rate=constant, mlpclassifier__learning_rate_init=0.0005, mlpclassifier__solver=adam\n"
     ]
    },
    {
     "name": "stderr",
     "output_type": "stream",
     "text": [
      "/opt/anaconda3/lib/python3.12/site-packages/sklearn/neural_network/_multilayer_perceptron.py:690: ConvergenceWarning: Stochastic Optimizer: Maximum iterations (500) reached and the optimization hasn't converged yet.\n",
      "  warnings.warn(\n"
     ]
    },
    {
     "name": "stdout",
     "output_type": "stream",
     "text": [
      "[CV 2/3; 22/180] END mlpclassifier__activation=relu, mlpclassifier__alpha=5.623413251903491e-05, mlpclassifier__hidden_layer_sizes=(128, 64), mlpclassifier__learning_rate=adaptive, mlpclassifier__learning_rate_init=0.0005, mlpclassifier__solver=adam;, score=0.688 total time=  18.1s\n",
      "[CV 1/3; 26/180] START mlpclassifier__activation=relu, mlpclassifier__alpha=5.623413251903491e-05, mlpclassifier__hidden_layer_sizes=(100, 50), mlpclassifier__learning_rate=constant, mlpclassifier__learning_rate_init=0.001, mlpclassifier__solver=adam\n",
      "[CV 3/3; 23/180] END mlpclassifier__activation=relu, mlpclassifier__alpha=5.623413251903491e-05, mlpclassifier__hidden_layer_sizes=(128, 64), mlpclassifier__learning_rate=adaptive, mlpclassifier__learning_rate_init=0.001, mlpclassifier__solver=adam;, score=0.742 total time=  15.9s\n",
      "[CV 2/3; 26/180] START mlpclassifier__activation=relu, mlpclassifier__alpha=5.623413251903491e-05, mlpclassifier__hidden_layer_sizes=(100, 50), mlpclassifier__learning_rate=constant, mlpclassifier__learning_rate_init=0.001, mlpclassifier__solver=adam\n"
     ]
    },
    {
     "name": "stderr",
     "output_type": "stream",
     "text": [
      "/opt/anaconda3/lib/python3.12/site-packages/sklearn/neural_network/_multilayer_perceptron.py:690: ConvergenceWarning: Stochastic Optimizer: Maximum iterations (500) reached and the optimization hasn't converged yet.\n",
      "  warnings.warn(\n"
     ]
    },
    {
     "name": "stdout",
     "output_type": "stream",
     "text": [
      "[CV 3/3; 22/180] END mlpclassifier__activation=relu, mlpclassifier__alpha=5.623413251903491e-05, mlpclassifier__hidden_layer_sizes=(128, 64), mlpclassifier__learning_rate=adaptive, mlpclassifier__learning_rate_init=0.0005, mlpclassifier__solver=adam;, score=0.733 total time=  17.9s\n",
      "[CV 3/3; 26/180] START mlpclassifier__activation=relu, mlpclassifier__alpha=5.623413251903491e-05, mlpclassifier__hidden_layer_sizes=(100, 50), mlpclassifier__learning_rate=constant, mlpclassifier__learning_rate_init=0.001, mlpclassifier__solver=adam\n",
      "[CV 1/3; 23/180] END mlpclassifier__activation=relu, mlpclassifier__alpha=5.623413251903491e-05, mlpclassifier__hidden_layer_sizes=(128, 64), mlpclassifier__learning_rate=adaptive, mlpclassifier__learning_rate_init=0.001, mlpclassifier__solver=adam;, score=0.686 total time=  17.2s\n",
      "[CV 1/3; 27/180] START mlpclassifier__activation=relu, mlpclassifier__alpha=5.623413251903491e-05, mlpclassifier__hidden_layer_sizes=(100, 50), mlpclassifier__learning_rate=constant, mlpclassifier__learning_rate_init=0.005, mlpclassifier__solver=adam\n",
      "[CV 2/3; 23/180] END mlpclassifier__activation=relu, mlpclassifier__alpha=5.623413251903491e-05, mlpclassifier__hidden_layer_sizes=(128, 64), mlpclassifier__learning_rate=adaptive, mlpclassifier__learning_rate_init=0.001, mlpclassifier__solver=adam;, score=0.691 total time=  17.4s\n",
      "[CV 2/3; 27/180] START mlpclassifier__activation=relu, mlpclassifier__alpha=5.623413251903491e-05, mlpclassifier__hidden_layer_sizes=(100, 50), mlpclassifier__learning_rate=constant, mlpclassifier__learning_rate_init=0.005, mlpclassifier__solver=adam\n",
      "[CV 1/3; 27/180] END mlpclassifier__activation=relu, mlpclassifier__alpha=5.623413251903491e-05, mlpclassifier__hidden_layer_sizes=(100, 50), mlpclassifier__learning_rate=constant, mlpclassifier__learning_rate_init=0.005, mlpclassifier__solver=adam;, score=0.683 total time=   2.9s\n",
      "[CV 3/3; 27/180] START mlpclassifier__activation=relu, mlpclassifier__alpha=5.623413251903491e-05, mlpclassifier__hidden_layer_sizes=(100, 50), mlpclassifier__learning_rate=constant, mlpclassifier__learning_rate_init=0.005, mlpclassifier__solver=adam\n"
     ]
    },
    {
     "name": "stderr",
     "output_type": "stream",
     "text": [
      "/opt/anaconda3/lib/python3.12/site-packages/sklearn/neural_network/_multilayer_perceptron.py:690: ConvergenceWarning: Stochastic Optimizer: Maximum iterations (500) reached and the optimization hasn't converged yet.\n",
      "  warnings.warn(\n"
     ]
    },
    {
     "name": "stdout",
     "output_type": "stream",
     "text": [
      "[CV 1/3; 25/180] END mlpclassifier__activation=relu, mlpclassifier__alpha=5.623413251903491e-05, mlpclassifier__hidden_layer_sizes=(100, 50), mlpclassifier__learning_rate=constant, mlpclassifier__learning_rate_init=0.0005, mlpclassifier__solver=adam;, score=0.660 total time=  13.7s\n",
      "[CV 1/3; 28/180] START mlpclassifier__activation=relu, mlpclassifier__alpha=5.623413251903491e-05, mlpclassifier__hidden_layer_sizes=(100, 50), mlpclassifier__learning_rate=adaptive, mlpclassifier__learning_rate_init=0.0005, mlpclassifier__solver=adam\n",
      "[CV 2/3; 27/180] END mlpclassifier__activation=relu, mlpclassifier__alpha=5.623413251903491e-05, mlpclassifier__hidden_layer_sizes=(100, 50), mlpclassifier__learning_rate=constant, mlpclassifier__learning_rate_init=0.005, mlpclassifier__solver=adam;, score=0.693 total time=   3.8s\n",
      "[CV 2/3; 28/180] START mlpclassifier__activation=relu, mlpclassifier__alpha=5.623413251903491e-05, mlpclassifier__hidden_layer_sizes=(100, 50), mlpclassifier__learning_rate=adaptive, mlpclassifier__learning_rate_init=0.0005, mlpclassifier__solver=adam\n"
     ]
    },
    {
     "name": "stderr",
     "output_type": "stream",
     "text": [
      "/opt/anaconda3/lib/python3.12/site-packages/sklearn/neural_network/_multilayer_perceptron.py:690: ConvergenceWarning: Stochastic Optimizer: Maximum iterations (500) reached and the optimization hasn't converged yet.\n",
      "  warnings.warn(\n"
     ]
    },
    {
     "name": "stdout",
     "output_type": "stream",
     "text": [
      "[CV 2/3; 25/180] END mlpclassifier__activation=relu, mlpclassifier__alpha=5.623413251903491e-05, mlpclassifier__hidden_layer_sizes=(100, 50), mlpclassifier__learning_rate=constant, mlpclassifier__learning_rate_init=0.0005, mlpclassifier__solver=adam;, score=0.676 total time=  13.5s\n",
      "[CV 3/3; 28/180] START mlpclassifier__activation=relu, mlpclassifier__alpha=5.623413251903491e-05, mlpclassifier__hidden_layer_sizes=(100, 50), mlpclassifier__learning_rate=adaptive, mlpclassifier__learning_rate_init=0.0005, mlpclassifier__solver=adam\n",
      "[CV 3/3; 27/180] END mlpclassifier__activation=relu, mlpclassifier__alpha=5.623413251903491e-05, mlpclassifier__hidden_layer_sizes=(100, 50), mlpclassifier__learning_rate=constant, mlpclassifier__learning_rate_init=0.005, mlpclassifier__solver=adam;, score=0.735 total time=   5.1s\n",
      "[CV 1/3; 29/180] START mlpclassifier__activation=relu, mlpclassifier__alpha=5.623413251903491e-05, mlpclassifier__hidden_layer_sizes=(100, 50), mlpclassifier__learning_rate=adaptive, mlpclassifier__learning_rate_init=0.001, mlpclassifier__solver=adam\n"
     ]
    },
    {
     "name": "stderr",
     "output_type": "stream",
     "text": [
      "/opt/anaconda3/lib/python3.12/site-packages/sklearn/neural_network/_multilayer_perceptron.py:690: ConvergenceWarning: Stochastic Optimizer: Maximum iterations (500) reached and the optimization hasn't converged yet.\n",
      "  warnings.warn(\n"
     ]
    },
    {
     "name": "stdout",
     "output_type": "stream",
     "text": [
      "[CV 3/3; 25/180] END mlpclassifier__activation=relu, mlpclassifier__alpha=5.623413251903491e-05, mlpclassifier__hidden_layer_sizes=(100, 50), mlpclassifier__learning_rate=constant, mlpclassifier__learning_rate_init=0.0005, mlpclassifier__solver=adam;, score=0.709 total time=  13.4s\n",
      "[CV 2/3; 29/180] START mlpclassifier__activation=relu, mlpclassifier__alpha=5.623413251903491e-05, mlpclassifier__hidden_layer_sizes=(100, 50), mlpclassifier__learning_rate=adaptive, mlpclassifier__learning_rate_init=0.001, mlpclassifier__solver=adam\n",
      "[CV 1/3; 26/180] END mlpclassifier__activation=relu, mlpclassifier__alpha=5.623413251903491e-05, mlpclassifier__hidden_layer_sizes=(100, 50), mlpclassifier__learning_rate=constant, mlpclassifier__learning_rate_init=0.001, mlpclassifier__solver=adam;, score=0.677 total time=  12.6s\n",
      "[CV 3/3; 29/180] START mlpclassifier__activation=relu, mlpclassifier__alpha=5.623413251903491e-05, mlpclassifier__hidden_layer_sizes=(100, 50), mlpclassifier__learning_rate=adaptive, mlpclassifier__learning_rate_init=0.001, mlpclassifier__solver=adam\n",
      "[CV 2/3; 26/180] END mlpclassifier__activation=relu, mlpclassifier__alpha=5.623413251903491e-05, mlpclassifier__hidden_layer_sizes=(100, 50), mlpclassifier__learning_rate=constant, mlpclassifier__learning_rate_init=0.001, mlpclassifier__solver=adam;, score=0.679 total time=  12.2s\n",
      "[CV 1/3; 30/180] START mlpclassifier__activation=relu, mlpclassifier__alpha=5.623413251903491e-05, mlpclassifier__hidden_layer_sizes=(100, 50), mlpclassifier__learning_rate=adaptive, mlpclassifier__learning_rate_init=0.005, mlpclassifier__solver=adam\n"
     ]
    },
    {
     "name": "stderr",
     "output_type": "stream",
     "text": [
      "/opt/anaconda3/lib/python3.12/site-packages/sklearn/neural_network/_multilayer_perceptron.py:690: ConvergenceWarning: Stochastic Optimizer: Maximum iterations (500) reached and the optimization hasn't converged yet.\n",
      "  warnings.warn(\n"
     ]
    },
    {
     "name": "stdout",
     "output_type": "stream",
     "text": [
      "[CV 3/3; 26/180] END mlpclassifier__activation=relu, mlpclassifier__alpha=5.623413251903491e-05, mlpclassifier__hidden_layer_sizes=(100, 50), mlpclassifier__learning_rate=constant, mlpclassifier__learning_rate_init=0.001, mlpclassifier__solver=adam;, score=0.718 total time=  13.3s\n",
      "[CV 2/3; 30/180] START mlpclassifier__activation=relu, mlpclassifier__alpha=5.623413251903491e-05, mlpclassifier__hidden_layer_sizes=(100, 50), mlpclassifier__learning_rate=adaptive, mlpclassifier__learning_rate_init=0.005, mlpclassifier__solver=adam\n",
      "[CV 1/3; 30/180] END mlpclassifier__activation=relu, mlpclassifier__alpha=5.623413251903491e-05, mlpclassifier__hidden_layer_sizes=(100, 50), mlpclassifier__learning_rate=adaptive, mlpclassifier__learning_rate_init=0.005, mlpclassifier__solver=adam;, score=0.683 total time=   2.9s\n",
      "[CV 3/3; 30/180] START mlpclassifier__activation=relu, mlpclassifier__alpha=5.623413251903491e-05, mlpclassifier__hidden_layer_sizes=(100, 50), mlpclassifier__learning_rate=adaptive, mlpclassifier__learning_rate_init=0.005, mlpclassifier__solver=adam\n",
      "[CV 2/3; 30/180] END mlpclassifier__activation=relu, mlpclassifier__alpha=5.623413251903491e-05, mlpclassifier__hidden_layer_sizes=(100, 50), mlpclassifier__learning_rate=adaptive, mlpclassifier__learning_rate_init=0.005, mlpclassifier__solver=adam;, score=0.693 total time=   3.9s\n",
      "[CV 1/3; 31/180] START mlpclassifier__activation=relu, mlpclassifier__alpha=5.623413251903491e-05, mlpclassifier__hidden_layer_sizes=(128, 64, 32), mlpclassifier__learning_rate=constant, mlpclassifier__learning_rate_init=0.0005, mlpclassifier__solver=adam\n"
     ]
    },
    {
     "name": "stderr",
     "output_type": "stream",
     "text": [
      "/opt/anaconda3/lib/python3.12/site-packages/sklearn/neural_network/_multilayer_perceptron.py:690: ConvergenceWarning: Stochastic Optimizer: Maximum iterations (500) reached and the optimization hasn't converged yet.\n",
      "  warnings.warn(\n",
      "/opt/anaconda3/lib/python3.12/site-packages/sklearn/neural_network/_multilayer_perceptron.py:690: ConvergenceWarning: Stochastic Optimizer: Maximum iterations (500) reached and the optimization hasn't converged yet.\n",
      "  warnings.warn(\n"
     ]
    },
    {
     "name": "stdout",
     "output_type": "stream",
     "text": [
      "[CV 2/3; 28/180] END mlpclassifier__activation=relu, mlpclassifier__alpha=5.623413251903491e-05, mlpclassifier__hidden_layer_sizes=(100, 50), mlpclassifier__learning_rate=adaptive, mlpclassifier__learning_rate_init=0.0005, mlpclassifier__solver=adam;, score=0.676 total time=  13.7s\n",
      "[CV 2/3; 31/180] START mlpclassifier__activation=relu, mlpclassifier__alpha=5.623413251903491e-05, mlpclassifier__hidden_layer_sizes=(128, 64, 32), mlpclassifier__learning_rate=constant, mlpclassifier__learning_rate_init=0.0005, mlpclassifier__solver=adam\n",
      "[CV 1/3; 28/180] END mlpclassifier__activation=relu, mlpclassifier__alpha=5.623413251903491e-05, mlpclassifier__hidden_layer_sizes=(100, 50), mlpclassifier__learning_rate=adaptive, mlpclassifier__learning_rate_init=0.0005, mlpclassifier__solver=adam;, score=0.660 total time=  13.9s\n",
      "[CV 3/3; 31/180] START mlpclassifier__activation=relu, mlpclassifier__alpha=5.623413251903491e-05, mlpclassifier__hidden_layer_sizes=(128, 64, 32), mlpclassifier__learning_rate=constant, mlpclassifier__learning_rate_init=0.0005, mlpclassifier__solver=adam\n",
      "[CV 3/3; 30/180] END mlpclassifier__activation=relu, mlpclassifier__alpha=5.623413251903491e-05, mlpclassifier__hidden_layer_sizes=(100, 50), mlpclassifier__learning_rate=adaptive, mlpclassifier__learning_rate_init=0.005, mlpclassifier__solver=adam;, score=0.735 total time=   5.1s\n",
      "[CV 1/3; 32/180] START mlpclassifier__activation=relu, mlpclassifier__alpha=5.623413251903491e-05, mlpclassifier__hidden_layer_sizes=(128, 64, 32), mlpclassifier__learning_rate=constant, mlpclassifier__learning_rate_init=0.001, mlpclassifier__solver=adam\n",
      "[CV 1/3; 29/180] END mlpclassifier__activation=relu, mlpclassifier__alpha=5.623413251903491e-05, mlpclassifier__hidden_layer_sizes=(100, 50), mlpclassifier__learning_rate=adaptive, mlpclassifier__learning_rate_init=0.001, mlpclassifier__solver=adam;, score=0.677 total time=  12.7s\n",
      "[CV 2/3; 32/180] START mlpclassifier__activation=relu, mlpclassifier__alpha=5.623413251903491e-05, mlpclassifier__hidden_layer_sizes=(128, 64, 32), mlpclassifier__learning_rate=constant, mlpclassifier__learning_rate_init=0.001, mlpclassifier__solver=adam\n"
     ]
    },
    {
     "name": "stderr",
     "output_type": "stream",
     "text": [
      "/opt/anaconda3/lib/python3.12/site-packages/sklearn/neural_network/_multilayer_perceptron.py:690: ConvergenceWarning: Stochastic Optimizer: Maximum iterations (500) reached and the optimization hasn't converged yet.\n",
      "  warnings.warn(\n"
     ]
    },
    {
     "name": "stdout",
     "output_type": "stream",
     "text": [
      "[CV 3/3; 28/180] END mlpclassifier__activation=relu, mlpclassifier__alpha=5.623413251903491e-05, mlpclassifier__hidden_layer_sizes=(100, 50), mlpclassifier__learning_rate=adaptive, mlpclassifier__learning_rate_init=0.0005, mlpclassifier__solver=adam;, score=0.709 total time=  13.8s\n",
      "[CV 3/3; 32/180] START mlpclassifier__activation=relu, mlpclassifier__alpha=5.623413251903491e-05, mlpclassifier__hidden_layer_sizes=(128, 64, 32), mlpclassifier__learning_rate=constant, mlpclassifier__learning_rate_init=0.001, mlpclassifier__solver=adam\n",
      "[CV 2/3; 29/180] END mlpclassifier__activation=relu, mlpclassifier__alpha=5.623413251903491e-05, mlpclassifier__hidden_layer_sizes=(100, 50), mlpclassifier__learning_rate=adaptive, mlpclassifier__learning_rate_init=0.001, mlpclassifier__solver=adam;, score=0.679 total time=  12.3s\n",
      "[CV 1/3; 33/180] START mlpclassifier__activation=relu, mlpclassifier__alpha=5.623413251903491e-05, mlpclassifier__hidden_layer_sizes=(128, 64, 32), mlpclassifier__learning_rate=constant, mlpclassifier__learning_rate_init=0.005, mlpclassifier__solver=adam\n",
      "[CV 1/3; 33/180] END mlpclassifier__activation=relu, mlpclassifier__alpha=5.623413251903491e-05, mlpclassifier__hidden_layer_sizes=(128, 64, 32), mlpclassifier__learning_rate=constant, mlpclassifier__learning_rate_init=0.005, mlpclassifier__solver=adam;, score=0.664 total time=   3.8s\n",
      "[CV 2/3; 33/180] START mlpclassifier__activation=relu, mlpclassifier__alpha=5.623413251903491e-05, mlpclassifier__hidden_layer_sizes=(128, 64, 32), mlpclassifier__learning_rate=constant, mlpclassifier__learning_rate_init=0.005, mlpclassifier__solver=adam\n"
     ]
    },
    {
     "name": "stderr",
     "output_type": "stream",
     "text": [
      "/opt/anaconda3/lib/python3.12/site-packages/sklearn/neural_network/_multilayer_perceptron.py:690: ConvergenceWarning: Stochastic Optimizer: Maximum iterations (500) reached and the optimization hasn't converged yet.\n",
      "  warnings.warn(\n"
     ]
    },
    {
     "name": "stdout",
     "output_type": "stream",
     "text": [
      "[CV 3/3; 29/180] END mlpclassifier__activation=relu, mlpclassifier__alpha=5.623413251903491e-05, mlpclassifier__hidden_layer_sizes=(100, 50), mlpclassifier__learning_rate=adaptive, mlpclassifier__learning_rate_init=0.001, mlpclassifier__solver=adam;, score=0.718 total time=  14.2s\n",
      "[CV 3/3; 33/180] START mlpclassifier__activation=relu, mlpclassifier__alpha=5.623413251903491e-05, mlpclassifier__hidden_layer_sizes=(128, 64, 32), mlpclassifier__learning_rate=constant, mlpclassifier__learning_rate_init=0.005, mlpclassifier__solver=adam\n",
      "[CV 2/3; 33/180] END mlpclassifier__activation=relu, mlpclassifier__alpha=5.623413251903491e-05, mlpclassifier__hidden_layer_sizes=(128, 64, 32), mlpclassifier__learning_rate=constant, mlpclassifier__learning_rate_init=0.005, mlpclassifier__solver=adam;, score=0.690 total time=   3.7s\n",
      "[CV 1/3; 34/180] START mlpclassifier__activation=relu, mlpclassifier__alpha=5.623413251903491e-05, mlpclassifier__hidden_layer_sizes=(128, 64, 32), mlpclassifier__learning_rate=adaptive, mlpclassifier__learning_rate_init=0.0005, mlpclassifier__solver=adam\n",
      "[CV 3/3; 33/180] END mlpclassifier__activation=relu, mlpclassifier__alpha=5.623413251903491e-05, mlpclassifier__hidden_layer_sizes=(128, 64, 32), mlpclassifier__learning_rate=constant, mlpclassifier__learning_rate_init=0.005, mlpclassifier__solver=adam;, score=0.734 total time=   4.1s\n",
      "[CV 2/3; 34/180] START mlpclassifier__activation=relu, mlpclassifier__alpha=5.623413251903491e-05, mlpclassifier__hidden_layer_sizes=(128, 64, 32), mlpclassifier__learning_rate=adaptive, mlpclassifier__learning_rate_init=0.0005, mlpclassifier__solver=adam\n",
      "[CV 2/3; 32/180] END mlpclassifier__activation=relu, mlpclassifier__alpha=5.623413251903491e-05, mlpclassifier__hidden_layer_sizes=(128, 64, 32), mlpclassifier__learning_rate=constant, mlpclassifier__learning_rate_init=0.001, mlpclassifier__solver=adam;, score=0.682 total time=   8.8s\n",
      "[CV 3/3; 34/180] START mlpclassifier__activation=relu, mlpclassifier__alpha=5.623413251903491e-05, mlpclassifier__hidden_layer_sizes=(128, 64, 32), mlpclassifier__learning_rate=adaptive, mlpclassifier__learning_rate_init=0.0005, mlpclassifier__solver=adam\n",
      "[CV 1/3; 32/180] END mlpclassifier__activation=relu, mlpclassifier__alpha=5.623413251903491e-05, mlpclassifier__hidden_layer_sizes=(128, 64, 32), mlpclassifier__learning_rate=constant, mlpclassifier__learning_rate_init=0.001, mlpclassifier__solver=adam;, score=0.679 total time=  11.7s\n",
      "[CV 1/3; 35/180] START mlpclassifier__activation=relu, mlpclassifier__alpha=5.623413251903491e-05, mlpclassifier__hidden_layer_sizes=(128, 64, 32), mlpclassifier__learning_rate=adaptive, mlpclassifier__learning_rate_init=0.001, mlpclassifier__solver=adam\n",
      "[CV 3/3; 32/180] END mlpclassifier__activation=relu, mlpclassifier__alpha=5.623413251903491e-05, mlpclassifier__hidden_layer_sizes=(128, 64, 32), mlpclassifier__learning_rate=constant, mlpclassifier__learning_rate_init=0.001, mlpclassifier__solver=adam;, score=0.744 total time=  10.8s\n",
      "[CV 2/3; 35/180] START mlpclassifier__activation=relu, mlpclassifier__alpha=5.623413251903491e-05, mlpclassifier__hidden_layer_sizes=(128, 64, 32), mlpclassifier__learning_rate=adaptive, mlpclassifier__learning_rate_init=0.001, mlpclassifier__solver=adam\n",
      "[CV 1/3; 31/180] END mlpclassifier__activation=relu, mlpclassifier__alpha=5.623413251903491e-05, mlpclassifier__hidden_layer_sizes=(128, 64, 32), mlpclassifier__learning_rate=constant, mlpclassifier__learning_rate_init=0.0005, mlpclassifier__solver=adam;, score=0.694 total time=  18.7s\n",
      "[CV 3/3; 35/180] START mlpclassifier__activation=relu, mlpclassifier__alpha=5.623413251903491e-05, mlpclassifier__hidden_layer_sizes=(128, 64, 32), mlpclassifier__learning_rate=adaptive, mlpclassifier__learning_rate_init=0.001, mlpclassifier__solver=adam\n",
      "[CV 2/3; 31/180] END mlpclassifier__activation=relu, mlpclassifier__alpha=5.623413251903491e-05, mlpclassifier__hidden_layer_sizes=(128, 64, 32), mlpclassifier__learning_rate=constant, mlpclassifier__learning_rate_init=0.0005, mlpclassifier__solver=adam;, score=0.685 total time=  17.7s\n",
      "[CV 1/3; 36/180] START mlpclassifier__activation=relu, mlpclassifier__alpha=5.623413251903491e-05, mlpclassifier__hidden_layer_sizes=(128, 64, 32), mlpclassifier__learning_rate=adaptive, mlpclassifier__learning_rate_init=0.005, mlpclassifier__solver=adam\n",
      "[CV 3/3; 31/180] END mlpclassifier__activation=relu, mlpclassifier__alpha=5.623413251903491e-05, mlpclassifier__hidden_layer_sizes=(128, 64, 32), mlpclassifier__learning_rate=constant, mlpclassifier__learning_rate_init=0.0005, mlpclassifier__solver=adam;, score=0.737 total time=  20.2s\n",
      "[CV 2/3; 36/180] START mlpclassifier__activation=relu, mlpclassifier__alpha=5.623413251903491e-05, mlpclassifier__hidden_layer_sizes=(128, 64, 32), mlpclassifier__learning_rate=adaptive, mlpclassifier__learning_rate_init=0.005, mlpclassifier__solver=adam\n",
      "[CV 1/3; 36/180] END mlpclassifier__activation=relu, mlpclassifier__alpha=5.623413251903491e-05, mlpclassifier__hidden_layer_sizes=(128, 64, 32), mlpclassifier__learning_rate=adaptive, mlpclassifier__learning_rate_init=0.005, mlpclassifier__solver=adam;, score=0.664 total time=   3.6s\n",
      "[CV 3/3; 36/180] START mlpclassifier__activation=relu, mlpclassifier__alpha=5.623413251903491e-05, mlpclassifier__hidden_layer_sizes=(128, 64, 32), mlpclassifier__learning_rate=adaptive, mlpclassifier__learning_rate_init=0.005, mlpclassifier__solver=adam\n",
      "[CV 2/3; 35/180] END mlpclassifier__activation=relu, mlpclassifier__alpha=5.623413251903491e-05, mlpclassifier__hidden_layer_sizes=(128, 64, 32), mlpclassifier__learning_rate=adaptive, mlpclassifier__learning_rate_init=0.001, mlpclassifier__solver=adam;, score=0.682 total time=   8.3s\n",
      "[CV 1/3; 37/180] START mlpclassifier__activation=relu, mlpclassifier__alpha=0.00031622776601683794, mlpclassifier__hidden_layer_sizes=(128, 64), mlpclassifier__learning_rate=constant, mlpclassifier__learning_rate_init=0.0005, mlpclassifier__solver=adam\n",
      "[CV 2/3; 36/180] END mlpclassifier__activation=relu, mlpclassifier__alpha=5.623413251903491e-05, mlpclassifier__hidden_layer_sizes=(128, 64, 32), mlpclassifier__learning_rate=adaptive, mlpclassifier__learning_rate_init=0.005, mlpclassifier__solver=adam;, score=0.690 total time=   3.6s\n",
      "[CV 2/3; 37/180] START mlpclassifier__activation=relu, mlpclassifier__alpha=0.00031622776601683794, mlpclassifier__hidden_layer_sizes=(128, 64), mlpclassifier__learning_rate=constant, mlpclassifier__learning_rate_init=0.0005, mlpclassifier__solver=adam\n",
      "[CV 1/3; 35/180] END mlpclassifier__activation=relu, mlpclassifier__alpha=5.623413251903491e-05, mlpclassifier__hidden_layer_sizes=(128, 64, 32), mlpclassifier__learning_rate=adaptive, mlpclassifier__learning_rate_init=0.001, mlpclassifier__solver=adam;, score=0.679 total time=  11.5s\n",
      "[CV 3/3; 37/180] START mlpclassifier__activation=relu, mlpclassifier__alpha=0.00031622776601683794, mlpclassifier__hidden_layer_sizes=(128, 64), mlpclassifier__learning_rate=constant, mlpclassifier__learning_rate_init=0.0005, mlpclassifier__solver=adam\n",
      "[CV 3/3; 36/180] END mlpclassifier__activation=relu, mlpclassifier__alpha=5.623413251903491e-05, mlpclassifier__hidden_layer_sizes=(128, 64, 32), mlpclassifier__learning_rate=adaptive, mlpclassifier__learning_rate_init=0.005, mlpclassifier__solver=adam;, score=0.734 total time=   4.0s\n",
      "[CV 1/3; 38/180] START mlpclassifier__activation=relu, mlpclassifier__alpha=0.00031622776601683794, mlpclassifier__hidden_layer_sizes=(128, 64), mlpclassifier__learning_rate=constant, mlpclassifier__learning_rate_init=0.001, mlpclassifier__solver=adam\n",
      "[CV 3/3; 35/180] END mlpclassifier__activation=relu, mlpclassifier__alpha=5.623413251903491e-05, mlpclassifier__hidden_layer_sizes=(128, 64, 32), mlpclassifier__learning_rate=adaptive, mlpclassifier__learning_rate_init=0.001, mlpclassifier__solver=adam;, score=0.744 total time=  10.3s\n",
      "[CV 2/3; 38/180] START mlpclassifier__activation=relu, mlpclassifier__alpha=0.00031622776601683794, mlpclassifier__hidden_layer_sizes=(128, 64), mlpclassifier__learning_rate=constant, mlpclassifier__learning_rate_init=0.001, mlpclassifier__solver=adam\n",
      "[CV 1/3; 34/180] END mlpclassifier__activation=relu, mlpclassifier__alpha=5.623413251903491e-05, mlpclassifier__hidden_layer_sizes=(128, 64, 32), mlpclassifier__learning_rate=adaptive, mlpclassifier__learning_rate_init=0.0005, mlpclassifier__solver=adam;, score=0.694 total time=  18.3s\n",
      "[CV 3/3; 38/180] START mlpclassifier__activation=relu, mlpclassifier__alpha=0.00031622776601683794, mlpclassifier__hidden_layer_sizes=(128, 64), mlpclassifier__learning_rate=constant, mlpclassifier__learning_rate_init=0.001, mlpclassifier__solver=adam\n",
      "[CV 2/3; 34/180] END mlpclassifier__activation=relu, mlpclassifier__alpha=5.623413251903491e-05, mlpclassifier__hidden_layer_sizes=(128, 64, 32), mlpclassifier__learning_rate=adaptive, mlpclassifier__learning_rate_init=0.0005, mlpclassifier__solver=adam;, score=0.685 total time=  17.6s\n",
      "[CV 1/3; 39/180] START mlpclassifier__activation=relu, mlpclassifier__alpha=0.00031622776601683794, mlpclassifier__hidden_layer_sizes=(128, 64), mlpclassifier__learning_rate=constant, mlpclassifier__learning_rate_init=0.005, mlpclassifier__solver=adam\n",
      "[CV 3/3; 34/180] END mlpclassifier__activation=relu, mlpclassifier__alpha=5.623413251903491e-05, mlpclassifier__hidden_layer_sizes=(128, 64, 32), mlpclassifier__learning_rate=adaptive, mlpclassifier__learning_rate_init=0.0005, mlpclassifier__solver=adam;, score=0.737 total time=  20.5s\n",
      "[CV 2/3; 39/180] START mlpclassifier__activation=relu, mlpclassifier__alpha=0.00031622776601683794, mlpclassifier__hidden_layer_sizes=(128, 64), mlpclassifier__learning_rate=constant, mlpclassifier__learning_rate_init=0.005, mlpclassifier__solver=adam\n",
      "[CV 1/3; 39/180] END mlpclassifier__activation=relu, mlpclassifier__alpha=0.00031622776601683794, mlpclassifier__hidden_layer_sizes=(128, 64), mlpclassifier__learning_rate=constant, mlpclassifier__learning_rate_init=0.005, mlpclassifier__solver=adam;, score=0.675 total time=   4.3s\n",
      "[CV 3/3; 39/180] START mlpclassifier__activation=relu, mlpclassifier__alpha=0.00031622776601683794, mlpclassifier__hidden_layer_sizes=(128, 64), mlpclassifier__learning_rate=constant, mlpclassifier__learning_rate_init=0.005, mlpclassifier__solver=adam\n",
      "[CV 2/3; 39/180] END mlpclassifier__activation=relu, mlpclassifier__alpha=0.00031622776601683794, mlpclassifier__hidden_layer_sizes=(128, 64), mlpclassifier__learning_rate=constant, mlpclassifier__learning_rate_init=0.005, mlpclassifier__solver=adam;, score=0.667 total time=   4.4s\n",
      "[CV 1/3; 40/180] START mlpclassifier__activation=relu, mlpclassifier__alpha=0.00031622776601683794, mlpclassifier__hidden_layer_sizes=(128, 64), mlpclassifier__learning_rate=adaptive, mlpclassifier__learning_rate_init=0.0005, mlpclassifier__solver=adam\n",
      "[CV 3/3; 39/180] END mlpclassifier__activation=relu, mlpclassifier__alpha=0.00031622776601683794, mlpclassifier__hidden_layer_sizes=(128, 64), mlpclassifier__learning_rate=constant, mlpclassifier__learning_rate_init=0.005, mlpclassifier__solver=adam;, score=0.749 total time=   5.0s\n",
      "[CV 2/3; 40/180] START mlpclassifier__activation=relu, mlpclassifier__alpha=0.00031622776601683794, mlpclassifier__hidden_layer_sizes=(128, 64), mlpclassifier__learning_rate=adaptive, mlpclassifier__learning_rate_init=0.0005, mlpclassifier__solver=adam\n"
     ]
    },
    {
     "name": "stderr",
     "output_type": "stream",
     "text": [
      "/opt/anaconda3/lib/python3.12/site-packages/sklearn/neural_network/_multilayer_perceptron.py:690: ConvergenceWarning: Stochastic Optimizer: Maximum iterations (500) reached and the optimization hasn't converged yet.\n",
      "  warnings.warn(\n"
     ]
    },
    {
     "name": "stdout",
     "output_type": "stream",
     "text": [
      "[CV 1/3; 37/180] END mlpclassifier__activation=relu, mlpclassifier__alpha=0.00031622776601683794, mlpclassifier__hidden_layer_sizes=(128, 64), mlpclassifier__learning_rate=constant, mlpclassifier__learning_rate_init=0.0005, mlpclassifier__solver=adam;, score=0.678 total time=  18.2s\n",
      "[CV 3/3; 40/180] START mlpclassifier__activation=relu, mlpclassifier__alpha=0.00031622776601683794, mlpclassifier__hidden_layer_sizes=(128, 64), mlpclassifier__learning_rate=adaptive, mlpclassifier__learning_rate_init=0.0005, mlpclassifier__solver=adam\n"
     ]
    },
    {
     "name": "stderr",
     "output_type": "stream",
     "text": [
      "/opt/anaconda3/lib/python3.12/site-packages/sklearn/neural_network/_multilayer_perceptron.py:690: ConvergenceWarning: Stochastic Optimizer: Maximum iterations (500) reached and the optimization hasn't converged yet.\n",
      "  warnings.warn(\n"
     ]
    },
    {
     "name": "stdout",
     "output_type": "stream",
     "text": [
      "[CV 2/3; 37/180] END mlpclassifier__activation=relu, mlpclassifier__alpha=0.00031622776601683794, mlpclassifier__hidden_layer_sizes=(128, 64), mlpclassifier__learning_rate=constant, mlpclassifier__learning_rate_init=0.0005, mlpclassifier__solver=adam;, score=0.697 total time=  18.2s\n",
      "[CV 1/3; 41/180] START mlpclassifier__activation=relu, mlpclassifier__alpha=0.00031622776601683794, mlpclassifier__hidden_layer_sizes=(128, 64), mlpclassifier__learning_rate=adaptive, mlpclassifier__learning_rate_init=0.001, mlpclassifier__solver=adam\n"
     ]
    },
    {
     "name": "stderr",
     "output_type": "stream",
     "text": [
      "/opt/anaconda3/lib/python3.12/site-packages/sklearn/neural_network/_multilayer_perceptron.py:690: ConvergenceWarning: Stochastic Optimizer: Maximum iterations (500) reached and the optimization hasn't converged yet.\n",
      "  warnings.warn(\n"
     ]
    },
    {
     "name": "stdout",
     "output_type": "stream",
     "text": [
      "[CV 3/3; 37/180] END mlpclassifier__activation=relu, mlpclassifier__alpha=0.00031622776601683794, mlpclassifier__hidden_layer_sizes=(128, 64), mlpclassifier__learning_rate=constant, mlpclassifier__learning_rate_init=0.0005, mlpclassifier__solver=adam;, score=0.737 total time=  18.0s\n",
      "[CV 2/3; 41/180] START mlpclassifier__activation=relu, mlpclassifier__alpha=0.00031622776601683794, mlpclassifier__hidden_layer_sizes=(128, 64), mlpclassifier__learning_rate=adaptive, mlpclassifier__learning_rate_init=0.001, mlpclassifier__solver=adam\n"
     ]
    },
    {
     "name": "stderr",
     "output_type": "stream",
     "text": [
      "/opt/anaconda3/lib/python3.12/site-packages/sklearn/neural_network/_multilayer_perceptron.py:690: ConvergenceWarning: Stochastic Optimizer: Maximum iterations (500) reached and the optimization hasn't converged yet.\n",
      "  warnings.warn(\n"
     ]
    },
    {
     "name": "stdout",
     "output_type": "stream",
     "text": [
      "[CV 1/3; 38/180] END mlpclassifier__activation=relu, mlpclassifier__alpha=0.00031622776601683794, mlpclassifier__hidden_layer_sizes=(128, 64), mlpclassifier__learning_rate=constant, mlpclassifier__learning_rate_init=0.001, mlpclassifier__solver=adam;, score=0.696 total time=  18.3s\n",
      "[CV 3/3; 41/180] START mlpclassifier__activation=relu, mlpclassifier__alpha=0.00031622776601683794, mlpclassifier__hidden_layer_sizes=(128, 64), mlpclassifier__learning_rate=adaptive, mlpclassifier__learning_rate_init=0.001, mlpclassifier__solver=adam\n"
     ]
    },
    {
     "name": "stderr",
     "output_type": "stream",
     "text": [
      "/opt/anaconda3/lib/python3.12/site-packages/sklearn/neural_network/_multilayer_perceptron.py:690: ConvergenceWarning: Stochastic Optimizer: Maximum iterations (500) reached and the optimization hasn't converged yet.\n",
      "  warnings.warn(\n"
     ]
    },
    {
     "name": "stdout",
     "output_type": "stream",
     "text": [
      "[CV 2/3; 38/180] END mlpclassifier__activation=relu, mlpclassifier__alpha=0.00031622776601683794, mlpclassifier__hidden_layer_sizes=(128, 64), mlpclassifier__learning_rate=constant, mlpclassifier__learning_rate_init=0.001, mlpclassifier__solver=adam;, score=0.686 total time=  18.4s\n",
      "[CV 1/3; 42/180] START mlpclassifier__activation=relu, mlpclassifier__alpha=0.00031622776601683794, mlpclassifier__hidden_layer_sizes=(128, 64), mlpclassifier__learning_rate=adaptive, mlpclassifier__learning_rate_init=0.005, mlpclassifier__solver=adam\n",
      "[CV 3/3; 38/180] END mlpclassifier__activation=relu, mlpclassifier__alpha=0.00031622776601683794, mlpclassifier__hidden_layer_sizes=(128, 64), mlpclassifier__learning_rate=constant, mlpclassifier__learning_rate_init=0.001, mlpclassifier__solver=adam;, score=0.745 total time=  17.5s\n",
      "[CV 2/3; 42/180] START mlpclassifier__activation=relu, mlpclassifier__alpha=0.00031622776601683794, mlpclassifier__hidden_layer_sizes=(128, 64), mlpclassifier__learning_rate=adaptive, mlpclassifier__learning_rate_init=0.005, mlpclassifier__solver=adam\n",
      "[CV 1/3; 42/180] END mlpclassifier__activation=relu, mlpclassifier__alpha=0.00031622776601683794, mlpclassifier__hidden_layer_sizes=(128, 64), mlpclassifier__learning_rate=adaptive, mlpclassifier__learning_rate_init=0.005, mlpclassifier__solver=adam;, score=0.675 total time=   4.2s\n",
      "[CV 3/3; 42/180] START mlpclassifier__activation=relu, mlpclassifier__alpha=0.00031622776601683794, mlpclassifier__hidden_layer_sizes=(128, 64), mlpclassifier__learning_rate=adaptive, mlpclassifier__learning_rate_init=0.005, mlpclassifier__solver=adam\n",
      "[CV 2/3; 42/180] END mlpclassifier__activation=relu, mlpclassifier__alpha=0.00031622776601683794, mlpclassifier__hidden_layer_sizes=(128, 64), mlpclassifier__learning_rate=adaptive, mlpclassifier__learning_rate_init=0.005, mlpclassifier__solver=adam;, score=0.667 total time=   4.5s\n",
      "[CV 1/3; 43/180] START mlpclassifier__activation=relu, mlpclassifier__alpha=0.00031622776601683794, mlpclassifier__hidden_layer_sizes=(100, 50), mlpclassifier__learning_rate=constant, mlpclassifier__learning_rate_init=0.0005, mlpclassifier__solver=adam\n"
     ]
    },
    {
     "name": "stderr",
     "output_type": "stream",
     "text": [
      "/opt/anaconda3/lib/python3.12/site-packages/sklearn/neural_network/_multilayer_perceptron.py:690: ConvergenceWarning: Stochastic Optimizer: Maximum iterations (500) reached and the optimization hasn't converged yet.\n",
      "  warnings.warn(\n"
     ]
    },
    {
     "name": "stdout",
     "output_type": "stream",
     "text": [
      "[CV 1/3; 40/180] END mlpclassifier__activation=relu, mlpclassifier__alpha=0.00031622776601683794, mlpclassifier__hidden_layer_sizes=(128, 64), mlpclassifier__learning_rate=adaptive, mlpclassifier__learning_rate_init=0.0005, mlpclassifier__solver=adam;, score=0.678 total time=  18.3s\n",
      "[CV 2/3; 43/180] START mlpclassifier__activation=relu, mlpclassifier__alpha=0.00031622776601683794, mlpclassifier__hidden_layer_sizes=(100, 50), mlpclassifier__learning_rate=constant, mlpclassifier__learning_rate_init=0.0005, mlpclassifier__solver=adam\n",
      "[CV 3/3; 42/180] END mlpclassifier__activation=relu, mlpclassifier__alpha=0.00031622776601683794, mlpclassifier__hidden_layer_sizes=(128, 64), mlpclassifier__learning_rate=adaptive, mlpclassifier__learning_rate_init=0.005, mlpclassifier__solver=adam;, score=0.749 total time=   5.1s\n",
      "[CV 3/3; 43/180] START mlpclassifier__activation=relu, mlpclassifier__alpha=0.00031622776601683794, mlpclassifier__hidden_layer_sizes=(100, 50), mlpclassifier__learning_rate=constant, mlpclassifier__learning_rate_init=0.0005, mlpclassifier__solver=adam\n"
     ]
    },
    {
     "name": "stderr",
     "output_type": "stream",
     "text": [
      "/opt/anaconda3/lib/python3.12/site-packages/sklearn/neural_network/_multilayer_perceptron.py:690: ConvergenceWarning: Stochastic Optimizer: Maximum iterations (500) reached and the optimization hasn't converged yet.\n",
      "  warnings.warn(\n"
     ]
    },
    {
     "name": "stdout",
     "output_type": "stream",
     "text": [
      "[CV 2/3; 40/180] END mlpclassifier__activation=relu, mlpclassifier__alpha=0.00031622776601683794, mlpclassifier__hidden_layer_sizes=(128, 64), mlpclassifier__learning_rate=adaptive, mlpclassifier__learning_rate_init=0.0005, mlpclassifier__solver=adam;, score=0.697 total time=  18.4s\n",
      "[CV 1/3; 44/180] START mlpclassifier__activation=relu, mlpclassifier__alpha=0.00031622776601683794, mlpclassifier__hidden_layer_sizes=(100, 50), mlpclassifier__learning_rate=constant, mlpclassifier__learning_rate_init=0.001, mlpclassifier__solver=adam\n"
     ]
    },
    {
     "name": "stderr",
     "output_type": "stream",
     "text": [
      "/opt/anaconda3/lib/python3.12/site-packages/sklearn/neural_network/_multilayer_perceptron.py:690: ConvergenceWarning: Stochastic Optimizer: Maximum iterations (500) reached and the optimization hasn't converged yet.\n",
      "  warnings.warn(\n"
     ]
    },
    {
     "name": "stdout",
     "output_type": "stream",
     "text": [
      "[CV 3/3; 40/180] END mlpclassifier__activation=relu, mlpclassifier__alpha=0.00031622776601683794, mlpclassifier__hidden_layer_sizes=(128, 64), mlpclassifier__learning_rate=adaptive, mlpclassifier__learning_rate_init=0.0005, mlpclassifier__solver=adam;, score=0.737 total time=  18.2s\n",
      "[CV 2/3; 44/180] START mlpclassifier__activation=relu, mlpclassifier__alpha=0.00031622776601683794, mlpclassifier__hidden_layer_sizes=(100, 50), mlpclassifier__learning_rate=constant, mlpclassifier__learning_rate_init=0.001, mlpclassifier__solver=adam\n"
     ]
    },
    {
     "name": "stderr",
     "output_type": "stream",
     "text": [
      "/opt/anaconda3/lib/python3.12/site-packages/sklearn/neural_network/_multilayer_perceptron.py:690: ConvergenceWarning: Stochastic Optimizer: Maximum iterations (500) reached and the optimization hasn't converged yet.\n",
      "  warnings.warn(\n"
     ]
    },
    {
     "name": "stdout",
     "output_type": "stream",
     "text": [
      "[CV 1/3; 41/180] END mlpclassifier__activation=relu, mlpclassifier__alpha=0.00031622776601683794, mlpclassifier__hidden_layer_sizes=(128, 64), mlpclassifier__learning_rate=adaptive, mlpclassifier__learning_rate_init=0.001, mlpclassifier__solver=adam;, score=0.696 total time=  18.6s\n",
      "[CV 3/3; 44/180] START mlpclassifier__activation=relu, mlpclassifier__alpha=0.00031622776601683794, mlpclassifier__hidden_layer_sizes=(100, 50), mlpclassifier__learning_rate=constant, mlpclassifier__learning_rate_init=0.001, mlpclassifier__solver=adam\n"
     ]
    },
    {
     "name": "stderr",
     "output_type": "stream",
     "text": [
      "/opt/anaconda3/lib/python3.12/site-packages/sklearn/neural_network/_multilayer_perceptron.py:690: ConvergenceWarning: Stochastic Optimizer: Maximum iterations (500) reached and the optimization hasn't converged yet.\n",
      "  warnings.warn(\n"
     ]
    },
    {
     "name": "stdout",
     "output_type": "stream",
     "text": [
      "[CV 2/3; 41/180] END mlpclassifier__activation=relu, mlpclassifier__alpha=0.00031622776601683794, mlpclassifier__hidden_layer_sizes=(128, 64), mlpclassifier__learning_rate=adaptive, mlpclassifier__learning_rate_init=0.001, mlpclassifier__solver=adam;, score=0.686 total time=  18.7s\n",
      "[CV 1/3; 45/180] START mlpclassifier__activation=relu, mlpclassifier__alpha=0.00031622776601683794, mlpclassifier__hidden_layer_sizes=(100, 50), mlpclassifier__learning_rate=constant, mlpclassifier__learning_rate_init=0.005, mlpclassifier__solver=adam\n",
      "[CV 3/3; 41/180] END mlpclassifier__activation=relu, mlpclassifier__alpha=0.00031622776601683794, mlpclassifier__hidden_layer_sizes=(128, 64), mlpclassifier__learning_rate=adaptive, mlpclassifier__learning_rate_init=0.001, mlpclassifier__solver=adam;, score=0.745 total time=  17.9s\n",
      "[CV 2/3; 45/180] START mlpclassifier__activation=relu, mlpclassifier__alpha=0.00031622776601683794, mlpclassifier__hidden_layer_sizes=(100, 50), mlpclassifier__learning_rate=constant, mlpclassifier__learning_rate_init=0.005, mlpclassifier__solver=adam\n",
      "[CV 1/3; 45/180] END mlpclassifier__activation=relu, mlpclassifier__alpha=0.00031622776601683794, mlpclassifier__hidden_layer_sizes=(100, 50), mlpclassifier__learning_rate=constant, mlpclassifier__learning_rate_init=0.005, mlpclassifier__solver=adam;, score=0.677 total time=   3.1s\n",
      "[CV 3/3; 45/180] START mlpclassifier__activation=relu, mlpclassifier__alpha=0.00031622776601683794, mlpclassifier__hidden_layer_sizes=(100, 50), mlpclassifier__learning_rate=constant, mlpclassifier__learning_rate_init=0.005, mlpclassifier__solver=adam\n"
     ]
    },
    {
     "name": "stderr",
     "output_type": "stream",
     "text": [
      "/opt/anaconda3/lib/python3.12/site-packages/sklearn/neural_network/_multilayer_perceptron.py:690: ConvergenceWarning: Stochastic Optimizer: Maximum iterations (500) reached and the optimization hasn't converged yet.\n",
      "  warnings.warn(\n"
     ]
    },
    {
     "name": "stdout",
     "output_type": "stream",
     "text": [
      "[CV 1/3; 43/180] END mlpclassifier__activation=relu, mlpclassifier__alpha=0.00031622776601683794, mlpclassifier__hidden_layer_sizes=(100, 50), mlpclassifier__learning_rate=constant, mlpclassifier__learning_rate_init=0.0005, mlpclassifier__solver=adam;, score=0.666 total time=  14.0s\n",
      "[CV 1/3; 46/180] START mlpclassifier__activation=relu, mlpclassifier__alpha=0.00031622776601683794, mlpclassifier__hidden_layer_sizes=(100, 50), mlpclassifier__learning_rate=adaptive, mlpclassifier__learning_rate_init=0.0005, mlpclassifier__solver=adam\n",
      "[CV 2/3; 45/180] END mlpclassifier__activation=relu, mlpclassifier__alpha=0.00031622776601683794, mlpclassifier__hidden_layer_sizes=(100, 50), mlpclassifier__learning_rate=constant, mlpclassifier__learning_rate_init=0.005, mlpclassifier__solver=adam;, score=0.685 total time=   4.9s\n",
      "[CV 2/3; 46/180] START mlpclassifier__activation=relu, mlpclassifier__alpha=0.00031622776601683794, mlpclassifier__hidden_layer_sizes=(100, 50), mlpclassifier__learning_rate=adaptive, mlpclassifier__learning_rate_init=0.0005, mlpclassifier__solver=adam\n",
      "[CV 3/3; 45/180] END mlpclassifier__activation=relu, mlpclassifier__alpha=0.00031622776601683794, mlpclassifier__hidden_layer_sizes=(100, 50), mlpclassifier__learning_rate=constant, mlpclassifier__learning_rate_init=0.005, mlpclassifier__solver=adam;, score=0.735 total time=   3.7s\n",
      "[CV 3/3; 46/180] START mlpclassifier__activation=relu, mlpclassifier__alpha=0.00031622776601683794, mlpclassifier__hidden_layer_sizes=(100, 50), mlpclassifier__learning_rate=adaptive, mlpclassifier__learning_rate_init=0.0005, mlpclassifier__solver=adam\n"
     ]
    },
    {
     "name": "stderr",
     "output_type": "stream",
     "text": [
      "/opt/anaconda3/lib/python3.12/site-packages/sklearn/neural_network/_multilayer_perceptron.py:690: ConvergenceWarning: Stochastic Optimizer: Maximum iterations (500) reached and the optimization hasn't converged yet.\n",
      "  warnings.warn(\n"
     ]
    },
    {
     "name": "stdout",
     "output_type": "stream",
     "text": [
      "[CV 2/3; 43/180] END mlpclassifier__activation=relu, mlpclassifier__alpha=0.00031622776601683794, mlpclassifier__hidden_layer_sizes=(100, 50), mlpclassifier__learning_rate=constant, mlpclassifier__learning_rate_init=0.0005, mlpclassifier__solver=adam;, score=0.677 total time=  14.6s\n",
      "[CV 1/3; 47/180] START mlpclassifier__activation=relu, mlpclassifier__alpha=0.00031622776601683794, mlpclassifier__hidden_layer_sizes=(100, 50), mlpclassifier__learning_rate=adaptive, mlpclassifier__learning_rate_init=0.001, mlpclassifier__solver=adam\n",
      "[CV 1/3; 44/180] END mlpclassifier__activation=relu, mlpclassifier__alpha=0.00031622776601683794, mlpclassifier__hidden_layer_sizes=(100, 50), mlpclassifier__learning_rate=constant, mlpclassifier__learning_rate_init=0.001, mlpclassifier__solver=adam;, score=0.663 total time=  12.9s\n",
      "[CV 2/3; 47/180] START mlpclassifier__activation=relu, mlpclassifier__alpha=0.00031622776601683794, mlpclassifier__hidden_layer_sizes=(100, 50), mlpclassifier__learning_rate=adaptive, mlpclassifier__learning_rate_init=0.001, mlpclassifier__solver=adam\n"
     ]
    },
    {
     "name": "stderr",
     "output_type": "stream",
     "text": [
      "/opt/anaconda3/lib/python3.12/site-packages/sklearn/neural_network/_multilayer_perceptron.py:690: ConvergenceWarning: Stochastic Optimizer: Maximum iterations (500) reached and the optimization hasn't converged yet.\n",
      "  warnings.warn(\n"
     ]
    },
    {
     "name": "stdout",
     "output_type": "stream",
     "text": [
      "[CV 3/3; 43/180] END mlpclassifier__activation=relu, mlpclassifier__alpha=0.00031622776601683794, mlpclassifier__hidden_layer_sizes=(100, 50), mlpclassifier__learning_rate=constant, mlpclassifier__learning_rate_init=0.0005, mlpclassifier__solver=adam;, score=0.718 total time=  14.5s\n",
      "[CV 3/3; 47/180] START mlpclassifier__activation=relu, mlpclassifier__alpha=0.00031622776601683794, mlpclassifier__hidden_layer_sizes=(100, 50), mlpclassifier__learning_rate=adaptive, mlpclassifier__learning_rate_init=0.001, mlpclassifier__solver=adam\n"
     ]
    },
    {
     "name": "stderr",
     "output_type": "stream",
     "text": [
      "/opt/anaconda3/lib/python3.12/site-packages/sklearn/neural_network/_multilayer_perceptron.py:690: ConvergenceWarning: Stochastic Optimizer: Maximum iterations (500) reached and the optimization hasn't converged yet.\n",
      "  warnings.warn(\n"
     ]
    },
    {
     "name": "stdout",
     "output_type": "stream",
     "text": [
      "[CV 2/3; 44/180] END mlpclassifier__activation=relu, mlpclassifier__alpha=0.00031622776601683794, mlpclassifier__hidden_layer_sizes=(100, 50), mlpclassifier__learning_rate=constant, mlpclassifier__learning_rate_init=0.001, mlpclassifier__solver=adam;, score=0.682 total time=  14.4s\n",
      "[CV 1/3; 48/180] START mlpclassifier__activation=relu, mlpclassifier__alpha=0.00031622776601683794, mlpclassifier__hidden_layer_sizes=(100, 50), mlpclassifier__learning_rate=adaptive, mlpclassifier__learning_rate_init=0.005, mlpclassifier__solver=adam\n"
     ]
    },
    {
     "name": "stderr",
     "output_type": "stream",
     "text": [
      "/opt/anaconda3/lib/python3.12/site-packages/sklearn/neural_network/_multilayer_perceptron.py:690: ConvergenceWarning: Stochastic Optimizer: Maximum iterations (500) reached and the optimization hasn't converged yet.\n",
      "  warnings.warn(\n"
     ]
    },
    {
     "name": "stdout",
     "output_type": "stream",
     "text": [
      "[CV 3/3; 44/180] END mlpclassifier__activation=relu, mlpclassifier__alpha=0.00031622776601683794, mlpclassifier__hidden_layer_sizes=(100, 50), mlpclassifier__learning_rate=constant, mlpclassifier__learning_rate_init=0.001, mlpclassifier__solver=adam;, score=0.717 total time=  14.3s\n",
      "[CV 2/3; 48/180] START mlpclassifier__activation=relu, mlpclassifier__alpha=0.00031622776601683794, mlpclassifier__hidden_layer_sizes=(100, 50), mlpclassifier__learning_rate=adaptive, mlpclassifier__learning_rate_init=0.005, mlpclassifier__solver=adam\n",
      "[CV 1/3; 48/180] END mlpclassifier__activation=relu, mlpclassifier__alpha=0.00031622776601683794, mlpclassifier__hidden_layer_sizes=(100, 50), mlpclassifier__learning_rate=adaptive, mlpclassifier__learning_rate_init=0.005, mlpclassifier__solver=adam;, score=0.677 total time=   3.1s\n",
      "[CV 3/3; 48/180] START mlpclassifier__activation=relu, mlpclassifier__alpha=0.00031622776601683794, mlpclassifier__hidden_layer_sizes=(100, 50), mlpclassifier__learning_rate=adaptive, mlpclassifier__learning_rate_init=0.005, mlpclassifier__solver=adam\n"
     ]
    },
    {
     "name": "stderr",
     "output_type": "stream",
     "text": [
      "/opt/anaconda3/lib/python3.12/site-packages/sklearn/neural_network/_multilayer_perceptron.py:690: ConvergenceWarning: Stochastic Optimizer: Maximum iterations (500) reached and the optimization hasn't converged yet.\n",
      "  warnings.warn(\n"
     ]
    },
    {
     "name": "stdout",
     "output_type": "stream",
     "text": [
      "[CV 1/3; 46/180] END mlpclassifier__activation=relu, mlpclassifier__alpha=0.00031622776601683794, mlpclassifier__hidden_layer_sizes=(100, 50), mlpclassifier__learning_rate=adaptive, mlpclassifier__learning_rate_init=0.0005, mlpclassifier__solver=adam;, score=0.666 total time=  14.3s\n",
      "[CV 1/3; 49/180] START mlpclassifier__activation=relu, mlpclassifier__alpha=0.00031622776601683794, mlpclassifier__hidden_layer_sizes=(128, 64, 32), mlpclassifier__learning_rate=constant, mlpclassifier__learning_rate_init=0.0005, mlpclassifier__solver=adam\n",
      "[CV 3/3; 48/180] END mlpclassifier__activation=relu, mlpclassifier__alpha=0.00031622776601683794, mlpclassifier__hidden_layer_sizes=(100, 50), mlpclassifier__learning_rate=adaptive, mlpclassifier__learning_rate_init=0.005, mlpclassifier__solver=adam;, score=0.735 total time=   3.4s\n",
      "[CV 2/3; 49/180] START mlpclassifier__activation=relu, mlpclassifier__alpha=0.00031622776601683794, mlpclassifier__hidden_layer_sizes=(128, 64, 32), mlpclassifier__learning_rate=constant, mlpclassifier__learning_rate_init=0.0005, mlpclassifier__solver=adam\n",
      "[CV 2/3; 48/180] END mlpclassifier__activation=relu, mlpclassifier__alpha=0.00031622776601683794, mlpclassifier__hidden_layer_sizes=(100, 50), mlpclassifier__learning_rate=adaptive, mlpclassifier__learning_rate_init=0.005, mlpclassifier__solver=adam;, score=0.685 total time=   4.6s\n",
      "[CV 3/3; 49/180] START mlpclassifier__activation=relu, mlpclassifier__alpha=0.00031622776601683794, mlpclassifier__hidden_layer_sizes=(128, 64, 32), mlpclassifier__learning_rate=constant, mlpclassifier__learning_rate_init=0.0005, mlpclassifier__solver=adam\n"
     ]
    },
    {
     "name": "stderr",
     "output_type": "stream",
     "text": [
      "/opt/anaconda3/lib/python3.12/site-packages/sklearn/neural_network/_multilayer_perceptron.py:690: ConvergenceWarning: Stochastic Optimizer: Maximum iterations (500) reached and the optimization hasn't converged yet.\n",
      "  warnings.warn(\n"
     ]
    },
    {
     "name": "stdout",
     "output_type": "stream",
     "text": [
      "[CV 2/3; 46/180] END mlpclassifier__activation=relu, mlpclassifier__alpha=0.00031622776601683794, mlpclassifier__hidden_layer_sizes=(100, 50), mlpclassifier__learning_rate=adaptive, mlpclassifier__learning_rate_init=0.0005, mlpclassifier__solver=adam;, score=0.677 total time=  14.2s\n",
      "[CV 1/3; 50/180] START mlpclassifier__activation=relu, mlpclassifier__alpha=0.00031622776601683794, mlpclassifier__hidden_layer_sizes=(128, 64, 32), mlpclassifier__learning_rate=constant, mlpclassifier__learning_rate_init=0.001, mlpclassifier__solver=adam\n",
      "[CV 1/3; 47/180] END mlpclassifier__activation=relu, mlpclassifier__alpha=0.00031622776601683794, mlpclassifier__hidden_layer_sizes=(100, 50), mlpclassifier__learning_rate=adaptive, mlpclassifier__learning_rate_init=0.001, mlpclassifier__solver=adam;, score=0.663 total time=  12.5s\n",
      "[CV 2/3; 50/180] START mlpclassifier__activation=relu, mlpclassifier__alpha=0.00031622776601683794, mlpclassifier__hidden_layer_sizes=(128, 64, 32), mlpclassifier__learning_rate=constant, mlpclassifier__learning_rate_init=0.001, mlpclassifier__solver=adam\n"
     ]
    },
    {
     "name": "stderr",
     "output_type": "stream",
     "text": [
      "/opt/anaconda3/lib/python3.12/site-packages/sklearn/neural_network/_multilayer_perceptron.py:690: ConvergenceWarning: Stochastic Optimizer: Maximum iterations (500) reached and the optimization hasn't converged yet.\n",
      "  warnings.warn(\n"
     ]
    },
    {
     "name": "stdout",
     "output_type": "stream",
     "text": [
      "[CV 3/3; 46/180] END mlpclassifier__activation=relu, mlpclassifier__alpha=0.00031622776601683794, mlpclassifier__hidden_layer_sizes=(100, 50), mlpclassifier__learning_rate=adaptive, mlpclassifier__learning_rate_init=0.0005, mlpclassifier__solver=adam;, score=0.718 total time=  14.2s\n",
      "[CV 3/3; 50/180] START mlpclassifier__activation=relu, mlpclassifier__alpha=0.00031622776601683794, mlpclassifier__hidden_layer_sizes=(128, 64, 32), mlpclassifier__learning_rate=constant, mlpclassifier__learning_rate_init=0.001, mlpclassifier__solver=adam\n"
     ]
    },
    {
     "name": "stderr",
     "output_type": "stream",
     "text": [
      "/opt/anaconda3/lib/python3.12/site-packages/sklearn/neural_network/_multilayer_perceptron.py:690: ConvergenceWarning: Stochastic Optimizer: Maximum iterations (500) reached and the optimization hasn't converged yet.\n",
      "  warnings.warn(\n",
      "/opt/anaconda3/lib/python3.12/site-packages/sklearn/neural_network/_multilayer_perceptron.py:690: ConvergenceWarning: Stochastic Optimizer: Maximum iterations (500) reached and the optimization hasn't converged yet.\n",
      "  warnings.warn(\n"
     ]
    },
    {
     "name": "stdout",
     "output_type": "stream",
     "text": [
      "[CV 2/3; 47/180] END mlpclassifier__activation=relu, mlpclassifier__alpha=0.00031622776601683794, mlpclassifier__hidden_layer_sizes=(100, 50), mlpclassifier__learning_rate=adaptive, mlpclassifier__learning_rate_init=0.001, mlpclassifier__solver=adam;, score=0.682 total time=  14.2s\n",
      "[CV 1/3; 51/180] START mlpclassifier__activation=relu, mlpclassifier__alpha=0.00031622776601683794, mlpclassifier__hidden_layer_sizes=(128, 64, 32), mlpclassifier__learning_rate=constant, mlpclassifier__learning_rate_init=0.005, mlpclassifier__solver=adam\n",
      "[CV 3/3; 47/180] END mlpclassifier__activation=relu, mlpclassifier__alpha=0.00031622776601683794, mlpclassifier__hidden_layer_sizes=(100, 50), mlpclassifier__learning_rate=adaptive, mlpclassifier__learning_rate_init=0.001, mlpclassifier__solver=adam;, score=0.717 total time=  13.8s\n",
      "[CV 2/3; 51/180] START mlpclassifier__activation=relu, mlpclassifier__alpha=0.00031622776601683794, mlpclassifier__hidden_layer_sizes=(128, 64, 32), mlpclassifier__learning_rate=constant, mlpclassifier__learning_rate_init=0.005, mlpclassifier__solver=adam\n",
      "[CV 1/3; 51/180] END mlpclassifier__activation=relu, mlpclassifier__alpha=0.00031622776601683794, mlpclassifier__hidden_layer_sizes=(128, 64, 32), mlpclassifier__learning_rate=constant, mlpclassifier__learning_rate_init=0.005, mlpclassifier__solver=adam;, score=0.668 total time=   4.4s\n",
      "[CV 3/3; 51/180] START mlpclassifier__activation=relu, mlpclassifier__alpha=0.00031622776601683794, mlpclassifier__hidden_layer_sizes=(128, 64, 32), mlpclassifier__learning_rate=constant, mlpclassifier__learning_rate_init=0.005, mlpclassifier__solver=adam\n",
      "[CV 2/3; 51/180] END mlpclassifier__activation=relu, mlpclassifier__alpha=0.00031622776601683794, mlpclassifier__hidden_layer_sizes=(128, 64, 32), mlpclassifier__learning_rate=constant, mlpclassifier__learning_rate_init=0.005, mlpclassifier__solver=adam;, score=0.694 total time=   4.6s\n",
      "[CV 1/3; 52/180] START mlpclassifier__activation=relu, mlpclassifier__alpha=0.00031622776601683794, mlpclassifier__hidden_layer_sizes=(128, 64, 32), mlpclassifier__learning_rate=adaptive, mlpclassifier__learning_rate_init=0.0005, mlpclassifier__solver=adam\n",
      "[CV 1/3; 50/180] END mlpclassifier__activation=relu, mlpclassifier__alpha=0.00031622776601683794, mlpclassifier__hidden_layer_sizes=(128, 64, 32), mlpclassifier__learning_rate=constant, mlpclassifier__learning_rate_init=0.001, mlpclassifier__solver=adam;, score=0.682 total time=   9.5s\n",
      "[CV 2/3; 52/180] START mlpclassifier__activation=relu, mlpclassifier__alpha=0.00031622776601683794, mlpclassifier__hidden_layer_sizes=(128, 64, 32), mlpclassifier__learning_rate=adaptive, mlpclassifier__learning_rate_init=0.0005, mlpclassifier__solver=adam\n",
      "[CV 2/3; 50/180] END mlpclassifier__activation=relu, mlpclassifier__alpha=0.00031622776601683794, mlpclassifier__hidden_layer_sizes=(128, 64, 32), mlpclassifier__learning_rate=constant, mlpclassifier__learning_rate_init=0.001, mlpclassifier__solver=adam;, score=0.686 total time=   9.3s\n",
      "[CV 3/3; 52/180] START mlpclassifier__activation=relu, mlpclassifier__alpha=0.00031622776601683794, mlpclassifier__hidden_layer_sizes=(128, 64, 32), mlpclassifier__learning_rate=adaptive, mlpclassifier__learning_rate_init=0.0005, mlpclassifier__solver=adam\n",
      "[CV 3/3; 51/180] END mlpclassifier__activation=relu, mlpclassifier__alpha=0.00031622776601683794, mlpclassifier__hidden_layer_sizes=(128, 64, 32), mlpclassifier__learning_rate=constant, mlpclassifier__learning_rate_init=0.005, mlpclassifier__solver=adam;, score=0.720 total time=   4.0s\n",
      "[CV 1/3; 53/180] START mlpclassifier__activation=relu, mlpclassifier__alpha=0.00031622776601683794, mlpclassifier__hidden_layer_sizes=(128, 64, 32), mlpclassifier__learning_rate=adaptive, mlpclassifier__learning_rate_init=0.001, mlpclassifier__solver=adam\n",
      "[CV 2/3; 49/180] END mlpclassifier__activation=relu, mlpclassifier__alpha=0.00031622776601683794, mlpclassifier__hidden_layer_sizes=(128, 64, 32), mlpclassifier__learning_rate=constant, mlpclassifier__learning_rate_init=0.0005, mlpclassifier__solver=adam;, score=0.685 total time=  15.5s\n",
      "[CV 2/3; 53/180] START mlpclassifier__activation=relu, mlpclassifier__alpha=0.00031622776601683794, mlpclassifier__hidden_layer_sizes=(128, 64, 32), mlpclassifier__learning_rate=adaptive, mlpclassifier__learning_rate_init=0.001, mlpclassifier__solver=adam\n",
      "[CV 3/3; 50/180] END mlpclassifier__activation=relu, mlpclassifier__alpha=0.00031622776601683794, mlpclassifier__hidden_layer_sizes=(128, 64, 32), mlpclassifier__learning_rate=constant, mlpclassifier__learning_rate_init=0.001, mlpclassifier__solver=adam;, score=0.732 total time=  13.5s\n",
      "[CV 3/3; 53/180] START mlpclassifier__activation=relu, mlpclassifier__alpha=0.00031622776601683794, mlpclassifier__hidden_layer_sizes=(128, 64, 32), mlpclassifier__learning_rate=adaptive, mlpclassifier__learning_rate_init=0.001, mlpclassifier__solver=adam\n",
      "[CV 1/3; 49/180] END mlpclassifier__activation=relu, mlpclassifier__alpha=0.00031622776601683794, mlpclassifier__hidden_layer_sizes=(128, 64, 32), mlpclassifier__learning_rate=constant, mlpclassifier__learning_rate_init=0.0005, mlpclassifier__solver=adam;, score=0.684 total time=  20.3s\n",
      "[CV 1/3; 54/180] START mlpclassifier__activation=relu, mlpclassifier__alpha=0.00031622776601683794, mlpclassifier__hidden_layer_sizes=(128, 64, 32), mlpclassifier__learning_rate=adaptive, mlpclassifier__learning_rate_init=0.005, mlpclassifier__solver=adam\n",
      "[CV 3/3; 49/180] END mlpclassifier__activation=relu, mlpclassifier__alpha=0.00031622776601683794, mlpclassifier__hidden_layer_sizes=(128, 64, 32), mlpclassifier__learning_rate=constant, mlpclassifier__learning_rate_init=0.0005, mlpclassifier__solver=adam;, score=0.740 total time=  21.4s\n",
      "[CV 2/3; 54/180] START mlpclassifier__activation=relu, mlpclassifier__alpha=0.00031622776601683794, mlpclassifier__hidden_layer_sizes=(128, 64, 32), mlpclassifier__learning_rate=adaptive, mlpclassifier__learning_rate_init=0.005, mlpclassifier__solver=adam\n",
      "[CV 1/3; 53/180] END mlpclassifier__activation=relu, mlpclassifier__alpha=0.00031622776601683794, mlpclassifier__hidden_layer_sizes=(128, 64, 32), mlpclassifier__learning_rate=adaptive, mlpclassifier__learning_rate_init=0.001, mlpclassifier__solver=adam;, score=0.682 total time=   9.9s\n",
      "[CV 3/3; 54/180] START mlpclassifier__activation=relu, mlpclassifier__alpha=0.00031622776601683794, mlpclassifier__hidden_layer_sizes=(128, 64, 32), mlpclassifier__learning_rate=adaptive, mlpclassifier__learning_rate_init=0.005, mlpclassifier__solver=adam\n",
      "[CV 1/3; 54/180] END mlpclassifier__activation=relu, mlpclassifier__alpha=0.00031622776601683794, mlpclassifier__hidden_layer_sizes=(128, 64, 32), mlpclassifier__learning_rate=adaptive, mlpclassifier__learning_rate_init=0.005, mlpclassifier__solver=adam;, score=0.668 total time=   4.4s\n",
      "[CV 1/3; 55/180] START mlpclassifier__activation=relu, mlpclassifier__alpha=0.0017782794100389228, mlpclassifier__hidden_layer_sizes=(128, 64), mlpclassifier__learning_rate=constant, mlpclassifier__learning_rate_init=0.0005, mlpclassifier__solver=adam\n",
      "[CV 2/3; 53/180] END mlpclassifier__activation=relu, mlpclassifier__alpha=0.00031622776601683794, mlpclassifier__hidden_layer_sizes=(128, 64, 32), mlpclassifier__learning_rate=adaptive, mlpclassifier__learning_rate_init=0.001, mlpclassifier__solver=adam;, score=0.686 total time=   9.5s\n",
      "[CV 2/3; 55/180] START mlpclassifier__activation=relu, mlpclassifier__alpha=0.0017782794100389228, mlpclassifier__hidden_layer_sizes=(128, 64), mlpclassifier__learning_rate=constant, mlpclassifier__learning_rate_init=0.0005, mlpclassifier__solver=adam\n",
      "[CV 2/3; 54/180] END mlpclassifier__activation=relu, mlpclassifier__alpha=0.00031622776601683794, mlpclassifier__hidden_layer_sizes=(128, 64, 32), mlpclassifier__learning_rate=adaptive, mlpclassifier__learning_rate_init=0.005, mlpclassifier__solver=adam;, score=0.694 total time=   4.9s\n",
      "[CV 3/3; 55/180] START mlpclassifier__activation=relu, mlpclassifier__alpha=0.0017782794100389228, mlpclassifier__hidden_layer_sizes=(128, 64), mlpclassifier__learning_rate=constant, mlpclassifier__learning_rate_init=0.0005, mlpclassifier__solver=adam\n",
      "[CV 2/3; 52/180] END mlpclassifier__activation=relu, mlpclassifier__alpha=0.00031622776601683794, mlpclassifier__hidden_layer_sizes=(128, 64, 32), mlpclassifier__learning_rate=adaptive, mlpclassifier__learning_rate_init=0.0005, mlpclassifier__solver=adam;, score=0.685 total time=  15.7s\n",
      "[CV 1/3; 56/180] START mlpclassifier__activation=relu, mlpclassifier__alpha=0.0017782794100389228, mlpclassifier__hidden_layer_sizes=(128, 64), mlpclassifier__learning_rate=constant, mlpclassifier__learning_rate_init=0.001, mlpclassifier__solver=adam\n",
      "[CV 3/3; 54/180] END mlpclassifier__activation=relu, mlpclassifier__alpha=0.00031622776601683794, mlpclassifier__hidden_layer_sizes=(128, 64, 32), mlpclassifier__learning_rate=adaptive, mlpclassifier__learning_rate_init=0.005, mlpclassifier__solver=adam;, score=0.720 total time=   4.1s\n",
      "[CV 2/3; 56/180] START mlpclassifier__activation=relu, mlpclassifier__alpha=0.0017782794100389228, mlpclassifier__hidden_layer_sizes=(128, 64), mlpclassifier__learning_rate=constant, mlpclassifier__learning_rate_init=0.001, mlpclassifier__solver=adam\n",
      "[CV 1/3; 52/180] END mlpclassifier__activation=relu, mlpclassifier__alpha=0.00031622776601683794, mlpclassifier__hidden_layer_sizes=(128, 64, 32), mlpclassifier__learning_rate=adaptive, mlpclassifier__learning_rate_init=0.0005, mlpclassifier__solver=adam;, score=0.684 total time=  20.5s\n",
      "[CV 3/3; 56/180] START mlpclassifier__activation=relu, mlpclassifier__alpha=0.0017782794100389228, mlpclassifier__hidden_layer_sizes=(128, 64), mlpclassifier__learning_rate=constant, mlpclassifier__learning_rate_init=0.001, mlpclassifier__solver=adam\n",
      "[CV 3/3; 53/180] END mlpclassifier__activation=relu, mlpclassifier__alpha=0.00031622776601683794, mlpclassifier__hidden_layer_sizes=(128, 64, 32), mlpclassifier__learning_rate=adaptive, mlpclassifier__learning_rate_init=0.001, mlpclassifier__solver=adam;, score=0.732 total time=  13.6s\n",
      "[CV 1/3; 57/180] START mlpclassifier__activation=relu, mlpclassifier__alpha=0.0017782794100389228, mlpclassifier__hidden_layer_sizes=(128, 64), mlpclassifier__learning_rate=constant, mlpclassifier__learning_rate_init=0.005, mlpclassifier__solver=adam\n",
      "[CV 3/3; 52/180] END mlpclassifier__activation=relu, mlpclassifier__alpha=0.00031622776601683794, mlpclassifier__hidden_layer_sizes=(128, 64, 32), mlpclassifier__learning_rate=adaptive, mlpclassifier__learning_rate_init=0.0005, mlpclassifier__solver=adam;, score=0.740 total time=  21.5s\n",
      "[CV 2/3; 57/180] START mlpclassifier__activation=relu, mlpclassifier__alpha=0.0017782794100389228, mlpclassifier__hidden_layer_sizes=(128, 64), mlpclassifier__learning_rate=constant, mlpclassifier__learning_rate_init=0.005, mlpclassifier__solver=adam\n",
      "[CV 1/3; 57/180] END mlpclassifier__activation=relu, mlpclassifier__alpha=0.0017782794100389228, mlpclassifier__hidden_layer_sizes=(128, 64), mlpclassifier__learning_rate=constant, mlpclassifier__learning_rate_init=0.005, mlpclassifier__solver=adam;, score=0.685 total time=   4.4s\n",
      "[CV 3/3; 57/180] START mlpclassifier__activation=relu, mlpclassifier__alpha=0.0017782794100389228, mlpclassifier__hidden_layer_sizes=(128, 64), mlpclassifier__learning_rate=constant, mlpclassifier__learning_rate_init=0.005, mlpclassifier__solver=adam\n",
      "[CV 2/3; 57/180] END mlpclassifier__activation=relu, mlpclassifier__alpha=0.0017782794100389228, mlpclassifier__hidden_layer_sizes=(128, 64), mlpclassifier__learning_rate=constant, mlpclassifier__learning_rate_init=0.005, mlpclassifier__solver=adam;, score=0.696 total time=   5.2s\n",
      "[CV 1/3; 58/180] START mlpclassifier__activation=relu, mlpclassifier__alpha=0.0017782794100389228, mlpclassifier__hidden_layer_sizes=(128, 64), mlpclassifier__learning_rate=adaptive, mlpclassifier__learning_rate_init=0.0005, mlpclassifier__solver=adam\n",
      "[CV 3/3; 57/180] END mlpclassifier__activation=relu, mlpclassifier__alpha=0.0017782794100389228, mlpclassifier__hidden_layer_sizes=(128, 64), mlpclassifier__learning_rate=constant, mlpclassifier__learning_rate_init=0.005, mlpclassifier__solver=adam;, score=0.729 total time=   6.2s\n",
      "[CV 2/3; 58/180] START mlpclassifier__activation=relu, mlpclassifier__alpha=0.0017782794100389228, mlpclassifier__hidden_layer_sizes=(128, 64), mlpclassifier__learning_rate=adaptive, mlpclassifier__learning_rate_init=0.0005, mlpclassifier__solver=adam\n"
     ]
    },
    {
     "name": "stderr",
     "output_type": "stream",
     "text": [
      "/opt/anaconda3/lib/python3.12/site-packages/sklearn/neural_network/_multilayer_perceptron.py:690: ConvergenceWarning: Stochastic Optimizer: Maximum iterations (500) reached and the optimization hasn't converged yet.\n",
      "  warnings.warn(\n"
     ]
    },
    {
     "name": "stdout",
     "output_type": "stream",
     "text": [
      "[CV 1/3; 55/180] END mlpclassifier__activation=relu, mlpclassifier__alpha=0.0017782794100389228, mlpclassifier__hidden_layer_sizes=(128, 64), mlpclassifier__learning_rate=constant, mlpclassifier__learning_rate_init=0.0005, mlpclassifier__solver=adam;, score=0.672 total time=  18.8s\n",
      "[CV 3/3; 58/180] START mlpclassifier__activation=relu, mlpclassifier__alpha=0.0017782794100389228, mlpclassifier__hidden_layer_sizes=(128, 64), mlpclassifier__learning_rate=adaptive, mlpclassifier__learning_rate_init=0.0005, mlpclassifier__solver=adam\n"
     ]
    },
    {
     "name": "stderr",
     "output_type": "stream",
     "text": [
      "/opt/anaconda3/lib/python3.12/site-packages/sklearn/neural_network/_multilayer_perceptron.py:690: ConvergenceWarning: Stochastic Optimizer: Maximum iterations (500) reached and the optimization hasn't converged yet.\n",
      "  warnings.warn(\n"
     ]
    },
    {
     "name": "stdout",
     "output_type": "stream",
     "text": [
      "[CV 2/3; 55/180] END mlpclassifier__activation=relu, mlpclassifier__alpha=0.0017782794100389228, mlpclassifier__hidden_layer_sizes=(128, 64), mlpclassifier__learning_rate=constant, mlpclassifier__learning_rate_init=0.0005, mlpclassifier__solver=adam;, score=0.690 total time=  18.9s\n",
      "[CV 1/3; 59/180] START mlpclassifier__activation=relu, mlpclassifier__alpha=0.0017782794100389228, mlpclassifier__hidden_layer_sizes=(128, 64), mlpclassifier__learning_rate=adaptive, mlpclassifier__learning_rate_init=0.001, mlpclassifier__solver=adam\n",
      "[CV 1/3; 56/180] END mlpclassifier__activation=relu, mlpclassifier__alpha=0.0017782794100389228, mlpclassifier__hidden_layer_sizes=(128, 64), mlpclassifier__learning_rate=constant, mlpclassifier__learning_rate_init=0.001, mlpclassifier__solver=adam;, score=0.676 total time=  17.8s\n",
      "[CV 2/3; 59/180] START mlpclassifier__activation=relu, mlpclassifier__alpha=0.0017782794100389228, mlpclassifier__hidden_layer_sizes=(128, 64), mlpclassifier__learning_rate=adaptive, mlpclassifier__learning_rate_init=0.001, mlpclassifier__solver=adam\n"
     ]
    },
    {
     "name": "stderr",
     "output_type": "stream",
     "text": [
      "/opt/anaconda3/lib/python3.12/site-packages/sklearn/neural_network/_multilayer_perceptron.py:690: ConvergenceWarning: Stochastic Optimizer: Maximum iterations (500) reached and the optimization hasn't converged yet.\n",
      "  warnings.warn(\n"
     ]
    },
    {
     "name": "stdout",
     "output_type": "stream",
     "text": [
      "[CV 3/3; 55/180] END mlpclassifier__activation=relu, mlpclassifier__alpha=0.0017782794100389228, mlpclassifier__hidden_layer_sizes=(128, 64), mlpclassifier__learning_rate=constant, mlpclassifier__learning_rate_init=0.0005, mlpclassifier__solver=adam;, score=0.731 total time=  18.4s\n",
      "[CV 3/3; 59/180] START mlpclassifier__activation=relu, mlpclassifier__alpha=0.0017782794100389228, mlpclassifier__hidden_layer_sizes=(128, 64), mlpclassifier__learning_rate=adaptive, mlpclassifier__learning_rate_init=0.001, mlpclassifier__solver=adam\n",
      "[CV 2/3; 56/180] END mlpclassifier__activation=relu, mlpclassifier__alpha=0.0017782794100389228, mlpclassifier__hidden_layer_sizes=(128, 64), mlpclassifier__learning_rate=constant, mlpclassifier__learning_rate_init=0.001, mlpclassifier__solver=adam;, score=0.697 total time=  18.1s\n",
      "[CV 1/3; 60/180] START mlpclassifier__activation=relu, mlpclassifier__alpha=0.0017782794100389228, mlpclassifier__hidden_layer_sizes=(128, 64), mlpclassifier__learning_rate=adaptive, mlpclassifier__learning_rate_init=0.005, mlpclassifier__solver=adam\n",
      "[CV 3/3; 56/180] END mlpclassifier__activation=relu, mlpclassifier__alpha=0.0017782794100389228, mlpclassifier__hidden_layer_sizes=(128, 64), mlpclassifier__learning_rate=constant, mlpclassifier__learning_rate_init=0.001, mlpclassifier__solver=adam;, score=0.743 total time=  16.5s\n",
      "[CV 2/3; 60/180] START mlpclassifier__activation=relu, mlpclassifier__alpha=0.0017782794100389228, mlpclassifier__hidden_layer_sizes=(128, 64), mlpclassifier__learning_rate=adaptive, mlpclassifier__learning_rate_init=0.005, mlpclassifier__solver=adam\n",
      "[CV 1/3; 60/180] END mlpclassifier__activation=relu, mlpclassifier__alpha=0.0017782794100389228, mlpclassifier__hidden_layer_sizes=(128, 64), mlpclassifier__learning_rate=adaptive, mlpclassifier__learning_rate_init=0.005, mlpclassifier__solver=adam;, score=0.685 total time=   4.7s\n",
      "[CV 3/3; 60/180] START mlpclassifier__activation=relu, mlpclassifier__alpha=0.0017782794100389228, mlpclassifier__hidden_layer_sizes=(128, 64), mlpclassifier__learning_rate=adaptive, mlpclassifier__learning_rate_init=0.005, mlpclassifier__solver=adam\n",
      "[CV 2/3; 60/180] END mlpclassifier__activation=relu, mlpclassifier__alpha=0.0017782794100389228, mlpclassifier__hidden_layer_sizes=(128, 64), mlpclassifier__learning_rate=adaptive, mlpclassifier__learning_rate_init=0.005, mlpclassifier__solver=adam;, score=0.696 total time=   5.6s\n",
      "[CV 1/3; 61/180] START mlpclassifier__activation=relu, mlpclassifier__alpha=0.0017782794100389228, mlpclassifier__hidden_layer_sizes=(100, 50), mlpclassifier__learning_rate=constant, mlpclassifier__learning_rate_init=0.0005, mlpclassifier__solver=adam\n",
      "[CV 3/3; 60/180] END mlpclassifier__activation=relu, mlpclassifier__alpha=0.0017782794100389228, mlpclassifier__hidden_layer_sizes=(128, 64), mlpclassifier__learning_rate=adaptive, mlpclassifier__learning_rate_init=0.005, mlpclassifier__solver=adam;, score=0.729 total time=   6.6s\n",
      "[CV 2/3; 61/180] START mlpclassifier__activation=relu, mlpclassifier__alpha=0.0017782794100389228, mlpclassifier__hidden_layer_sizes=(100, 50), mlpclassifier__learning_rate=constant, mlpclassifier__learning_rate_init=0.0005, mlpclassifier__solver=adam\n"
     ]
    },
    {
     "name": "stderr",
     "output_type": "stream",
     "text": [
      "/opt/anaconda3/lib/python3.12/site-packages/sklearn/neural_network/_multilayer_perceptron.py:690: ConvergenceWarning: Stochastic Optimizer: Maximum iterations (500) reached and the optimization hasn't converged yet.\n",
      "  warnings.warn(\n"
     ]
    },
    {
     "name": "stdout",
     "output_type": "stream",
     "text": [
      "[CV 1/3; 58/180] END mlpclassifier__activation=relu, mlpclassifier__alpha=0.0017782794100389228, mlpclassifier__hidden_layer_sizes=(128, 64), mlpclassifier__learning_rate=adaptive, mlpclassifier__learning_rate_init=0.0005, mlpclassifier__solver=adam;, score=0.672 total time=  19.4s\n",
      "[CV 3/3; 61/180] START mlpclassifier__activation=relu, mlpclassifier__alpha=0.0017782794100389228, mlpclassifier__hidden_layer_sizes=(100, 50), mlpclassifier__learning_rate=constant, mlpclassifier__learning_rate_init=0.0005, mlpclassifier__solver=adam\n"
     ]
    },
    {
     "name": "stderr",
     "output_type": "stream",
     "text": [
      "/opt/anaconda3/lib/python3.12/site-packages/sklearn/neural_network/_multilayer_perceptron.py:690: ConvergenceWarning: Stochastic Optimizer: Maximum iterations (500) reached and the optimization hasn't converged yet.\n",
      "  warnings.warn(\n"
     ]
    },
    {
     "name": "stdout",
     "output_type": "stream",
     "text": [
      "[CV 2/3; 58/180] END mlpclassifier__activation=relu, mlpclassifier__alpha=0.0017782794100389228, mlpclassifier__hidden_layer_sizes=(128, 64), mlpclassifier__learning_rate=adaptive, mlpclassifier__learning_rate_init=0.0005, mlpclassifier__solver=adam;, score=0.690 total time=  19.3s\n",
      "[CV 1/3; 62/180] START mlpclassifier__activation=relu, mlpclassifier__alpha=0.0017782794100389228, mlpclassifier__hidden_layer_sizes=(100, 50), mlpclassifier__learning_rate=constant, mlpclassifier__learning_rate_init=0.001, mlpclassifier__solver=adam\n",
      "[CV 3/3; 59/180] END mlpclassifier__activation=relu, mlpclassifier__alpha=0.0017782794100389228, mlpclassifier__hidden_layer_sizes=(128, 64), mlpclassifier__learning_rate=adaptive, mlpclassifier__learning_rate_init=0.001, mlpclassifier__solver=adam;, score=0.743 total time=  17.0s\n",
      "[CV 2/3; 62/180] START mlpclassifier__activation=relu, mlpclassifier__alpha=0.0017782794100389228, mlpclassifier__hidden_layer_sizes=(100, 50), mlpclassifier__learning_rate=constant, mlpclassifier__learning_rate_init=0.001, mlpclassifier__solver=adam\n"
     ]
    },
    {
     "name": "stderr",
     "output_type": "stream",
     "text": [
      "/opt/anaconda3/lib/python3.12/site-packages/sklearn/neural_network/_multilayer_perceptron.py:690: ConvergenceWarning: Stochastic Optimizer: Maximum iterations (500) reached and the optimization hasn't converged yet.\n",
      "  warnings.warn(\n"
     ]
    },
    {
     "name": "stdout",
     "output_type": "stream",
     "text": [
      "[CV 3/3; 58/180] END mlpclassifier__activation=relu, mlpclassifier__alpha=0.0017782794100389228, mlpclassifier__hidden_layer_sizes=(128, 64), mlpclassifier__learning_rate=adaptive, mlpclassifier__learning_rate_init=0.0005, mlpclassifier__solver=adam;, score=0.731 total time=  19.2s\n",
      "[CV 3/3; 62/180] START mlpclassifier__activation=relu, mlpclassifier__alpha=0.0017782794100389228, mlpclassifier__hidden_layer_sizes=(100, 50), mlpclassifier__learning_rate=constant, mlpclassifier__learning_rate_init=0.001, mlpclassifier__solver=adam\n",
      "[CV 1/3; 59/180] END mlpclassifier__activation=relu, mlpclassifier__alpha=0.0017782794100389228, mlpclassifier__hidden_layer_sizes=(128, 64), mlpclassifier__learning_rate=adaptive, mlpclassifier__learning_rate_init=0.001, mlpclassifier__solver=adam;, score=0.676 total time=  18.5s\n",
      "[CV 1/3; 63/180] START mlpclassifier__activation=relu, mlpclassifier__alpha=0.0017782794100389228, mlpclassifier__hidden_layer_sizes=(100, 50), mlpclassifier__learning_rate=constant, mlpclassifier__learning_rate_init=0.005, mlpclassifier__solver=adam\n",
      "[CV 2/3; 59/180] END mlpclassifier__activation=relu, mlpclassifier__alpha=0.0017782794100389228, mlpclassifier__hidden_layer_sizes=(128, 64), mlpclassifier__learning_rate=adaptive, mlpclassifier__learning_rate_init=0.001, mlpclassifier__solver=adam;, score=0.697 total time=  18.8s\n",
      "[CV 2/3; 63/180] START mlpclassifier__activation=relu, mlpclassifier__alpha=0.0017782794100389228, mlpclassifier__hidden_layer_sizes=(100, 50), mlpclassifier__learning_rate=constant, mlpclassifier__learning_rate_init=0.005, mlpclassifier__solver=adam\n"
     ]
    },
    {
     "name": "stderr",
     "output_type": "stream",
     "text": [
      "/opt/anaconda3/lib/python3.12/site-packages/sklearn/neural_network/_multilayer_perceptron.py:690: ConvergenceWarning: Stochastic Optimizer: Maximum iterations (500) reached and the optimization hasn't converged yet.\n",
      "  warnings.warn(\n"
     ]
    },
    {
     "name": "stdout",
     "output_type": "stream",
     "text": [
      "[CV 1/3; 61/180] END mlpclassifier__activation=relu, mlpclassifier__alpha=0.0017782794100389228, mlpclassifier__hidden_layer_sizes=(100, 50), mlpclassifier__learning_rate=constant, mlpclassifier__learning_rate_init=0.0005, mlpclassifier__solver=adam;, score=0.653 total time=  14.4s\n",
      "[CV 3/3; 63/180] START mlpclassifier__activation=relu, mlpclassifier__alpha=0.0017782794100389228, mlpclassifier__hidden_layer_sizes=(100, 50), mlpclassifier__learning_rate=constant, mlpclassifier__learning_rate_init=0.005, mlpclassifier__solver=adam\n",
      "[CV 1/3; 63/180] END mlpclassifier__activation=relu, mlpclassifier__alpha=0.0017782794100389228, mlpclassifier__hidden_layer_sizes=(100, 50), mlpclassifier__learning_rate=constant, mlpclassifier__learning_rate_init=0.005, mlpclassifier__solver=adam;, score=0.671 total time=   4.3s\n",
      "[CV 1/3; 64/180] START mlpclassifier__activation=relu, mlpclassifier__alpha=0.0017782794100389228, mlpclassifier__hidden_layer_sizes=(100, 50), mlpclassifier__learning_rate=adaptive, mlpclassifier__learning_rate_init=0.0005, mlpclassifier__solver=adam\n",
      "[CV 2/3; 63/180] END mlpclassifier__activation=relu, mlpclassifier__alpha=0.0017782794100389228, mlpclassifier__hidden_layer_sizes=(100, 50), mlpclassifier__learning_rate=constant, mlpclassifier__learning_rate_init=0.005, mlpclassifier__solver=adam;, score=0.684 total time=   4.1s\n",
      "[CV 2/3; 64/180] START mlpclassifier__activation=relu, mlpclassifier__alpha=0.0017782794100389228, mlpclassifier__hidden_layer_sizes=(100, 50), mlpclassifier__learning_rate=adaptive, mlpclassifier__learning_rate_init=0.0005, mlpclassifier__solver=adam\n",
      "[CV 3/3; 63/180] END mlpclassifier__activation=relu, mlpclassifier__alpha=0.0017782794100389228, mlpclassifier__hidden_layer_sizes=(100, 50), mlpclassifier__learning_rate=constant, mlpclassifier__learning_rate_init=0.005, mlpclassifier__solver=adam;, score=0.737 total time=   4.7s\n",
      "[CV 3/3; 64/180] START mlpclassifier__activation=relu, mlpclassifier__alpha=0.0017782794100389228, mlpclassifier__hidden_layer_sizes=(100, 50), mlpclassifier__learning_rate=adaptive, mlpclassifier__learning_rate_init=0.0005, mlpclassifier__solver=adam\n",
      "[CV 2/3; 61/180] END mlpclassifier__activation=relu, mlpclassifier__alpha=0.0017782794100389228, mlpclassifier__hidden_layer_sizes=(100, 50), mlpclassifier__learning_rate=constant, mlpclassifier__learning_rate_init=0.0005, mlpclassifier__solver=adam;, score=0.681 total time=  14.5s\n",
      "[CV 1/3; 65/180] START mlpclassifier__activation=relu, mlpclassifier__alpha=0.0017782794100389228, mlpclassifier__hidden_layer_sizes=(100, 50), mlpclassifier__learning_rate=adaptive, mlpclassifier__learning_rate_init=0.001, mlpclassifier__solver=adam\n"
     ]
    },
    {
     "name": "stderr",
     "output_type": "stream",
     "text": [
      "/opt/anaconda3/lib/python3.12/site-packages/sklearn/neural_network/_multilayer_perceptron.py:690: ConvergenceWarning: Stochastic Optimizer: Maximum iterations (500) reached and the optimization hasn't converged yet.\n",
      "  warnings.warn(\n",
      "/opt/anaconda3/lib/python3.12/site-packages/sklearn/neural_network/_multilayer_perceptron.py:690: ConvergenceWarning: Stochastic Optimizer: Maximum iterations (500) reached and the optimization hasn't converged yet.\n",
      "  warnings.warn(\n"
     ]
    },
    {
     "name": "stdout",
     "output_type": "stream",
     "text": [
      "[CV 3/3; 61/180] END mlpclassifier__activation=relu, mlpclassifier__alpha=0.0017782794100389228, mlpclassifier__hidden_layer_sizes=(100, 50), mlpclassifier__learning_rate=constant, mlpclassifier__learning_rate_init=0.0005, mlpclassifier__solver=adam;, score=0.715 total time=  14.4s\n",
      "[CV 2/3; 65/180] START mlpclassifier__activation=relu, mlpclassifier__alpha=0.0017782794100389228, mlpclassifier__hidden_layer_sizes=(100, 50), mlpclassifier__learning_rate=adaptive, mlpclassifier__learning_rate_init=0.001, mlpclassifier__solver=adam\n"
     ]
    },
    {
     "name": "stderr",
     "output_type": "stream",
     "text": [
      "/opt/anaconda3/lib/python3.12/site-packages/sklearn/neural_network/_multilayer_perceptron.py:690: ConvergenceWarning: Stochastic Optimizer: Maximum iterations (500) reached and the optimization hasn't converged yet.\n",
      "  warnings.warn(\n"
     ]
    },
    {
     "name": "stdout",
     "output_type": "stream",
     "text": [
      "[CV 1/3; 62/180] END mlpclassifier__activation=relu, mlpclassifier__alpha=0.0017782794100389228, mlpclassifier__hidden_layer_sizes=(100, 50), mlpclassifier__learning_rate=constant, mlpclassifier__learning_rate_init=0.001, mlpclassifier__solver=adam;, score=0.670 total time=  14.2s\n",
      "[CV 3/3; 65/180] START mlpclassifier__activation=relu, mlpclassifier__alpha=0.0017782794100389228, mlpclassifier__hidden_layer_sizes=(100, 50), mlpclassifier__learning_rate=adaptive, mlpclassifier__learning_rate_init=0.001, mlpclassifier__solver=adam\n"
     ]
    },
    {
     "name": "stderr",
     "output_type": "stream",
     "text": [
      "/opt/anaconda3/lib/python3.12/site-packages/sklearn/neural_network/_multilayer_perceptron.py:690: ConvergenceWarning: Stochastic Optimizer: Maximum iterations (500) reached and the optimization hasn't converged yet.\n",
      "  warnings.warn(\n"
     ]
    },
    {
     "name": "stdout",
     "output_type": "stream",
     "text": [
      "[CV 2/3; 62/180] END mlpclassifier__activation=relu, mlpclassifier__alpha=0.0017782794100389228, mlpclassifier__hidden_layer_sizes=(100, 50), mlpclassifier__learning_rate=constant, mlpclassifier__learning_rate_init=0.001, mlpclassifier__solver=adam;, score=0.684 total time=  14.3s\n",
      "[CV 1/3; 66/180] START mlpclassifier__activation=relu, mlpclassifier__alpha=0.0017782794100389228, mlpclassifier__hidden_layer_sizes=(100, 50), mlpclassifier__learning_rate=adaptive, mlpclassifier__learning_rate_init=0.005, mlpclassifier__solver=adam\n"
     ]
    },
    {
     "name": "stderr",
     "output_type": "stream",
     "text": [
      "/opt/anaconda3/lib/python3.12/site-packages/sklearn/neural_network/_multilayer_perceptron.py:690: ConvergenceWarning: Stochastic Optimizer: Maximum iterations (500) reached and the optimization hasn't converged yet.\n",
      "  warnings.warn(\n"
     ]
    },
    {
     "name": "stdout",
     "output_type": "stream",
     "text": [
      "[CV 3/3; 62/180] END mlpclassifier__activation=relu, mlpclassifier__alpha=0.0017782794100389228, mlpclassifier__hidden_layer_sizes=(100, 50), mlpclassifier__learning_rate=constant, mlpclassifier__learning_rate_init=0.001, mlpclassifier__solver=adam;, score=0.722 total time=  14.4s\n",
      "[CV 2/3; 66/180] START mlpclassifier__activation=relu, mlpclassifier__alpha=0.0017782794100389228, mlpclassifier__hidden_layer_sizes=(100, 50), mlpclassifier__learning_rate=adaptive, mlpclassifier__learning_rate_init=0.005, mlpclassifier__solver=adam\n",
      "[CV 1/3; 66/180] END mlpclassifier__activation=relu, mlpclassifier__alpha=0.0017782794100389228, mlpclassifier__hidden_layer_sizes=(100, 50), mlpclassifier__learning_rate=adaptive, mlpclassifier__learning_rate_init=0.005, mlpclassifier__solver=adam;, score=0.671 total time=   4.5s\n",
      "[CV 3/3; 66/180] START mlpclassifier__activation=relu, mlpclassifier__alpha=0.0017782794100389228, mlpclassifier__hidden_layer_sizes=(100, 50), mlpclassifier__learning_rate=adaptive, mlpclassifier__learning_rate_init=0.005, mlpclassifier__solver=adam\n",
      "[CV 2/3; 66/180] END mlpclassifier__activation=relu, mlpclassifier__alpha=0.0017782794100389228, mlpclassifier__hidden_layer_sizes=(100, 50), mlpclassifier__learning_rate=adaptive, mlpclassifier__learning_rate_init=0.005, mlpclassifier__solver=adam;, score=0.684 total time=   4.5s\n",
      "[CV 1/3; 67/180] START mlpclassifier__activation=relu, mlpclassifier__alpha=0.0017782794100389228, mlpclassifier__hidden_layer_sizes=(128, 64, 32), mlpclassifier__learning_rate=constant, mlpclassifier__learning_rate_init=0.0005, mlpclassifier__solver=adam\n"
     ]
    },
    {
     "name": "stderr",
     "output_type": "stream",
     "text": [
      "/opt/anaconda3/lib/python3.12/site-packages/sklearn/neural_network/_multilayer_perceptron.py:690: ConvergenceWarning: Stochastic Optimizer: Maximum iterations (500) reached and the optimization hasn't converged yet.\n",
      "  warnings.warn(\n"
     ]
    },
    {
     "name": "stdout",
     "output_type": "stream",
     "text": [
      "[CV 1/3; 64/180] END mlpclassifier__activation=relu, mlpclassifier__alpha=0.0017782794100389228, mlpclassifier__hidden_layer_sizes=(100, 50), mlpclassifier__learning_rate=adaptive, mlpclassifier__learning_rate_init=0.0005, mlpclassifier__solver=adam;, score=0.653 total time=  14.9s\n",
      "[CV 2/3; 67/180] START mlpclassifier__activation=relu, mlpclassifier__alpha=0.0017782794100389228, mlpclassifier__hidden_layer_sizes=(128, 64, 32), mlpclassifier__learning_rate=constant, mlpclassifier__learning_rate_init=0.0005, mlpclassifier__solver=adam\n"
     ]
    },
    {
     "name": "stderr",
     "output_type": "stream",
     "text": [
      "/opt/anaconda3/lib/python3.12/site-packages/sklearn/neural_network/_multilayer_perceptron.py:690: ConvergenceWarning: Stochastic Optimizer: Maximum iterations (500) reached and the optimization hasn't converged yet.\n",
      "  warnings.warn(\n"
     ]
    },
    {
     "name": "stdout",
     "output_type": "stream",
     "text": [
      "[CV 2/3; 64/180] END mlpclassifier__activation=relu, mlpclassifier__alpha=0.0017782794100389228, mlpclassifier__hidden_layer_sizes=(100, 50), mlpclassifier__learning_rate=adaptive, mlpclassifier__learning_rate_init=0.0005, mlpclassifier__solver=adam;, score=0.681 total time=  14.8s\n",
      "[CV 3/3; 67/180] START mlpclassifier__activation=relu, mlpclassifier__alpha=0.0017782794100389228, mlpclassifier__hidden_layer_sizes=(128, 64, 32), mlpclassifier__learning_rate=constant, mlpclassifier__learning_rate_init=0.0005, mlpclassifier__solver=adam\n"
     ]
    },
    {
     "name": "stderr",
     "output_type": "stream",
     "text": [
      "/opt/anaconda3/lib/python3.12/site-packages/sklearn/neural_network/_multilayer_perceptron.py:690: ConvergenceWarning: Stochastic Optimizer: Maximum iterations (500) reached and the optimization hasn't converged yet.\n",
      "  warnings.warn(\n"
     ]
    },
    {
     "name": "stdout",
     "output_type": "stream",
     "text": [
      "[CV 3/3; 66/180] END mlpclassifier__activation=relu, mlpclassifier__alpha=0.0017782794100389228, mlpclassifier__hidden_layer_sizes=(100, 50), mlpclassifier__learning_rate=adaptive, mlpclassifier__learning_rate_init=0.005, mlpclassifier__solver=adam;, score=0.737 total time=   4.8s\n",
      "[CV 3/3; 64/180] END mlpclassifier__activation=relu, mlpclassifier__alpha=0.0017782794100389228, mlpclassifier__hidden_layer_sizes=(100, 50), mlpclassifier__learning_rate=adaptive, mlpclassifier__learning_rate_init=0.0005, mlpclassifier__solver=adam;, score=0.715 total time=  14.7s\n",
      "[CV 1/3; 68/180] START mlpclassifier__activation=relu, mlpclassifier__alpha=0.0017782794100389228, mlpclassifier__hidden_layer_sizes=(128, 64, 32), mlpclassifier__learning_rate=constant, mlpclassifier__learning_rate_init=0.001, mlpclassifier__solver=adam\n",
      "[CV 2/3; 68/180] START mlpclassifier__activation=relu, mlpclassifier__alpha=0.0017782794100389228, mlpclassifier__hidden_layer_sizes=(128, 64, 32), mlpclassifier__learning_rate=constant, mlpclassifier__learning_rate_init=0.001, mlpclassifier__solver=adam\n"
     ]
    },
    {
     "name": "stderr",
     "output_type": "stream",
     "text": [
      "/opt/anaconda3/lib/python3.12/site-packages/sklearn/neural_network/_multilayer_perceptron.py:690: ConvergenceWarning: Stochastic Optimizer: Maximum iterations (500) reached and the optimization hasn't converged yet.\n",
      "  warnings.warn(\n"
     ]
    },
    {
     "name": "stdout",
     "output_type": "stream",
     "text": [
      "[CV 1/3; 65/180] END mlpclassifier__activation=relu, mlpclassifier__alpha=0.0017782794100389228, mlpclassifier__hidden_layer_sizes=(100, 50), mlpclassifier__learning_rate=adaptive, mlpclassifier__learning_rate_init=0.001, mlpclassifier__solver=adam;, score=0.670 total time=  15.1s\n",
      "[CV 3/3; 68/180] START mlpclassifier__activation=relu, mlpclassifier__alpha=0.0017782794100389228, mlpclassifier__hidden_layer_sizes=(128, 64, 32), mlpclassifier__learning_rate=constant, mlpclassifier__learning_rate_init=0.001, mlpclassifier__solver=adam\n"
     ]
    },
    {
     "name": "stderr",
     "output_type": "stream",
     "text": [
      "/opt/anaconda3/lib/python3.12/site-packages/sklearn/neural_network/_multilayer_perceptron.py:690: ConvergenceWarning: Stochastic Optimizer: Maximum iterations (500) reached and the optimization hasn't converged yet.\n",
      "  warnings.warn(\n"
     ]
    },
    {
     "name": "stdout",
     "output_type": "stream",
     "text": [
      "[CV 2/3; 65/180] END mlpclassifier__activation=relu, mlpclassifier__alpha=0.0017782794100389228, mlpclassifier__hidden_layer_sizes=(100, 50), mlpclassifier__learning_rate=adaptive, mlpclassifier__learning_rate_init=0.001, mlpclassifier__solver=adam;, score=0.684 total time=  15.2s\n",
      "[CV 1/3; 69/180] START mlpclassifier__activation=relu, mlpclassifier__alpha=0.0017782794100389228, mlpclassifier__hidden_layer_sizes=(128, 64, 32), mlpclassifier__learning_rate=constant, mlpclassifier__learning_rate_init=0.005, mlpclassifier__solver=adam\n"
     ]
    },
    {
     "name": "stderr",
     "output_type": "stream",
     "text": [
      "/opt/anaconda3/lib/python3.12/site-packages/sklearn/neural_network/_multilayer_perceptron.py:690: ConvergenceWarning: Stochastic Optimizer: Maximum iterations (500) reached and the optimization hasn't converged yet.\n",
      "  warnings.warn(\n"
     ]
    },
    {
     "name": "stdout",
     "output_type": "stream",
     "text": [
      "[CV 3/3; 65/180] END mlpclassifier__activation=relu, mlpclassifier__alpha=0.0017782794100389228, mlpclassifier__hidden_layer_sizes=(100, 50), mlpclassifier__learning_rate=adaptive, mlpclassifier__learning_rate_init=0.001, mlpclassifier__solver=adam;, score=0.722 total time=  15.0s\n",
      "[CV 2/3; 69/180] START mlpclassifier__activation=relu, mlpclassifier__alpha=0.0017782794100389228, mlpclassifier__hidden_layer_sizes=(128, 64, 32), mlpclassifier__learning_rate=constant, mlpclassifier__learning_rate_init=0.005, mlpclassifier__solver=adam\n",
      "[CV 1/3; 69/180] END mlpclassifier__activation=relu, mlpclassifier__alpha=0.0017782794100389228, mlpclassifier__hidden_layer_sizes=(128, 64, 32), mlpclassifier__learning_rate=constant, mlpclassifier__learning_rate_init=0.005, mlpclassifier__solver=adam;, score=0.687 total time=   5.2s\n",
      "[CV 3/3; 69/180] START mlpclassifier__activation=relu, mlpclassifier__alpha=0.0017782794100389228, mlpclassifier__hidden_layer_sizes=(128, 64, 32), mlpclassifier__learning_rate=constant, mlpclassifier__learning_rate_init=0.005, mlpclassifier__solver=adam\n",
      "[CV 2/3; 69/180] END mlpclassifier__activation=relu, mlpclassifier__alpha=0.0017782794100389228, mlpclassifier__hidden_layer_sizes=(128, 64, 32), mlpclassifier__learning_rate=constant, mlpclassifier__learning_rate_init=0.005, mlpclassifier__solver=adam;, score=0.689 total time=   6.3s\n",
      "[CV 1/3; 70/180] START mlpclassifier__activation=relu, mlpclassifier__alpha=0.0017782794100389228, mlpclassifier__hidden_layer_sizes=(128, 64, 32), mlpclassifier__learning_rate=adaptive, mlpclassifier__learning_rate_init=0.0005, mlpclassifier__solver=adam\n",
      "[CV 3/3; 68/180] END mlpclassifier__activation=relu, mlpclassifier__alpha=0.0017782794100389228, mlpclassifier__hidden_layer_sizes=(128, 64, 32), mlpclassifier__learning_rate=constant, mlpclassifier__learning_rate_init=0.001, mlpclassifier__solver=adam;, score=0.750 total time=  11.8s\n",
      "[CV 2/3; 70/180] START mlpclassifier__activation=relu, mlpclassifier__alpha=0.0017782794100389228, mlpclassifier__hidden_layer_sizes=(128, 64, 32), mlpclassifier__learning_rate=adaptive, mlpclassifier__learning_rate_init=0.0005, mlpclassifier__solver=adam\n",
      "[CV 2/3; 68/180] END mlpclassifier__activation=relu, mlpclassifier__alpha=0.0017782794100389228, mlpclassifier__hidden_layer_sizes=(128, 64, 32), mlpclassifier__learning_rate=constant, mlpclassifier__learning_rate_init=0.001, mlpclassifier__solver=adam;, score=0.684 total time=  12.3s\n",
      "[CV 3/3; 70/180] START mlpclassifier__activation=relu, mlpclassifier__alpha=0.0017782794100389228, mlpclassifier__hidden_layer_sizes=(128, 64, 32), mlpclassifier__learning_rate=adaptive, mlpclassifier__learning_rate_init=0.0005, mlpclassifier__solver=adam\n",
      "[CV 1/3; 68/180] END mlpclassifier__activation=relu, mlpclassifier__alpha=0.0017782794100389228, mlpclassifier__hidden_layer_sizes=(128, 64, 32), mlpclassifier__learning_rate=constant, mlpclassifier__learning_rate_init=0.001, mlpclassifier__solver=adam;, score=0.664 total time=  12.5s\n",
      "[CV 1/3; 71/180] START mlpclassifier__activation=relu, mlpclassifier__alpha=0.0017782794100389228, mlpclassifier__hidden_layer_sizes=(128, 64, 32), mlpclassifier__learning_rate=adaptive, mlpclassifier__learning_rate_init=0.001, mlpclassifier__solver=adam\n",
      "[CV 3/3; 69/180] END mlpclassifier__activation=relu, mlpclassifier__alpha=0.0017782794100389228, mlpclassifier__hidden_layer_sizes=(128, 64, 32), mlpclassifier__learning_rate=constant, mlpclassifier__learning_rate_init=0.005, mlpclassifier__solver=adam;, score=0.745 total time=   6.0s\n",
      "[CV 2/3; 71/180] START mlpclassifier__activation=relu, mlpclassifier__alpha=0.0017782794100389228, mlpclassifier__hidden_layer_sizes=(128, 64, 32), mlpclassifier__learning_rate=adaptive, mlpclassifier__learning_rate_init=0.001, mlpclassifier__solver=adam\n",
      "[CV 1/3; 67/180] END mlpclassifier__activation=relu, mlpclassifier__alpha=0.0017782794100389228, mlpclassifier__hidden_layer_sizes=(128, 64, 32), mlpclassifier__learning_rate=constant, mlpclassifier__learning_rate_init=0.0005, mlpclassifier__solver=adam;, score=0.694 total time=  20.4s\n",
      "[CV 3/3; 71/180] START mlpclassifier__activation=relu, mlpclassifier__alpha=0.0017782794100389228, mlpclassifier__hidden_layer_sizes=(128, 64, 32), mlpclassifier__learning_rate=adaptive, mlpclassifier__learning_rate_init=0.001, mlpclassifier__solver=adam\n",
      "[CV 2/3; 67/180] END mlpclassifier__activation=relu, mlpclassifier__alpha=0.0017782794100389228, mlpclassifier__hidden_layer_sizes=(128, 64, 32), mlpclassifier__learning_rate=constant, mlpclassifier__learning_rate_init=0.0005, mlpclassifier__solver=adam;, score=0.683 total time=  20.1s\n",
      "[CV 1/3; 72/180] START mlpclassifier__activation=relu, mlpclassifier__alpha=0.0017782794100389228, mlpclassifier__hidden_layer_sizes=(128, 64, 32), mlpclassifier__learning_rate=adaptive, mlpclassifier__learning_rate_init=0.005, mlpclassifier__solver=adam\n"
     ]
    },
    {
     "name": "stderr",
     "output_type": "stream",
     "text": [
      "/opt/anaconda3/lib/python3.12/site-packages/sklearn/neural_network/_multilayer_perceptron.py:690: ConvergenceWarning: Stochastic Optimizer: Maximum iterations (500) reached and the optimization hasn't converged yet.\n",
      "  warnings.warn(\n"
     ]
    },
    {
     "name": "stdout",
     "output_type": "stream",
     "text": [
      "[CV 3/3; 67/180] END mlpclassifier__activation=relu, mlpclassifier__alpha=0.0017782794100389228, mlpclassifier__hidden_layer_sizes=(128, 64, 32), mlpclassifier__learning_rate=constant, mlpclassifier__learning_rate_init=0.0005, mlpclassifier__solver=adam;, score=0.738 total time=  25.3s\n",
      "[CV 2/3; 72/180] START mlpclassifier__activation=relu, mlpclassifier__alpha=0.0017782794100389228, mlpclassifier__hidden_layer_sizes=(128, 64, 32), mlpclassifier__learning_rate=adaptive, mlpclassifier__learning_rate_init=0.005, mlpclassifier__solver=adam\n",
      "[CV 1/3; 72/180] END mlpclassifier__activation=relu, mlpclassifier__alpha=0.0017782794100389228, mlpclassifier__hidden_layer_sizes=(128, 64, 32), mlpclassifier__learning_rate=adaptive, mlpclassifier__learning_rate_init=0.005, mlpclassifier__solver=adam;, score=0.687 total time=   5.8s\n",
      "[CV 3/3; 72/180] START mlpclassifier__activation=relu, mlpclassifier__alpha=0.0017782794100389228, mlpclassifier__hidden_layer_sizes=(128, 64, 32), mlpclassifier__learning_rate=adaptive, mlpclassifier__learning_rate_init=0.005, mlpclassifier__solver=adam\n",
      "[CV 1/3; 71/180] END mlpclassifier__activation=relu, mlpclassifier__alpha=0.0017782794100389228, mlpclassifier__hidden_layer_sizes=(128, 64, 32), mlpclassifier__learning_rate=adaptive, mlpclassifier__learning_rate_init=0.001, mlpclassifier__solver=adam;, score=0.664 total time=  14.2s\n",
      "[CV 1/3; 73/180] START mlpclassifier__activation=relu, mlpclassifier__alpha=0.01, mlpclassifier__hidden_layer_sizes=(128, 64), mlpclassifier__learning_rate=constant, mlpclassifier__learning_rate_init=0.0005, mlpclassifier__solver=adam\n",
      "[CV 2/3; 71/180] END mlpclassifier__activation=relu, mlpclassifier__alpha=0.0017782794100389228, mlpclassifier__hidden_layer_sizes=(128, 64, 32), mlpclassifier__learning_rate=adaptive, mlpclassifier__learning_rate_init=0.001, mlpclassifier__solver=adam;, score=0.684 total time=  14.0s\n",
      "[CV 2/3; 73/180] START mlpclassifier__activation=relu, mlpclassifier__alpha=0.01, mlpclassifier__hidden_layer_sizes=(128, 64), mlpclassifier__learning_rate=constant, mlpclassifier__learning_rate_init=0.0005, mlpclassifier__solver=adam\n",
      "[CV 3/3; 72/180] END mlpclassifier__activation=relu, mlpclassifier__alpha=0.0017782794100389228, mlpclassifier__hidden_layer_sizes=(128, 64, 32), mlpclassifier__learning_rate=adaptive, mlpclassifier__learning_rate_init=0.005, mlpclassifier__solver=adam;, score=0.745 total time=   6.6s\n",
      "[CV 3/3; 73/180] START mlpclassifier__activation=relu, mlpclassifier__alpha=0.01, mlpclassifier__hidden_layer_sizes=(128, 64), mlpclassifier__learning_rate=constant, mlpclassifier__learning_rate_init=0.0005, mlpclassifier__solver=adam\n",
      "[CV 2/3; 72/180] END mlpclassifier__activation=relu, mlpclassifier__alpha=0.0017782794100389228, mlpclassifier__hidden_layer_sizes=(128, 64, 32), mlpclassifier__learning_rate=adaptive, mlpclassifier__learning_rate_init=0.005, mlpclassifier__solver=adam;, score=0.689 total time=   7.1s\n",
      "[CV 1/3; 74/180] START mlpclassifier__activation=relu, mlpclassifier__alpha=0.01, mlpclassifier__hidden_layer_sizes=(128, 64), mlpclassifier__learning_rate=constant, mlpclassifier__learning_rate_init=0.001, mlpclassifier__solver=adam\n",
      "[CV 3/3; 71/180] END mlpclassifier__activation=relu, mlpclassifier__alpha=0.0017782794100389228, mlpclassifier__hidden_layer_sizes=(128, 64, 32), mlpclassifier__learning_rate=adaptive, mlpclassifier__learning_rate_init=0.001, mlpclassifier__solver=adam;, score=0.750 total time=  13.4s\n",
      "[CV 2/3; 74/180] START mlpclassifier__activation=relu, mlpclassifier__alpha=0.01, mlpclassifier__hidden_layer_sizes=(128, 64), mlpclassifier__learning_rate=constant, mlpclassifier__learning_rate_init=0.001, mlpclassifier__solver=adam\n",
      "[CV 1/3; 70/180] END mlpclassifier__activation=relu, mlpclassifier__alpha=0.0017782794100389228, mlpclassifier__hidden_layer_sizes=(128, 64, 32), mlpclassifier__learning_rate=adaptive, mlpclassifier__learning_rate_init=0.0005, mlpclassifier__solver=adam;, score=0.694 total time=  22.9s\n",
      "[CV 3/3; 74/180] START mlpclassifier__activation=relu, mlpclassifier__alpha=0.01, mlpclassifier__hidden_layer_sizes=(128, 64), mlpclassifier__learning_rate=constant, mlpclassifier__learning_rate_init=0.001, mlpclassifier__solver=adam\n",
      "[CV 2/3; 70/180] END mlpclassifier__activation=relu, mlpclassifier__alpha=0.0017782794100389228, mlpclassifier__hidden_layer_sizes=(128, 64, 32), mlpclassifier__learning_rate=adaptive, mlpclassifier__learning_rate_init=0.0005, mlpclassifier__solver=adam;, score=0.683 total time=  22.8s\n",
      "[CV 1/3; 75/180] START mlpclassifier__activation=relu, mlpclassifier__alpha=0.01, mlpclassifier__hidden_layer_sizes=(128, 64), mlpclassifier__learning_rate=constant, mlpclassifier__learning_rate_init=0.005, mlpclassifier__solver=adam\n"
     ]
    },
    {
     "name": "stderr",
     "output_type": "stream",
     "text": [
      "/opt/anaconda3/lib/python3.12/site-packages/sklearn/neural_network/_multilayer_perceptron.py:690: ConvergenceWarning: Stochastic Optimizer: Maximum iterations (500) reached and the optimization hasn't converged yet.\n",
      "  warnings.warn(\n"
     ]
    },
    {
     "name": "stdout",
     "output_type": "stream",
     "text": [
      "[CV 3/3; 70/180] END mlpclassifier__activation=relu, mlpclassifier__alpha=0.0017782794100389228, mlpclassifier__hidden_layer_sizes=(128, 64, 32), mlpclassifier__learning_rate=adaptive, mlpclassifier__learning_rate_init=0.0005, mlpclassifier__solver=adam;, score=0.738 total time=  29.0s\n",
      "[CV 2/3; 75/180] START mlpclassifier__activation=relu, mlpclassifier__alpha=0.01, mlpclassifier__hidden_layer_sizes=(128, 64), mlpclassifier__learning_rate=constant, mlpclassifier__learning_rate_init=0.005, mlpclassifier__solver=adam\n",
      "[CV 1/3; 75/180] END mlpclassifier__activation=relu, mlpclassifier__alpha=0.01, mlpclassifier__hidden_layer_sizes=(128, 64), mlpclassifier__learning_rate=constant, mlpclassifier__learning_rate_init=0.005, mlpclassifier__solver=adam;, score=0.673 total time=   7.7s\n",
      "[CV 3/3; 75/180] START mlpclassifier__activation=relu, mlpclassifier__alpha=0.01, mlpclassifier__hidden_layer_sizes=(128, 64), mlpclassifier__learning_rate=constant, mlpclassifier__learning_rate_init=0.005, mlpclassifier__solver=adam\n",
      "[CV 2/3; 75/180] END mlpclassifier__activation=relu, mlpclassifier__alpha=0.01, mlpclassifier__hidden_layer_sizes=(128, 64), mlpclassifier__learning_rate=constant, mlpclassifier__learning_rate_init=0.005, mlpclassifier__solver=adam;, score=0.692 total time=   7.2s\n",
      "[CV 1/3; 76/180] START mlpclassifier__activation=relu, mlpclassifier__alpha=0.01, mlpclassifier__hidden_layer_sizes=(128, 64), mlpclassifier__learning_rate=adaptive, mlpclassifier__learning_rate_init=0.0005, mlpclassifier__solver=adam\n",
      "[CV 3/3; 75/180] END mlpclassifier__activation=relu, mlpclassifier__alpha=0.01, mlpclassifier__hidden_layer_sizes=(128, 64), mlpclassifier__learning_rate=constant, mlpclassifier__learning_rate_init=0.005, mlpclassifier__solver=adam;, score=0.734 total time=   9.6s\n",
      "[CV 2/3; 76/180] START mlpclassifier__activation=relu, mlpclassifier__alpha=0.01, mlpclassifier__hidden_layer_sizes=(128, 64), mlpclassifier__learning_rate=adaptive, mlpclassifier__learning_rate_init=0.0005, mlpclassifier__solver=adam\n"
     ]
    },
    {
     "name": "stderr",
     "output_type": "stream",
     "text": [
      "/opt/anaconda3/lib/python3.12/site-packages/sklearn/neural_network/_multilayer_perceptron.py:690: ConvergenceWarning: Stochastic Optimizer: Maximum iterations (500) reached and the optimization hasn't converged yet.\n",
      "  warnings.warn(\n"
     ]
    },
    {
     "name": "stdout",
     "output_type": "stream",
     "text": [
      "[CV 1/3; 73/180] END mlpclassifier__activation=relu, mlpclassifier__alpha=0.01, mlpclassifier__hidden_layer_sizes=(128, 64), mlpclassifier__learning_rate=constant, mlpclassifier__learning_rate_init=0.0005, mlpclassifier__solver=adam;, score=0.677 total time=  26.9s\n",
      "[CV 3/3; 76/180] START mlpclassifier__activation=relu, mlpclassifier__alpha=0.01, mlpclassifier__hidden_layer_sizes=(128, 64), mlpclassifier__learning_rate=adaptive, mlpclassifier__learning_rate_init=0.0005, mlpclassifier__solver=adam\n"
     ]
    },
    {
     "name": "stderr",
     "output_type": "stream",
     "text": [
      "/opt/anaconda3/lib/python3.12/site-packages/sklearn/neural_network/_multilayer_perceptron.py:690: ConvergenceWarning: Stochastic Optimizer: Maximum iterations (500) reached and the optimization hasn't converged yet.\n",
      "  warnings.warn(\n"
     ]
    },
    {
     "name": "stdout",
     "output_type": "stream",
     "text": [
      "[CV 2/3; 73/180] END mlpclassifier__activation=relu, mlpclassifier__alpha=0.01, mlpclassifier__hidden_layer_sizes=(128, 64), mlpclassifier__learning_rate=constant, mlpclassifier__learning_rate_init=0.0005, mlpclassifier__solver=adam;, score=0.692 total time=  26.9s\n",
      "[CV 1/3; 77/180] START mlpclassifier__activation=relu, mlpclassifier__alpha=0.01, mlpclassifier__hidden_layer_sizes=(128, 64), mlpclassifier__learning_rate=adaptive, mlpclassifier__learning_rate_init=0.001, mlpclassifier__solver=adam\n"
     ]
    },
    {
     "name": "stderr",
     "output_type": "stream",
     "text": [
      "/opt/anaconda3/lib/python3.12/site-packages/sklearn/neural_network/_multilayer_perceptron.py:690: ConvergenceWarning: Stochastic Optimizer: Maximum iterations (500) reached and the optimization hasn't converged yet.\n",
      "  warnings.warn(\n"
     ]
    },
    {
     "name": "stdout",
     "output_type": "stream",
     "text": [
      "[CV 3/3; 73/180] END mlpclassifier__activation=relu, mlpclassifier__alpha=0.01, mlpclassifier__hidden_layer_sizes=(128, 64), mlpclassifier__learning_rate=constant, mlpclassifier__learning_rate_init=0.0005, mlpclassifier__solver=adam;, score=0.735 total time=  26.9s\n",
      "[CV 2/3; 77/180] START mlpclassifier__activation=relu, mlpclassifier__alpha=0.01, mlpclassifier__hidden_layer_sizes=(128, 64), mlpclassifier__learning_rate=adaptive, mlpclassifier__learning_rate_init=0.001, mlpclassifier__solver=adam\n"
     ]
    },
    {
     "name": "stderr",
     "output_type": "stream",
     "text": [
      "/opt/anaconda3/lib/python3.12/site-packages/sklearn/neural_network/_multilayer_perceptron.py:690: ConvergenceWarning: Stochastic Optimizer: Maximum iterations (500) reached and the optimization hasn't converged yet.\n",
      "  warnings.warn(\n"
     ]
    },
    {
     "name": "stdout",
     "output_type": "stream",
     "text": [
      "[CV 1/3; 74/180] END mlpclassifier__activation=relu, mlpclassifier__alpha=0.01, mlpclassifier__hidden_layer_sizes=(128, 64), mlpclassifier__learning_rate=constant, mlpclassifier__learning_rate_init=0.001, mlpclassifier__solver=adam;, score=0.700 total time=  27.2s\n",
      "[CV 3/3; 77/180] START mlpclassifier__activation=relu, mlpclassifier__alpha=0.01, mlpclassifier__hidden_layer_sizes=(128, 64), mlpclassifier__learning_rate=adaptive, mlpclassifier__learning_rate_init=0.001, mlpclassifier__solver=adam\n"
     ]
    },
    {
     "name": "stderr",
     "output_type": "stream",
     "text": [
      "/opt/anaconda3/lib/python3.12/site-packages/sklearn/neural_network/_multilayer_perceptron.py:690: ConvergenceWarning: Stochastic Optimizer: Maximum iterations (500) reached and the optimization hasn't converged yet.\n",
      "  warnings.warn(\n"
     ]
    },
    {
     "name": "stdout",
     "output_type": "stream",
     "text": [
      "[CV 2/3; 74/180] END mlpclassifier__activation=relu, mlpclassifier__alpha=0.01, mlpclassifier__hidden_layer_sizes=(128, 64), mlpclassifier__learning_rate=constant, mlpclassifier__learning_rate_init=0.001, mlpclassifier__solver=adam;, score=0.693 total time=  27.0s\n",
      "[CV 1/3; 78/180] START mlpclassifier__activation=relu, mlpclassifier__alpha=0.01, mlpclassifier__hidden_layer_sizes=(128, 64), mlpclassifier__learning_rate=adaptive, mlpclassifier__learning_rate_init=0.005, mlpclassifier__solver=adam\n",
      "[CV 3/3; 74/180] END mlpclassifier__activation=relu, mlpclassifier__alpha=0.01, mlpclassifier__hidden_layer_sizes=(128, 64), mlpclassifier__learning_rate=constant, mlpclassifier__learning_rate_init=0.001, mlpclassifier__solver=adam;, score=0.736 total time=  24.4s\n",
      "[CV 2/3; 78/180] START mlpclassifier__activation=relu, mlpclassifier__alpha=0.01, mlpclassifier__hidden_layer_sizes=(128, 64), mlpclassifier__learning_rate=adaptive, mlpclassifier__learning_rate_init=0.005, mlpclassifier__solver=adam\n",
      "[CV 1/3; 78/180] END mlpclassifier__activation=relu, mlpclassifier__alpha=0.01, mlpclassifier__hidden_layer_sizes=(128, 64), mlpclassifier__learning_rate=adaptive, mlpclassifier__learning_rate_init=0.005, mlpclassifier__solver=adam;, score=0.673 total time=   6.7s\n",
      "[CV 3/3; 78/180] START mlpclassifier__activation=relu, mlpclassifier__alpha=0.01, mlpclassifier__hidden_layer_sizes=(128, 64), mlpclassifier__learning_rate=adaptive, mlpclassifier__learning_rate_init=0.005, mlpclassifier__solver=adam\n",
      "[CV 2/3; 78/180] END mlpclassifier__activation=relu, mlpclassifier__alpha=0.01, mlpclassifier__hidden_layer_sizes=(128, 64), mlpclassifier__learning_rate=adaptive, mlpclassifier__learning_rate_init=0.005, mlpclassifier__solver=adam;, score=0.692 total time=   6.6s\n",
      "[CV 1/3; 79/180] START mlpclassifier__activation=relu, mlpclassifier__alpha=0.01, mlpclassifier__hidden_layer_sizes=(100, 50), mlpclassifier__learning_rate=constant, mlpclassifier__learning_rate_init=0.0005, mlpclassifier__solver=adam\n",
      "[CV 3/3; 78/180] END mlpclassifier__activation=relu, mlpclassifier__alpha=0.01, mlpclassifier__hidden_layer_sizes=(128, 64), mlpclassifier__learning_rate=adaptive, mlpclassifier__learning_rate_init=0.005, mlpclassifier__solver=adam;, score=0.734 total time=   8.4s\n",
      "[CV 2/3; 79/180] START mlpclassifier__activation=relu, mlpclassifier__alpha=0.01, mlpclassifier__hidden_layer_sizes=(100, 50), mlpclassifier__learning_rate=constant, mlpclassifier__learning_rate_init=0.0005, mlpclassifier__solver=adam\n"
     ]
    },
    {
     "name": "stderr",
     "output_type": "stream",
     "text": [
      "/opt/anaconda3/lib/python3.12/site-packages/sklearn/neural_network/_multilayer_perceptron.py:690: ConvergenceWarning: Stochastic Optimizer: Maximum iterations (500) reached and the optimization hasn't converged yet.\n",
      "  warnings.warn(\n"
     ]
    },
    {
     "name": "stdout",
     "output_type": "stream",
     "text": [
      "[CV 1/3; 76/180] END mlpclassifier__activation=relu, mlpclassifier__alpha=0.01, mlpclassifier__hidden_layer_sizes=(128, 64), mlpclassifier__learning_rate=adaptive, mlpclassifier__learning_rate_init=0.0005, mlpclassifier__solver=adam;, score=0.677 total time=  25.4s\n",
      "[CV 3/3; 79/180] START mlpclassifier__activation=relu, mlpclassifier__alpha=0.01, mlpclassifier__hidden_layer_sizes=(100, 50), mlpclassifier__learning_rate=constant, mlpclassifier__learning_rate_init=0.0005, mlpclassifier__solver=adam\n"
     ]
    },
    {
     "name": "stderr",
     "output_type": "stream",
     "text": [
      "/opt/anaconda3/lib/python3.12/site-packages/sklearn/neural_network/_multilayer_perceptron.py:690: ConvergenceWarning: Stochastic Optimizer: Maximum iterations (500) reached and the optimization hasn't converged yet.\n",
      "  warnings.warn(\n"
     ]
    },
    {
     "name": "stdout",
     "output_type": "stream",
     "text": [
      "[CV 2/3; 76/180] END mlpclassifier__activation=relu, mlpclassifier__alpha=0.01, mlpclassifier__hidden_layer_sizes=(128, 64), mlpclassifier__learning_rate=adaptive, mlpclassifier__learning_rate_init=0.0005, mlpclassifier__solver=adam;, score=0.692 total time=  25.4s\n",
      "[CV 1/3; 80/180] START mlpclassifier__activation=relu, mlpclassifier__alpha=0.01, mlpclassifier__hidden_layer_sizes=(100, 50), mlpclassifier__learning_rate=constant, mlpclassifier__learning_rate_init=0.001, mlpclassifier__solver=adam\n"
     ]
    },
    {
     "name": "stderr",
     "output_type": "stream",
     "text": [
      "/opt/anaconda3/lib/python3.12/site-packages/sklearn/neural_network/_multilayer_perceptron.py:690: ConvergenceWarning: Stochastic Optimizer: Maximum iterations (500) reached and the optimization hasn't converged yet.\n",
      "  warnings.warn(\n"
     ]
    },
    {
     "name": "stdout",
     "output_type": "stream",
     "text": [
      "[CV 3/3; 76/180] END mlpclassifier__activation=relu, mlpclassifier__alpha=0.01, mlpclassifier__hidden_layer_sizes=(128, 64), mlpclassifier__learning_rate=adaptive, mlpclassifier__learning_rate_init=0.0005, mlpclassifier__solver=adam;, score=0.735 total time=  25.0s\n",
      "[CV 2/3; 80/180] START mlpclassifier__activation=relu, mlpclassifier__alpha=0.01, mlpclassifier__hidden_layer_sizes=(100, 50), mlpclassifier__learning_rate=constant, mlpclassifier__learning_rate_init=0.001, mlpclassifier__solver=adam\n",
      "[CV 3/3; 77/180] END mlpclassifier__activation=relu, mlpclassifier__alpha=0.01, mlpclassifier__hidden_layer_sizes=(128, 64), mlpclassifier__learning_rate=adaptive, mlpclassifier__learning_rate_init=0.001, mlpclassifier__solver=adam;, score=0.736 total time=  22.5s\n",
      "[CV 3/3; 80/180] START mlpclassifier__activation=relu, mlpclassifier__alpha=0.01, mlpclassifier__hidden_layer_sizes=(100, 50), mlpclassifier__learning_rate=constant, mlpclassifier__learning_rate_init=0.001, mlpclassifier__solver=adam\n"
     ]
    },
    {
     "name": "stderr",
     "output_type": "stream",
     "text": [
      "/opt/anaconda3/lib/python3.12/site-packages/sklearn/neural_network/_multilayer_perceptron.py:690: ConvergenceWarning: Stochastic Optimizer: Maximum iterations (500) reached and the optimization hasn't converged yet.\n",
      "  warnings.warn(\n"
     ]
    },
    {
     "name": "stdout",
     "output_type": "stream",
     "text": [
      "[CV 1/3; 77/180] END mlpclassifier__activation=relu, mlpclassifier__alpha=0.01, mlpclassifier__hidden_layer_sizes=(128, 64), mlpclassifier__learning_rate=adaptive, mlpclassifier__learning_rate_init=0.001, mlpclassifier__solver=adam;, score=0.700 total time=  25.2s\n",
      "[CV 1/3; 81/180] START mlpclassifier__activation=relu, mlpclassifier__alpha=0.01, mlpclassifier__hidden_layer_sizes=(100, 50), mlpclassifier__learning_rate=constant, mlpclassifier__learning_rate_init=0.005, mlpclassifier__solver=adam\n"
     ]
    },
    {
     "name": "stderr",
     "output_type": "stream",
     "text": [
      "/opt/anaconda3/lib/python3.12/site-packages/sklearn/neural_network/_multilayer_perceptron.py:690: ConvergenceWarning: Stochastic Optimizer: Maximum iterations (500) reached and the optimization hasn't converged yet.\n",
      "  warnings.warn(\n"
     ]
    },
    {
     "name": "stdout",
     "output_type": "stream",
     "text": [
      "[CV 2/3; 77/180] END mlpclassifier__activation=relu, mlpclassifier__alpha=0.01, mlpclassifier__hidden_layer_sizes=(128, 64), mlpclassifier__learning_rate=adaptive, mlpclassifier__learning_rate_init=0.001, mlpclassifier__solver=adam;, score=0.693 total time=  25.1s\n",
      "[CV 2/3; 81/180] START mlpclassifier__activation=relu, mlpclassifier__alpha=0.01, mlpclassifier__hidden_layer_sizes=(100, 50), mlpclassifier__learning_rate=constant, mlpclassifier__learning_rate_init=0.005, mlpclassifier__solver=adam\n"
     ]
    },
    {
     "name": "stderr",
     "output_type": "stream",
     "text": [
      "/opt/anaconda3/lib/python3.12/site-packages/sklearn/neural_network/_multilayer_perceptron.py:690: ConvergenceWarning: Stochastic Optimizer: Maximum iterations (500) reached and the optimization hasn't converged yet.\n",
      "  warnings.warn(\n"
     ]
    },
    {
     "name": "stdout",
     "output_type": "stream",
     "text": [
      "[CV 1/3; 79/180] END mlpclassifier__activation=relu, mlpclassifier__alpha=0.01, mlpclassifier__hidden_layer_sizes=(100, 50), mlpclassifier__learning_rate=constant, mlpclassifier__learning_rate_init=0.0005, mlpclassifier__solver=adam;, score=0.654 total time=  19.3s\n",
      "[CV 3/3; 81/180] START mlpclassifier__activation=relu, mlpclassifier__alpha=0.01, mlpclassifier__hidden_layer_sizes=(100, 50), mlpclassifier__learning_rate=constant, mlpclassifier__learning_rate_init=0.005, mlpclassifier__solver=adam\n",
      "[CV 1/3; 81/180] END mlpclassifier__activation=relu, mlpclassifier__alpha=0.01, mlpclassifier__hidden_layer_sizes=(100, 50), mlpclassifier__learning_rate=constant, mlpclassifier__learning_rate_init=0.005, mlpclassifier__solver=adam;, score=0.661 total time=   5.6s\n",
      "[CV 1/3; 82/180] START mlpclassifier__activation=relu, mlpclassifier__alpha=0.01, mlpclassifier__hidden_layer_sizes=(100, 50), mlpclassifier__learning_rate=adaptive, mlpclassifier__learning_rate_init=0.0005, mlpclassifier__solver=adam\n",
      "[CV 2/3; 81/180] END mlpclassifier__activation=relu, mlpclassifier__alpha=0.01, mlpclassifier__hidden_layer_sizes=(100, 50), mlpclassifier__learning_rate=constant, mlpclassifier__learning_rate_init=0.005, mlpclassifier__solver=adam;, score=0.686 total time=   6.9s\n",
      "[CV 2/3; 82/180] START mlpclassifier__activation=relu, mlpclassifier__alpha=0.01, mlpclassifier__hidden_layer_sizes=(100, 50), mlpclassifier__learning_rate=adaptive, mlpclassifier__learning_rate_init=0.0005, mlpclassifier__solver=adam\n",
      "[CV 3/3; 81/180] END mlpclassifier__activation=relu, mlpclassifier__alpha=0.01, mlpclassifier__hidden_layer_sizes=(100, 50), mlpclassifier__learning_rate=constant, mlpclassifier__learning_rate_init=0.005, mlpclassifier__solver=adam;, score=0.718 total time=   4.8s\n",
      "[CV 3/3; 82/180] START mlpclassifier__activation=relu, mlpclassifier__alpha=0.01, mlpclassifier__hidden_layer_sizes=(100, 50), mlpclassifier__learning_rate=adaptive, mlpclassifier__learning_rate_init=0.0005, mlpclassifier__solver=adam\n"
     ]
    },
    {
     "name": "stderr",
     "output_type": "stream",
     "text": [
      "/opt/anaconda3/lib/python3.12/site-packages/sklearn/neural_network/_multilayer_perceptron.py:690: ConvergenceWarning: Stochastic Optimizer: Maximum iterations (500) reached and the optimization hasn't converged yet.\n",
      "  warnings.warn(\n"
     ]
    },
    {
     "name": "stdout",
     "output_type": "stream",
     "text": [
      "[CV 2/3; 79/180] END mlpclassifier__activation=relu, mlpclassifier__alpha=0.01, mlpclassifier__hidden_layer_sizes=(100, 50), mlpclassifier__learning_rate=constant, mlpclassifier__learning_rate_init=0.0005, mlpclassifier__solver=adam;, score=0.672 total time=  19.1s\n",
      "[CV 1/3; 83/180] START mlpclassifier__activation=relu, mlpclassifier__alpha=0.01, mlpclassifier__hidden_layer_sizes=(100, 50), mlpclassifier__learning_rate=adaptive, mlpclassifier__learning_rate_init=0.001, mlpclassifier__solver=adam\n"
     ]
    },
    {
     "name": "stderr",
     "output_type": "stream",
     "text": [
      "/opt/anaconda3/lib/python3.12/site-packages/sklearn/neural_network/_multilayer_perceptron.py:690: ConvergenceWarning: Stochastic Optimizer: Maximum iterations (500) reached and the optimization hasn't converged yet.\n",
      "  warnings.warn(\n"
     ]
    },
    {
     "name": "stdout",
     "output_type": "stream",
     "text": [
      "[CV 3/3; 79/180] END mlpclassifier__activation=relu, mlpclassifier__alpha=0.01, mlpclassifier__hidden_layer_sizes=(100, 50), mlpclassifier__learning_rate=constant, mlpclassifier__learning_rate_init=0.0005, mlpclassifier__solver=adam;, score=0.712 total time=  18.9s\n",
      "[CV 2/3; 83/180] START mlpclassifier__activation=relu, mlpclassifier__alpha=0.01, mlpclassifier__hidden_layer_sizes=(100, 50), mlpclassifier__learning_rate=adaptive, mlpclassifier__learning_rate_init=0.001, mlpclassifier__solver=adam\n",
      "[CV 1/3; 80/180] END mlpclassifier__activation=relu, mlpclassifier__alpha=0.01, mlpclassifier__hidden_layer_sizes=(100, 50), mlpclassifier__learning_rate=constant, mlpclassifier__learning_rate_init=0.001, mlpclassifier__solver=adam;, score=0.677 total time=  18.1s\n",
      "[CV 3/3; 83/180] START mlpclassifier__activation=relu, mlpclassifier__alpha=0.01, mlpclassifier__hidden_layer_sizes=(100, 50), mlpclassifier__learning_rate=adaptive, mlpclassifier__learning_rate_init=0.001, mlpclassifier__solver=adam\n"
     ]
    },
    {
     "name": "stderr",
     "output_type": "stream",
     "text": [
      "/opt/anaconda3/lib/python3.12/site-packages/sklearn/neural_network/_multilayer_perceptron.py:690: ConvergenceWarning: Stochastic Optimizer: Maximum iterations (500) reached and the optimization hasn't converged yet.\n",
      "  warnings.warn(\n",
      "/opt/anaconda3/lib/python3.12/site-packages/sklearn/neural_network/_multilayer_perceptron.py:690: ConvergenceWarning: Stochastic Optimizer: Maximum iterations (500) reached and the optimization hasn't converged yet.\n",
      "  warnings.warn(\n"
     ]
    },
    {
     "name": "stdout",
     "output_type": "stream",
     "text": [
      "[CV 2/3; 80/180] END mlpclassifier__activation=relu, mlpclassifier__alpha=0.01, mlpclassifier__hidden_layer_sizes=(100, 50), mlpclassifier__learning_rate=constant, mlpclassifier__learning_rate_init=0.001, mlpclassifier__solver=adam;, score=0.692 total time=  19.3s\n",
      "[CV 1/3; 84/180] START mlpclassifier__activation=relu, mlpclassifier__alpha=0.01, mlpclassifier__hidden_layer_sizes=(100, 50), mlpclassifier__learning_rate=adaptive, mlpclassifier__learning_rate_init=0.005, mlpclassifier__solver=adam\n",
      "[CV 3/3; 80/180] END mlpclassifier__activation=relu, mlpclassifier__alpha=0.01, mlpclassifier__hidden_layer_sizes=(100, 50), mlpclassifier__learning_rate=constant, mlpclassifier__learning_rate_init=0.001, mlpclassifier__solver=adam;, score=0.716 total time=  19.1s\n",
      "[CV 2/3; 84/180] START mlpclassifier__activation=relu, mlpclassifier__alpha=0.01, mlpclassifier__hidden_layer_sizes=(100, 50), mlpclassifier__learning_rate=adaptive, mlpclassifier__learning_rate_init=0.005, mlpclassifier__solver=adam\n",
      "[CV 1/3; 84/180] END mlpclassifier__activation=relu, mlpclassifier__alpha=0.01, mlpclassifier__hidden_layer_sizes=(100, 50), mlpclassifier__learning_rate=adaptive, mlpclassifier__learning_rate_init=0.005, mlpclassifier__solver=adam;, score=0.661 total time=   5.0s\n",
      "[CV 3/3; 84/180] START mlpclassifier__activation=relu, mlpclassifier__alpha=0.01, mlpclassifier__hidden_layer_sizes=(100, 50), mlpclassifier__learning_rate=adaptive, mlpclassifier__learning_rate_init=0.005, mlpclassifier__solver=adam\n"
     ]
    },
    {
     "name": "stderr",
     "output_type": "stream",
     "text": [
      "/opt/anaconda3/lib/python3.12/site-packages/sklearn/neural_network/_multilayer_perceptron.py:690: ConvergenceWarning: Stochastic Optimizer: Maximum iterations (500) reached and the optimization hasn't converged yet.\n",
      "  warnings.warn(\n"
     ]
    },
    {
     "name": "stdout",
     "output_type": "stream",
     "text": [
      "[CV 1/3; 82/180] END mlpclassifier__activation=relu, mlpclassifier__alpha=0.01, mlpclassifier__hidden_layer_sizes=(100, 50), mlpclassifier__learning_rate=adaptive, mlpclassifier__learning_rate_init=0.0005, mlpclassifier__solver=adam;, score=0.654 total time=  18.7s\n",
      "[CV 1/3; 85/180] START mlpclassifier__activation=relu, mlpclassifier__alpha=0.01, mlpclassifier__hidden_layer_sizes=(128, 64, 32), mlpclassifier__learning_rate=constant, mlpclassifier__learning_rate_init=0.0005, mlpclassifier__solver=adam\n",
      "[CV 2/3; 84/180] END mlpclassifier__activation=relu, mlpclassifier__alpha=0.01, mlpclassifier__hidden_layer_sizes=(100, 50), mlpclassifier__learning_rate=adaptive, mlpclassifier__learning_rate_init=0.005, mlpclassifier__solver=adam;, score=0.686 total time=   6.6s\n",
      "[CV 2/3; 85/180] START mlpclassifier__activation=relu, mlpclassifier__alpha=0.01, mlpclassifier__hidden_layer_sizes=(128, 64, 32), mlpclassifier__learning_rate=constant, mlpclassifier__learning_rate_init=0.0005, mlpclassifier__solver=adam\n"
     ]
    },
    {
     "name": "stderr",
     "output_type": "stream",
     "text": [
      "/opt/anaconda3/lib/python3.12/site-packages/sklearn/neural_network/_multilayer_perceptron.py:690: ConvergenceWarning: Stochastic Optimizer: Maximum iterations (500) reached and the optimization hasn't converged yet.\n",
      "  warnings.warn(\n"
     ]
    },
    {
     "name": "stdout",
     "output_type": "stream",
     "text": [
      "[CV 2/3; 82/180] END mlpclassifier__activation=relu, mlpclassifier__alpha=0.01, mlpclassifier__hidden_layer_sizes=(100, 50), mlpclassifier__learning_rate=adaptive, mlpclassifier__learning_rate_init=0.0005, mlpclassifier__solver=adam;, score=0.672 total time=  18.6s\n",
      "[CV 3/3; 85/180] START mlpclassifier__activation=relu, mlpclassifier__alpha=0.01, mlpclassifier__hidden_layer_sizes=(128, 64, 32), mlpclassifier__learning_rate=constant, mlpclassifier__learning_rate_init=0.0005, mlpclassifier__solver=adam\n"
     ]
    },
    {
     "name": "stderr",
     "output_type": "stream",
     "text": [
      "/opt/anaconda3/lib/python3.12/site-packages/sklearn/neural_network/_multilayer_perceptron.py:690: ConvergenceWarning: Stochastic Optimizer: Maximum iterations (500) reached and the optimization hasn't converged yet.\n",
      "  warnings.warn(\n"
     ]
    },
    {
     "name": "stdout",
     "output_type": "stream",
     "text": [
      "[CV 3/3; 82/180] END mlpclassifier__activation=relu, mlpclassifier__alpha=0.01, mlpclassifier__hidden_layer_sizes=(100, 50), mlpclassifier__learning_rate=adaptive, mlpclassifier__learning_rate_init=0.0005, mlpclassifier__solver=adam;, score=0.712 total time=  18.8s\n",
      "[CV 1/3; 86/180] START mlpclassifier__activation=relu, mlpclassifier__alpha=0.01, mlpclassifier__hidden_layer_sizes=(128, 64, 32), mlpclassifier__learning_rate=constant, mlpclassifier__learning_rate_init=0.001, mlpclassifier__solver=adam\n",
      "[CV 3/3; 84/180] END mlpclassifier__activation=relu, mlpclassifier__alpha=0.01, mlpclassifier__hidden_layer_sizes=(100, 50), mlpclassifier__learning_rate=adaptive, mlpclassifier__learning_rate_init=0.005, mlpclassifier__solver=adam;, score=0.718 total time=   4.8s\n",
      "[CV 2/3; 86/180] START mlpclassifier__activation=relu, mlpclassifier__alpha=0.01, mlpclassifier__hidden_layer_sizes=(128, 64, 32), mlpclassifier__learning_rate=constant, mlpclassifier__learning_rate_init=0.001, mlpclassifier__solver=adam\n",
      "[CV 1/3; 83/180] END mlpclassifier__activation=relu, mlpclassifier__alpha=0.01, mlpclassifier__hidden_layer_sizes=(100, 50), mlpclassifier__learning_rate=adaptive, mlpclassifier__learning_rate_init=0.001, mlpclassifier__solver=adam;, score=0.677 total time=  17.5s\n",
      "[CV 3/3; 86/180] START mlpclassifier__activation=relu, mlpclassifier__alpha=0.01, mlpclassifier__hidden_layer_sizes=(128, 64, 32), mlpclassifier__learning_rate=constant, mlpclassifier__learning_rate_init=0.001, mlpclassifier__solver=adam\n"
     ]
    },
    {
     "name": "stderr",
     "output_type": "stream",
     "text": [
      "/opt/anaconda3/lib/python3.12/site-packages/sklearn/neural_network/_multilayer_perceptron.py:690: ConvergenceWarning: Stochastic Optimizer: Maximum iterations (500) reached and the optimization hasn't converged yet.\n",
      "  warnings.warn(\n"
     ]
    },
    {
     "name": "stdout",
     "output_type": "stream",
     "text": [
      "[CV 2/3; 83/180] END mlpclassifier__activation=relu, mlpclassifier__alpha=0.01, mlpclassifier__hidden_layer_sizes=(100, 50), mlpclassifier__learning_rate=adaptive, mlpclassifier__learning_rate_init=0.001, mlpclassifier__solver=adam;, score=0.692 total time=  18.6s\n",
      "[CV 1/3; 87/180] START mlpclassifier__activation=relu, mlpclassifier__alpha=0.01, mlpclassifier__hidden_layer_sizes=(128, 64, 32), mlpclassifier__learning_rate=constant, mlpclassifier__learning_rate_init=0.005, mlpclassifier__solver=adam\n"
     ]
    },
    {
     "name": "stderr",
     "output_type": "stream",
     "text": [
      "/opt/anaconda3/lib/python3.12/site-packages/sklearn/neural_network/_multilayer_perceptron.py:690: ConvergenceWarning: Stochastic Optimizer: Maximum iterations (500) reached and the optimization hasn't converged yet.\n",
      "  warnings.warn(\n"
     ]
    },
    {
     "name": "stdout",
     "output_type": "stream",
     "text": [
      "[CV 3/3; 83/180] END mlpclassifier__activation=relu, mlpclassifier__alpha=0.01, mlpclassifier__hidden_layer_sizes=(100, 50), mlpclassifier__learning_rate=adaptive, mlpclassifier__learning_rate_init=0.001, mlpclassifier__solver=adam;, score=0.716 total time=  19.3s\n",
      "[CV 2/3; 87/180] START mlpclassifier__activation=relu, mlpclassifier__alpha=0.01, mlpclassifier__hidden_layer_sizes=(128, 64, 32), mlpclassifier__learning_rate=constant, mlpclassifier__learning_rate_init=0.005, mlpclassifier__solver=adam\n",
      "[CV 1/3; 87/180] END mlpclassifier__activation=relu, mlpclassifier__alpha=0.01, mlpclassifier__hidden_layer_sizes=(128, 64, 32), mlpclassifier__learning_rate=constant, mlpclassifier__learning_rate_init=0.005, mlpclassifier__solver=adam;, score=0.678 total time=   5.7s\n",
      "[CV 3/3; 87/180] START mlpclassifier__activation=relu, mlpclassifier__alpha=0.01, mlpclassifier__hidden_layer_sizes=(128, 64, 32), mlpclassifier__learning_rate=constant, mlpclassifier__learning_rate_init=0.005, mlpclassifier__solver=adam\n",
      "[CV 2/3; 87/180] END mlpclassifier__activation=relu, mlpclassifier__alpha=0.01, mlpclassifier__hidden_layer_sizes=(128, 64, 32), mlpclassifier__learning_rate=constant, mlpclassifier__learning_rate_init=0.005, mlpclassifier__solver=adam;, score=0.693 total time=   4.8s\n",
      "[CV 1/3; 88/180] START mlpclassifier__activation=relu, mlpclassifier__alpha=0.01, mlpclassifier__hidden_layer_sizes=(128, 64, 32), mlpclassifier__learning_rate=adaptive, mlpclassifier__learning_rate_init=0.0005, mlpclassifier__solver=adam\n",
      "[CV 1/3; 86/180] END mlpclassifier__activation=relu, mlpclassifier__alpha=0.01, mlpclassifier__hidden_layer_sizes=(128, 64, 32), mlpclassifier__learning_rate=constant, mlpclassifier__learning_rate_init=0.001, mlpclassifier__solver=adam;, score=0.671 total time=  13.6s\n",
      "[CV 2/3; 88/180] START mlpclassifier__activation=relu, mlpclassifier__alpha=0.01, mlpclassifier__hidden_layer_sizes=(128, 64, 32), mlpclassifier__learning_rate=adaptive, mlpclassifier__learning_rate_init=0.0005, mlpclassifier__solver=adam\n",
      "[CV 3/3; 87/180] END mlpclassifier__activation=relu, mlpclassifier__alpha=0.01, mlpclassifier__hidden_layer_sizes=(128, 64, 32), mlpclassifier__learning_rate=constant, mlpclassifier__learning_rate_init=0.005, mlpclassifier__solver=adam;, score=0.740 total time=   4.6s\n",
      "[CV 3/3; 88/180] START mlpclassifier__activation=relu, mlpclassifier__alpha=0.01, mlpclassifier__hidden_layer_sizes=(128, 64, 32), mlpclassifier__learning_rate=adaptive, mlpclassifier__learning_rate_init=0.0005, mlpclassifier__solver=adam\n",
      "[CV 2/3; 86/180] END mlpclassifier__activation=relu, mlpclassifier__alpha=0.01, mlpclassifier__hidden_layer_sizes=(128, 64, 32), mlpclassifier__learning_rate=constant, mlpclassifier__learning_rate_init=0.001, mlpclassifier__solver=adam;, score=0.686 total time=  15.2s\n",
      "[CV 1/3; 89/180] START mlpclassifier__activation=relu, mlpclassifier__alpha=0.01, mlpclassifier__hidden_layer_sizes=(128, 64, 32), mlpclassifier__learning_rate=adaptive, mlpclassifier__learning_rate_init=0.001, mlpclassifier__solver=adam\n",
      "[CV 3/3; 86/180] END mlpclassifier__activation=relu, mlpclassifier__alpha=0.01, mlpclassifier__hidden_layer_sizes=(128, 64, 32), mlpclassifier__learning_rate=constant, mlpclassifier__learning_rate_init=0.001, mlpclassifier__solver=adam;, score=0.741 total time=  14.6s\n",
      "[CV 2/3; 89/180] START mlpclassifier__activation=relu, mlpclassifier__alpha=0.01, mlpclassifier__hidden_layer_sizes=(128, 64, 32), mlpclassifier__learning_rate=adaptive, mlpclassifier__learning_rate_init=0.001, mlpclassifier__solver=adam\n",
      "[CV 2/3; 85/180] END mlpclassifier__activation=relu, mlpclassifier__alpha=0.01, mlpclassifier__hidden_layer_sizes=(128, 64, 32), mlpclassifier__learning_rate=constant, mlpclassifier__learning_rate_init=0.0005, mlpclassifier__solver=adam;, score=0.692 total time=  24.0s\n",
      "[CV 3/3; 89/180] START mlpclassifier__activation=relu, mlpclassifier__alpha=0.01, mlpclassifier__hidden_layer_sizes=(128, 64, 32), mlpclassifier__learning_rate=adaptive, mlpclassifier__learning_rate_init=0.001, mlpclassifier__solver=adam\n",
      "[CV 1/3; 85/180] END mlpclassifier__activation=relu, mlpclassifier__alpha=0.01, mlpclassifier__hidden_layer_sizes=(128, 64, 32), mlpclassifier__learning_rate=constant, mlpclassifier__learning_rate_init=0.0005, mlpclassifier__solver=adam;, score=0.687 total time=  27.4s\n",
      "[CV 1/3; 90/180] START mlpclassifier__activation=relu, mlpclassifier__alpha=0.01, mlpclassifier__hidden_layer_sizes=(128, 64, 32), mlpclassifier__learning_rate=adaptive, mlpclassifier__learning_rate_init=0.005, mlpclassifier__solver=adam\n",
      "[CV 3/3; 85/180] END mlpclassifier__activation=relu, mlpclassifier__alpha=0.01, mlpclassifier__hidden_layer_sizes=(128, 64, 32), mlpclassifier__learning_rate=constant, mlpclassifier__learning_rate_init=0.0005, mlpclassifier__solver=adam;, score=0.733 total time=  26.7s\n",
      "[CV 2/3; 90/180] START mlpclassifier__activation=relu, mlpclassifier__alpha=0.01, mlpclassifier__hidden_layer_sizes=(128, 64, 32), mlpclassifier__learning_rate=adaptive, mlpclassifier__learning_rate_init=0.005, mlpclassifier__solver=adam\n",
      "[CV 1/3; 89/180] END mlpclassifier__activation=relu, mlpclassifier__alpha=0.01, mlpclassifier__hidden_layer_sizes=(128, 64, 32), mlpclassifier__learning_rate=adaptive, mlpclassifier__learning_rate_init=0.001, mlpclassifier__solver=adam;, score=0.671 total time=  12.5s\n",
      "[CV 3/3; 90/180] START mlpclassifier__activation=relu, mlpclassifier__alpha=0.01, mlpclassifier__hidden_layer_sizes=(128, 64, 32), mlpclassifier__learning_rate=adaptive, mlpclassifier__learning_rate_init=0.005, mlpclassifier__solver=adam\n",
      "[CV 1/3; 90/180] END mlpclassifier__activation=relu, mlpclassifier__alpha=0.01, mlpclassifier__hidden_layer_sizes=(128, 64, 32), mlpclassifier__learning_rate=adaptive, mlpclassifier__learning_rate_init=0.005, mlpclassifier__solver=adam;, score=0.678 total time=   5.1s\n",
      "[CV 1/3; 91/180] START mlpclassifier__activation=tanh, mlpclassifier__alpha=1e-05, mlpclassifier__hidden_layer_sizes=(128, 64), mlpclassifier__learning_rate=constant, mlpclassifier__learning_rate_init=0.0005, mlpclassifier__solver=adam\n",
      "[CV 2/3; 90/180] END mlpclassifier__activation=relu, mlpclassifier__alpha=0.01, mlpclassifier__hidden_layer_sizes=(128, 64, 32), mlpclassifier__learning_rate=adaptive, mlpclassifier__learning_rate_init=0.005, mlpclassifier__solver=adam;, score=0.693 total time=   4.3s\n",
      "[CV 2/3; 91/180] START mlpclassifier__activation=tanh, mlpclassifier__alpha=1e-05, mlpclassifier__hidden_layer_sizes=(128, 64), mlpclassifier__learning_rate=constant, mlpclassifier__learning_rate_init=0.0005, mlpclassifier__solver=adam\n",
      "[CV 2/3; 89/180] END mlpclassifier__activation=relu, mlpclassifier__alpha=0.01, mlpclassifier__hidden_layer_sizes=(128, 64, 32), mlpclassifier__learning_rate=adaptive, mlpclassifier__learning_rate_init=0.001, mlpclassifier__solver=adam;, score=0.686 total time=  14.4s\n",
      "[CV 3/3; 91/180] START mlpclassifier__activation=tanh, mlpclassifier__alpha=1e-05, mlpclassifier__hidden_layer_sizes=(128, 64), mlpclassifier__learning_rate=constant, mlpclassifier__learning_rate_init=0.0005, mlpclassifier__solver=adam\n",
      "[CV 3/3; 90/180] END mlpclassifier__activation=relu, mlpclassifier__alpha=0.01, mlpclassifier__hidden_layer_sizes=(128, 64, 32), mlpclassifier__learning_rate=adaptive, mlpclassifier__learning_rate_init=0.005, mlpclassifier__solver=adam;, score=0.740 total time=   4.7s\n",
      "[CV 1/3; 92/180] START mlpclassifier__activation=tanh, mlpclassifier__alpha=1e-05, mlpclassifier__hidden_layer_sizes=(128, 64), mlpclassifier__learning_rate=constant, mlpclassifier__learning_rate_init=0.001, mlpclassifier__solver=adam\n",
      "[CV 3/3; 89/180] END mlpclassifier__activation=relu, mlpclassifier__alpha=0.01, mlpclassifier__hidden_layer_sizes=(128, 64, 32), mlpclassifier__learning_rate=adaptive, mlpclassifier__learning_rate_init=0.001, mlpclassifier__solver=adam;, score=0.741 total time=  13.9s\n",
      "[CV 2/3; 92/180] START mlpclassifier__activation=tanh, mlpclassifier__alpha=1e-05, mlpclassifier__hidden_layer_sizes=(128, 64), mlpclassifier__learning_rate=constant, mlpclassifier__learning_rate_init=0.001, mlpclassifier__solver=adam\n",
      "[CV 2/3; 88/180] END mlpclassifier__activation=relu, mlpclassifier__alpha=0.01, mlpclassifier__hidden_layer_sizes=(128, 64, 32), mlpclassifier__learning_rate=adaptive, mlpclassifier__learning_rate_init=0.0005, mlpclassifier__solver=adam;, score=0.692 total time=  23.1s\n",
      "[CV 3/3; 92/180] START mlpclassifier__activation=tanh, mlpclassifier__alpha=1e-05, mlpclassifier__hidden_layer_sizes=(128, 64), mlpclassifier__learning_rate=constant, mlpclassifier__learning_rate_init=0.001, mlpclassifier__solver=adam\n",
      "[CV 1/3; 88/180] END mlpclassifier__activation=relu, mlpclassifier__alpha=0.01, mlpclassifier__hidden_layer_sizes=(128, 64, 32), mlpclassifier__learning_rate=adaptive, mlpclassifier__learning_rate_init=0.0005, mlpclassifier__solver=adam;, score=0.687 total time=  27.0s\n",
      "[CV 1/3; 93/180] START mlpclassifier__activation=tanh, mlpclassifier__alpha=1e-05, mlpclassifier__hidden_layer_sizes=(128, 64), mlpclassifier__learning_rate=constant, mlpclassifier__learning_rate_init=0.005, mlpclassifier__solver=adam\n",
      "[CV 3/3; 88/180] END mlpclassifier__activation=relu, mlpclassifier__alpha=0.01, mlpclassifier__hidden_layer_sizes=(128, 64, 32), mlpclassifier__learning_rate=adaptive, mlpclassifier__learning_rate_init=0.0005, mlpclassifier__solver=adam;, score=0.733 total time=  26.3s\n",
      "[CV 2/3; 93/180] START mlpclassifier__activation=tanh, mlpclassifier__alpha=1e-05, mlpclassifier__hidden_layer_sizes=(128, 64), mlpclassifier__learning_rate=constant, mlpclassifier__learning_rate_init=0.005, mlpclassifier__solver=adam\n",
      "[CV 1/3; 93/180] END mlpclassifier__activation=tanh, mlpclassifier__alpha=1e-05, mlpclassifier__hidden_layer_sizes=(128, 64), mlpclassifier__learning_rate=constant, mlpclassifier__learning_rate_init=0.005, mlpclassifier__solver=adam;, score=0.673 total time=   8.6s\n",
      "[CV 3/3; 93/180] START mlpclassifier__activation=tanh, mlpclassifier__alpha=1e-05, mlpclassifier__hidden_layer_sizes=(128, 64), mlpclassifier__learning_rate=constant, mlpclassifier__learning_rate_init=0.005, mlpclassifier__solver=adam\n",
      "[CV 2/3; 93/180] END mlpclassifier__activation=tanh, mlpclassifier__alpha=1e-05, mlpclassifier__hidden_layer_sizes=(128, 64), mlpclassifier__learning_rate=constant, mlpclassifier__learning_rate_init=0.005, mlpclassifier__solver=adam;, score=0.699 total time=   8.5s\n",
      "[CV 1/3; 94/180] START mlpclassifier__activation=tanh, mlpclassifier__alpha=1e-05, mlpclassifier__hidden_layer_sizes=(128, 64), mlpclassifier__learning_rate=adaptive, mlpclassifier__learning_rate_init=0.0005, mlpclassifier__solver=adam\n"
     ]
    },
    {
     "name": "stderr",
     "output_type": "stream",
     "text": [
      "/opt/anaconda3/lib/python3.12/site-packages/sklearn/neural_network/_multilayer_perceptron.py:690: ConvergenceWarning: Stochastic Optimizer: Maximum iterations (500) reached and the optimization hasn't converged yet.\n",
      "  warnings.warn(\n"
     ]
    },
    {
     "name": "stdout",
     "output_type": "stream",
     "text": [
      "[CV 1/3; 91/180] END mlpclassifier__activation=tanh, mlpclassifier__alpha=1e-05, mlpclassifier__hidden_layer_sizes=(128, 64), mlpclassifier__learning_rate=constant, mlpclassifier__learning_rate_init=0.0005, mlpclassifier__solver=adam;, score=0.685 total time=  26.9s\n",
      "[CV 2/3; 94/180] START mlpclassifier__activation=tanh, mlpclassifier__alpha=1e-05, mlpclassifier__hidden_layer_sizes=(128, 64), mlpclassifier__learning_rate=adaptive, mlpclassifier__learning_rate_init=0.0005, mlpclassifier__solver=adam\n"
     ]
    },
    {
     "name": "stderr",
     "output_type": "stream",
     "text": [
      "/opt/anaconda3/lib/python3.12/site-packages/sklearn/neural_network/_multilayer_perceptron.py:690: ConvergenceWarning: Stochastic Optimizer: Maximum iterations (500) reached and the optimization hasn't converged yet.\n",
      "  warnings.warn(\n"
     ]
    },
    {
     "name": "stdout",
     "output_type": "stream",
     "text": [
      "[CV 2/3; 91/180] END mlpclassifier__activation=tanh, mlpclassifier__alpha=1e-05, mlpclassifier__hidden_layer_sizes=(128, 64), mlpclassifier__learning_rate=constant, mlpclassifier__learning_rate_init=0.0005, mlpclassifier__solver=adam;, score=0.683 total time=  26.3s\n",
      "[CV 3/3; 94/180] START mlpclassifier__activation=tanh, mlpclassifier__alpha=1e-05, mlpclassifier__hidden_layer_sizes=(128, 64), mlpclassifier__learning_rate=adaptive, mlpclassifier__learning_rate_init=0.0005, mlpclassifier__solver=adam\n"
     ]
    },
    {
     "name": "stderr",
     "output_type": "stream",
     "text": [
      "/opt/anaconda3/lib/python3.12/site-packages/sklearn/neural_network/_multilayer_perceptron.py:690: ConvergenceWarning: Stochastic Optimizer: Maximum iterations (500) reached and the optimization hasn't converged yet.\n",
      "  warnings.warn(\n"
     ]
    },
    {
     "name": "stdout",
     "output_type": "stream",
     "text": [
      "[CV 3/3; 91/180] END mlpclassifier__activation=tanh, mlpclassifier__alpha=1e-05, mlpclassifier__hidden_layer_sizes=(128, 64), mlpclassifier__learning_rate=constant, mlpclassifier__learning_rate_init=0.0005, mlpclassifier__solver=adam;, score=0.725 total time=  26.6s\n",
      "[CV 1/3; 95/180] START mlpclassifier__activation=tanh, mlpclassifier__alpha=1e-05, mlpclassifier__hidden_layer_sizes=(128, 64), mlpclassifier__learning_rate=adaptive, mlpclassifier__learning_rate_init=0.001, mlpclassifier__solver=adam\n",
      "[CV 3/3; 93/180] END mlpclassifier__activation=tanh, mlpclassifier__alpha=1e-05, mlpclassifier__hidden_layer_sizes=(128, 64), mlpclassifier__learning_rate=constant, mlpclassifier__learning_rate_init=0.005, mlpclassifier__solver=adam;, score=0.722 total time=   9.4s\n",
      "[CV 2/3; 95/180] START mlpclassifier__activation=tanh, mlpclassifier__alpha=1e-05, mlpclassifier__hidden_layer_sizes=(128, 64), mlpclassifier__learning_rate=adaptive, mlpclassifier__learning_rate_init=0.001, mlpclassifier__solver=adam\n"
     ]
    },
    {
     "name": "stderr",
     "output_type": "stream",
     "text": [
      "/opt/anaconda3/lib/python3.12/site-packages/sklearn/neural_network/_multilayer_perceptron.py:690: ConvergenceWarning: Stochastic Optimizer: Maximum iterations (500) reached and the optimization hasn't converged yet.\n",
      "  warnings.warn(\n"
     ]
    },
    {
     "name": "stdout",
     "output_type": "stream",
     "text": [
      "[CV 1/3; 92/180] END mlpclassifier__activation=tanh, mlpclassifier__alpha=1e-05, mlpclassifier__hidden_layer_sizes=(128, 64), mlpclassifier__learning_rate=constant, mlpclassifier__learning_rate_init=0.001, mlpclassifier__solver=adam;, score=0.697 total time=  27.1s\n",
      "[CV 3/3; 95/180] START mlpclassifier__activation=tanh, mlpclassifier__alpha=1e-05, mlpclassifier__hidden_layer_sizes=(128, 64), mlpclassifier__learning_rate=adaptive, mlpclassifier__learning_rate_init=0.001, mlpclassifier__solver=adam\n"
     ]
    },
    {
     "name": "stderr",
     "output_type": "stream",
     "text": [
      "/opt/anaconda3/lib/python3.12/site-packages/sklearn/neural_network/_multilayer_perceptron.py:690: ConvergenceWarning: Stochastic Optimizer: Maximum iterations (500) reached and the optimization hasn't converged yet.\n",
      "  warnings.warn(\n"
     ]
    },
    {
     "name": "stdout",
     "output_type": "stream",
     "text": [
      "[CV 2/3; 92/180] END mlpclassifier__activation=tanh, mlpclassifier__alpha=1e-05, mlpclassifier__hidden_layer_sizes=(128, 64), mlpclassifier__learning_rate=constant, mlpclassifier__learning_rate_init=0.001, mlpclassifier__solver=adam;, score=0.692 total time=  27.0s\n",
      "[CV 1/3; 96/180] START mlpclassifier__activation=tanh, mlpclassifier__alpha=1e-05, mlpclassifier__hidden_layer_sizes=(128, 64), mlpclassifier__learning_rate=adaptive, mlpclassifier__learning_rate_init=0.005, mlpclassifier__solver=adam\n"
     ]
    },
    {
     "name": "stderr",
     "output_type": "stream",
     "text": [
      "/opt/anaconda3/lib/python3.12/site-packages/sklearn/neural_network/_multilayer_perceptron.py:690: ConvergenceWarning: Stochastic Optimizer: Maximum iterations (500) reached and the optimization hasn't converged yet.\n",
      "  warnings.warn(\n"
     ]
    },
    {
     "name": "stdout",
     "output_type": "stream",
     "text": [
      "[CV 3/3; 92/180] END mlpclassifier__activation=tanh, mlpclassifier__alpha=1e-05, mlpclassifier__hidden_layer_sizes=(128, 64), mlpclassifier__learning_rate=constant, mlpclassifier__learning_rate_init=0.001, mlpclassifier__solver=adam;, score=0.740 total time=  26.7s\n",
      "[CV 2/3; 96/180] START mlpclassifier__activation=tanh, mlpclassifier__alpha=1e-05, mlpclassifier__hidden_layer_sizes=(128, 64), mlpclassifier__learning_rate=adaptive, mlpclassifier__learning_rate_init=0.005, mlpclassifier__solver=adam\n",
      "[CV 1/3; 96/180] END mlpclassifier__activation=tanh, mlpclassifier__alpha=1e-05, mlpclassifier__hidden_layer_sizes=(128, 64), mlpclassifier__learning_rate=adaptive, mlpclassifier__learning_rate_init=0.005, mlpclassifier__solver=adam;, score=0.673 total time=   8.7s\n",
      "[CV 3/3; 96/180] START mlpclassifier__activation=tanh, mlpclassifier__alpha=1e-05, mlpclassifier__hidden_layer_sizes=(128, 64), mlpclassifier__learning_rate=adaptive, mlpclassifier__learning_rate_init=0.005, mlpclassifier__solver=adam\n",
      "[CV 2/3; 96/180] END mlpclassifier__activation=tanh, mlpclassifier__alpha=1e-05, mlpclassifier__hidden_layer_sizes=(128, 64), mlpclassifier__learning_rate=adaptive, mlpclassifier__learning_rate_init=0.005, mlpclassifier__solver=adam;, score=0.699 total time=   8.5s\n",
      "[CV 1/3; 97/180] START mlpclassifier__activation=tanh, mlpclassifier__alpha=1e-05, mlpclassifier__hidden_layer_sizes=(100, 50), mlpclassifier__learning_rate=constant, mlpclassifier__learning_rate_init=0.0005, mlpclassifier__solver=adam\n"
     ]
    },
    {
     "name": "stderr",
     "output_type": "stream",
     "text": [
      "/opt/anaconda3/lib/python3.12/site-packages/sklearn/neural_network/_multilayer_perceptron.py:690: ConvergenceWarning: Stochastic Optimizer: Maximum iterations (500) reached and the optimization hasn't converged yet.\n",
      "  warnings.warn(\n"
     ]
    },
    {
     "name": "stdout",
     "output_type": "stream",
     "text": [
      "[CV 1/3; 94/180] END mlpclassifier__activation=tanh, mlpclassifier__alpha=1e-05, mlpclassifier__hidden_layer_sizes=(128, 64), mlpclassifier__learning_rate=adaptive, mlpclassifier__learning_rate_init=0.0005, mlpclassifier__solver=adam;, score=0.685 total time=  26.3s\n",
      "[CV 2/3; 97/180] START mlpclassifier__activation=tanh, mlpclassifier__alpha=1e-05, mlpclassifier__hidden_layer_sizes=(100, 50), mlpclassifier__learning_rate=constant, mlpclassifier__learning_rate_init=0.0005, mlpclassifier__solver=adam\n",
      "[CV 3/3; 96/180] END mlpclassifier__activation=tanh, mlpclassifier__alpha=1e-05, mlpclassifier__hidden_layer_sizes=(128, 64), mlpclassifier__learning_rate=adaptive, mlpclassifier__learning_rate_init=0.005, mlpclassifier__solver=adam;, score=0.722 total time=   8.8s\n",
      "[CV 3/3; 97/180] START mlpclassifier__activation=tanh, mlpclassifier__alpha=1e-05, mlpclassifier__hidden_layer_sizes=(100, 50), mlpclassifier__learning_rate=constant, mlpclassifier__learning_rate_init=0.0005, mlpclassifier__solver=adam\n"
     ]
    },
    {
     "name": "stderr",
     "output_type": "stream",
     "text": [
      "/opt/anaconda3/lib/python3.12/site-packages/sklearn/neural_network/_multilayer_perceptron.py:690: ConvergenceWarning: Stochastic Optimizer: Maximum iterations (500) reached and the optimization hasn't converged yet.\n",
      "  warnings.warn(\n",
      "/opt/anaconda3/lib/python3.12/site-packages/sklearn/neural_network/_multilayer_perceptron.py:690: ConvergenceWarning: Stochastic Optimizer: Maximum iterations (500) reached and the optimization hasn't converged yet.\n",
      "  warnings.warn(\n"
     ]
    },
    {
     "name": "stdout",
     "output_type": "stream",
     "text": [
      "[CV 3/3; 94/180] END mlpclassifier__activation=tanh, mlpclassifier__alpha=1e-05, mlpclassifier__hidden_layer_sizes=(128, 64), mlpclassifier__learning_rate=adaptive, mlpclassifier__learning_rate_init=0.0005, mlpclassifier__solver=adam;, score=0.725 total time=  26.1s\n",
      "[CV 1/3; 98/180] START mlpclassifier__activation=tanh, mlpclassifier__alpha=1e-05, mlpclassifier__hidden_layer_sizes=(100, 50), mlpclassifier__learning_rate=constant, mlpclassifier__learning_rate_init=0.001, mlpclassifier__solver=adam\n",
      "[CV 2/3; 94/180] END mlpclassifier__activation=tanh, mlpclassifier__alpha=1e-05, mlpclassifier__hidden_layer_sizes=(128, 64), mlpclassifier__learning_rate=adaptive, mlpclassifier__learning_rate_init=0.0005, mlpclassifier__solver=adam;, score=0.683 total time=  26.6s\n",
      "[CV 2/3; 98/180] START mlpclassifier__activation=tanh, mlpclassifier__alpha=1e-05, mlpclassifier__hidden_layer_sizes=(100, 50), mlpclassifier__learning_rate=constant, mlpclassifier__learning_rate_init=0.001, mlpclassifier__solver=adam\n"
     ]
    },
    {
     "name": "stderr",
     "output_type": "stream",
     "text": [
      "/opt/anaconda3/lib/python3.12/site-packages/sklearn/neural_network/_multilayer_perceptron.py:690: ConvergenceWarning: Stochastic Optimizer: Maximum iterations (500) reached and the optimization hasn't converged yet.\n",
      "  warnings.warn(\n"
     ]
    },
    {
     "name": "stdout",
     "output_type": "stream",
     "text": [
      "[CV 1/3; 95/180] END mlpclassifier__activation=tanh, mlpclassifier__alpha=1e-05, mlpclassifier__hidden_layer_sizes=(128, 64), mlpclassifier__learning_rate=adaptive, mlpclassifier__learning_rate_init=0.001, mlpclassifier__solver=adam;, score=0.697 total time=  26.2s\n",
      "[CV 3/3; 98/180] START mlpclassifier__activation=tanh, mlpclassifier__alpha=1e-05, mlpclassifier__hidden_layer_sizes=(100, 50), mlpclassifier__learning_rate=constant, mlpclassifier__learning_rate_init=0.001, mlpclassifier__solver=adam\n"
     ]
    },
    {
     "name": "stderr",
     "output_type": "stream",
     "text": [
      "/opt/anaconda3/lib/python3.12/site-packages/sklearn/neural_network/_multilayer_perceptron.py:690: ConvergenceWarning: Stochastic Optimizer: Maximum iterations (500) reached and the optimization hasn't converged yet.\n",
      "  warnings.warn(\n"
     ]
    },
    {
     "name": "stdout",
     "output_type": "stream",
     "text": [
      "[CV 2/3; 95/180] END mlpclassifier__activation=tanh, mlpclassifier__alpha=1e-05, mlpclassifier__hidden_layer_sizes=(128, 64), mlpclassifier__learning_rate=adaptive, mlpclassifier__learning_rate_init=0.001, mlpclassifier__solver=adam;, score=0.692 total time=  26.2s\n",
      "[CV 1/3; 99/180] START mlpclassifier__activation=tanh, mlpclassifier__alpha=1e-05, mlpclassifier__hidden_layer_sizes=(100, 50), mlpclassifier__learning_rate=constant, mlpclassifier__learning_rate_init=0.005, mlpclassifier__solver=adam\n"
     ]
    },
    {
     "name": "stderr",
     "output_type": "stream",
     "text": [
      "/opt/anaconda3/lib/python3.12/site-packages/sklearn/neural_network/_multilayer_perceptron.py:690: ConvergenceWarning: Stochastic Optimizer: Maximum iterations (500) reached and the optimization hasn't converged yet.\n",
      "  warnings.warn(\n"
     ]
    },
    {
     "name": "stdout",
     "output_type": "stream",
     "text": [
      "[CV 3/3; 95/180] END mlpclassifier__activation=tanh, mlpclassifier__alpha=1e-05, mlpclassifier__hidden_layer_sizes=(128, 64), mlpclassifier__learning_rate=adaptive, mlpclassifier__learning_rate_init=0.001, mlpclassifier__solver=adam;, score=0.740 total time=  26.0s\n",
      "[CV 2/3; 99/180] START mlpclassifier__activation=tanh, mlpclassifier__alpha=1e-05, mlpclassifier__hidden_layer_sizes=(100, 50), mlpclassifier__learning_rate=constant, mlpclassifier__learning_rate_init=0.005, mlpclassifier__solver=adam\n"
     ]
    },
    {
     "name": "stderr",
     "output_type": "stream",
     "text": [
      "/opt/anaconda3/lib/python3.12/site-packages/sklearn/neural_network/_multilayer_perceptron.py:690: ConvergenceWarning: Stochastic Optimizer: Maximum iterations (500) reached and the optimization hasn't converged yet.\n",
      "  warnings.warn(\n"
     ]
    },
    {
     "name": "stdout",
     "output_type": "stream",
     "text": [
      "[CV 1/3; 97/180] END mlpclassifier__activation=tanh, mlpclassifier__alpha=1e-05, mlpclassifier__hidden_layer_sizes=(100, 50), mlpclassifier__learning_rate=constant, mlpclassifier__learning_rate_init=0.0005, mlpclassifier__solver=adam;, score=0.684 total time=  19.4s\n",
      "[CV 3/3; 99/180] START mlpclassifier__activation=tanh, mlpclassifier__alpha=1e-05, mlpclassifier__hidden_layer_sizes=(100, 50), mlpclassifier__learning_rate=constant, mlpclassifier__learning_rate_init=0.005, mlpclassifier__solver=adam\n",
      "[CV 1/3; 99/180] END mlpclassifier__activation=tanh, mlpclassifier__alpha=1e-05, mlpclassifier__hidden_layer_sizes=(100, 50), mlpclassifier__learning_rate=constant, mlpclassifier__learning_rate_init=0.005, mlpclassifier__solver=adam;, score=0.675 total time=   8.8s\n",
      "[CV 1/3; 100/180] START mlpclassifier__activation=tanh, mlpclassifier__alpha=1e-05, mlpclassifier__hidden_layer_sizes=(100, 50), mlpclassifier__learning_rate=adaptive, mlpclassifier__learning_rate_init=0.0005, mlpclassifier__solver=adam\n",
      "[CV 2/3; 99/180] END mlpclassifier__activation=tanh, mlpclassifier__alpha=1e-05, mlpclassifier__hidden_layer_sizes=(100, 50), mlpclassifier__learning_rate=constant, mlpclassifier__learning_rate_init=0.005, mlpclassifier__solver=adam;, score=0.675 total time=   8.9s\n",
      "[CV 2/3; 100/180] START mlpclassifier__activation=tanh, mlpclassifier__alpha=1e-05, mlpclassifier__hidden_layer_sizes=(100, 50), mlpclassifier__learning_rate=adaptive, mlpclassifier__learning_rate_init=0.0005, mlpclassifier__solver=adam\n"
     ]
    },
    {
     "name": "stderr",
     "output_type": "stream",
     "text": [
      "/opt/anaconda3/lib/python3.12/site-packages/sklearn/neural_network/_multilayer_perceptron.py:690: ConvergenceWarning: Stochastic Optimizer: Maximum iterations (500) reached and the optimization hasn't converged yet.\n",
      "  warnings.warn(\n"
     ]
    },
    {
     "name": "stdout",
     "output_type": "stream",
     "text": [
      "[CV 2/3; 97/180] END mlpclassifier__activation=tanh, mlpclassifier__alpha=1e-05, mlpclassifier__hidden_layer_sizes=(100, 50), mlpclassifier__learning_rate=constant, mlpclassifier__learning_rate_init=0.0005, mlpclassifier__solver=adam;, score=0.680 total time=  19.6s\n",
      "[CV 3/3; 100/180] START mlpclassifier__activation=tanh, mlpclassifier__alpha=1e-05, mlpclassifier__hidden_layer_sizes=(100, 50), mlpclassifier__learning_rate=adaptive, mlpclassifier__learning_rate_init=0.0005, mlpclassifier__solver=adam\n",
      "[CV 3/3; 99/180] END mlpclassifier__activation=tanh, mlpclassifier__alpha=1e-05, mlpclassifier__hidden_layer_sizes=(100, 50), mlpclassifier__learning_rate=constant, mlpclassifier__learning_rate_init=0.005, mlpclassifier__solver=adam;, score=0.714 total time=   8.8s\n",
      "[CV 1/3; 101/180] START mlpclassifier__activation=tanh, mlpclassifier__alpha=1e-05, mlpclassifier__hidden_layer_sizes=(100, 50), mlpclassifier__learning_rate=adaptive, mlpclassifier__learning_rate_init=0.001, mlpclassifier__solver=adam\n",
      "[CV 3/3; 97/180] END mlpclassifier__activation=tanh, mlpclassifier__alpha=1e-05, mlpclassifier__hidden_layer_sizes=(100, 50), mlpclassifier__learning_rate=constant, mlpclassifier__learning_rate_init=0.0005, mlpclassifier__solver=adam;, score=0.719 total time=  20.1s\n",
      "[CV 2/3; 101/180] START mlpclassifier__activation=tanh, mlpclassifier__alpha=1e-05, mlpclassifier__hidden_layer_sizes=(100, 50), mlpclassifier__learning_rate=adaptive, mlpclassifier__learning_rate_init=0.001, mlpclassifier__solver=adam\n"
     ]
    },
    {
     "name": "stderr",
     "output_type": "stream",
     "text": [
      "/opt/anaconda3/lib/python3.12/site-packages/sklearn/neural_network/_multilayer_perceptron.py:690: ConvergenceWarning: Stochastic Optimizer: Maximum iterations (500) reached and the optimization hasn't converged yet.\n",
      "  warnings.warn(\n",
      "/opt/anaconda3/lib/python3.12/site-packages/sklearn/neural_network/_multilayer_perceptron.py:690: ConvergenceWarning: Stochastic Optimizer: Maximum iterations (500) reached and the optimization hasn't converged yet.\n",
      "  warnings.warn(\n",
      "/opt/anaconda3/lib/python3.12/site-packages/sklearn/neural_network/_multilayer_perceptron.py:690: ConvergenceWarning: Stochastic Optimizer: Maximum iterations (500) reached and the optimization hasn't converged yet.\n",
      "  warnings.warn(\n"
     ]
    },
    {
     "name": "stdout",
     "output_type": "stream",
     "text": [
      "[CV 2/3; 98/180] END mlpclassifier__activation=tanh, mlpclassifier__alpha=1e-05, mlpclassifier__hidden_layer_sizes=(100, 50), mlpclassifier__learning_rate=constant, mlpclassifier__learning_rate_init=0.001, mlpclassifier__solver=adam;, score=0.687 total time=  20.4s\n",
      "[CV 3/3; 101/180] START mlpclassifier__activation=tanh, mlpclassifier__alpha=1e-05, mlpclassifier__hidden_layer_sizes=(100, 50), mlpclassifier__learning_rate=adaptive, mlpclassifier__learning_rate_init=0.001, mlpclassifier__solver=adam\n",
      "[CV 1/3; 98/180] END mlpclassifier__activation=tanh, mlpclassifier__alpha=1e-05, mlpclassifier__hidden_layer_sizes=(100, 50), mlpclassifier__learning_rate=constant, mlpclassifier__learning_rate_init=0.001, mlpclassifier__solver=adam;, score=0.676 total time=  20.5s\n",
      "[CV 1/3; 102/180] START mlpclassifier__activation=tanh, mlpclassifier__alpha=1e-05, mlpclassifier__hidden_layer_sizes=(100, 50), mlpclassifier__learning_rate=adaptive, mlpclassifier__learning_rate_init=0.005, mlpclassifier__solver=adam\n"
     ]
    },
    {
     "name": "stderr",
     "output_type": "stream",
     "text": [
      "/opt/anaconda3/lib/python3.12/site-packages/sklearn/neural_network/_multilayer_perceptron.py:690: ConvergenceWarning: Stochastic Optimizer: Maximum iterations (500) reached and the optimization hasn't converged yet.\n",
      "  warnings.warn(\n"
     ]
    },
    {
     "name": "stdout",
     "output_type": "stream",
     "text": [
      "[CV 3/3; 98/180] END mlpclassifier__activation=tanh, mlpclassifier__alpha=1e-05, mlpclassifier__hidden_layer_sizes=(100, 50), mlpclassifier__learning_rate=constant, mlpclassifier__learning_rate_init=0.001, mlpclassifier__solver=adam;, score=0.727 total time=  20.2s\n",
      "[CV 2/3; 102/180] START mlpclassifier__activation=tanh, mlpclassifier__alpha=1e-05, mlpclassifier__hidden_layer_sizes=(100, 50), mlpclassifier__learning_rate=adaptive, mlpclassifier__learning_rate_init=0.005, mlpclassifier__solver=adam\n",
      "[CV 1/3; 102/180] END mlpclassifier__activation=tanh, mlpclassifier__alpha=1e-05, mlpclassifier__hidden_layer_sizes=(100, 50), mlpclassifier__learning_rate=adaptive, mlpclassifier__learning_rate_init=0.005, mlpclassifier__solver=adam;, score=0.675 total time=   9.3s\n",
      "[CV 3/3; 102/180] START mlpclassifier__activation=tanh, mlpclassifier__alpha=1e-05, mlpclassifier__hidden_layer_sizes=(100, 50), mlpclassifier__learning_rate=adaptive, mlpclassifier__learning_rate_init=0.005, mlpclassifier__solver=adam\n",
      "[CV 2/3; 102/180] END mlpclassifier__activation=tanh, mlpclassifier__alpha=1e-05, mlpclassifier__hidden_layer_sizes=(100, 50), mlpclassifier__learning_rate=adaptive, mlpclassifier__learning_rate_init=0.005, mlpclassifier__solver=adam;, score=0.675 total time=   9.2s\n",
      "[CV 1/3; 103/180] START mlpclassifier__activation=tanh, mlpclassifier__alpha=1e-05, mlpclassifier__hidden_layer_sizes=(128, 64, 32), mlpclassifier__learning_rate=constant, mlpclassifier__learning_rate_init=0.0005, mlpclassifier__solver=adam\n"
     ]
    },
    {
     "name": "stderr",
     "output_type": "stream",
     "text": [
      "/opt/anaconda3/lib/python3.12/site-packages/sklearn/neural_network/_multilayer_perceptron.py:690: ConvergenceWarning: Stochastic Optimizer: Maximum iterations (500) reached and the optimization hasn't converged yet.\n",
      "  warnings.warn(\n"
     ]
    },
    {
     "name": "stdout",
     "output_type": "stream",
     "text": [
      "[CV 1/3; 100/180] END mlpclassifier__activation=tanh, mlpclassifier__alpha=1e-05, mlpclassifier__hidden_layer_sizes=(100, 50), mlpclassifier__learning_rate=adaptive, mlpclassifier__learning_rate_init=0.0005, mlpclassifier__solver=adam;, score=0.684 total time=  21.7s\n",
      "[CV 2/3; 103/180] START mlpclassifier__activation=tanh, mlpclassifier__alpha=1e-05, mlpclassifier__hidden_layer_sizes=(128, 64, 32), mlpclassifier__learning_rate=constant, mlpclassifier__learning_rate_init=0.0005, mlpclassifier__solver=adam\n"
     ]
    },
    {
     "name": "stderr",
     "output_type": "stream",
     "text": [
      "/opt/anaconda3/lib/python3.12/site-packages/sklearn/neural_network/_multilayer_perceptron.py:690: ConvergenceWarning: Stochastic Optimizer: Maximum iterations (500) reached and the optimization hasn't converged yet.\n",
      "  warnings.warn(\n"
     ]
    },
    {
     "name": "stdout",
     "output_type": "stream",
     "text": [
      "[CV 2/3; 100/180] END mlpclassifier__activation=tanh, mlpclassifier__alpha=1e-05, mlpclassifier__hidden_layer_sizes=(100, 50), mlpclassifier__learning_rate=adaptive, mlpclassifier__learning_rate_init=0.0005, mlpclassifier__solver=adam;, score=0.680 total time=  21.4s\n",
      "[CV 3/3; 103/180] START mlpclassifier__activation=tanh, mlpclassifier__alpha=1e-05, mlpclassifier__hidden_layer_sizes=(128, 64, 32), mlpclassifier__learning_rate=constant, mlpclassifier__learning_rate_init=0.0005, mlpclassifier__solver=adam\n"
     ]
    },
    {
     "name": "stderr",
     "output_type": "stream",
     "text": [
      "/opt/anaconda3/lib/python3.12/site-packages/sklearn/neural_network/_multilayer_perceptron.py:690: ConvergenceWarning: Stochastic Optimizer: Maximum iterations (500) reached and the optimization hasn't converged yet.\n",
      "  warnings.warn(\n"
     ]
    },
    {
     "name": "stdout",
     "output_type": "stream",
     "text": [
      "[CV 3/3; 100/180] END mlpclassifier__activation=tanh, mlpclassifier__alpha=1e-05, mlpclassifier__hidden_layer_sizes=(100, 50), mlpclassifier__learning_rate=adaptive, mlpclassifier__learning_rate_init=0.0005, mlpclassifier__solver=adam;, score=0.719 total time=  21.3s\n",
      "[CV 1/3; 104/180] START mlpclassifier__activation=tanh, mlpclassifier__alpha=1e-05, mlpclassifier__hidden_layer_sizes=(128, 64, 32), mlpclassifier__learning_rate=constant, mlpclassifier__learning_rate_init=0.001, mlpclassifier__solver=adam\n"
     ]
    },
    {
     "name": "stderr",
     "output_type": "stream",
     "text": [
      "/opt/anaconda3/lib/python3.12/site-packages/sklearn/neural_network/_multilayer_perceptron.py:690: ConvergenceWarning: Stochastic Optimizer: Maximum iterations (500) reached and the optimization hasn't converged yet.\n",
      "  warnings.warn(\n",
      "/opt/anaconda3/lib/python3.12/site-packages/sklearn/neural_network/_multilayer_perceptron.py:690: ConvergenceWarning: Stochastic Optimizer: Maximum iterations (500) reached and the optimization hasn't converged yet.\n",
      "  warnings.warn(\n"
     ]
    },
    {
     "name": "stdout",
     "output_type": "stream",
     "text": [
      "[CV 1/3; 101/180] END mlpclassifier__activation=tanh, mlpclassifier__alpha=1e-05, mlpclassifier__hidden_layer_sizes=(100, 50), mlpclassifier__learning_rate=adaptive, mlpclassifier__learning_rate_init=0.001, mlpclassifier__solver=adam;, score=0.676 total time=  20.9s\n",
      "[CV 2/3; 101/180] END mlpclassifier__activation=tanh, mlpclassifier__alpha=1e-05, mlpclassifier__hidden_layer_sizes=(100, 50), mlpclassifier__learning_rate=adaptive, mlpclassifier__learning_rate_init=0.001, mlpclassifier__solver=adam;, score=0.687 total time=  20.8s\n",
      "[CV 2/3; 104/180] START mlpclassifier__activation=tanh, mlpclassifier__alpha=1e-05, mlpclassifier__hidden_layer_sizes=(128, 64, 32), mlpclassifier__learning_rate=constant, mlpclassifier__learning_rate_init=0.001, mlpclassifier__solver=adam\n",
      "[CV 3/3; 104/180] START mlpclassifier__activation=tanh, mlpclassifier__alpha=1e-05, mlpclassifier__hidden_layer_sizes=(128, 64, 32), mlpclassifier__learning_rate=constant, mlpclassifier__learning_rate_init=0.001, mlpclassifier__solver=adam\n",
      "[CV 3/3; 102/180] END mlpclassifier__activation=tanh, mlpclassifier__alpha=1e-05, mlpclassifier__hidden_layer_sizes=(100, 50), mlpclassifier__learning_rate=adaptive, mlpclassifier__learning_rate_init=0.005, mlpclassifier__solver=adam;, score=0.714 total time=   8.5s\n",
      "[CV 1/3; 105/180] START mlpclassifier__activation=tanh, mlpclassifier__alpha=1e-05, mlpclassifier__hidden_layer_sizes=(128, 64, 32), mlpclassifier__learning_rate=constant, mlpclassifier__learning_rate_init=0.005, mlpclassifier__solver=adam\n"
     ]
    },
    {
     "name": "stderr",
     "output_type": "stream",
     "text": [
      "/opt/anaconda3/lib/python3.12/site-packages/sklearn/neural_network/_multilayer_perceptron.py:690: ConvergenceWarning: Stochastic Optimizer: Maximum iterations (500) reached and the optimization hasn't converged yet.\n",
      "  warnings.warn(\n"
     ]
    },
    {
     "name": "stdout",
     "output_type": "stream",
     "text": [
      "[CV 3/3; 101/180] END mlpclassifier__activation=tanh, mlpclassifier__alpha=1e-05, mlpclassifier__hidden_layer_sizes=(100, 50), mlpclassifier__learning_rate=adaptive, mlpclassifier__learning_rate_init=0.001, mlpclassifier__solver=adam;, score=0.727 total time=  20.9s\n",
      "[CV 2/3; 105/180] START mlpclassifier__activation=tanh, mlpclassifier__alpha=1e-05, mlpclassifier__hidden_layer_sizes=(128, 64, 32), mlpclassifier__learning_rate=constant, mlpclassifier__learning_rate_init=0.005, mlpclassifier__solver=adam\n",
      "[CV 1/3; 105/180] END mlpclassifier__activation=tanh, mlpclassifier__alpha=1e-05, mlpclassifier__hidden_layer_sizes=(128, 64, 32), mlpclassifier__learning_rate=constant, mlpclassifier__learning_rate_init=0.005, mlpclassifier__solver=adam;, score=0.647 total time=   7.4s\n",
      "[CV 3/3; 105/180] START mlpclassifier__activation=tanh, mlpclassifier__alpha=1e-05, mlpclassifier__hidden_layer_sizes=(128, 64, 32), mlpclassifier__learning_rate=constant, mlpclassifier__learning_rate_init=0.005, mlpclassifier__solver=adam\n",
      "[CV 2/3; 105/180] END mlpclassifier__activation=tanh, mlpclassifier__alpha=1e-05, mlpclassifier__hidden_layer_sizes=(128, 64, 32), mlpclassifier__learning_rate=constant, mlpclassifier__learning_rate_init=0.005, mlpclassifier__solver=adam;, score=0.683 total time=   6.1s\n",
      "[CV 1/3; 106/180] START mlpclassifier__activation=tanh, mlpclassifier__alpha=1e-05, mlpclassifier__hidden_layer_sizes=(128, 64, 32), mlpclassifier__learning_rate=adaptive, mlpclassifier__learning_rate_init=0.0005, mlpclassifier__solver=adam\n",
      "[CV 3/3; 105/180] END mlpclassifier__activation=tanh, mlpclassifier__alpha=1e-05, mlpclassifier__hidden_layer_sizes=(128, 64, 32), mlpclassifier__learning_rate=constant, mlpclassifier__learning_rate_init=0.005, mlpclassifier__solver=adam;, score=0.726 total time=   8.6s\n",
      "[CV 2/3; 106/180] START mlpclassifier__activation=tanh, mlpclassifier__alpha=1e-05, mlpclassifier__hidden_layer_sizes=(128, 64, 32), mlpclassifier__learning_rate=adaptive, mlpclassifier__learning_rate_init=0.0005, mlpclassifier__solver=adam\n",
      "[CV 1/3; 104/180] END mlpclassifier__activation=tanh, mlpclassifier__alpha=1e-05, mlpclassifier__hidden_layer_sizes=(128, 64, 32), mlpclassifier__learning_rate=constant, mlpclassifier__learning_rate_init=0.001, mlpclassifier__solver=adam;, score=0.672 total time=  28.6s\n",
      "[CV 3/3; 106/180] START mlpclassifier__activation=tanh, mlpclassifier__alpha=1e-05, mlpclassifier__hidden_layer_sizes=(128, 64, 32), mlpclassifier__learning_rate=adaptive, mlpclassifier__learning_rate_init=0.0005, mlpclassifier__solver=adam\n"
     ]
    },
    {
     "name": "stderr",
     "output_type": "stream",
     "text": [
      "/opt/anaconda3/lib/python3.12/site-packages/sklearn/neural_network/_multilayer_perceptron.py:690: ConvergenceWarning: Stochastic Optimizer: Maximum iterations (500) reached and the optimization hasn't converged yet.\n",
      "  warnings.warn(\n"
     ]
    },
    {
     "name": "stdout",
     "output_type": "stream",
     "text": [
      "[CV 1/3; 103/180] END mlpclassifier__activation=tanh, mlpclassifier__alpha=1e-05, mlpclassifier__hidden_layer_sizes=(128, 64, 32), mlpclassifier__learning_rate=constant, mlpclassifier__learning_rate_init=0.0005, mlpclassifier__solver=adam;, score=0.670 total time=  33.3s\n",
      "[CV 1/3; 107/180] START mlpclassifier__activation=tanh, mlpclassifier__alpha=1e-05, mlpclassifier__hidden_layer_sizes=(128, 64, 32), mlpclassifier__learning_rate=adaptive, mlpclassifier__learning_rate_init=0.001, mlpclassifier__solver=adam\n",
      "[CV 2/3; 104/180] END mlpclassifier__activation=tanh, mlpclassifier__alpha=1e-05, mlpclassifier__hidden_layer_sizes=(128, 64, 32), mlpclassifier__learning_rate=constant, mlpclassifier__learning_rate_init=0.001, mlpclassifier__solver=adam;, score=0.698 total time=  27.0s\n",
      "[CV 3/3; 104/180] END mlpclassifier__activation=tanh, mlpclassifier__alpha=1e-05, mlpclassifier__hidden_layer_sizes=(128, 64, 32), mlpclassifier__learning_rate=constant, mlpclassifier__learning_rate_init=0.001, mlpclassifier__solver=adam;, score=0.731 total time=  27.0s\n",
      "[CV 2/3; 107/180] START mlpclassifier__activation=tanh, mlpclassifier__alpha=1e-05, mlpclassifier__hidden_layer_sizes=(128, 64, 32), mlpclassifier__learning_rate=adaptive, mlpclassifier__learning_rate_init=0.001, mlpclassifier__solver=adam\n",
      "[CV 3/3; 107/180] START mlpclassifier__activation=tanh, mlpclassifier__alpha=1e-05, mlpclassifier__hidden_layer_sizes=(128, 64, 32), mlpclassifier__learning_rate=adaptive, mlpclassifier__learning_rate_init=0.001, mlpclassifier__solver=adam\n"
     ]
    },
    {
     "name": "stderr",
     "output_type": "stream",
     "text": [
      "/opt/anaconda3/lib/python3.12/site-packages/sklearn/neural_network/_multilayer_perceptron.py:690: ConvergenceWarning: Stochastic Optimizer: Maximum iterations (500) reached and the optimization hasn't converged yet.\n",
      "  warnings.warn(\n"
     ]
    },
    {
     "name": "stdout",
     "output_type": "stream",
     "text": [
      "[CV 2/3; 103/180] END mlpclassifier__activation=tanh, mlpclassifier__alpha=1e-05, mlpclassifier__hidden_layer_sizes=(128, 64, 32), mlpclassifier__learning_rate=constant, mlpclassifier__learning_rate_init=0.0005, mlpclassifier__solver=adam;, score=0.680 total time=  33.9s\n",
      "[CV 1/3; 108/180] START mlpclassifier__activation=tanh, mlpclassifier__alpha=1e-05, mlpclassifier__hidden_layer_sizes=(128, 64, 32), mlpclassifier__learning_rate=adaptive, mlpclassifier__learning_rate_init=0.005, mlpclassifier__solver=adam\n"
     ]
    },
    {
     "name": "stderr",
     "output_type": "stream",
     "text": [
      "/opt/anaconda3/lib/python3.12/site-packages/sklearn/neural_network/_multilayer_perceptron.py:690: ConvergenceWarning: Stochastic Optimizer: Maximum iterations (500) reached and the optimization hasn't converged yet.\n",
      "  warnings.warn(\n"
     ]
    },
    {
     "name": "stdout",
     "output_type": "stream",
     "text": [
      "[CV 3/3; 103/180] END mlpclassifier__activation=tanh, mlpclassifier__alpha=1e-05, mlpclassifier__hidden_layer_sizes=(128, 64, 32), mlpclassifier__learning_rate=constant, mlpclassifier__learning_rate_init=0.0005, mlpclassifier__solver=adam;, score=0.740 total time=  33.6s\n",
      "[CV 2/3; 108/180] START mlpclassifier__activation=tanh, mlpclassifier__alpha=1e-05, mlpclassifier__hidden_layer_sizes=(128, 64, 32), mlpclassifier__learning_rate=adaptive, mlpclassifier__learning_rate_init=0.005, mlpclassifier__solver=adam\n",
      "[CV 2/3; 108/180] END mlpclassifier__activation=tanh, mlpclassifier__alpha=1e-05, mlpclassifier__hidden_layer_sizes=(128, 64, 32), mlpclassifier__learning_rate=adaptive, mlpclassifier__learning_rate_init=0.005, mlpclassifier__solver=adam;, score=0.683 total time=   6.5s\n",
      "[CV 3/3; 108/180] START mlpclassifier__activation=tanh, mlpclassifier__alpha=1e-05, mlpclassifier__hidden_layer_sizes=(128, 64, 32), mlpclassifier__learning_rate=adaptive, mlpclassifier__learning_rate_init=0.005, mlpclassifier__solver=adam\n",
      "[CV 1/3; 108/180] END mlpclassifier__activation=tanh, mlpclassifier__alpha=1e-05, mlpclassifier__hidden_layer_sizes=(128, 64, 32), mlpclassifier__learning_rate=adaptive, mlpclassifier__learning_rate_init=0.005, mlpclassifier__solver=adam;, score=0.647 total time=   8.2s\n",
      "[CV 1/3; 109/180] START mlpclassifier__activation=tanh, mlpclassifier__alpha=5.623413251903491e-05, mlpclassifier__hidden_layer_sizes=(128, 64), mlpclassifier__learning_rate=constant, mlpclassifier__learning_rate_init=0.0005, mlpclassifier__solver=adam\n",
      "[CV 3/3; 108/180] END mlpclassifier__activation=tanh, mlpclassifier__alpha=1e-05, mlpclassifier__hidden_layer_sizes=(128, 64, 32), mlpclassifier__learning_rate=adaptive, mlpclassifier__learning_rate_init=0.005, mlpclassifier__solver=adam;, score=0.726 total time=   8.3s\n",
      "[CV 2/3; 109/180] START mlpclassifier__activation=tanh, mlpclassifier__alpha=5.623413251903491e-05, mlpclassifier__hidden_layer_sizes=(128, 64), mlpclassifier__learning_rate=constant, mlpclassifier__learning_rate_init=0.0005, mlpclassifier__solver=adam\n"
     ]
    },
    {
     "name": "stderr",
     "output_type": "stream",
     "text": [
      "/opt/anaconda3/lib/python3.12/site-packages/sklearn/neural_network/_multilayer_perceptron.py:690: ConvergenceWarning: Stochastic Optimizer: Maximum iterations (500) reached and the optimization hasn't converged yet.\n",
      "  warnings.warn(\n"
     ]
    },
    {
     "name": "stdout",
     "output_type": "stream",
     "text": [
      "[CV 1/3; 106/180] END mlpclassifier__activation=tanh, mlpclassifier__alpha=1e-05, mlpclassifier__hidden_layer_sizes=(128, 64, 32), mlpclassifier__learning_rate=adaptive, mlpclassifier__learning_rate_init=0.0005, mlpclassifier__solver=adam;, score=0.670 total time=  35.2s\n",
      "[CV 3/3; 109/180] START mlpclassifier__activation=tanh, mlpclassifier__alpha=5.623413251903491e-05, mlpclassifier__hidden_layer_sizes=(128, 64), mlpclassifier__learning_rate=constant, mlpclassifier__learning_rate_init=0.0005, mlpclassifier__solver=adam\n"
     ]
    },
    {
     "name": "stderr",
     "output_type": "stream",
     "text": [
      "/opt/anaconda3/lib/python3.12/site-packages/sklearn/neural_network/_multilayer_perceptron.py:690: ConvergenceWarning: Stochastic Optimizer: Maximum iterations (500) reached and the optimization hasn't converged yet.\n",
      "  warnings.warn(\n"
     ]
    },
    {
     "name": "stdout",
     "output_type": "stream",
     "text": [
      "[CV 2/3; 106/180] END mlpclassifier__activation=tanh, mlpclassifier__alpha=1e-05, mlpclassifier__hidden_layer_sizes=(128, 64, 32), mlpclassifier__learning_rate=adaptive, mlpclassifier__learning_rate_init=0.0005, mlpclassifier__solver=adam;, score=0.680 total time=  34.0s\n",
      "[CV 1/3; 110/180] START mlpclassifier__activation=tanh, mlpclassifier__alpha=5.623413251903491e-05, mlpclassifier__hidden_layer_sizes=(128, 64), mlpclassifier__learning_rate=constant, mlpclassifier__learning_rate_init=0.001, mlpclassifier__solver=adam\n",
      "[CV 2/3; 107/180] END mlpclassifier__activation=tanh, mlpclassifier__alpha=1e-05, mlpclassifier__hidden_layer_sizes=(128, 64, 32), mlpclassifier__learning_rate=adaptive, mlpclassifier__learning_rate_init=0.001, mlpclassifier__solver=adam;, score=0.698 total time=  26.5s\n",
      "[CV 2/3; 110/180] START mlpclassifier__activation=tanh, mlpclassifier__alpha=5.623413251903491e-05, mlpclassifier__hidden_layer_sizes=(128, 64), mlpclassifier__learning_rate=constant, mlpclassifier__learning_rate_init=0.001, mlpclassifier__solver=adam\n",
      "[CV 3/3; 107/180] END mlpclassifier__activation=tanh, mlpclassifier__alpha=1e-05, mlpclassifier__hidden_layer_sizes=(128, 64, 32), mlpclassifier__learning_rate=adaptive, mlpclassifier__learning_rate_init=0.001, mlpclassifier__solver=adam;, score=0.731 total time=  26.7s\n",
      "[CV 3/3; 110/180] START mlpclassifier__activation=tanh, mlpclassifier__alpha=5.623413251903491e-05, mlpclassifier__hidden_layer_sizes=(128, 64), mlpclassifier__learning_rate=constant, mlpclassifier__learning_rate_init=0.001, mlpclassifier__solver=adam\n",
      "[CV 1/3; 107/180] END mlpclassifier__activation=tanh, mlpclassifier__alpha=1e-05, mlpclassifier__hidden_layer_sizes=(128, 64, 32), mlpclassifier__learning_rate=adaptive, mlpclassifier__learning_rate_init=0.001, mlpclassifier__solver=adam;, score=0.672 total time=  28.7s\n",
      "[CV 1/3; 111/180] START mlpclassifier__activation=tanh, mlpclassifier__alpha=5.623413251903491e-05, mlpclassifier__hidden_layer_sizes=(128, 64), mlpclassifier__learning_rate=constant, mlpclassifier__learning_rate_init=0.005, mlpclassifier__solver=adam\n"
     ]
    },
    {
     "name": "stderr",
     "output_type": "stream",
     "text": [
      "/opt/anaconda3/lib/python3.12/site-packages/sklearn/neural_network/_multilayer_perceptron.py:690: ConvergenceWarning: Stochastic Optimizer: Maximum iterations (500) reached and the optimization hasn't converged yet.\n",
      "  warnings.warn(\n"
     ]
    },
    {
     "name": "stdout",
     "output_type": "stream",
     "text": [
      "[CV 3/3; 106/180] END mlpclassifier__activation=tanh, mlpclassifier__alpha=1e-05, mlpclassifier__hidden_layer_sizes=(128, 64, 32), mlpclassifier__learning_rate=adaptive, mlpclassifier__learning_rate_init=0.0005, mlpclassifier__solver=adam;, score=0.740 total time=  33.5s\n",
      "[CV 2/3; 111/180] START mlpclassifier__activation=tanh, mlpclassifier__alpha=5.623413251903491e-05, mlpclassifier__hidden_layer_sizes=(128, 64), mlpclassifier__learning_rate=constant, mlpclassifier__learning_rate_init=0.005, mlpclassifier__solver=adam\n",
      "[CV 1/3; 111/180] END mlpclassifier__activation=tanh, mlpclassifier__alpha=5.623413251903491e-05, mlpclassifier__hidden_layer_sizes=(128, 64), mlpclassifier__learning_rate=constant, mlpclassifier__learning_rate_init=0.005, mlpclassifier__solver=adam;, score=0.677 total time=   8.5s\n",
      "[CV 3/3; 111/180] START mlpclassifier__activation=tanh, mlpclassifier__alpha=5.623413251903491e-05, mlpclassifier__hidden_layer_sizes=(128, 64), mlpclassifier__learning_rate=constant, mlpclassifier__learning_rate_init=0.005, mlpclassifier__solver=adam\n"
     ]
    },
    {
     "name": "stderr",
     "output_type": "stream",
     "text": [
      "/opt/anaconda3/lib/python3.12/site-packages/sklearn/neural_network/_multilayer_perceptron.py:690: ConvergenceWarning: Stochastic Optimizer: Maximum iterations (500) reached and the optimization hasn't converged yet.\n",
      "  warnings.warn(\n"
     ]
    },
    {
     "name": "stdout",
     "output_type": "stream",
     "text": [
      "[CV 1/3; 109/180] END mlpclassifier__activation=tanh, mlpclassifier__alpha=5.623413251903491e-05, mlpclassifier__hidden_layer_sizes=(128, 64), mlpclassifier__learning_rate=constant, mlpclassifier__learning_rate_init=0.0005, mlpclassifier__solver=adam;, score=0.685 total time=  27.9s\n",
      "[CV 1/3; 112/180] START mlpclassifier__activation=tanh, mlpclassifier__alpha=5.623413251903491e-05, mlpclassifier__hidden_layer_sizes=(128, 64), mlpclassifier__learning_rate=adaptive, mlpclassifier__learning_rate_init=0.0005, mlpclassifier__solver=adam\n",
      "[CV 2/3; 111/180] END mlpclassifier__activation=tanh, mlpclassifier__alpha=5.623413251903491e-05, mlpclassifier__hidden_layer_sizes=(128, 64), mlpclassifier__learning_rate=constant, mlpclassifier__learning_rate_init=0.005, mlpclassifier__solver=adam;, score=0.688 total time=   7.8s\n",
      "[CV 2/3; 112/180] START mlpclassifier__activation=tanh, mlpclassifier__alpha=5.623413251903491e-05, mlpclassifier__hidden_layer_sizes=(128, 64), mlpclassifier__learning_rate=adaptive, mlpclassifier__learning_rate_init=0.0005, mlpclassifier__solver=adam\n"
     ]
    },
    {
     "name": "stderr",
     "output_type": "stream",
     "text": [
      "/opt/anaconda3/lib/python3.12/site-packages/sklearn/neural_network/_multilayer_perceptron.py:690: ConvergenceWarning: Stochastic Optimizer: Maximum iterations (500) reached and the optimization hasn't converged yet.\n",
      "  warnings.warn(\n"
     ]
    },
    {
     "name": "stdout",
     "output_type": "stream",
     "text": [
      "[CV 2/3; 109/180] END mlpclassifier__activation=tanh, mlpclassifier__alpha=5.623413251903491e-05, mlpclassifier__hidden_layer_sizes=(128, 64), mlpclassifier__learning_rate=constant, mlpclassifier__learning_rate_init=0.0005, mlpclassifier__solver=adam;, score=0.683 total time=  27.2s\n",
      "[CV 3/3; 112/180] START mlpclassifier__activation=tanh, mlpclassifier__alpha=5.623413251903491e-05, mlpclassifier__hidden_layer_sizes=(128, 64), mlpclassifier__learning_rate=adaptive, mlpclassifier__learning_rate_init=0.0005, mlpclassifier__solver=adam\n"
     ]
    },
    {
     "name": "stderr",
     "output_type": "stream",
     "text": [
      "/opt/anaconda3/lib/python3.12/site-packages/sklearn/neural_network/_multilayer_perceptron.py:690: ConvergenceWarning: Stochastic Optimizer: Maximum iterations (500) reached and the optimization hasn't converged yet.\n",
      "  warnings.warn(\n"
     ]
    },
    {
     "name": "stdout",
     "output_type": "stream",
     "text": [
      "[CV 3/3; 109/180] END mlpclassifier__activation=tanh, mlpclassifier__alpha=5.623413251903491e-05, mlpclassifier__hidden_layer_sizes=(128, 64), mlpclassifier__learning_rate=constant, mlpclassifier__learning_rate_init=0.0005, mlpclassifier__solver=adam;, score=0.725 total time=  27.1s\n",
      "[CV 1/3; 113/180] START mlpclassifier__activation=tanh, mlpclassifier__alpha=5.623413251903491e-05, mlpclassifier__hidden_layer_sizes=(128, 64), mlpclassifier__learning_rate=adaptive, mlpclassifier__learning_rate_init=0.001, mlpclassifier__solver=adam\n",
      "[CV 3/3; 111/180] END mlpclassifier__activation=tanh, mlpclassifier__alpha=5.623413251903491e-05, mlpclassifier__hidden_layer_sizes=(128, 64), mlpclassifier__learning_rate=constant, mlpclassifier__learning_rate_init=0.005, mlpclassifier__solver=adam;, score=0.706 total time=   9.3s\n",
      "[CV 2/3; 113/180] START mlpclassifier__activation=tanh, mlpclassifier__alpha=5.623413251903491e-05, mlpclassifier__hidden_layer_sizes=(128, 64), mlpclassifier__learning_rate=adaptive, mlpclassifier__learning_rate_init=0.001, mlpclassifier__solver=adam\n"
     ]
    },
    {
     "name": "stderr",
     "output_type": "stream",
     "text": [
      "/opt/anaconda3/lib/python3.12/site-packages/sklearn/neural_network/_multilayer_perceptron.py:690: ConvergenceWarning: Stochastic Optimizer: Maximum iterations (500) reached and the optimization hasn't converged yet.\n",
      "  warnings.warn(\n"
     ]
    },
    {
     "name": "stdout",
     "output_type": "stream",
     "text": [
      "[CV 1/3; 110/180] END mlpclassifier__activation=tanh, mlpclassifier__alpha=5.623413251903491e-05, mlpclassifier__hidden_layer_sizes=(128, 64), mlpclassifier__learning_rate=constant, mlpclassifier__learning_rate_init=0.001, mlpclassifier__solver=adam;, score=0.698 total time=  26.8s\n",
      "[CV 3/3; 113/180] START mlpclassifier__activation=tanh, mlpclassifier__alpha=5.623413251903491e-05, mlpclassifier__hidden_layer_sizes=(128, 64), mlpclassifier__learning_rate=adaptive, mlpclassifier__learning_rate_init=0.001, mlpclassifier__solver=adam\n"
     ]
    },
    {
     "name": "stderr",
     "output_type": "stream",
     "text": [
      "/opt/anaconda3/lib/python3.12/site-packages/sklearn/neural_network/_multilayer_perceptron.py:690: ConvergenceWarning: Stochastic Optimizer: Maximum iterations (500) reached and the optimization hasn't converged yet.\n",
      "  warnings.warn(\n"
     ]
    },
    {
     "name": "stdout",
     "output_type": "stream",
     "text": [
      "[CV 2/3; 110/180] END mlpclassifier__activation=tanh, mlpclassifier__alpha=5.623413251903491e-05, mlpclassifier__hidden_layer_sizes=(128, 64), mlpclassifier__learning_rate=constant, mlpclassifier__learning_rate_init=0.001, mlpclassifier__solver=adam;, score=0.691 total time=  26.2s\n",
      "[CV 1/3; 114/180] START mlpclassifier__activation=tanh, mlpclassifier__alpha=5.623413251903491e-05, mlpclassifier__hidden_layer_sizes=(128, 64), mlpclassifier__learning_rate=adaptive, mlpclassifier__learning_rate_init=0.005, mlpclassifier__solver=adam\n"
     ]
    },
    {
     "name": "stderr",
     "output_type": "stream",
     "text": [
      "/opt/anaconda3/lib/python3.12/site-packages/sklearn/neural_network/_multilayer_perceptron.py:690: ConvergenceWarning: Stochastic Optimizer: Maximum iterations (500) reached and the optimization hasn't converged yet.\n",
      "  warnings.warn(\n"
     ]
    },
    {
     "name": "stdout",
     "output_type": "stream",
     "text": [
      "[CV 3/3; 110/180] END mlpclassifier__activation=tanh, mlpclassifier__alpha=5.623413251903491e-05, mlpclassifier__hidden_layer_sizes=(128, 64), mlpclassifier__learning_rate=constant, mlpclassifier__learning_rate_init=0.001, mlpclassifier__solver=adam;, score=0.740 total time=  26.8s\n",
      "[CV 2/3; 114/180] START mlpclassifier__activation=tanh, mlpclassifier__alpha=5.623413251903491e-05, mlpclassifier__hidden_layer_sizes=(128, 64), mlpclassifier__learning_rate=adaptive, mlpclassifier__learning_rate_init=0.005, mlpclassifier__solver=adam\n",
      "[CV 1/3; 114/180] END mlpclassifier__activation=tanh, mlpclassifier__alpha=5.623413251903491e-05, mlpclassifier__hidden_layer_sizes=(128, 64), mlpclassifier__learning_rate=adaptive, mlpclassifier__learning_rate_init=0.005, mlpclassifier__solver=adam;, score=0.677 total time=   8.2s\n",
      "[CV 3/3; 114/180] START mlpclassifier__activation=tanh, mlpclassifier__alpha=5.623413251903491e-05, mlpclassifier__hidden_layer_sizes=(128, 64), mlpclassifier__learning_rate=adaptive, mlpclassifier__learning_rate_init=0.005, mlpclassifier__solver=adam\n",
      "[CV 2/3; 114/180] END mlpclassifier__activation=tanh, mlpclassifier__alpha=5.623413251903491e-05, mlpclassifier__hidden_layer_sizes=(128, 64), mlpclassifier__learning_rate=adaptive, mlpclassifier__learning_rate_init=0.005, mlpclassifier__solver=adam;, score=0.688 total time=   7.5s\n",
      "[CV 1/3; 115/180] START mlpclassifier__activation=tanh, mlpclassifier__alpha=5.623413251903491e-05, mlpclassifier__hidden_layer_sizes=(100, 50), mlpclassifier__learning_rate=constant, mlpclassifier__learning_rate_init=0.0005, mlpclassifier__solver=adam\n"
     ]
    },
    {
     "name": "stderr",
     "output_type": "stream",
     "text": [
      "/opt/anaconda3/lib/python3.12/site-packages/sklearn/neural_network/_multilayer_perceptron.py:690: ConvergenceWarning: Stochastic Optimizer: Maximum iterations (500) reached and the optimization hasn't converged yet.\n",
      "  warnings.warn(\n"
     ]
    },
    {
     "name": "stdout",
     "output_type": "stream",
     "text": [
      "[CV 1/3; 112/180] END mlpclassifier__activation=tanh, mlpclassifier__alpha=5.623413251903491e-05, mlpclassifier__hidden_layer_sizes=(128, 64), mlpclassifier__learning_rate=adaptive, mlpclassifier__learning_rate_init=0.0005, mlpclassifier__solver=adam;, score=0.685 total time=  26.4s\n",
      "[CV 2/3; 115/180] START mlpclassifier__activation=tanh, mlpclassifier__alpha=5.623413251903491e-05, mlpclassifier__hidden_layer_sizes=(100, 50), mlpclassifier__learning_rate=constant, mlpclassifier__learning_rate_init=0.0005, mlpclassifier__solver=adam\n"
     ]
    },
    {
     "name": "stderr",
     "output_type": "stream",
     "text": [
      "/opt/anaconda3/lib/python3.12/site-packages/sklearn/neural_network/_multilayer_perceptron.py:690: ConvergenceWarning: Stochastic Optimizer: Maximum iterations (500) reached and the optimization hasn't converged yet.\n",
      "  warnings.warn(\n"
     ]
    },
    {
     "name": "stdout",
     "output_type": "stream",
     "text": [
      "[CV 2/3; 112/180] END mlpclassifier__activation=tanh, mlpclassifier__alpha=5.623413251903491e-05, mlpclassifier__hidden_layer_sizes=(128, 64), mlpclassifier__learning_rate=adaptive, mlpclassifier__learning_rate_init=0.0005, mlpclassifier__solver=adam;, score=0.683 total time=  26.0s\n",
      "[CV 3/3; 115/180] START mlpclassifier__activation=tanh, mlpclassifier__alpha=5.623413251903491e-05, mlpclassifier__hidden_layer_sizes=(100, 50), mlpclassifier__learning_rate=constant, mlpclassifier__learning_rate_init=0.0005, mlpclassifier__solver=adam\n",
      "[CV 3/3; 114/180] END mlpclassifier__activation=tanh, mlpclassifier__alpha=5.623413251903491e-05, mlpclassifier__hidden_layer_sizes=(128, 64), mlpclassifier__learning_rate=adaptive, mlpclassifier__learning_rate_init=0.005, mlpclassifier__solver=adam;, score=0.706 total time=   8.9s\n",
      "[CV 1/3; 116/180] START mlpclassifier__activation=tanh, mlpclassifier__alpha=5.623413251903491e-05, mlpclassifier__hidden_layer_sizes=(100, 50), mlpclassifier__learning_rate=constant, mlpclassifier__learning_rate_init=0.001, mlpclassifier__solver=adam\n"
     ]
    },
    {
     "name": "stderr",
     "output_type": "stream",
     "text": [
      "/opt/anaconda3/lib/python3.12/site-packages/sklearn/neural_network/_multilayer_perceptron.py:690: ConvergenceWarning: Stochastic Optimizer: Maximum iterations (500) reached and the optimization hasn't converged yet.\n",
      "  warnings.warn(\n"
     ]
    },
    {
     "name": "stdout",
     "output_type": "stream",
     "text": [
      "[CV 3/3; 112/180] END mlpclassifier__activation=tanh, mlpclassifier__alpha=5.623413251903491e-05, mlpclassifier__hidden_layer_sizes=(128, 64), mlpclassifier__learning_rate=adaptive, mlpclassifier__learning_rate_init=0.0005, mlpclassifier__solver=adam;, score=0.725 total time=  25.9s\n",
      "[CV 2/3; 116/180] START mlpclassifier__activation=tanh, mlpclassifier__alpha=5.623413251903491e-05, mlpclassifier__hidden_layer_sizes=(100, 50), mlpclassifier__learning_rate=constant, mlpclassifier__learning_rate_init=0.001, mlpclassifier__solver=adam\n"
     ]
    },
    {
     "name": "stderr",
     "output_type": "stream",
     "text": [
      "/opt/anaconda3/lib/python3.12/site-packages/sklearn/neural_network/_multilayer_perceptron.py:690: ConvergenceWarning: Stochastic Optimizer: Maximum iterations (500) reached and the optimization hasn't converged yet.\n",
      "  warnings.warn(\n",
      "/opt/anaconda3/lib/python3.12/site-packages/sklearn/neural_network/_multilayer_perceptron.py:690: ConvergenceWarning: Stochastic Optimizer: Maximum iterations (500) reached and the optimization hasn't converged yet.\n",
      "  warnings.warn(\n"
     ]
    },
    {
     "name": "stdout",
     "output_type": "stream",
     "text": [
      "[CV 2/3; 113/180] END mlpclassifier__activation=tanh, mlpclassifier__alpha=5.623413251903491e-05, mlpclassifier__hidden_layer_sizes=(128, 64), mlpclassifier__learning_rate=adaptive, mlpclassifier__learning_rate_init=0.001, mlpclassifier__solver=adam;, score=0.691 total time=  25.8s\n",
      "[CV 3/3; 116/180] START mlpclassifier__activation=tanh, mlpclassifier__alpha=5.623413251903491e-05, mlpclassifier__hidden_layer_sizes=(100, 50), mlpclassifier__learning_rate=constant, mlpclassifier__learning_rate_init=0.001, mlpclassifier__solver=adam\n",
      "[CV 1/3; 113/180] END mlpclassifier__activation=tanh, mlpclassifier__alpha=5.623413251903491e-05, mlpclassifier__hidden_layer_sizes=(128, 64), mlpclassifier__learning_rate=adaptive, mlpclassifier__learning_rate_init=0.001, mlpclassifier__solver=adam;, score=0.698 total time=  26.2s\n",
      "[CV 1/3; 117/180] START mlpclassifier__activation=tanh, mlpclassifier__alpha=5.623413251903491e-05, mlpclassifier__hidden_layer_sizes=(100, 50), mlpclassifier__learning_rate=constant, mlpclassifier__learning_rate_init=0.005, mlpclassifier__solver=adam\n"
     ]
    },
    {
     "name": "stderr",
     "output_type": "stream",
     "text": [
      "/opt/anaconda3/lib/python3.12/site-packages/sklearn/neural_network/_multilayer_perceptron.py:690: ConvergenceWarning: Stochastic Optimizer: Maximum iterations (500) reached and the optimization hasn't converged yet.\n",
      "  warnings.warn(\n"
     ]
    },
    {
     "name": "stdout",
     "output_type": "stream",
     "text": [
      "[CV 3/3; 113/180] END mlpclassifier__activation=tanh, mlpclassifier__alpha=5.623413251903491e-05, mlpclassifier__hidden_layer_sizes=(128, 64), mlpclassifier__learning_rate=adaptive, mlpclassifier__learning_rate_init=0.001, mlpclassifier__solver=adam;, score=0.740 total time=  26.1s\n",
      "[CV 2/3; 117/180] START mlpclassifier__activation=tanh, mlpclassifier__alpha=5.623413251903491e-05, mlpclassifier__hidden_layer_sizes=(100, 50), mlpclassifier__learning_rate=constant, mlpclassifier__learning_rate_init=0.005, mlpclassifier__solver=adam\n",
      "[CV 1/3; 117/180] END mlpclassifier__activation=tanh, mlpclassifier__alpha=5.623413251903491e-05, mlpclassifier__hidden_layer_sizes=(100, 50), mlpclassifier__learning_rate=constant, mlpclassifier__learning_rate_init=0.005, mlpclassifier__solver=adam;, score=0.673 total time=   8.9s\n",
      "[CV 3/3; 117/180] START mlpclassifier__activation=tanh, mlpclassifier__alpha=5.623413251903491e-05, mlpclassifier__hidden_layer_sizes=(100, 50), mlpclassifier__learning_rate=constant, mlpclassifier__learning_rate_init=0.005, mlpclassifier__solver=adam\n"
     ]
    },
    {
     "name": "stderr",
     "output_type": "stream",
     "text": [
      "/opt/anaconda3/lib/python3.12/site-packages/sklearn/neural_network/_multilayer_perceptron.py:690: ConvergenceWarning: Stochastic Optimizer: Maximum iterations (500) reached and the optimization hasn't converged yet.\n",
      "  warnings.warn(\n"
     ]
    },
    {
     "name": "stdout",
     "output_type": "stream",
     "text": [
      "[CV 1/3; 115/180] END mlpclassifier__activation=tanh, mlpclassifier__alpha=5.623413251903491e-05, mlpclassifier__hidden_layer_sizes=(100, 50), mlpclassifier__learning_rate=constant, mlpclassifier__learning_rate_init=0.0005, mlpclassifier__solver=adam;, score=0.684 total time=  20.0s\n",
      "[CV 1/3; 118/180] START mlpclassifier__activation=tanh, mlpclassifier__alpha=5.623413251903491e-05, mlpclassifier__hidden_layer_sizes=(100, 50), mlpclassifier__learning_rate=adaptive, mlpclassifier__learning_rate_init=0.0005, mlpclassifier__solver=adam\n",
      "[CV 2/3; 117/180] END mlpclassifier__activation=tanh, mlpclassifier__alpha=5.623413251903491e-05, mlpclassifier__hidden_layer_sizes=(100, 50), mlpclassifier__learning_rate=constant, mlpclassifier__learning_rate_init=0.005, mlpclassifier__solver=adam;, score=0.678 total time=   6.9s\n",
      "[CV 2/3; 118/180] START mlpclassifier__activation=tanh, mlpclassifier__alpha=5.623413251903491e-05, mlpclassifier__hidden_layer_sizes=(100, 50), mlpclassifier__learning_rate=adaptive, mlpclassifier__learning_rate_init=0.0005, mlpclassifier__solver=adam\n",
      "[CV 2/3; 115/180] END mlpclassifier__activation=tanh, mlpclassifier__alpha=5.623413251903491e-05, mlpclassifier__hidden_layer_sizes=(100, 50), mlpclassifier__learning_rate=constant, mlpclassifier__learning_rate_init=0.0005, mlpclassifier__solver=adam;, score=0.680 total time=  19.9s\n",
      "[CV 3/3; 118/180] START mlpclassifier__activation=tanh, mlpclassifier__alpha=5.623413251903491e-05, mlpclassifier__hidden_layer_sizes=(100, 50), mlpclassifier__learning_rate=adaptive, mlpclassifier__learning_rate_init=0.0005, mlpclassifier__solver=adam\n"
     ]
    },
    {
     "name": "stderr",
     "output_type": "stream",
     "text": [
      "/opt/anaconda3/lib/python3.12/site-packages/sklearn/neural_network/_multilayer_perceptron.py:690: ConvergenceWarning: Stochastic Optimizer: Maximum iterations (500) reached and the optimization hasn't converged yet.\n",
      "  warnings.warn(\n",
      "/opt/anaconda3/lib/python3.12/site-packages/sklearn/neural_network/_multilayer_perceptron.py:690: ConvergenceWarning: Stochastic Optimizer: Maximum iterations (500) reached and the optimization hasn't converged yet.\n",
      "  warnings.warn(\n"
     ]
    },
    {
     "name": "stdout",
     "output_type": "stream",
     "text": [
      "[CV 3/3; 115/180] END mlpclassifier__activation=tanh, mlpclassifier__alpha=5.623413251903491e-05, mlpclassifier__hidden_layer_sizes=(100, 50), mlpclassifier__learning_rate=constant, mlpclassifier__learning_rate_init=0.0005, mlpclassifier__solver=adam;, score=0.719 total time=  19.5s\n",
      "[CV 1/3; 119/180] START mlpclassifier__activation=tanh, mlpclassifier__alpha=5.623413251903491e-05, mlpclassifier__hidden_layer_sizes=(100, 50), mlpclassifier__learning_rate=adaptive, mlpclassifier__learning_rate_init=0.001, mlpclassifier__solver=adam\n",
      "[CV 3/3; 117/180] END mlpclassifier__activation=tanh, mlpclassifier__alpha=5.623413251903491e-05, mlpclassifier__hidden_layer_sizes=(100, 50), mlpclassifier__learning_rate=constant, mlpclassifier__learning_rate_init=0.005, mlpclassifier__solver=adam;, score=0.727 total time=   8.3s\n",
      "[CV 2/3; 119/180] START mlpclassifier__activation=tanh, mlpclassifier__alpha=5.623413251903491e-05, mlpclassifier__hidden_layer_sizes=(100, 50), mlpclassifier__learning_rate=adaptive, mlpclassifier__learning_rate_init=0.001, mlpclassifier__solver=adam\n"
     ]
    },
    {
     "name": "stderr",
     "output_type": "stream",
     "text": [
      "/opt/anaconda3/lib/python3.12/site-packages/sklearn/neural_network/_multilayer_perceptron.py:690: ConvergenceWarning: Stochastic Optimizer: Maximum iterations (500) reached and the optimization hasn't converged yet.\n",
      "  warnings.warn(\n"
     ]
    },
    {
     "name": "stdout",
     "output_type": "stream",
     "text": [
      "[CV 1/3; 116/180] END mlpclassifier__activation=tanh, mlpclassifier__alpha=5.623413251903491e-05, mlpclassifier__hidden_layer_sizes=(100, 50), mlpclassifier__learning_rate=constant, mlpclassifier__learning_rate_init=0.001, mlpclassifier__solver=adam;, score=0.676 total time=  19.4s\n",
      "[CV 3/3; 119/180] START mlpclassifier__activation=tanh, mlpclassifier__alpha=5.623413251903491e-05, mlpclassifier__hidden_layer_sizes=(100, 50), mlpclassifier__learning_rate=adaptive, mlpclassifier__learning_rate_init=0.001, mlpclassifier__solver=adam\n"
     ]
    },
    {
     "name": "stderr",
     "output_type": "stream",
     "text": [
      "/opt/anaconda3/lib/python3.12/site-packages/sklearn/neural_network/_multilayer_perceptron.py:690: ConvergenceWarning: Stochastic Optimizer: Maximum iterations (500) reached and the optimization hasn't converged yet.\n",
      "  warnings.warn(\n"
     ]
    },
    {
     "name": "stdout",
     "output_type": "stream",
     "text": [
      "[CV 2/3; 116/180] END mlpclassifier__activation=tanh, mlpclassifier__alpha=5.623413251903491e-05, mlpclassifier__hidden_layer_sizes=(100, 50), mlpclassifier__learning_rate=constant, mlpclassifier__learning_rate_init=0.001, mlpclassifier__solver=adam;, score=0.687 total time=  19.7s\n",
      "[CV 1/3; 120/180] START mlpclassifier__activation=tanh, mlpclassifier__alpha=5.623413251903491e-05, mlpclassifier__hidden_layer_sizes=(100, 50), mlpclassifier__learning_rate=adaptive, mlpclassifier__learning_rate_init=0.005, mlpclassifier__solver=adam\n"
     ]
    },
    {
     "name": "stderr",
     "output_type": "stream",
     "text": [
      "/opt/anaconda3/lib/python3.12/site-packages/sklearn/neural_network/_multilayer_perceptron.py:690: ConvergenceWarning: Stochastic Optimizer: Maximum iterations (500) reached and the optimization hasn't converged yet.\n",
      "  warnings.warn(\n"
     ]
    },
    {
     "name": "stdout",
     "output_type": "stream",
     "text": [
      "[CV 3/3; 116/180] END mlpclassifier__activation=tanh, mlpclassifier__alpha=5.623413251903491e-05, mlpclassifier__hidden_layer_sizes=(100, 50), mlpclassifier__learning_rate=constant, mlpclassifier__learning_rate_init=0.001, mlpclassifier__solver=adam;, score=0.727 total time=  19.6s\n",
      "[CV 2/3; 120/180] START mlpclassifier__activation=tanh, mlpclassifier__alpha=5.623413251903491e-05, mlpclassifier__hidden_layer_sizes=(100, 50), mlpclassifier__learning_rate=adaptive, mlpclassifier__learning_rate_init=0.005, mlpclassifier__solver=adam\n",
      "[CV 2/3; 120/180] END mlpclassifier__activation=tanh, mlpclassifier__alpha=5.623413251903491e-05, mlpclassifier__hidden_layer_sizes=(100, 50), mlpclassifier__learning_rate=adaptive, mlpclassifier__learning_rate_init=0.005, mlpclassifier__solver=adam;, score=0.678 total time=   7.1s\n",
      "[CV 3/3; 120/180] START mlpclassifier__activation=tanh, mlpclassifier__alpha=5.623413251903491e-05, mlpclassifier__hidden_layer_sizes=(100, 50), mlpclassifier__learning_rate=adaptive, mlpclassifier__learning_rate_init=0.005, mlpclassifier__solver=adam\n",
      "[CV 1/3; 120/180] END mlpclassifier__activation=tanh, mlpclassifier__alpha=5.623413251903491e-05, mlpclassifier__hidden_layer_sizes=(100, 50), mlpclassifier__learning_rate=adaptive, mlpclassifier__learning_rate_init=0.005, mlpclassifier__solver=adam;, score=0.673 total time=   8.5s\n",
      "[CV 1/3; 121/180] START mlpclassifier__activation=tanh, mlpclassifier__alpha=5.623413251903491e-05, mlpclassifier__hidden_layer_sizes=(128, 64, 32), mlpclassifier__learning_rate=constant, mlpclassifier__learning_rate_init=0.0005, mlpclassifier__solver=adam\n"
     ]
    },
    {
     "name": "stderr",
     "output_type": "stream",
     "text": [
      "/opt/anaconda3/lib/python3.12/site-packages/sklearn/neural_network/_multilayer_perceptron.py:690: ConvergenceWarning: Stochastic Optimizer: Maximum iterations (500) reached and the optimization hasn't converged yet.\n",
      "  warnings.warn(\n"
     ]
    },
    {
     "name": "stdout",
     "output_type": "stream",
     "text": [
      "[CV 1/3; 118/180] END mlpclassifier__activation=tanh, mlpclassifier__alpha=5.623413251903491e-05, mlpclassifier__hidden_layer_sizes=(100, 50), mlpclassifier__learning_rate=adaptive, mlpclassifier__learning_rate_init=0.0005, mlpclassifier__solver=adam;, score=0.684 total time=  19.5s\n",
      "[CV 2/3; 121/180] START mlpclassifier__activation=tanh, mlpclassifier__alpha=5.623413251903491e-05, mlpclassifier__hidden_layer_sizes=(128, 64, 32), mlpclassifier__learning_rate=constant, mlpclassifier__learning_rate_init=0.0005, mlpclassifier__solver=adam\n"
     ]
    },
    {
     "name": "stderr",
     "output_type": "stream",
     "text": [
      "/opt/anaconda3/lib/python3.12/site-packages/sklearn/neural_network/_multilayer_perceptron.py:690: ConvergenceWarning: Stochastic Optimizer: Maximum iterations (500) reached and the optimization hasn't converged yet.\n",
      "  warnings.warn(\n"
     ]
    },
    {
     "name": "stdout",
     "output_type": "stream",
     "text": [
      "[CV 2/3; 118/180] END mlpclassifier__activation=tanh, mlpclassifier__alpha=5.623413251903491e-05, mlpclassifier__hidden_layer_sizes=(100, 50), mlpclassifier__learning_rate=adaptive, mlpclassifier__learning_rate_init=0.0005, mlpclassifier__solver=adam;, score=0.680 total time=  19.6s\n",
      "[CV 3/3; 121/180] START mlpclassifier__activation=tanh, mlpclassifier__alpha=5.623413251903491e-05, mlpclassifier__hidden_layer_sizes=(128, 64, 32), mlpclassifier__learning_rate=constant, mlpclassifier__learning_rate_init=0.0005, mlpclassifier__solver=adam\n"
     ]
    },
    {
     "name": "stderr",
     "output_type": "stream",
     "text": [
      "/opt/anaconda3/lib/python3.12/site-packages/sklearn/neural_network/_multilayer_perceptron.py:690: ConvergenceWarning: Stochastic Optimizer: Maximum iterations (500) reached and the optimization hasn't converged yet.\n",
      "  warnings.warn(\n"
     ]
    },
    {
     "name": "stdout",
     "output_type": "stream",
     "text": [
      "[CV 3/3; 118/180] END mlpclassifier__activation=tanh, mlpclassifier__alpha=5.623413251903491e-05, mlpclassifier__hidden_layer_sizes=(100, 50), mlpclassifier__learning_rate=adaptive, mlpclassifier__learning_rate_init=0.0005, mlpclassifier__solver=adam;, score=0.719 total time=  20.3s\n",
      "[CV 1/3; 122/180] START mlpclassifier__activation=tanh, mlpclassifier__alpha=5.623413251903491e-05, mlpclassifier__hidden_layer_sizes=(128, 64, 32), mlpclassifier__learning_rate=constant, mlpclassifier__learning_rate_init=0.001, mlpclassifier__solver=adam\n"
     ]
    },
    {
     "name": "stderr",
     "output_type": "stream",
     "text": [
      "/opt/anaconda3/lib/python3.12/site-packages/sklearn/neural_network/_multilayer_perceptron.py:690: ConvergenceWarning: Stochastic Optimizer: Maximum iterations (500) reached and the optimization hasn't converged yet.\n",
      "  warnings.warn(\n"
     ]
    },
    {
     "name": "stdout",
     "output_type": "stream",
     "text": [
      "[CV 1/3; 119/180] END mlpclassifier__activation=tanh, mlpclassifier__alpha=5.623413251903491e-05, mlpclassifier__hidden_layer_sizes=(100, 50), mlpclassifier__learning_rate=adaptive, mlpclassifier__learning_rate_init=0.001, mlpclassifier__solver=adam;, score=0.676 total time=  19.9s\n",
      "[CV 2/3; 122/180] START mlpclassifier__activation=tanh, mlpclassifier__alpha=5.623413251903491e-05, mlpclassifier__hidden_layer_sizes=(128, 64, 32), mlpclassifier__learning_rate=constant, mlpclassifier__learning_rate_init=0.001, mlpclassifier__solver=adam\n",
      "[CV 3/3; 120/180] END mlpclassifier__activation=tanh, mlpclassifier__alpha=5.623413251903491e-05, mlpclassifier__hidden_layer_sizes=(100, 50), mlpclassifier__learning_rate=adaptive, mlpclassifier__learning_rate_init=0.005, mlpclassifier__solver=adam;, score=0.727 total time=   8.8s\n",
      "[CV 3/3; 122/180] START mlpclassifier__activation=tanh, mlpclassifier__alpha=5.623413251903491e-05, mlpclassifier__hidden_layer_sizes=(128, 64, 32), mlpclassifier__learning_rate=constant, mlpclassifier__learning_rate_init=0.001, mlpclassifier__solver=adam\n"
     ]
    },
    {
     "name": "stderr",
     "output_type": "stream",
     "text": [
      "/opt/anaconda3/lib/python3.12/site-packages/sklearn/neural_network/_multilayer_perceptron.py:690: ConvergenceWarning: Stochastic Optimizer: Maximum iterations (500) reached and the optimization hasn't converged yet.\n",
      "  warnings.warn(\n"
     ]
    },
    {
     "name": "stdout",
     "output_type": "stream",
     "text": [
      "[CV 2/3; 119/180] END mlpclassifier__activation=tanh, mlpclassifier__alpha=5.623413251903491e-05, mlpclassifier__hidden_layer_sizes=(100, 50), mlpclassifier__learning_rate=adaptive, mlpclassifier__learning_rate_init=0.001, mlpclassifier__solver=adam;, score=0.687 total time=  20.7s\n",
      "[CV 1/3; 123/180] START mlpclassifier__activation=tanh, mlpclassifier__alpha=5.623413251903491e-05, mlpclassifier__hidden_layer_sizes=(128, 64, 32), mlpclassifier__learning_rate=constant, mlpclassifier__learning_rate_init=0.005, mlpclassifier__solver=adam\n"
     ]
    },
    {
     "name": "stderr",
     "output_type": "stream",
     "text": [
      "/opt/anaconda3/lib/python3.12/site-packages/sklearn/neural_network/_multilayer_perceptron.py:690: ConvergenceWarning: Stochastic Optimizer: Maximum iterations (500) reached and the optimization hasn't converged yet.\n",
      "  warnings.warn(\n"
     ]
    },
    {
     "name": "stdout",
     "output_type": "stream",
     "text": [
      "[CV 3/3; 119/180] END mlpclassifier__activation=tanh, mlpclassifier__alpha=5.623413251903491e-05, mlpclassifier__hidden_layer_sizes=(100, 50), mlpclassifier__learning_rate=adaptive, mlpclassifier__learning_rate_init=0.001, mlpclassifier__solver=adam;, score=0.727 total time=  20.6s\n",
      "[CV 2/3; 123/180] START mlpclassifier__activation=tanh, mlpclassifier__alpha=5.623413251903491e-05, mlpclassifier__hidden_layer_sizes=(128, 64, 32), mlpclassifier__learning_rate=constant, mlpclassifier__learning_rate_init=0.005, mlpclassifier__solver=adam\n",
      "[CV 1/3; 123/180] END mlpclassifier__activation=tanh, mlpclassifier__alpha=5.623413251903491e-05, mlpclassifier__hidden_layer_sizes=(128, 64, 32), mlpclassifier__learning_rate=constant, mlpclassifier__learning_rate_init=0.005, mlpclassifier__solver=adam;, score=0.651 total time=   6.9s\n",
      "[CV 3/3; 123/180] START mlpclassifier__activation=tanh, mlpclassifier__alpha=5.623413251903491e-05, mlpclassifier__hidden_layer_sizes=(128, 64, 32), mlpclassifier__learning_rate=constant, mlpclassifier__learning_rate_init=0.005, mlpclassifier__solver=adam\n",
      "[CV 2/3; 123/180] END mlpclassifier__activation=tanh, mlpclassifier__alpha=5.623413251903491e-05, mlpclassifier__hidden_layer_sizes=(128, 64, 32), mlpclassifier__learning_rate=constant, mlpclassifier__learning_rate_init=0.005, mlpclassifier__solver=adam;, score=0.685 total time=  10.7s\n",
      "[CV 1/3; 124/180] START mlpclassifier__activation=tanh, mlpclassifier__alpha=5.623413251903491e-05, mlpclassifier__hidden_layer_sizes=(128, 64, 32), mlpclassifier__learning_rate=adaptive, mlpclassifier__learning_rate_init=0.0005, mlpclassifier__solver=adam\n",
      "[CV 3/3; 123/180] END mlpclassifier__activation=tanh, mlpclassifier__alpha=5.623413251903491e-05, mlpclassifier__hidden_layer_sizes=(128, 64, 32), mlpclassifier__learning_rate=constant, mlpclassifier__learning_rate_init=0.005, mlpclassifier__solver=adam;, score=0.722 total time=   8.3s\n",
      "[CV 2/3; 124/180] START mlpclassifier__activation=tanh, mlpclassifier__alpha=5.623413251903491e-05, mlpclassifier__hidden_layer_sizes=(128, 64, 32), mlpclassifier__learning_rate=adaptive, mlpclassifier__learning_rate_init=0.0005, mlpclassifier__solver=adam\n",
      "[CV 2/3; 122/180] END mlpclassifier__activation=tanh, mlpclassifier__alpha=5.623413251903491e-05, mlpclassifier__hidden_layer_sizes=(128, 64, 32), mlpclassifier__learning_rate=constant, mlpclassifier__learning_rate_init=0.001, mlpclassifier__solver=adam;, score=0.699 total time=  27.1s\n",
      "[CV 3/3; 124/180] START mlpclassifier__activation=tanh, mlpclassifier__alpha=5.623413251903491e-05, mlpclassifier__hidden_layer_sizes=(128, 64, 32), mlpclassifier__learning_rate=adaptive, mlpclassifier__learning_rate_init=0.0005, mlpclassifier__solver=adam\n"
     ]
    },
    {
     "name": "stderr",
     "output_type": "stream",
     "text": [
      "/opt/anaconda3/lib/python3.12/site-packages/sklearn/neural_network/_multilayer_perceptron.py:690: ConvergenceWarning: Stochastic Optimizer: Maximum iterations (500) reached and the optimization hasn't converged yet.\n",
      "  warnings.warn(\n"
     ]
    },
    {
     "name": "stdout",
     "output_type": "stream",
     "text": [
      "[CV 1/3; 121/180] END mlpclassifier__activation=tanh, mlpclassifier__alpha=5.623413251903491e-05, mlpclassifier__hidden_layer_sizes=(128, 64, 32), mlpclassifier__learning_rate=constant, mlpclassifier__learning_rate_init=0.0005, mlpclassifier__solver=adam;, score=0.670 total time=  34.6s\n",
      "[CV 1/3; 125/180] START mlpclassifier__activation=tanh, mlpclassifier__alpha=5.623413251903491e-05, mlpclassifier__hidden_layer_sizes=(128, 64, 32), mlpclassifier__learning_rate=adaptive, mlpclassifier__learning_rate_init=0.001, mlpclassifier__solver=adam\n",
      "[CV 1/3; 122/180] END mlpclassifier__activation=tanh, mlpclassifier__alpha=5.623413251903491e-05, mlpclassifier__hidden_layer_sizes=(128, 64, 32), mlpclassifier__learning_rate=constant, mlpclassifier__learning_rate_init=0.001, mlpclassifier__solver=adam;, score=0.672 total time=  29.7s\n",
      "[CV 2/3; 125/180] START mlpclassifier__activation=tanh, mlpclassifier__alpha=5.623413251903491e-05, mlpclassifier__hidden_layer_sizes=(128, 64, 32), mlpclassifier__learning_rate=adaptive, mlpclassifier__learning_rate_init=0.001, mlpclassifier__solver=adam\n"
     ]
    },
    {
     "name": "stderr",
     "output_type": "stream",
     "text": [
      "/opt/anaconda3/lib/python3.12/site-packages/sklearn/neural_network/_multilayer_perceptron.py:690: ConvergenceWarning: Stochastic Optimizer: Maximum iterations (500) reached and the optimization hasn't converged yet.\n",
      "  warnings.warn(\n"
     ]
    },
    {
     "name": "stdout",
     "output_type": "stream",
     "text": [
      "[CV 2/3; 121/180] END mlpclassifier__activation=tanh, mlpclassifier__alpha=5.623413251903491e-05, mlpclassifier__hidden_layer_sizes=(128, 64, 32), mlpclassifier__learning_rate=constant, mlpclassifier__learning_rate_init=0.0005, mlpclassifier__solver=adam;, score=0.681 total time=  34.4s\n",
      "[CV 3/3; 125/180] START mlpclassifier__activation=tanh, mlpclassifier__alpha=5.623413251903491e-05, mlpclassifier__hidden_layer_sizes=(128, 64, 32), mlpclassifier__learning_rate=adaptive, mlpclassifier__learning_rate_init=0.001, mlpclassifier__solver=adam\n",
      "[CV 3/3; 122/180] END mlpclassifier__activation=tanh, mlpclassifier__alpha=5.623413251903491e-05, mlpclassifier__hidden_layer_sizes=(128, 64, 32), mlpclassifier__learning_rate=constant, mlpclassifier__learning_rate_init=0.001, mlpclassifier__solver=adam;, score=0.729 total time=  29.1s\n",
      "[CV 1/3; 126/180] START mlpclassifier__activation=tanh, mlpclassifier__alpha=5.623413251903491e-05, mlpclassifier__hidden_layer_sizes=(128, 64, 32), mlpclassifier__learning_rate=adaptive, mlpclassifier__learning_rate_init=0.005, mlpclassifier__solver=adam\n"
     ]
    },
    {
     "name": "stderr",
     "output_type": "stream",
     "text": [
      "/opt/anaconda3/lib/python3.12/site-packages/sklearn/neural_network/_multilayer_perceptron.py:690: ConvergenceWarning: Stochastic Optimizer: Maximum iterations (500) reached and the optimization hasn't converged yet.\n",
      "  warnings.warn(\n"
     ]
    },
    {
     "name": "stdout",
     "output_type": "stream",
     "text": [
      "[CV 3/3; 121/180] END mlpclassifier__activation=tanh, mlpclassifier__alpha=5.623413251903491e-05, mlpclassifier__hidden_layer_sizes=(128, 64, 32), mlpclassifier__learning_rate=constant, mlpclassifier__learning_rate_init=0.0005, mlpclassifier__solver=adam;, score=0.740 total time=  34.3s\n",
      "[CV 2/3; 126/180] START mlpclassifier__activation=tanh, mlpclassifier__alpha=5.623413251903491e-05, mlpclassifier__hidden_layer_sizes=(128, 64, 32), mlpclassifier__learning_rate=adaptive, mlpclassifier__learning_rate_init=0.005, mlpclassifier__solver=adam\n",
      "[CV 1/3; 126/180] END mlpclassifier__activation=tanh, mlpclassifier__alpha=5.623413251903491e-05, mlpclassifier__hidden_layer_sizes=(128, 64, 32), mlpclassifier__learning_rate=adaptive, mlpclassifier__learning_rate_init=0.005, mlpclassifier__solver=adam;, score=0.651 total time=   6.6s\n",
      "[CV 3/3; 126/180] START mlpclassifier__activation=tanh, mlpclassifier__alpha=5.623413251903491e-05, mlpclassifier__hidden_layer_sizes=(128, 64, 32), mlpclassifier__learning_rate=adaptive, mlpclassifier__learning_rate_init=0.005, mlpclassifier__solver=adam\n",
      "[CV 2/3; 126/180] END mlpclassifier__activation=tanh, mlpclassifier__alpha=5.623413251903491e-05, mlpclassifier__hidden_layer_sizes=(128, 64, 32), mlpclassifier__learning_rate=adaptive, mlpclassifier__learning_rate_init=0.005, mlpclassifier__solver=adam;, score=0.685 total time=  10.2s\n",
      "[CV 1/3; 127/180] START mlpclassifier__activation=tanh, mlpclassifier__alpha=0.00031622776601683794, mlpclassifier__hidden_layer_sizes=(128, 64), mlpclassifier__learning_rate=constant, mlpclassifier__learning_rate_init=0.0005, mlpclassifier__solver=adam\n",
      "[CV 3/3; 126/180] END mlpclassifier__activation=tanh, mlpclassifier__alpha=5.623413251903491e-05, mlpclassifier__hidden_layer_sizes=(128, 64, 32), mlpclassifier__learning_rate=adaptive, mlpclassifier__learning_rate_init=0.005, mlpclassifier__solver=adam;, score=0.722 total time=   8.0s\n",
      "[CV 2/3; 127/180] START mlpclassifier__activation=tanh, mlpclassifier__alpha=0.00031622776601683794, mlpclassifier__hidden_layer_sizes=(128, 64), mlpclassifier__learning_rate=constant, mlpclassifier__learning_rate_init=0.0005, mlpclassifier__solver=adam\n"
     ]
    },
    {
     "name": "stderr",
     "output_type": "stream",
     "text": [
      "/opt/anaconda3/lib/python3.12/site-packages/sklearn/neural_network/_multilayer_perceptron.py:690: ConvergenceWarning: Stochastic Optimizer: Maximum iterations (500) reached and the optimization hasn't converged yet.\n",
      "  warnings.warn(\n"
     ]
    },
    {
     "name": "stdout",
     "output_type": "stream",
     "text": [
      "[CV 1/3; 124/180] END mlpclassifier__activation=tanh, mlpclassifier__alpha=5.623413251903491e-05, mlpclassifier__hidden_layer_sizes=(128, 64, 32), mlpclassifier__learning_rate=adaptive, mlpclassifier__learning_rate_init=0.0005, mlpclassifier__solver=adam;, score=0.670 total time=  33.6s\n",
      "[CV 3/3; 127/180] START mlpclassifier__activation=tanh, mlpclassifier__alpha=0.00031622776601683794, mlpclassifier__hidden_layer_sizes=(128, 64), mlpclassifier__learning_rate=constant, mlpclassifier__learning_rate_init=0.0005, mlpclassifier__solver=adam\n"
     ]
    },
    {
     "name": "stderr",
     "output_type": "stream",
     "text": [
      "/opt/anaconda3/lib/python3.12/site-packages/sklearn/neural_network/_multilayer_perceptron.py:690: ConvergenceWarning: Stochastic Optimizer: Maximum iterations (500) reached and the optimization hasn't converged yet.\n",
      "  warnings.warn(\n"
     ]
    },
    {
     "name": "stdout",
     "output_type": "stream",
     "text": [
      "[CV 2/3; 124/180] END mlpclassifier__activation=tanh, mlpclassifier__alpha=5.623413251903491e-05, mlpclassifier__hidden_layer_sizes=(128, 64, 32), mlpclassifier__learning_rate=adaptive, mlpclassifier__learning_rate_init=0.0005, mlpclassifier__solver=adam;, score=0.681 total time=  33.8s\n",
      "[CV 1/3; 128/180] START mlpclassifier__activation=tanh, mlpclassifier__alpha=0.00031622776601683794, mlpclassifier__hidden_layer_sizes=(128, 64), mlpclassifier__learning_rate=constant, mlpclassifier__learning_rate_init=0.001, mlpclassifier__solver=adam\n",
      "[CV 2/3; 125/180] END mlpclassifier__activation=tanh, mlpclassifier__alpha=5.623413251903491e-05, mlpclassifier__hidden_layer_sizes=(128, 64, 32), mlpclassifier__learning_rate=adaptive, mlpclassifier__learning_rate_init=0.001, mlpclassifier__solver=adam;, score=0.699 total time=  26.5s\n",
      "[CV 2/3; 128/180] START mlpclassifier__activation=tanh, mlpclassifier__alpha=0.00031622776601683794, mlpclassifier__hidden_layer_sizes=(128, 64), mlpclassifier__learning_rate=constant, mlpclassifier__learning_rate_init=0.001, mlpclassifier__solver=adam\n",
      "[CV 1/3; 125/180] END mlpclassifier__activation=tanh, mlpclassifier__alpha=5.623413251903491e-05, mlpclassifier__hidden_layer_sizes=(128, 64, 32), mlpclassifier__learning_rate=adaptive, mlpclassifier__learning_rate_init=0.001, mlpclassifier__solver=adam;, score=0.672 total time=  28.5s\n",
      "[CV 3/3; 128/180] START mlpclassifier__activation=tanh, mlpclassifier__alpha=0.00031622776601683794, mlpclassifier__hidden_layer_sizes=(128, 64), mlpclassifier__learning_rate=constant, mlpclassifier__learning_rate_init=0.001, mlpclassifier__solver=adam\n",
      "[CV 3/3; 125/180] END mlpclassifier__activation=tanh, mlpclassifier__alpha=5.623413251903491e-05, mlpclassifier__hidden_layer_sizes=(128, 64, 32), mlpclassifier__learning_rate=adaptive, mlpclassifier__learning_rate_init=0.001, mlpclassifier__solver=adam;, score=0.729 total time=  28.7s\n",
      "[CV 1/3; 129/180] START mlpclassifier__activation=tanh, mlpclassifier__alpha=0.00031622776601683794, mlpclassifier__hidden_layer_sizes=(128, 64), mlpclassifier__learning_rate=constant, mlpclassifier__learning_rate_init=0.005, mlpclassifier__solver=adam\n"
     ]
    },
    {
     "name": "stderr",
     "output_type": "stream",
     "text": [
      "/opt/anaconda3/lib/python3.12/site-packages/sklearn/neural_network/_multilayer_perceptron.py:690: ConvergenceWarning: Stochastic Optimizer: Maximum iterations (500) reached and the optimization hasn't converged yet.\n",
      "  warnings.warn(\n"
     ]
    },
    {
     "name": "stdout",
     "output_type": "stream",
     "text": [
      "[CV 3/3; 124/180] END mlpclassifier__activation=tanh, mlpclassifier__alpha=5.623413251903491e-05, mlpclassifier__hidden_layer_sizes=(128, 64, 32), mlpclassifier__learning_rate=adaptive, mlpclassifier__learning_rate_init=0.0005, mlpclassifier__solver=adam;, score=0.740 total time=  33.7s\n",
      "[CV 2/3; 129/180] START mlpclassifier__activation=tanh, mlpclassifier__alpha=0.00031622776601683794, mlpclassifier__hidden_layer_sizes=(128, 64), mlpclassifier__learning_rate=constant, mlpclassifier__learning_rate_init=0.005, mlpclassifier__solver=adam\n",
      "[CV 2/3; 129/180] END mlpclassifier__activation=tanh, mlpclassifier__alpha=0.00031622776601683794, mlpclassifier__hidden_layer_sizes=(128, 64), mlpclassifier__learning_rate=constant, mlpclassifier__learning_rate_init=0.005, mlpclassifier__solver=adam;, score=0.691 total time=   9.2s\n",
      "[CV 3/3; 129/180] START mlpclassifier__activation=tanh, mlpclassifier__alpha=0.00031622776601683794, mlpclassifier__hidden_layer_sizes=(128, 64), mlpclassifier__learning_rate=constant, mlpclassifier__learning_rate_init=0.005, mlpclassifier__solver=adam\n",
      "[CV 1/3; 129/180] END mlpclassifier__activation=tanh, mlpclassifier__alpha=0.00031622776601683794, mlpclassifier__hidden_layer_sizes=(128, 64), mlpclassifier__learning_rate=constant, mlpclassifier__learning_rate_init=0.005, mlpclassifier__solver=adam;, score=0.675 total time=  10.7s\n",
      "[CV 1/3; 130/180] START mlpclassifier__activation=tanh, mlpclassifier__alpha=0.00031622776601683794, mlpclassifier__hidden_layer_sizes=(128, 64), mlpclassifier__learning_rate=adaptive, mlpclassifier__learning_rate_init=0.0005, mlpclassifier__solver=adam\n"
     ]
    },
    {
     "name": "stderr",
     "output_type": "stream",
     "text": [
      "/opt/anaconda3/lib/python3.12/site-packages/sklearn/neural_network/_multilayer_perceptron.py:690: ConvergenceWarning: Stochastic Optimizer: Maximum iterations (500) reached and the optimization hasn't converged yet.\n",
      "  warnings.warn(\n"
     ]
    },
    {
     "name": "stdout",
     "output_type": "stream",
     "text": [
      "[CV 1/3; 127/180] END mlpclassifier__activation=tanh, mlpclassifier__alpha=0.00031622776601683794, mlpclassifier__hidden_layer_sizes=(128, 64), mlpclassifier__learning_rate=constant, mlpclassifier__learning_rate_init=0.0005, mlpclassifier__solver=adam;, score=0.685 total time=  30.1s\n",
      "[CV 2/3; 130/180] START mlpclassifier__activation=tanh, mlpclassifier__alpha=0.00031622776601683794, mlpclassifier__hidden_layer_sizes=(128, 64), mlpclassifier__learning_rate=adaptive, mlpclassifier__learning_rate_init=0.0005, mlpclassifier__solver=adam\n"
     ]
    },
    {
     "name": "stderr",
     "output_type": "stream",
     "text": [
      "/opt/anaconda3/lib/python3.12/site-packages/sklearn/neural_network/_multilayer_perceptron.py:690: ConvergenceWarning: Stochastic Optimizer: Maximum iterations (500) reached and the optimization hasn't converged yet.\n",
      "  warnings.warn(\n"
     ]
    },
    {
     "name": "stdout",
     "output_type": "stream",
     "text": [
      "[CV 2/3; 127/180] END mlpclassifier__activation=tanh, mlpclassifier__alpha=0.00031622776601683794, mlpclassifier__hidden_layer_sizes=(128, 64), mlpclassifier__learning_rate=constant, mlpclassifier__learning_rate_init=0.0005, mlpclassifier__solver=adam;, score=0.682 total time=  29.8s\n",
      "[CV 3/3; 130/180] START mlpclassifier__activation=tanh, mlpclassifier__alpha=0.00031622776601683794, mlpclassifier__hidden_layer_sizes=(128, 64), mlpclassifier__learning_rate=adaptive, mlpclassifier__learning_rate_init=0.0005, mlpclassifier__solver=adam\n"
     ]
    },
    {
     "name": "stderr",
     "output_type": "stream",
     "text": [
      "/opt/anaconda3/lib/python3.12/site-packages/sklearn/neural_network/_multilayer_perceptron.py:690: ConvergenceWarning: Stochastic Optimizer: Maximum iterations (500) reached and the optimization hasn't converged yet.\n",
      "  warnings.warn(\n"
     ]
    },
    {
     "name": "stdout",
     "output_type": "stream",
     "text": [
      "[CV 3/3; 127/180] END mlpclassifier__activation=tanh, mlpclassifier__alpha=0.00031622776601683794, mlpclassifier__hidden_layer_sizes=(128, 64), mlpclassifier__learning_rate=constant, mlpclassifier__learning_rate_init=0.0005, mlpclassifier__solver=adam;, score=0.725 total time=  30.1s\n",
      "[CV 1/3; 131/180] START mlpclassifier__activation=tanh, mlpclassifier__alpha=0.00031622776601683794, mlpclassifier__hidden_layer_sizes=(128, 64), mlpclassifier__learning_rate=adaptive, mlpclassifier__learning_rate_init=0.001, mlpclassifier__solver=adam\n",
      "[CV 3/3; 129/180] END mlpclassifier__activation=tanh, mlpclassifier__alpha=0.00031622776601683794, mlpclassifier__hidden_layer_sizes=(128, 64), mlpclassifier__learning_rate=constant, mlpclassifier__learning_rate_init=0.005, mlpclassifier__solver=adam;, score=0.729 total time=  10.8s\n",
      "[CV 2/3; 131/180] START mlpclassifier__activation=tanh, mlpclassifier__alpha=0.00031622776601683794, mlpclassifier__hidden_layer_sizes=(128, 64), mlpclassifier__learning_rate=adaptive, mlpclassifier__learning_rate_init=0.001, mlpclassifier__solver=adam\n"
     ]
    },
    {
     "name": "stderr",
     "output_type": "stream",
     "text": [
      "/opt/anaconda3/lib/python3.12/site-packages/sklearn/neural_network/_multilayer_perceptron.py:690: ConvergenceWarning: Stochastic Optimizer: Maximum iterations (500) reached and the optimization hasn't converged yet.\n",
      "  warnings.warn(\n"
     ]
    },
    {
     "name": "stdout",
     "output_type": "stream",
     "text": [
      "[CV 1/3; 128/180] END mlpclassifier__activation=tanh, mlpclassifier__alpha=0.00031622776601683794, mlpclassifier__hidden_layer_sizes=(128, 64), mlpclassifier__learning_rate=constant, mlpclassifier__learning_rate_init=0.001, mlpclassifier__solver=adam;, score=0.698 total time=  30.8s\n",
      "[CV 3/3; 131/180] START mlpclassifier__activation=tanh, mlpclassifier__alpha=0.00031622776601683794, mlpclassifier__hidden_layer_sizes=(128, 64), mlpclassifier__learning_rate=adaptive, mlpclassifier__learning_rate_init=0.001, mlpclassifier__solver=adam\n"
     ]
    },
    {
     "name": "stderr",
     "output_type": "stream",
     "text": [
      "/opt/anaconda3/lib/python3.12/site-packages/sklearn/neural_network/_multilayer_perceptron.py:690: ConvergenceWarning: Stochastic Optimizer: Maximum iterations (500) reached and the optimization hasn't converged yet.\n",
      "  warnings.warn(\n"
     ]
    },
    {
     "name": "stdout",
     "output_type": "stream",
     "text": [
      "[CV 2/3; 128/180] END mlpclassifier__activation=tanh, mlpclassifier__alpha=0.00031622776601683794, mlpclassifier__hidden_layer_sizes=(128, 64), mlpclassifier__learning_rate=constant, mlpclassifier__learning_rate_init=0.001, mlpclassifier__solver=adam;, score=0.688 total time=  30.7s\n",
      "[CV 1/3; 132/180] START mlpclassifier__activation=tanh, mlpclassifier__alpha=0.00031622776601683794, mlpclassifier__hidden_layer_sizes=(128, 64), mlpclassifier__learning_rate=adaptive, mlpclassifier__learning_rate_init=0.005, mlpclassifier__solver=adam\n"
     ]
    },
    {
     "name": "stderr",
     "output_type": "stream",
     "text": [
      "/opt/anaconda3/lib/python3.12/site-packages/sklearn/neural_network/_multilayer_perceptron.py:690: ConvergenceWarning: Stochastic Optimizer: Maximum iterations (500) reached and the optimization hasn't converged yet.\n",
      "  warnings.warn(\n"
     ]
    },
    {
     "name": "stdout",
     "output_type": "stream",
     "text": [
      "[CV 3/3; 128/180] END mlpclassifier__activation=tanh, mlpclassifier__alpha=0.00031622776601683794, mlpclassifier__hidden_layer_sizes=(128, 64), mlpclassifier__learning_rate=constant, mlpclassifier__learning_rate_init=0.001, mlpclassifier__solver=adam;, score=0.740 total time=  30.9s\n",
      "[CV 2/3; 132/180] START mlpclassifier__activation=tanh, mlpclassifier__alpha=0.00031622776601683794, mlpclassifier__hidden_layer_sizes=(128, 64), mlpclassifier__learning_rate=adaptive, mlpclassifier__learning_rate_init=0.005, mlpclassifier__solver=adam\n",
      "[CV 1/3; 132/180] END mlpclassifier__activation=tanh, mlpclassifier__alpha=0.00031622776601683794, mlpclassifier__hidden_layer_sizes=(128, 64), mlpclassifier__learning_rate=adaptive, mlpclassifier__learning_rate_init=0.005, mlpclassifier__solver=adam;, score=0.675 total time=  10.4s\n",
      "[CV 3/3; 132/180] START mlpclassifier__activation=tanh, mlpclassifier__alpha=0.00031622776601683794, mlpclassifier__hidden_layer_sizes=(128, 64), mlpclassifier__learning_rate=adaptive, mlpclassifier__learning_rate_init=0.005, mlpclassifier__solver=adam\n",
      "[CV 2/3; 132/180] END mlpclassifier__activation=tanh, mlpclassifier__alpha=0.00031622776601683794, mlpclassifier__hidden_layer_sizes=(128, 64), mlpclassifier__learning_rate=adaptive, mlpclassifier__learning_rate_init=0.005, mlpclassifier__solver=adam;, score=0.691 total time=   8.7s\n",
      "[CV 1/3; 133/180] START mlpclassifier__activation=tanh, mlpclassifier__alpha=0.00031622776601683794, mlpclassifier__hidden_layer_sizes=(100, 50), mlpclassifier__learning_rate=constant, mlpclassifier__learning_rate_init=0.0005, mlpclassifier__solver=adam\n"
     ]
    },
    {
     "name": "stderr",
     "output_type": "stream",
     "text": [
      "/opt/anaconda3/lib/python3.12/site-packages/sklearn/neural_network/_multilayer_perceptron.py:690: ConvergenceWarning: Stochastic Optimizer: Maximum iterations (500) reached and the optimization hasn't converged yet.\n",
      "  warnings.warn(\n"
     ]
    },
    {
     "name": "stdout",
     "output_type": "stream",
     "text": [
      "[CV 1/3; 130/180] END mlpclassifier__activation=tanh, mlpclassifier__alpha=0.00031622776601683794, mlpclassifier__hidden_layer_sizes=(128, 64), mlpclassifier__learning_rate=adaptive, mlpclassifier__learning_rate_init=0.0005, mlpclassifier__solver=adam;, score=0.685 total time=  30.2s\n",
      "[CV 2/3; 133/180] START mlpclassifier__activation=tanh, mlpclassifier__alpha=0.00031622776601683794, mlpclassifier__hidden_layer_sizes=(100, 50), mlpclassifier__learning_rate=constant, mlpclassifier__learning_rate_init=0.0005, mlpclassifier__solver=adam\n"
     ]
    },
    {
     "name": "stderr",
     "output_type": "stream",
     "text": [
      "/opt/anaconda3/lib/python3.12/site-packages/sklearn/neural_network/_multilayer_perceptron.py:690: ConvergenceWarning: Stochastic Optimizer: Maximum iterations (500) reached and the optimization hasn't converged yet.\n",
      "  warnings.warn(\n"
     ]
    },
    {
     "name": "stdout",
     "output_type": "stream",
     "text": [
      "[CV 2/3; 130/180] END mlpclassifier__activation=tanh, mlpclassifier__alpha=0.00031622776601683794, mlpclassifier__hidden_layer_sizes=(128, 64), mlpclassifier__learning_rate=adaptive, mlpclassifier__learning_rate_init=0.0005, mlpclassifier__solver=adam;, score=0.682 total time=  29.6s\n",
      "[CV 3/3; 133/180] START mlpclassifier__activation=tanh, mlpclassifier__alpha=0.00031622776601683794, mlpclassifier__hidden_layer_sizes=(100, 50), mlpclassifier__learning_rate=constant, mlpclassifier__learning_rate_init=0.0005, mlpclassifier__solver=adam\n"
     ]
    },
    {
     "name": "stderr",
     "output_type": "stream",
     "text": [
      "/opt/anaconda3/lib/python3.12/site-packages/sklearn/neural_network/_multilayer_perceptron.py:690: ConvergenceWarning: Stochastic Optimizer: Maximum iterations (500) reached and the optimization hasn't converged yet.\n",
      "  warnings.warn(\n"
     ]
    },
    {
     "name": "stdout",
     "output_type": "stream",
     "text": [
      "[CV 3/3; 130/180] END mlpclassifier__activation=tanh, mlpclassifier__alpha=0.00031622776601683794, mlpclassifier__hidden_layer_sizes=(128, 64), mlpclassifier__learning_rate=adaptive, mlpclassifier__learning_rate_init=0.0005, mlpclassifier__solver=adam;, score=0.725 total time=  28.8s\n",
      "[CV 1/3; 134/180] START mlpclassifier__activation=tanh, mlpclassifier__alpha=0.00031622776601683794, mlpclassifier__hidden_layer_sizes=(100, 50), mlpclassifier__learning_rate=constant, mlpclassifier__learning_rate_init=0.001, mlpclassifier__solver=adam\n",
      "[CV 3/3; 132/180] END mlpclassifier__activation=tanh, mlpclassifier__alpha=0.00031622776601683794, mlpclassifier__hidden_layer_sizes=(128, 64), mlpclassifier__learning_rate=adaptive, mlpclassifier__learning_rate_init=0.005, mlpclassifier__solver=adam;, score=0.729 total time=   9.9s\n",
      "[CV 2/3; 134/180] START mlpclassifier__activation=tanh, mlpclassifier__alpha=0.00031622776601683794, mlpclassifier__hidden_layer_sizes=(100, 50), mlpclassifier__learning_rate=constant, mlpclassifier__learning_rate_init=0.001, mlpclassifier__solver=adam\n"
     ]
    },
    {
     "name": "stderr",
     "output_type": "stream",
     "text": [
      "/opt/anaconda3/lib/python3.12/site-packages/sklearn/neural_network/_multilayer_perceptron.py:690: ConvergenceWarning: Stochastic Optimizer: Maximum iterations (500) reached and the optimization hasn't converged yet.\n",
      "  warnings.warn(\n"
     ]
    },
    {
     "name": "stdout",
     "output_type": "stream",
     "text": [
      "[CV 1/3; 131/180] END mlpclassifier__activation=tanh, mlpclassifier__alpha=0.00031622776601683794, mlpclassifier__hidden_layer_sizes=(128, 64), mlpclassifier__learning_rate=adaptive, mlpclassifier__learning_rate_init=0.001, mlpclassifier__solver=adam;, score=0.698 total time=  28.8s\n",
      "[CV 3/3; 134/180] START mlpclassifier__activation=tanh, mlpclassifier__alpha=0.00031622776601683794, mlpclassifier__hidden_layer_sizes=(100, 50), mlpclassifier__learning_rate=constant, mlpclassifier__learning_rate_init=0.001, mlpclassifier__solver=adam\n"
     ]
    },
    {
     "name": "stderr",
     "output_type": "stream",
     "text": [
      "/opt/anaconda3/lib/python3.12/site-packages/sklearn/neural_network/_multilayer_perceptron.py:690: ConvergenceWarning: Stochastic Optimizer: Maximum iterations (500) reached and the optimization hasn't converged yet.\n",
      "  warnings.warn(\n"
     ]
    },
    {
     "name": "stdout",
     "output_type": "stream",
     "text": [
      "[CV 2/3; 131/180] END mlpclassifier__activation=tanh, mlpclassifier__alpha=0.00031622776601683794, mlpclassifier__hidden_layer_sizes=(128, 64), mlpclassifier__learning_rate=adaptive, mlpclassifier__learning_rate_init=0.001, mlpclassifier__solver=adam;, score=0.688 total time=  28.5s\n",
      "[CV 1/3; 135/180] START mlpclassifier__activation=tanh, mlpclassifier__alpha=0.00031622776601683794, mlpclassifier__hidden_layer_sizes=(100, 50), mlpclassifier__learning_rate=constant, mlpclassifier__learning_rate_init=0.005, mlpclassifier__solver=adam\n"
     ]
    },
    {
     "name": "stderr",
     "output_type": "stream",
     "text": [
      "/opt/anaconda3/lib/python3.12/site-packages/sklearn/neural_network/_multilayer_perceptron.py:690: ConvergenceWarning: Stochastic Optimizer: Maximum iterations (500) reached and the optimization hasn't converged yet.\n",
      "  warnings.warn(\n"
     ]
    },
    {
     "name": "stdout",
     "output_type": "stream",
     "text": [
      "[CV 3/3; 131/180] END mlpclassifier__activation=tanh, mlpclassifier__alpha=0.00031622776601683794, mlpclassifier__hidden_layer_sizes=(128, 64), mlpclassifier__learning_rate=adaptive, mlpclassifier__learning_rate_init=0.001, mlpclassifier__solver=adam;, score=0.740 total time=  28.7s\n",
      "[CV 2/3; 135/180] START mlpclassifier__activation=tanh, mlpclassifier__alpha=0.00031622776601683794, mlpclassifier__hidden_layer_sizes=(100, 50), mlpclassifier__learning_rate=constant, mlpclassifier__learning_rate_init=0.005, mlpclassifier__solver=adam\n",
      "[CV 1/3; 135/180] END mlpclassifier__activation=tanh, mlpclassifier__alpha=0.00031622776601683794, mlpclassifier__hidden_layer_sizes=(100, 50), mlpclassifier__learning_rate=constant, mlpclassifier__learning_rate_init=0.005, mlpclassifier__solver=adam;, score=0.678 total time=   7.8s\n",
      "[CV 3/3; 135/180] START mlpclassifier__activation=tanh, mlpclassifier__alpha=0.00031622776601683794, mlpclassifier__hidden_layer_sizes=(100, 50), mlpclassifier__learning_rate=constant, mlpclassifier__learning_rate_init=0.005, mlpclassifier__solver=adam\n"
     ]
    },
    {
     "name": "stderr",
     "output_type": "stream",
     "text": [
      "/opt/anaconda3/lib/python3.12/site-packages/sklearn/neural_network/_multilayer_perceptron.py:690: ConvergenceWarning: Stochastic Optimizer: Maximum iterations (500) reached and the optimization hasn't converged yet.\n",
      "  warnings.warn(\n"
     ]
    },
    {
     "name": "stdout",
     "output_type": "stream",
     "text": [
      "[CV 1/3; 133/180] END mlpclassifier__activation=tanh, mlpclassifier__alpha=0.00031622776601683794, mlpclassifier__hidden_layer_sizes=(100, 50), mlpclassifier__learning_rate=constant, mlpclassifier__learning_rate_init=0.0005, mlpclassifier__solver=adam;, score=0.684 total time=  21.2s\n",
      "[CV 1/3; 136/180] START mlpclassifier__activation=tanh, mlpclassifier__alpha=0.00031622776601683794, mlpclassifier__hidden_layer_sizes=(100, 50), mlpclassifier__learning_rate=adaptive, mlpclassifier__learning_rate_init=0.0005, mlpclassifier__solver=adam\n"
     ]
    },
    {
     "name": "stderr",
     "output_type": "stream",
     "text": [
      "/opt/anaconda3/lib/python3.12/site-packages/sklearn/neural_network/_multilayer_perceptron.py:690: ConvergenceWarning: Stochastic Optimizer: Maximum iterations (500) reached and the optimization hasn't converged yet.\n",
      "  warnings.warn(\n"
     ]
    },
    {
     "name": "stdout",
     "output_type": "stream",
     "text": [
      "[CV 2/3; 133/180] END mlpclassifier__activation=tanh, mlpclassifier__alpha=0.00031622776601683794, mlpclassifier__hidden_layer_sizes=(100, 50), mlpclassifier__learning_rate=constant, mlpclassifier__learning_rate_init=0.0005, mlpclassifier__solver=adam;, score=0.679 total time=  21.1s\n",
      "[CV 2/3; 136/180] START mlpclassifier__activation=tanh, mlpclassifier__alpha=0.00031622776601683794, mlpclassifier__hidden_layer_sizes=(100, 50), mlpclassifier__learning_rate=adaptive, mlpclassifier__learning_rate_init=0.0005, mlpclassifier__solver=adam\n",
      "[CV 2/3; 135/180] END mlpclassifier__activation=tanh, mlpclassifier__alpha=0.00031622776601683794, mlpclassifier__hidden_layer_sizes=(100, 50), mlpclassifier__learning_rate=constant, mlpclassifier__learning_rate_init=0.005, mlpclassifier__solver=adam;, score=0.676 total time=   9.3s\n",
      "[CV 3/3; 136/180] START mlpclassifier__activation=tanh, mlpclassifier__alpha=0.00031622776601683794, mlpclassifier__hidden_layer_sizes=(100, 50), mlpclassifier__learning_rate=adaptive, mlpclassifier__learning_rate_init=0.0005, mlpclassifier__solver=adam\n"
     ]
    },
    {
     "name": "stderr",
     "output_type": "stream",
     "text": [
      "/opt/anaconda3/lib/python3.12/site-packages/sklearn/neural_network/_multilayer_perceptron.py:690: ConvergenceWarning: Stochastic Optimizer: Maximum iterations (500) reached and the optimization hasn't converged yet.\n",
      "  warnings.warn(\n"
     ]
    },
    {
     "name": "stdout",
     "output_type": "stream",
     "text": [
      "[CV 3/3; 133/180] END mlpclassifier__activation=tanh, mlpclassifier__alpha=0.00031622776601683794, mlpclassifier__hidden_layer_sizes=(100, 50), mlpclassifier__learning_rate=constant, mlpclassifier__learning_rate_init=0.0005, mlpclassifier__solver=adam;, score=0.719 total time=  21.7s\n",
      "[CV 1/3; 137/180] START mlpclassifier__activation=tanh, mlpclassifier__alpha=0.00031622776601683794, mlpclassifier__hidden_layer_sizes=(100, 50), mlpclassifier__learning_rate=adaptive, mlpclassifier__learning_rate_init=0.001, mlpclassifier__solver=adam\n"
     ]
    },
    {
     "name": "stderr",
     "output_type": "stream",
     "text": [
      "/opt/anaconda3/lib/python3.12/site-packages/sklearn/neural_network/_multilayer_perceptron.py:690: ConvergenceWarning: Stochastic Optimizer: Maximum iterations (500) reached and the optimization hasn't converged yet.\n",
      "  warnings.warn(\n"
     ]
    },
    {
     "name": "stdout",
     "output_type": "stream",
     "text": [
      "[CV 1/3; 134/180] END mlpclassifier__activation=tanh, mlpclassifier__alpha=0.00031622776601683794, mlpclassifier__hidden_layer_sizes=(100, 50), mlpclassifier__learning_rate=constant, mlpclassifier__learning_rate_init=0.001, mlpclassifier__solver=adam;, score=0.675 total time=  21.5s\n",
      "[CV 2/3; 137/180] START mlpclassifier__activation=tanh, mlpclassifier__alpha=0.00031622776601683794, mlpclassifier__hidden_layer_sizes=(100, 50), mlpclassifier__learning_rate=adaptive, mlpclassifier__learning_rate_init=0.001, mlpclassifier__solver=adam\n",
      "[CV 3/3; 135/180] END mlpclassifier__activation=tanh, mlpclassifier__alpha=0.00031622776601683794, mlpclassifier__hidden_layer_sizes=(100, 50), mlpclassifier__learning_rate=constant, mlpclassifier__learning_rate_init=0.005, mlpclassifier__solver=adam;, score=0.725 total time=   9.3s\n",
      "[CV 3/3; 137/180] START mlpclassifier__activation=tanh, mlpclassifier__alpha=0.00031622776601683794, mlpclassifier__hidden_layer_sizes=(100, 50), mlpclassifier__learning_rate=adaptive, mlpclassifier__learning_rate_init=0.001, mlpclassifier__solver=adam\n"
     ]
    },
    {
     "name": "stderr",
     "output_type": "stream",
     "text": [
      "/opt/anaconda3/lib/python3.12/site-packages/sklearn/neural_network/_multilayer_perceptron.py:690: ConvergenceWarning: Stochastic Optimizer: Maximum iterations (500) reached and the optimization hasn't converged yet.\n",
      "  warnings.warn(\n"
     ]
    },
    {
     "name": "stdout",
     "output_type": "stream",
     "text": [
      "[CV 2/3; 134/180] END mlpclassifier__activation=tanh, mlpclassifier__alpha=0.00031622776601683794, mlpclassifier__hidden_layer_sizes=(100, 50), mlpclassifier__learning_rate=constant, mlpclassifier__learning_rate_init=0.001, mlpclassifier__solver=adam;, score=0.689 total time=  22.1s\n",
      "[CV 1/3; 138/180] START mlpclassifier__activation=tanh, mlpclassifier__alpha=0.00031622776601683794, mlpclassifier__hidden_layer_sizes=(100, 50), mlpclassifier__learning_rate=adaptive, mlpclassifier__learning_rate_init=0.005, mlpclassifier__solver=adam\n"
     ]
    },
    {
     "name": "stderr",
     "output_type": "stream",
     "text": [
      "/opt/anaconda3/lib/python3.12/site-packages/sklearn/neural_network/_multilayer_perceptron.py:690: ConvergenceWarning: Stochastic Optimizer: Maximum iterations (500) reached and the optimization hasn't converged yet.\n",
      "  warnings.warn(\n"
     ]
    },
    {
     "name": "stdout",
     "output_type": "stream",
     "text": [
      "[CV 3/3; 134/180] END mlpclassifier__activation=tanh, mlpclassifier__alpha=0.00031622776601683794, mlpclassifier__hidden_layer_sizes=(100, 50), mlpclassifier__learning_rate=constant, mlpclassifier__learning_rate_init=0.001, mlpclassifier__solver=adam;, score=0.726 total time=  21.8s\n",
      "[CV 2/3; 138/180] START mlpclassifier__activation=tanh, mlpclassifier__alpha=0.00031622776601683794, mlpclassifier__hidden_layer_sizes=(100, 50), mlpclassifier__learning_rate=adaptive, mlpclassifier__learning_rate_init=0.005, mlpclassifier__solver=adam\n",
      "[CV 1/3; 138/180] END mlpclassifier__activation=tanh, mlpclassifier__alpha=0.00031622776601683794, mlpclassifier__hidden_layer_sizes=(100, 50), mlpclassifier__learning_rate=adaptive, mlpclassifier__learning_rate_init=0.005, mlpclassifier__solver=adam;, score=0.678 total time=   7.7s\n",
      "[CV 3/3; 138/180] START mlpclassifier__activation=tanh, mlpclassifier__alpha=0.00031622776601683794, mlpclassifier__hidden_layer_sizes=(100, 50), mlpclassifier__learning_rate=adaptive, mlpclassifier__learning_rate_init=0.005, mlpclassifier__solver=adam\n",
      "[CV 2/3; 138/180] END mlpclassifier__activation=tanh, mlpclassifier__alpha=0.00031622776601683794, mlpclassifier__hidden_layer_sizes=(100, 50), mlpclassifier__learning_rate=adaptive, mlpclassifier__learning_rate_init=0.005, mlpclassifier__solver=adam;, score=0.676 total time=   8.2s\n",
      "[CV 1/3; 139/180] START mlpclassifier__activation=tanh, mlpclassifier__alpha=0.00031622776601683794, mlpclassifier__hidden_layer_sizes=(128, 64, 32), mlpclassifier__learning_rate=constant, mlpclassifier__learning_rate_init=0.0005, mlpclassifier__solver=adam\n"
     ]
    },
    {
     "name": "stderr",
     "output_type": "stream",
     "text": [
      "/opt/anaconda3/lib/python3.12/site-packages/sklearn/neural_network/_multilayer_perceptron.py:690: ConvergenceWarning: Stochastic Optimizer: Maximum iterations (500) reached and the optimization hasn't converged yet.\n",
      "  warnings.warn(\n"
     ]
    },
    {
     "name": "stdout",
     "output_type": "stream",
     "text": [
      "[CV 1/3; 136/180] END mlpclassifier__activation=tanh, mlpclassifier__alpha=0.00031622776601683794, mlpclassifier__hidden_layer_sizes=(100, 50), mlpclassifier__learning_rate=adaptive, mlpclassifier__learning_rate_init=0.0005, mlpclassifier__solver=adam;, score=0.684 total time=  21.6s\n",
      "[CV 2/3; 139/180] START mlpclassifier__activation=tanh, mlpclassifier__alpha=0.00031622776601683794, mlpclassifier__hidden_layer_sizes=(128, 64, 32), mlpclassifier__learning_rate=constant, mlpclassifier__learning_rate_init=0.0005, mlpclassifier__solver=adam\n"
     ]
    },
    {
     "name": "stderr",
     "output_type": "stream",
     "text": [
      "/opt/anaconda3/lib/python3.12/site-packages/sklearn/neural_network/_multilayer_perceptron.py:690: ConvergenceWarning: Stochastic Optimizer: Maximum iterations (500) reached and the optimization hasn't converged yet.\n",
      "  warnings.warn(\n"
     ]
    },
    {
     "name": "stdout",
     "output_type": "stream",
     "text": [
      "[CV 2/3; 136/180] END mlpclassifier__activation=tanh, mlpclassifier__alpha=0.00031622776601683794, mlpclassifier__hidden_layer_sizes=(100, 50), mlpclassifier__learning_rate=adaptive, mlpclassifier__learning_rate_init=0.0005, mlpclassifier__solver=adam;, score=0.679 total time=  21.4s\n",
      "[CV 3/3; 139/180] START mlpclassifier__activation=tanh, mlpclassifier__alpha=0.00031622776601683794, mlpclassifier__hidden_layer_sizes=(128, 64, 32), mlpclassifier__learning_rate=constant, mlpclassifier__learning_rate_init=0.0005, mlpclassifier__solver=adam\n"
     ]
    },
    {
     "name": "stderr",
     "output_type": "stream",
     "text": [
      "/opt/anaconda3/lib/python3.12/site-packages/sklearn/neural_network/_multilayer_perceptron.py:690: ConvergenceWarning: Stochastic Optimizer: Maximum iterations (500) reached and the optimization hasn't converged yet.\n",
      "  warnings.warn(\n"
     ]
    },
    {
     "name": "stdout",
     "output_type": "stream",
     "text": [
      "[CV 3/3; 136/180] END mlpclassifier__activation=tanh, mlpclassifier__alpha=0.00031622776601683794, mlpclassifier__hidden_layer_sizes=(100, 50), mlpclassifier__learning_rate=adaptive, mlpclassifier__learning_rate_init=0.0005, mlpclassifier__solver=adam;, score=0.719 total time=  21.4s\n",
      "[CV 1/3; 140/180] START mlpclassifier__activation=tanh, mlpclassifier__alpha=0.00031622776601683794, mlpclassifier__hidden_layer_sizes=(128, 64, 32), mlpclassifier__learning_rate=constant, mlpclassifier__learning_rate_init=0.001, mlpclassifier__solver=adam\n",
      "[CV 3/3; 138/180] END mlpclassifier__activation=tanh, mlpclassifier__alpha=0.00031622776601683794, mlpclassifier__hidden_layer_sizes=(100, 50), mlpclassifier__learning_rate=adaptive, mlpclassifier__learning_rate_init=0.005, mlpclassifier__solver=adam;, score=0.725 total time=   8.9s\n",
      "[CV 2/3; 140/180] START mlpclassifier__activation=tanh, mlpclassifier__alpha=0.00031622776601683794, mlpclassifier__hidden_layer_sizes=(128, 64, 32), mlpclassifier__learning_rate=constant, mlpclassifier__learning_rate_init=0.001, mlpclassifier__solver=adam\n"
     ]
    },
    {
     "name": "stderr",
     "output_type": "stream",
     "text": [
      "/opt/anaconda3/lib/python3.12/site-packages/sklearn/neural_network/_multilayer_perceptron.py:690: ConvergenceWarning: Stochastic Optimizer: Maximum iterations (500) reached and the optimization hasn't converged yet.\n",
      "  warnings.warn(\n"
     ]
    },
    {
     "name": "stdout",
     "output_type": "stream",
     "text": [
      "[CV 1/3; 137/180] END mlpclassifier__activation=tanh, mlpclassifier__alpha=0.00031622776601683794, mlpclassifier__hidden_layer_sizes=(100, 50), mlpclassifier__learning_rate=adaptive, mlpclassifier__learning_rate_init=0.001, mlpclassifier__solver=adam;, score=0.675 total time=  21.1s\n",
      "[CV 3/3; 140/180] START mlpclassifier__activation=tanh, mlpclassifier__alpha=0.00031622776601683794, mlpclassifier__hidden_layer_sizes=(128, 64, 32), mlpclassifier__learning_rate=constant, mlpclassifier__learning_rate_init=0.001, mlpclassifier__solver=adam\n"
     ]
    },
    {
     "name": "stderr",
     "output_type": "stream",
     "text": [
      "/opt/anaconda3/lib/python3.12/site-packages/sklearn/neural_network/_multilayer_perceptron.py:690: ConvergenceWarning: Stochastic Optimizer: Maximum iterations (500) reached and the optimization hasn't converged yet.\n",
      "  warnings.warn(\n"
     ]
    },
    {
     "name": "stdout",
     "output_type": "stream",
     "text": [
      "[CV 2/3; 137/180] END mlpclassifier__activation=tanh, mlpclassifier__alpha=0.00031622776601683794, mlpclassifier__hidden_layer_sizes=(100, 50), mlpclassifier__learning_rate=adaptive, mlpclassifier__learning_rate_init=0.001, mlpclassifier__solver=adam;, score=0.689 total time=  20.8s\n",
      "[CV 1/3; 141/180] START mlpclassifier__activation=tanh, mlpclassifier__alpha=0.00031622776601683794, mlpclassifier__hidden_layer_sizes=(128, 64, 32), mlpclassifier__learning_rate=constant, mlpclassifier__learning_rate_init=0.005, mlpclassifier__solver=adam\n"
     ]
    },
    {
     "name": "stderr",
     "output_type": "stream",
     "text": [
      "/opt/anaconda3/lib/python3.12/site-packages/sklearn/neural_network/_multilayer_perceptron.py:690: ConvergenceWarning: Stochastic Optimizer: Maximum iterations (500) reached and the optimization hasn't converged yet.\n",
      "  warnings.warn(\n"
     ]
    },
    {
     "name": "stdout",
     "output_type": "stream",
     "text": [
      "[CV 3/3; 137/180] END mlpclassifier__activation=tanh, mlpclassifier__alpha=0.00031622776601683794, mlpclassifier__hidden_layer_sizes=(100, 50), mlpclassifier__learning_rate=adaptive, mlpclassifier__learning_rate_init=0.001, mlpclassifier__solver=adam;, score=0.726 total time=  21.0s\n",
      "[CV 2/3; 141/180] START mlpclassifier__activation=tanh, mlpclassifier__alpha=0.00031622776601683794, mlpclassifier__hidden_layer_sizes=(128, 64, 32), mlpclassifier__learning_rate=constant, mlpclassifier__learning_rate_init=0.005, mlpclassifier__solver=adam\n",
      "[CV 1/3; 141/180] END mlpclassifier__activation=tanh, mlpclassifier__alpha=0.00031622776601683794, mlpclassifier__hidden_layer_sizes=(128, 64, 32), mlpclassifier__learning_rate=constant, mlpclassifier__learning_rate_init=0.005, mlpclassifier__solver=adam;, score=0.647 total time=   7.1s\n",
      "[CV 3/3; 141/180] START mlpclassifier__activation=tanh, mlpclassifier__alpha=0.00031622776601683794, mlpclassifier__hidden_layer_sizes=(128, 64, 32), mlpclassifier__learning_rate=constant, mlpclassifier__learning_rate_init=0.005, mlpclassifier__solver=adam\n",
      "[CV 2/3; 141/180] END mlpclassifier__activation=tanh, mlpclassifier__alpha=0.00031622776601683794, mlpclassifier__hidden_layer_sizes=(128, 64, 32), mlpclassifier__learning_rate=constant, mlpclassifier__learning_rate_init=0.005, mlpclassifier__solver=adam;, score=0.676 total time=   7.5s\n",
      "[CV 1/3; 142/180] START mlpclassifier__activation=tanh, mlpclassifier__alpha=0.00031622776601683794, mlpclassifier__hidden_layer_sizes=(128, 64, 32), mlpclassifier__learning_rate=adaptive, mlpclassifier__learning_rate_init=0.0005, mlpclassifier__solver=adam\n",
      "[CV 3/3; 141/180] END mlpclassifier__activation=tanh, mlpclassifier__alpha=0.00031622776601683794, mlpclassifier__hidden_layer_sizes=(128, 64, 32), mlpclassifier__learning_rate=constant, mlpclassifier__learning_rate_init=0.005, mlpclassifier__solver=adam;, score=0.707 total time=   6.0s\n",
      "[CV 2/3; 142/180] START mlpclassifier__activation=tanh, mlpclassifier__alpha=0.00031622776601683794, mlpclassifier__hidden_layer_sizes=(128, 64, 32), mlpclassifier__learning_rate=adaptive, mlpclassifier__learning_rate_init=0.0005, mlpclassifier__solver=adam\n",
      "[CV 1/3; 140/180] END mlpclassifier__activation=tanh, mlpclassifier__alpha=0.00031622776601683794, mlpclassifier__hidden_layer_sizes=(128, 64, 32), mlpclassifier__learning_rate=constant, mlpclassifier__learning_rate_init=0.001, mlpclassifier__solver=adam;, score=0.676 total time=  28.0s\n",
      "[CV 3/3; 142/180] START mlpclassifier__activation=tanh, mlpclassifier__alpha=0.00031622776601683794, mlpclassifier__hidden_layer_sizes=(128, 64, 32), mlpclassifier__learning_rate=adaptive, mlpclassifier__learning_rate_init=0.0005, mlpclassifier__solver=adam\n",
      "[CV 2/3; 140/180] END mlpclassifier__activation=tanh, mlpclassifier__alpha=0.00031622776601683794, mlpclassifier__hidden_layer_sizes=(128, 64, 32), mlpclassifier__learning_rate=constant, mlpclassifier__learning_rate_init=0.001, mlpclassifier__solver=adam;, score=0.689 total time=  27.1s\n",
      "[CV 1/3; 143/180] START mlpclassifier__activation=tanh, mlpclassifier__alpha=0.00031622776601683794, mlpclassifier__hidden_layer_sizes=(128, 64, 32), mlpclassifier__learning_rate=adaptive, mlpclassifier__learning_rate_init=0.001, mlpclassifier__solver=adam\n"
     ]
    },
    {
     "name": "stderr",
     "output_type": "stream",
     "text": [
      "/opt/anaconda3/lib/python3.12/site-packages/sklearn/neural_network/_multilayer_perceptron.py:690: ConvergenceWarning: Stochastic Optimizer: Maximum iterations (500) reached and the optimization hasn't converged yet.\n",
      "  warnings.warn(\n"
     ]
    },
    {
     "name": "stdout",
     "output_type": "stream",
     "text": [
      "[CV 1/3; 139/180] END mlpclassifier__activation=tanh, mlpclassifier__alpha=0.00031622776601683794, mlpclassifier__hidden_layer_sizes=(128, 64, 32), mlpclassifier__learning_rate=constant, mlpclassifier__learning_rate_init=0.0005, mlpclassifier__solver=adam;, score=0.670 total time=  33.6s\n",
      "[CV 2/3; 143/180] START mlpclassifier__activation=tanh, mlpclassifier__alpha=0.00031622776601683794, mlpclassifier__hidden_layer_sizes=(128, 64, 32), mlpclassifier__learning_rate=adaptive, mlpclassifier__learning_rate_init=0.001, mlpclassifier__solver=adam\n",
      "[CV 3/3; 140/180] END mlpclassifier__activation=tanh, mlpclassifier__alpha=0.00031622776601683794, mlpclassifier__hidden_layer_sizes=(128, 64, 32), mlpclassifier__learning_rate=constant, mlpclassifier__learning_rate_init=0.001, mlpclassifier__solver=adam;, score=0.727 total time=  27.2s\n",
      "[CV 3/3; 143/180] START mlpclassifier__activation=tanh, mlpclassifier__alpha=0.00031622776601683794, mlpclassifier__hidden_layer_sizes=(128, 64, 32), mlpclassifier__learning_rate=adaptive, mlpclassifier__learning_rate_init=0.001, mlpclassifier__solver=adam\n"
     ]
    },
    {
     "name": "stderr",
     "output_type": "stream",
     "text": [
      "/opt/anaconda3/lib/python3.12/site-packages/sklearn/neural_network/_multilayer_perceptron.py:690: ConvergenceWarning: Stochastic Optimizer: Maximum iterations (500) reached and the optimization hasn't converged yet.\n",
      "  warnings.warn(\n"
     ]
    },
    {
     "name": "stdout",
     "output_type": "stream",
     "text": [
      "[CV 2/3; 139/180] END mlpclassifier__activation=tanh, mlpclassifier__alpha=0.00031622776601683794, mlpclassifier__hidden_layer_sizes=(128, 64, 32), mlpclassifier__learning_rate=constant, mlpclassifier__learning_rate_init=0.0005, mlpclassifier__solver=adam;, score=0.680 total time=  33.2s\n",
      "[CV 1/3; 144/180] START mlpclassifier__activation=tanh, mlpclassifier__alpha=0.00031622776601683794, mlpclassifier__hidden_layer_sizes=(128, 64, 32), mlpclassifier__learning_rate=adaptive, mlpclassifier__learning_rate_init=0.005, mlpclassifier__solver=adam\n"
     ]
    },
    {
     "name": "stderr",
     "output_type": "stream",
     "text": [
      "/opt/anaconda3/lib/python3.12/site-packages/sklearn/neural_network/_multilayer_perceptron.py:690: ConvergenceWarning: Stochastic Optimizer: Maximum iterations (500) reached and the optimization hasn't converged yet.\n",
      "  warnings.warn(\n"
     ]
    },
    {
     "name": "stdout",
     "output_type": "stream",
     "text": [
      "[CV 3/3; 139/180] END mlpclassifier__activation=tanh, mlpclassifier__alpha=0.00031622776601683794, mlpclassifier__hidden_layer_sizes=(128, 64, 32), mlpclassifier__learning_rate=constant, mlpclassifier__learning_rate_init=0.0005, mlpclassifier__solver=adam;, score=0.740 total time=  33.5s\n",
      "[CV 2/3; 144/180] START mlpclassifier__activation=tanh, mlpclassifier__alpha=0.00031622776601683794, mlpclassifier__hidden_layer_sizes=(128, 64, 32), mlpclassifier__learning_rate=adaptive, mlpclassifier__learning_rate_init=0.005, mlpclassifier__solver=adam\n",
      "[CV 1/3; 144/180] END mlpclassifier__activation=tanh, mlpclassifier__alpha=0.00031622776601683794, mlpclassifier__hidden_layer_sizes=(128, 64, 32), mlpclassifier__learning_rate=adaptive, mlpclassifier__learning_rate_init=0.005, mlpclassifier__solver=adam;, score=0.647 total time=   7.2s\n",
      "[CV 3/3; 144/180] START mlpclassifier__activation=tanh, mlpclassifier__alpha=0.00031622776601683794, mlpclassifier__hidden_layer_sizes=(128, 64, 32), mlpclassifier__learning_rate=adaptive, mlpclassifier__learning_rate_init=0.005, mlpclassifier__solver=adam\n",
      "[CV 2/3; 144/180] END mlpclassifier__activation=tanh, mlpclassifier__alpha=0.00031622776601683794, mlpclassifier__hidden_layer_sizes=(128, 64, 32), mlpclassifier__learning_rate=adaptive, mlpclassifier__learning_rate_init=0.005, mlpclassifier__solver=adam;, score=0.676 total time=   7.6s\n",
      "[CV 1/3; 145/180] START mlpclassifier__activation=tanh, mlpclassifier__alpha=0.0017782794100389228, mlpclassifier__hidden_layer_sizes=(128, 64), mlpclassifier__learning_rate=constant, mlpclassifier__learning_rate_init=0.0005, mlpclassifier__solver=adam\n",
      "[CV 3/3; 144/180] END mlpclassifier__activation=tanh, mlpclassifier__alpha=0.00031622776601683794, mlpclassifier__hidden_layer_sizes=(128, 64, 32), mlpclassifier__learning_rate=adaptive, mlpclassifier__learning_rate_init=0.005, mlpclassifier__solver=adam;, score=0.707 total time=   6.1s\n",
      "[CV 2/3; 145/180] START mlpclassifier__activation=tanh, mlpclassifier__alpha=0.0017782794100389228, mlpclassifier__hidden_layer_sizes=(128, 64), mlpclassifier__learning_rate=constant, mlpclassifier__learning_rate_init=0.0005, mlpclassifier__solver=adam\n"
     ]
    },
    {
     "name": "stderr",
     "output_type": "stream",
     "text": [
      "/opt/anaconda3/lib/python3.12/site-packages/sklearn/neural_network/_multilayer_perceptron.py:690: ConvergenceWarning: Stochastic Optimizer: Maximum iterations (500) reached and the optimization hasn't converged yet.\n",
      "  warnings.warn(\n"
     ]
    },
    {
     "name": "stdout",
     "output_type": "stream",
     "text": [
      "[CV 1/3; 142/180] END mlpclassifier__activation=tanh, mlpclassifier__alpha=0.00031622776601683794, mlpclassifier__hidden_layer_sizes=(128, 64, 32), mlpclassifier__learning_rate=adaptive, mlpclassifier__learning_rate_init=0.0005, mlpclassifier__solver=adam;, score=0.670 total time=  33.3s\n",
      "[CV 3/3; 145/180] START mlpclassifier__activation=tanh, mlpclassifier__alpha=0.0017782794100389228, mlpclassifier__hidden_layer_sizes=(128, 64), mlpclassifier__learning_rate=constant, mlpclassifier__learning_rate_init=0.0005, mlpclassifier__solver=adam\n"
     ]
    },
    {
     "name": "stderr",
     "output_type": "stream",
     "text": [
      "/opt/anaconda3/lib/python3.12/site-packages/sklearn/neural_network/_multilayer_perceptron.py:690: ConvergenceWarning: Stochastic Optimizer: Maximum iterations (500) reached and the optimization hasn't converged yet.\n",
      "  warnings.warn(\n"
     ]
    },
    {
     "name": "stdout",
     "output_type": "stream",
     "text": [
      "[CV 2/3; 142/180] END mlpclassifier__activation=tanh, mlpclassifier__alpha=0.00031622776601683794, mlpclassifier__hidden_layer_sizes=(128, 64, 32), mlpclassifier__learning_rate=adaptive, mlpclassifier__learning_rate_init=0.0005, mlpclassifier__solver=adam;, score=0.680 total time=  33.2s\n",
      "[CV 1/3; 146/180] START mlpclassifier__activation=tanh, mlpclassifier__alpha=0.0017782794100389228, mlpclassifier__hidden_layer_sizes=(128, 64), mlpclassifier__learning_rate=constant, mlpclassifier__learning_rate_init=0.001, mlpclassifier__solver=adam\n",
      "[CV 2/3; 143/180] END mlpclassifier__activation=tanh, mlpclassifier__alpha=0.00031622776601683794, mlpclassifier__hidden_layer_sizes=(128, 64, 32), mlpclassifier__learning_rate=adaptive, mlpclassifier__learning_rate_init=0.001, mlpclassifier__solver=adam;, score=0.689 total time=  26.9s\n",
      "[CV 2/3; 146/180] START mlpclassifier__activation=tanh, mlpclassifier__alpha=0.0017782794100389228, mlpclassifier__hidden_layer_sizes=(128, 64), mlpclassifier__learning_rate=constant, mlpclassifier__learning_rate_init=0.001, mlpclassifier__solver=adam\n",
      "[CV 3/3; 143/180] END mlpclassifier__activation=tanh, mlpclassifier__alpha=0.00031622776601683794, mlpclassifier__hidden_layer_sizes=(128, 64, 32), mlpclassifier__learning_rate=adaptive, mlpclassifier__learning_rate_init=0.001, mlpclassifier__solver=adam;, score=0.727 total time=  27.5s\n",
      "[CV 3/3; 146/180] START mlpclassifier__activation=tanh, mlpclassifier__alpha=0.0017782794100389228, mlpclassifier__hidden_layer_sizes=(128, 64), mlpclassifier__learning_rate=constant, mlpclassifier__learning_rate_init=0.001, mlpclassifier__solver=adam\n",
      "[CV 1/3; 143/180] END mlpclassifier__activation=tanh, mlpclassifier__alpha=0.00031622776601683794, mlpclassifier__hidden_layer_sizes=(128, 64, 32), mlpclassifier__learning_rate=adaptive, mlpclassifier__learning_rate_init=0.001, mlpclassifier__solver=adam;, score=0.676 total time=  28.0s\n",
      "[CV 1/3; 147/180] START mlpclassifier__activation=tanh, mlpclassifier__alpha=0.0017782794100389228, mlpclassifier__hidden_layer_sizes=(128, 64), mlpclassifier__learning_rate=constant, mlpclassifier__learning_rate_init=0.005, mlpclassifier__solver=adam\n"
     ]
    },
    {
     "name": "stderr",
     "output_type": "stream",
     "text": [
      "/opt/anaconda3/lib/python3.12/site-packages/sklearn/neural_network/_multilayer_perceptron.py:690: ConvergenceWarning: Stochastic Optimizer: Maximum iterations (500) reached and the optimization hasn't converged yet.\n",
      "  warnings.warn(\n"
     ]
    },
    {
     "name": "stdout",
     "output_type": "stream",
     "text": [
      "[CV 3/3; 142/180] END mlpclassifier__activation=tanh, mlpclassifier__alpha=0.00031622776601683794, mlpclassifier__hidden_layer_sizes=(128, 64, 32), mlpclassifier__learning_rate=adaptive, mlpclassifier__learning_rate_init=0.0005, mlpclassifier__solver=adam;, score=0.740 total time=  33.9s\n",
      "[CV 2/3; 147/180] START mlpclassifier__activation=tanh, mlpclassifier__alpha=0.0017782794100389228, mlpclassifier__hidden_layer_sizes=(128, 64), mlpclassifier__learning_rate=constant, mlpclassifier__learning_rate_init=0.005, mlpclassifier__solver=adam\n",
      "[CV 1/3; 147/180] END mlpclassifier__activation=tanh, mlpclassifier__alpha=0.0017782794100389228, mlpclassifier__hidden_layer_sizes=(128, 64), mlpclassifier__learning_rate=constant, mlpclassifier__learning_rate_init=0.005, mlpclassifier__solver=adam;, score=0.681 total time=   8.6s\n",
      "[CV 3/3; 147/180] START mlpclassifier__activation=tanh, mlpclassifier__alpha=0.0017782794100389228, mlpclassifier__hidden_layer_sizes=(128, 64), mlpclassifier__learning_rate=constant, mlpclassifier__learning_rate_init=0.005, mlpclassifier__solver=adam\n"
     ]
    },
    {
     "name": "stderr",
     "output_type": "stream",
     "text": [
      "/opt/anaconda3/lib/python3.12/site-packages/sklearn/neural_network/_multilayer_perceptron.py:690: ConvergenceWarning: Stochastic Optimizer: Maximum iterations (500) reached and the optimization hasn't converged yet.\n",
      "  warnings.warn(\n"
     ]
    },
    {
     "name": "stdout",
     "output_type": "stream",
     "text": [
      "[CV 1/3; 145/180] END mlpclassifier__activation=tanh, mlpclassifier__alpha=0.0017782794100389228, mlpclassifier__hidden_layer_sizes=(128, 64), mlpclassifier__learning_rate=constant, mlpclassifier__learning_rate_init=0.0005, mlpclassifier__solver=adam;, score=0.685 total time=  29.0s\n",
      "[CV 1/3; 148/180] START mlpclassifier__activation=tanh, mlpclassifier__alpha=0.0017782794100389228, mlpclassifier__hidden_layer_sizes=(128, 64), mlpclassifier__learning_rate=adaptive, mlpclassifier__learning_rate_init=0.0005, mlpclassifier__solver=adam\n",
      "[CV 2/3; 147/180] END mlpclassifier__activation=tanh, mlpclassifier__alpha=0.0017782794100389228, mlpclassifier__hidden_layer_sizes=(128, 64), mlpclassifier__learning_rate=constant, mlpclassifier__learning_rate_init=0.005, mlpclassifier__solver=adam;, score=0.694 total time=   9.3s\n",
      "[CV 2/3; 148/180] START mlpclassifier__activation=tanh, mlpclassifier__alpha=0.0017782794100389228, mlpclassifier__hidden_layer_sizes=(128, 64), mlpclassifier__learning_rate=adaptive, mlpclassifier__learning_rate_init=0.0005, mlpclassifier__solver=adam\n"
     ]
    },
    {
     "name": "stderr",
     "output_type": "stream",
     "text": [
      "/opt/anaconda3/lib/python3.12/site-packages/sklearn/neural_network/_multilayer_perceptron.py:690: ConvergenceWarning: Stochastic Optimizer: Maximum iterations (500) reached and the optimization hasn't converged yet.\n",
      "  warnings.warn(\n"
     ]
    },
    {
     "name": "stdout",
     "output_type": "stream",
     "text": [
      "[CV 2/3; 145/180] END mlpclassifier__activation=tanh, mlpclassifier__alpha=0.0017782794100389228, mlpclassifier__hidden_layer_sizes=(128, 64), mlpclassifier__learning_rate=constant, mlpclassifier__learning_rate_init=0.0005, mlpclassifier__solver=adam;, score=0.682 total time=  29.2s\n",
      "[CV 3/3; 148/180] START mlpclassifier__activation=tanh, mlpclassifier__alpha=0.0017782794100389228, mlpclassifier__hidden_layer_sizes=(128, 64), mlpclassifier__learning_rate=adaptive, mlpclassifier__learning_rate_init=0.0005, mlpclassifier__solver=adam\n"
     ]
    },
    {
     "name": "stderr",
     "output_type": "stream",
     "text": [
      "/opt/anaconda3/lib/python3.12/site-packages/sklearn/neural_network/_multilayer_perceptron.py:690: ConvergenceWarning: Stochastic Optimizer: Maximum iterations (500) reached and the optimization hasn't converged yet.\n",
      "  warnings.warn(\n"
     ]
    },
    {
     "name": "stdout",
     "output_type": "stream",
     "text": [
      "[CV 3/3; 145/180] END mlpclassifier__activation=tanh, mlpclassifier__alpha=0.0017782794100389228, mlpclassifier__hidden_layer_sizes=(128, 64), mlpclassifier__learning_rate=constant, mlpclassifier__learning_rate_init=0.0005, mlpclassifier__solver=adam;, score=0.725 total time=  28.9s\n",
      "[CV 1/3; 149/180] START mlpclassifier__activation=tanh, mlpclassifier__alpha=0.0017782794100389228, mlpclassifier__hidden_layer_sizes=(128, 64), mlpclassifier__learning_rate=adaptive, mlpclassifier__learning_rate_init=0.001, mlpclassifier__solver=adam\n",
      "[CV 3/3; 147/180] END mlpclassifier__activation=tanh, mlpclassifier__alpha=0.0017782794100389228, mlpclassifier__hidden_layer_sizes=(128, 64), mlpclassifier__learning_rate=constant, mlpclassifier__learning_rate_init=0.005, mlpclassifier__solver=adam;, score=0.729 total time=  11.5s\n",
      "[CV 2/3; 149/180] START mlpclassifier__activation=tanh, mlpclassifier__alpha=0.0017782794100389228, mlpclassifier__hidden_layer_sizes=(128, 64), mlpclassifier__learning_rate=adaptive, mlpclassifier__learning_rate_init=0.001, mlpclassifier__solver=adam\n"
     ]
    },
    {
     "name": "stderr",
     "output_type": "stream",
     "text": [
      "/opt/anaconda3/lib/python3.12/site-packages/sklearn/neural_network/_multilayer_perceptron.py:690: ConvergenceWarning: Stochastic Optimizer: Maximum iterations (500) reached and the optimization hasn't converged yet.\n",
      "  warnings.warn(\n"
     ]
    },
    {
     "name": "stdout",
     "output_type": "stream",
     "text": [
      "[CV 1/3; 146/180] END mlpclassifier__activation=tanh, mlpclassifier__alpha=0.0017782794100389228, mlpclassifier__hidden_layer_sizes=(128, 64), mlpclassifier__learning_rate=constant, mlpclassifier__learning_rate_init=0.001, mlpclassifier__solver=adam;, score=0.702 total time=  29.0s\n",
      "[CV 3/3; 149/180] START mlpclassifier__activation=tanh, mlpclassifier__alpha=0.0017782794100389228, mlpclassifier__hidden_layer_sizes=(128, 64), mlpclassifier__learning_rate=adaptive, mlpclassifier__learning_rate_init=0.001, mlpclassifier__solver=adam\n"
     ]
    },
    {
     "name": "stderr",
     "output_type": "stream",
     "text": [
      "/opt/anaconda3/lib/python3.12/site-packages/sklearn/neural_network/_multilayer_perceptron.py:690: ConvergenceWarning: Stochastic Optimizer: Maximum iterations (500) reached and the optimization hasn't converged yet.\n",
      "  warnings.warn(\n"
     ]
    },
    {
     "name": "stdout",
     "output_type": "stream",
     "text": [
      "[CV 2/3; 146/180] END mlpclassifier__activation=tanh, mlpclassifier__alpha=0.0017782794100389228, mlpclassifier__hidden_layer_sizes=(128, 64), mlpclassifier__learning_rate=constant, mlpclassifier__learning_rate_init=0.001, mlpclassifier__solver=adam;, score=0.689 total time=  29.1s\n",
      "[CV 1/3; 150/180] START mlpclassifier__activation=tanh, mlpclassifier__alpha=0.0017782794100389228, mlpclassifier__hidden_layer_sizes=(128, 64), mlpclassifier__learning_rate=adaptive, mlpclassifier__learning_rate_init=0.005, mlpclassifier__solver=adam\n"
     ]
    },
    {
     "name": "stderr",
     "output_type": "stream",
     "text": [
      "/opt/anaconda3/lib/python3.12/site-packages/sklearn/neural_network/_multilayer_perceptron.py:690: ConvergenceWarning: Stochastic Optimizer: Maximum iterations (500) reached and the optimization hasn't converged yet.\n",
      "  warnings.warn(\n"
     ]
    },
    {
     "name": "stdout",
     "output_type": "stream",
     "text": [
      "[CV 3/3; 146/180] END mlpclassifier__activation=tanh, mlpclassifier__alpha=0.0017782794100389228, mlpclassifier__hidden_layer_sizes=(128, 64), mlpclassifier__learning_rate=constant, mlpclassifier__learning_rate_init=0.001, mlpclassifier__solver=adam;, score=0.741 total time=  28.9s\n",
      "[CV 2/3; 150/180] START mlpclassifier__activation=tanh, mlpclassifier__alpha=0.0017782794100389228, mlpclassifier__hidden_layer_sizes=(128, 64), mlpclassifier__learning_rate=adaptive, mlpclassifier__learning_rate_init=0.005, mlpclassifier__solver=adam\n",
      "[CV 1/3; 150/180] END mlpclassifier__activation=tanh, mlpclassifier__alpha=0.0017782794100389228, mlpclassifier__hidden_layer_sizes=(128, 64), mlpclassifier__learning_rate=adaptive, mlpclassifier__learning_rate_init=0.005, mlpclassifier__solver=adam;, score=0.681 total time=   8.3s\n",
      "[CV 3/3; 150/180] START mlpclassifier__activation=tanh, mlpclassifier__alpha=0.0017782794100389228, mlpclassifier__hidden_layer_sizes=(128, 64), mlpclassifier__learning_rate=adaptive, mlpclassifier__learning_rate_init=0.005, mlpclassifier__solver=adam\n",
      "[CV 2/3; 150/180] END mlpclassifier__activation=tanh, mlpclassifier__alpha=0.0017782794100389228, mlpclassifier__hidden_layer_sizes=(128, 64), mlpclassifier__learning_rate=adaptive, mlpclassifier__learning_rate_init=0.005, mlpclassifier__solver=adam;, score=0.694 total time=   8.6s\n",
      "[CV 1/3; 151/180] START mlpclassifier__activation=tanh, mlpclassifier__alpha=0.0017782794100389228, mlpclassifier__hidden_layer_sizes=(100, 50), mlpclassifier__learning_rate=constant, mlpclassifier__learning_rate_init=0.0005, mlpclassifier__solver=adam\n"
     ]
    },
    {
     "name": "stderr",
     "output_type": "stream",
     "text": [
      "/opt/anaconda3/lib/python3.12/site-packages/sklearn/neural_network/_multilayer_perceptron.py:690: ConvergenceWarning: Stochastic Optimizer: Maximum iterations (500) reached and the optimization hasn't converged yet.\n",
      "  warnings.warn(\n"
     ]
    },
    {
     "name": "stdout",
     "output_type": "stream",
     "text": [
      "[CV 1/3; 148/180] END mlpclassifier__activation=tanh, mlpclassifier__alpha=0.0017782794100389228, mlpclassifier__hidden_layer_sizes=(128, 64), mlpclassifier__learning_rate=adaptive, mlpclassifier__learning_rate_init=0.0005, mlpclassifier__solver=adam;, score=0.685 total time=  28.8s\n",
      "[CV 2/3; 151/180] START mlpclassifier__activation=tanh, mlpclassifier__alpha=0.0017782794100389228, mlpclassifier__hidden_layer_sizes=(100, 50), mlpclassifier__learning_rate=constant, mlpclassifier__learning_rate_init=0.0005, mlpclassifier__solver=adam\n"
     ]
    },
    {
     "name": "stderr",
     "output_type": "stream",
     "text": [
      "/opt/anaconda3/lib/python3.12/site-packages/sklearn/neural_network/_multilayer_perceptron.py:690: ConvergenceWarning: Stochastic Optimizer: Maximum iterations (500) reached and the optimization hasn't converged yet.\n",
      "  warnings.warn(\n",
      "/opt/anaconda3/lib/python3.12/site-packages/sklearn/neural_network/_multilayer_perceptron.py:690: ConvergenceWarning: Stochastic Optimizer: Maximum iterations (500) reached and the optimization hasn't converged yet.\n",
      "  warnings.warn(\n"
     ]
    },
    {
     "name": "stdout",
     "output_type": "stream",
     "text": [
      "[CV 2/3; 148/180] END mlpclassifier__activation=tanh, mlpclassifier__alpha=0.0017782794100389228, mlpclassifier__hidden_layer_sizes=(128, 64), mlpclassifier__learning_rate=adaptive, mlpclassifier__learning_rate_init=0.0005, mlpclassifier__solver=adam;, score=0.682 total time=  28.9s\n",
      "[CV 3/3; 151/180] START mlpclassifier__activation=tanh, mlpclassifier__alpha=0.0017782794100389228, mlpclassifier__hidden_layer_sizes=(100, 50), mlpclassifier__learning_rate=constant, mlpclassifier__learning_rate_init=0.0005, mlpclassifier__solver=adam\n",
      "[CV 3/3; 148/180] END mlpclassifier__activation=tanh, mlpclassifier__alpha=0.0017782794100389228, mlpclassifier__hidden_layer_sizes=(128, 64), mlpclassifier__learning_rate=adaptive, mlpclassifier__learning_rate_init=0.0005, mlpclassifier__solver=adam;, score=0.725 total time=  28.6s\n",
      "[CV 1/3; 152/180] START mlpclassifier__activation=tanh, mlpclassifier__alpha=0.0017782794100389228, mlpclassifier__hidden_layer_sizes=(100, 50), mlpclassifier__learning_rate=constant, mlpclassifier__learning_rate_init=0.001, mlpclassifier__solver=adam\n"
     ]
    },
    {
     "name": "stderr",
     "output_type": "stream",
     "text": [
      "/opt/anaconda3/lib/python3.12/site-packages/sklearn/neural_network/_multilayer_perceptron.py:690: ConvergenceWarning: Stochastic Optimizer: Maximum iterations (500) reached and the optimization hasn't converged yet.\n",
      "  warnings.warn(\n"
     ]
    },
    {
     "name": "stdout",
     "output_type": "stream",
     "text": [
      "[CV 1/3; 149/180] END mlpclassifier__activation=tanh, mlpclassifier__alpha=0.0017782794100389228, mlpclassifier__hidden_layer_sizes=(128, 64), mlpclassifier__learning_rate=adaptive, mlpclassifier__learning_rate_init=0.001, mlpclassifier__solver=adam;, score=0.702 total time=  28.3s\n",
      "[CV 2/3; 152/180] START mlpclassifier__activation=tanh, mlpclassifier__alpha=0.0017782794100389228, mlpclassifier__hidden_layer_sizes=(100, 50), mlpclassifier__learning_rate=constant, mlpclassifier__learning_rate_init=0.001, mlpclassifier__solver=adam\n",
      "[CV 3/3; 150/180] END mlpclassifier__activation=tanh, mlpclassifier__alpha=0.0017782794100389228, mlpclassifier__hidden_layer_sizes=(128, 64), mlpclassifier__learning_rate=adaptive, mlpclassifier__learning_rate_init=0.005, mlpclassifier__solver=adam;, score=0.729 total time=  10.6s\n",
      "[CV 3/3; 152/180] START mlpclassifier__activation=tanh, mlpclassifier__alpha=0.0017782794100389228, mlpclassifier__hidden_layer_sizes=(100, 50), mlpclassifier__learning_rate=constant, mlpclassifier__learning_rate_init=0.001, mlpclassifier__solver=adam\n"
     ]
    },
    {
     "name": "stderr",
     "output_type": "stream",
     "text": [
      "/opt/anaconda3/lib/python3.12/site-packages/sklearn/neural_network/_multilayer_perceptron.py:690: ConvergenceWarning: Stochastic Optimizer: Maximum iterations (500) reached and the optimization hasn't converged yet.\n",
      "  warnings.warn(\n"
     ]
    },
    {
     "name": "stdout",
     "output_type": "stream",
     "text": [
      "[CV 2/3; 149/180] END mlpclassifier__activation=tanh, mlpclassifier__alpha=0.0017782794100389228, mlpclassifier__hidden_layer_sizes=(128, 64), mlpclassifier__learning_rate=adaptive, mlpclassifier__learning_rate_init=0.001, mlpclassifier__solver=adam;, score=0.689 total time=  28.5s\n",
      "[CV 1/3; 153/180] START mlpclassifier__activation=tanh, mlpclassifier__alpha=0.0017782794100389228, mlpclassifier__hidden_layer_sizes=(100, 50), mlpclassifier__learning_rate=constant, mlpclassifier__learning_rate_init=0.005, mlpclassifier__solver=adam\n"
     ]
    },
    {
     "name": "stderr",
     "output_type": "stream",
     "text": [
      "/opt/anaconda3/lib/python3.12/site-packages/sklearn/neural_network/_multilayer_perceptron.py:690: ConvergenceWarning: Stochastic Optimizer: Maximum iterations (500) reached and the optimization hasn't converged yet.\n",
      "  warnings.warn(\n"
     ]
    },
    {
     "name": "stdout",
     "output_type": "stream",
     "text": [
      "[CV 3/3; 149/180] END mlpclassifier__activation=tanh, mlpclassifier__alpha=0.0017782794100389228, mlpclassifier__hidden_layer_sizes=(128, 64), mlpclassifier__learning_rate=adaptive, mlpclassifier__learning_rate_init=0.001, mlpclassifier__solver=adam;, score=0.741 total time=  28.3s\n",
      "[CV 2/3; 153/180] START mlpclassifier__activation=tanh, mlpclassifier__alpha=0.0017782794100389228, mlpclassifier__hidden_layer_sizes=(100, 50), mlpclassifier__learning_rate=constant, mlpclassifier__learning_rate_init=0.005, mlpclassifier__solver=adam\n",
      "[CV 1/3; 153/180] END mlpclassifier__activation=tanh, mlpclassifier__alpha=0.0017782794100389228, mlpclassifier__hidden_layer_sizes=(100, 50), mlpclassifier__learning_rate=constant, mlpclassifier__learning_rate_init=0.005, mlpclassifier__solver=adam;, score=0.676 total time=   7.6s\n",
      "[CV 3/3; 153/180] START mlpclassifier__activation=tanh, mlpclassifier__alpha=0.0017782794100389228, mlpclassifier__hidden_layer_sizes=(100, 50), mlpclassifier__learning_rate=constant, mlpclassifier__learning_rate_init=0.005, mlpclassifier__solver=adam\n",
      "[CV 2/3; 153/180] END mlpclassifier__activation=tanh, mlpclassifier__alpha=0.0017782794100389228, mlpclassifier__hidden_layer_sizes=(100, 50), mlpclassifier__learning_rate=constant, mlpclassifier__learning_rate_init=0.005, mlpclassifier__solver=adam;, score=0.684 total time=   7.4s\n",
      "[CV 1/3; 154/180] START mlpclassifier__activation=tanh, mlpclassifier__alpha=0.0017782794100389228, mlpclassifier__hidden_layer_sizes=(100, 50), mlpclassifier__learning_rate=adaptive, mlpclassifier__learning_rate_init=0.0005, mlpclassifier__solver=adam\n"
     ]
    },
    {
     "name": "stderr",
     "output_type": "stream",
     "text": [
      "/opt/anaconda3/lib/python3.12/site-packages/sklearn/neural_network/_multilayer_perceptron.py:690: ConvergenceWarning: Stochastic Optimizer: Maximum iterations (500) reached and the optimization hasn't converged yet.\n",
      "  warnings.warn(\n"
     ]
    },
    {
     "name": "stdout",
     "output_type": "stream",
     "text": [
      "[CV 1/3; 151/180] END mlpclassifier__activation=tanh, mlpclassifier__alpha=0.0017782794100389228, mlpclassifier__hidden_layer_sizes=(100, 50), mlpclassifier__learning_rate=constant, mlpclassifier__learning_rate_init=0.0005, mlpclassifier__solver=adam;, score=0.684 total time=  22.3s\n",
      "[CV 2/3; 154/180] START mlpclassifier__activation=tanh, mlpclassifier__alpha=0.0017782794100389228, mlpclassifier__hidden_layer_sizes=(100, 50), mlpclassifier__learning_rate=adaptive, mlpclassifier__learning_rate_init=0.0005, mlpclassifier__solver=adam\n"
     ]
    },
    {
     "name": "stderr",
     "output_type": "stream",
     "text": [
      "/opt/anaconda3/lib/python3.12/site-packages/sklearn/neural_network/_multilayer_perceptron.py:690: ConvergenceWarning: Stochastic Optimizer: Maximum iterations (500) reached and the optimization hasn't converged yet.\n",
      "  warnings.warn(\n"
     ]
    },
    {
     "name": "stdout",
     "output_type": "stream",
     "text": [
      "[CV 2/3; 151/180] END mlpclassifier__activation=tanh, mlpclassifier__alpha=0.0017782794100389228, mlpclassifier__hidden_layer_sizes=(100, 50), mlpclassifier__learning_rate=constant, mlpclassifier__learning_rate_init=0.0005, mlpclassifier__solver=adam;, score=0.680 total time=  21.7s\n",
      "[CV 3/3; 154/180] START mlpclassifier__activation=tanh, mlpclassifier__alpha=0.0017782794100389228, mlpclassifier__hidden_layer_sizes=(100, 50), mlpclassifier__learning_rate=adaptive, mlpclassifier__learning_rate_init=0.0005, mlpclassifier__solver=adam\n",
      "[CV 3/3; 153/180] END mlpclassifier__activation=tanh, mlpclassifier__alpha=0.0017782794100389228, mlpclassifier__hidden_layer_sizes=(100, 50), mlpclassifier__learning_rate=constant, mlpclassifier__learning_rate_init=0.005, mlpclassifier__solver=adam;, score=0.729 total time=   8.5s\n",
      "[CV 1/3; 155/180] START mlpclassifier__activation=tanh, mlpclassifier__alpha=0.0017782794100389228, mlpclassifier__hidden_layer_sizes=(100, 50), mlpclassifier__learning_rate=adaptive, mlpclassifier__learning_rate_init=0.001, mlpclassifier__solver=adam\n"
     ]
    },
    {
     "name": "stderr",
     "output_type": "stream",
     "text": [
      "/opt/anaconda3/lib/python3.12/site-packages/sklearn/neural_network/_multilayer_perceptron.py:690: ConvergenceWarning: Stochastic Optimizer: Maximum iterations (500) reached and the optimization hasn't converged yet.\n",
      "  warnings.warn(\n",
      "/opt/anaconda3/lib/python3.12/site-packages/sklearn/neural_network/_multilayer_perceptron.py:690: ConvergenceWarning: Stochastic Optimizer: Maximum iterations (500) reached and the optimization hasn't converged yet.\n",
      "  warnings.warn(\n"
     ]
    },
    {
     "name": "stdout",
     "output_type": "stream",
     "text": [
      "[CV 3/3; 151/180] END mlpclassifier__activation=tanh, mlpclassifier__alpha=0.0017782794100389228, mlpclassifier__hidden_layer_sizes=(100, 50), mlpclassifier__learning_rate=constant, mlpclassifier__learning_rate_init=0.0005, mlpclassifier__solver=adam;, score=0.718 total time=  21.7s\n",
      "[CV 2/3; 155/180] START mlpclassifier__activation=tanh, mlpclassifier__alpha=0.0017782794100389228, mlpclassifier__hidden_layer_sizes=(100, 50), mlpclassifier__learning_rate=adaptive, mlpclassifier__learning_rate_init=0.001, mlpclassifier__solver=adam\n",
      "[CV 1/3; 152/180] END mlpclassifier__activation=tanh, mlpclassifier__alpha=0.0017782794100389228, mlpclassifier__hidden_layer_sizes=(100, 50), mlpclassifier__learning_rate=constant, mlpclassifier__learning_rate_init=0.001, mlpclassifier__solver=adam;, score=0.672 total time=  21.7s\n",
      "[CV 3/3; 155/180] START mlpclassifier__activation=tanh, mlpclassifier__alpha=0.0017782794100389228, mlpclassifier__hidden_layer_sizes=(100, 50), mlpclassifier__learning_rate=adaptive, mlpclassifier__learning_rate_init=0.001, mlpclassifier__solver=adam\n"
     ]
    },
    {
     "name": "stderr",
     "output_type": "stream",
     "text": [
      "/opt/anaconda3/lib/python3.12/site-packages/sklearn/neural_network/_multilayer_perceptron.py:690: ConvergenceWarning: Stochastic Optimizer: Maximum iterations (500) reached and the optimization hasn't converged yet.\n",
      "  warnings.warn(\n"
     ]
    },
    {
     "name": "stdout",
     "output_type": "stream",
     "text": [
      "[CV 2/3; 152/180] END mlpclassifier__activation=tanh, mlpclassifier__alpha=0.0017782794100389228, mlpclassifier__hidden_layer_sizes=(100, 50), mlpclassifier__learning_rate=constant, mlpclassifier__learning_rate_init=0.001, mlpclassifier__solver=adam;, score=0.687 total time= 3.9min\n",
      "[CV 1/3; 156/180] START mlpclassifier__activation=tanh, mlpclassifier__alpha=0.0017782794100389228, mlpclassifier__hidden_layer_sizes=(100, 50), mlpclassifier__learning_rate=adaptive, mlpclassifier__learning_rate_init=0.005, mlpclassifier__solver=adam\n"
     ]
    },
    {
     "name": "stderr",
     "output_type": "stream",
     "text": [
      "/opt/anaconda3/lib/python3.12/site-packages/sklearn/neural_network/_multilayer_perceptron.py:690: ConvergenceWarning: Stochastic Optimizer: Maximum iterations (500) reached and the optimization hasn't converged yet.\n",
      "  warnings.warn(\n"
     ]
    },
    {
     "name": "stdout",
     "output_type": "stream",
     "text": [
      "[CV 3/3; 152/180] END mlpclassifier__activation=tanh, mlpclassifier__alpha=0.0017782794100389228, mlpclassifier__hidden_layer_sizes=(100, 50), mlpclassifier__learning_rate=constant, mlpclassifier__learning_rate_init=0.001, mlpclassifier__solver=adam;, score=0.726 total time= 3.9min\n",
      "[CV 2/3; 156/180] START mlpclassifier__activation=tanh, mlpclassifier__alpha=0.0017782794100389228, mlpclassifier__hidden_layer_sizes=(100, 50), mlpclassifier__learning_rate=adaptive, mlpclassifier__learning_rate_init=0.005, mlpclassifier__solver=adam\n",
      "[CV 1/3; 156/180] END mlpclassifier__activation=tanh, mlpclassifier__alpha=0.0017782794100389228, mlpclassifier__hidden_layer_sizes=(100, 50), mlpclassifier__learning_rate=adaptive, mlpclassifier__learning_rate_init=0.005, mlpclassifier__solver=adam;, score=0.676 total time=   6.2s\n",
      "[CV 3/3; 156/180] START mlpclassifier__activation=tanh, mlpclassifier__alpha=0.0017782794100389228, mlpclassifier__hidden_layer_sizes=(100, 50), mlpclassifier__learning_rate=adaptive, mlpclassifier__learning_rate_init=0.005, mlpclassifier__solver=adam\n",
      "[CV 2/3; 156/180] END mlpclassifier__activation=tanh, mlpclassifier__alpha=0.0017782794100389228, mlpclassifier__hidden_layer_sizes=(100, 50), mlpclassifier__learning_rate=adaptive, mlpclassifier__learning_rate_init=0.005, mlpclassifier__solver=adam;, score=0.684 total time=   5.3s\n",
      "[CV 1/3; 157/180] START mlpclassifier__activation=tanh, mlpclassifier__alpha=0.0017782794100389228, mlpclassifier__hidden_layer_sizes=(128, 64, 32), mlpclassifier__learning_rate=constant, mlpclassifier__learning_rate_init=0.0005, mlpclassifier__solver=adam\n"
     ]
    },
    {
     "name": "stderr",
     "output_type": "stream",
     "text": [
      "/opt/anaconda3/lib/python3.12/site-packages/sklearn/neural_network/_multilayer_perceptron.py:690: ConvergenceWarning: Stochastic Optimizer: Maximum iterations (500) reached and the optimization hasn't converged yet.\n",
      "  warnings.warn(\n"
     ]
    },
    {
     "name": "stdout",
     "output_type": "stream",
     "text": [
      "[CV 1/3; 154/180] END mlpclassifier__activation=tanh, mlpclassifier__alpha=0.0017782794100389228, mlpclassifier__hidden_layer_sizes=(100, 50), mlpclassifier__learning_rate=adaptive, mlpclassifier__learning_rate_init=0.0005, mlpclassifier__solver=adam;, score=0.684 total time= 3.9min\n",
      "[CV 2/3; 157/180] START mlpclassifier__activation=tanh, mlpclassifier__alpha=0.0017782794100389228, mlpclassifier__hidden_layer_sizes=(128, 64, 32), mlpclassifier__learning_rate=constant, mlpclassifier__learning_rate_init=0.0005, mlpclassifier__solver=adam\n"
     ]
    },
    {
     "name": "stderr",
     "output_type": "stream",
     "text": [
      "/opt/anaconda3/lib/python3.12/site-packages/sklearn/neural_network/_multilayer_perceptron.py:690: ConvergenceWarning: Stochastic Optimizer: Maximum iterations (500) reached and the optimization hasn't converged yet.\n",
      "  warnings.warn(\n"
     ]
    },
    {
     "name": "stdout",
     "output_type": "stream",
     "text": [
      "[CV 2/3; 154/180] END mlpclassifier__activation=tanh, mlpclassifier__alpha=0.0017782794100389228, mlpclassifier__hidden_layer_sizes=(100, 50), mlpclassifier__learning_rate=adaptive, mlpclassifier__learning_rate_init=0.0005, mlpclassifier__solver=adam;, score=0.680 total time= 3.9min\n",
      "[CV 3/3; 157/180] START mlpclassifier__activation=tanh, mlpclassifier__alpha=0.0017782794100389228, mlpclassifier__hidden_layer_sizes=(128, 64, 32), mlpclassifier__learning_rate=constant, mlpclassifier__learning_rate_init=0.0005, mlpclassifier__solver=adam\n",
      "[CV 3/3; 156/180] END mlpclassifier__activation=tanh, mlpclassifier__alpha=0.0017782794100389228, mlpclassifier__hidden_layer_sizes=(100, 50), mlpclassifier__learning_rate=adaptive, mlpclassifier__learning_rate_init=0.005, mlpclassifier__solver=adam;, score=0.729 total time=   5.1s\n",
      "[CV 1/3; 158/180] START mlpclassifier__activation=tanh, mlpclassifier__alpha=0.0017782794100389228, mlpclassifier__hidden_layer_sizes=(128, 64, 32), mlpclassifier__learning_rate=constant, mlpclassifier__learning_rate_init=0.001, mlpclassifier__solver=adam\n"
     ]
    },
    {
     "name": "stderr",
     "output_type": "stream",
     "text": [
      "/opt/anaconda3/lib/python3.12/site-packages/sklearn/neural_network/_multilayer_perceptron.py:690: ConvergenceWarning: Stochastic Optimizer: Maximum iterations (500) reached and the optimization hasn't converged yet.\n",
      "  warnings.warn(\n"
     ]
    },
    {
     "name": "stdout",
     "output_type": "stream",
     "text": [
      "[CV 3/3; 154/180] END mlpclassifier__activation=tanh, mlpclassifier__alpha=0.0017782794100389228, mlpclassifier__hidden_layer_sizes=(100, 50), mlpclassifier__learning_rate=adaptive, mlpclassifier__learning_rate_init=0.0005, mlpclassifier__solver=adam;, score=0.718 total time= 3.9min\n",
      "[CV 2/3; 158/180] START mlpclassifier__activation=tanh, mlpclassifier__alpha=0.0017782794100389228, mlpclassifier__hidden_layer_sizes=(128, 64, 32), mlpclassifier__learning_rate=constant, mlpclassifier__learning_rate_init=0.001, mlpclassifier__solver=adam\n"
     ]
    },
    {
     "name": "stderr",
     "output_type": "stream",
     "text": [
      "/opt/anaconda3/lib/python3.12/site-packages/sklearn/neural_network/_multilayer_perceptron.py:690: ConvergenceWarning: Stochastic Optimizer: Maximum iterations (500) reached and the optimization hasn't converged yet.\n",
      "  warnings.warn(\n",
      "/opt/anaconda3/lib/python3.12/site-packages/sklearn/neural_network/_multilayer_perceptron.py:690: ConvergenceWarning: Stochastic Optimizer: Maximum iterations (500) reached and the optimization hasn't converged yet.\n",
      "  warnings.warn(\n"
     ]
    },
    {
     "name": "stdout",
     "output_type": "stream",
     "text": [
      "[CV 2/3; 155/180] END mlpclassifier__activation=tanh, mlpclassifier__alpha=0.0017782794100389228, mlpclassifier__hidden_layer_sizes=(100, 50), mlpclassifier__learning_rate=adaptive, mlpclassifier__learning_rate_init=0.001, mlpclassifier__solver=adam;, score=0.687 total time= 3.8min\n",
      "[CV 3/3; 158/180] START mlpclassifier__activation=tanh, mlpclassifier__alpha=0.0017782794100389228, mlpclassifier__hidden_layer_sizes=(128, 64, 32), mlpclassifier__learning_rate=constant, mlpclassifier__learning_rate_init=0.001, mlpclassifier__solver=adam\n",
      "[CV 1/3; 155/180] END mlpclassifier__activation=tanh, mlpclassifier__alpha=0.0017782794100389228, mlpclassifier__hidden_layer_sizes=(100, 50), mlpclassifier__learning_rate=adaptive, mlpclassifier__learning_rate_init=0.001, mlpclassifier__solver=adam;, score=0.672 total time= 3.9min\n",
      "[CV 1/3; 159/180] START mlpclassifier__activation=tanh, mlpclassifier__alpha=0.0017782794100389228, mlpclassifier__hidden_layer_sizes=(128, 64, 32), mlpclassifier__learning_rate=constant, mlpclassifier__learning_rate_init=0.005, mlpclassifier__solver=adam\n"
     ]
    },
    {
     "name": "stderr",
     "output_type": "stream",
     "text": [
      "/opt/anaconda3/lib/python3.12/site-packages/sklearn/neural_network/_multilayer_perceptron.py:690: ConvergenceWarning: Stochastic Optimizer: Maximum iterations (500) reached and the optimization hasn't converged yet.\n",
      "  warnings.warn(\n"
     ]
    },
    {
     "name": "stdout",
     "output_type": "stream",
     "text": [
      "[CV 3/3; 155/180] END mlpclassifier__activation=tanh, mlpclassifier__alpha=0.0017782794100389228, mlpclassifier__hidden_layer_sizes=(100, 50), mlpclassifier__learning_rate=adaptive, mlpclassifier__learning_rate_init=0.001, mlpclassifier__solver=adam;, score=0.726 total time= 3.9min\n",
      "[CV 2/3; 159/180] START mlpclassifier__activation=tanh, mlpclassifier__alpha=0.0017782794100389228, mlpclassifier__hidden_layer_sizes=(128, 64, 32), mlpclassifier__learning_rate=constant, mlpclassifier__learning_rate_init=0.005, mlpclassifier__solver=adam\n",
      "[CV 1/3; 159/180] END mlpclassifier__activation=tanh, mlpclassifier__alpha=0.0017782794100389228, mlpclassifier__hidden_layer_sizes=(128, 64, 32), mlpclassifier__learning_rate=constant, mlpclassifier__learning_rate_init=0.005, mlpclassifier__solver=adam;, score=0.684 total time=   4.4s\n",
      "[CV 3/3; 159/180] START mlpclassifier__activation=tanh, mlpclassifier__alpha=0.0017782794100389228, mlpclassifier__hidden_layer_sizes=(128, 64, 32), mlpclassifier__learning_rate=constant, mlpclassifier__learning_rate_init=0.005, mlpclassifier__solver=adam\n",
      "[CV 2/3; 159/180] END mlpclassifier__activation=tanh, mlpclassifier__alpha=0.0017782794100389228, mlpclassifier__hidden_layer_sizes=(128, 64, 32), mlpclassifier__learning_rate=constant, mlpclassifier__learning_rate_init=0.005, mlpclassifier__solver=adam;, score=0.669 total time=   5.0s\n",
      "[CV 1/3; 160/180] START mlpclassifier__activation=tanh, mlpclassifier__alpha=0.0017782794100389228, mlpclassifier__hidden_layer_sizes=(128, 64, 32), mlpclassifier__learning_rate=adaptive, mlpclassifier__learning_rate_init=0.0005, mlpclassifier__solver=adam\n",
      "[CV 3/3; 159/180] END mlpclassifier__activation=tanh, mlpclassifier__alpha=0.0017782794100389228, mlpclassifier__hidden_layer_sizes=(128, 64, 32), mlpclassifier__learning_rate=constant, mlpclassifier__learning_rate_init=0.005, mlpclassifier__solver=adam;, score=0.704 total time=   4.5s\n",
      "[CV 2/3; 160/180] START mlpclassifier__activation=tanh, mlpclassifier__alpha=0.0017782794100389228, mlpclassifier__hidden_layer_sizes=(128, 64, 32), mlpclassifier__learning_rate=adaptive, mlpclassifier__learning_rate_init=0.0005, mlpclassifier__solver=adam\n",
      "[CV 1/3; 158/180] END mlpclassifier__activation=tanh, mlpclassifier__alpha=0.0017782794100389228, mlpclassifier__hidden_layer_sizes=(128, 64, 32), mlpclassifier__learning_rate=constant, mlpclassifier__learning_rate_init=0.001, mlpclassifier__solver=adam;, score=0.660 total time=  17.3s\n",
      "[CV 3/3; 160/180] START mlpclassifier__activation=tanh, mlpclassifier__alpha=0.0017782794100389228, mlpclassifier__hidden_layer_sizes=(128, 64, 32), mlpclassifier__learning_rate=adaptive, mlpclassifier__learning_rate_init=0.0005, mlpclassifier__solver=adam\n"
     ]
    },
    {
     "name": "stderr",
     "output_type": "stream",
     "text": [
      "/opt/anaconda3/lib/python3.12/site-packages/sklearn/neural_network/_multilayer_perceptron.py:690: ConvergenceWarning: Stochastic Optimizer: Maximum iterations (500) reached and the optimization hasn't converged yet.\n",
      "  warnings.warn(\n"
     ]
    },
    {
     "name": "stdout",
     "output_type": "stream",
     "text": [
      "[CV 1/3; 157/180] END mlpclassifier__activation=tanh, mlpclassifier__alpha=0.0017782794100389228, mlpclassifier__hidden_layer_sizes=(128, 64, 32), mlpclassifier__learning_rate=constant, mlpclassifier__learning_rate_init=0.0005, mlpclassifier__solver=adam;, score=0.673 total time=  21.9s\n",
      "[CV 1/3; 161/180] START mlpclassifier__activation=tanh, mlpclassifier__alpha=0.0017782794100389228, mlpclassifier__hidden_layer_sizes=(128, 64, 32), mlpclassifier__learning_rate=adaptive, mlpclassifier__learning_rate_init=0.001, mlpclassifier__solver=adam\n",
      "[CV 2/3; 158/180] END mlpclassifier__activation=tanh, mlpclassifier__alpha=0.0017782794100389228, mlpclassifier__hidden_layer_sizes=(128, 64, 32), mlpclassifier__learning_rate=constant, mlpclassifier__learning_rate_init=0.001, mlpclassifier__solver=adam;, score=0.697 total time=  17.4s\n",
      "[CV 2/3; 161/180] START mlpclassifier__activation=tanh, mlpclassifier__alpha=0.0017782794100389228, mlpclassifier__hidden_layer_sizes=(128, 64, 32), mlpclassifier__learning_rate=adaptive, mlpclassifier__learning_rate_init=0.001, mlpclassifier__solver=adam\n"
     ]
    },
    {
     "name": "stderr",
     "output_type": "stream",
     "text": [
      "/opt/anaconda3/lib/python3.12/site-packages/sklearn/neural_network/_multilayer_perceptron.py:690: ConvergenceWarning: Stochastic Optimizer: Maximum iterations (500) reached and the optimization hasn't converged yet.\n",
      "  warnings.warn(\n"
     ]
    },
    {
     "name": "stdout",
     "output_type": "stream",
     "text": [
      "[CV 2/3; 157/180] END mlpclassifier__activation=tanh, mlpclassifier__alpha=0.0017782794100389228, mlpclassifier__hidden_layer_sizes=(128, 64, 32), mlpclassifier__learning_rate=constant, mlpclassifier__learning_rate_init=0.0005, mlpclassifier__solver=adam;, score=0.680 total time=  21.9s\n",
      "[CV 3/3; 161/180] START mlpclassifier__activation=tanh, mlpclassifier__alpha=0.0017782794100389228, mlpclassifier__hidden_layer_sizes=(128, 64, 32), mlpclassifier__learning_rate=adaptive, mlpclassifier__learning_rate_init=0.001, mlpclassifier__solver=adam\n",
      "[CV 3/3; 158/180] END mlpclassifier__activation=tanh, mlpclassifier__alpha=0.0017782794100389228, mlpclassifier__hidden_layer_sizes=(128, 64, 32), mlpclassifier__learning_rate=constant, mlpclassifier__learning_rate_init=0.001, mlpclassifier__solver=adam;, score=0.730 total time=  18.1s\n",
      "[CV 1/3; 162/180] START mlpclassifier__activation=tanh, mlpclassifier__alpha=0.0017782794100389228, mlpclassifier__hidden_layer_sizes=(128, 64, 32), mlpclassifier__learning_rate=adaptive, mlpclassifier__learning_rate_init=0.005, mlpclassifier__solver=adam\n"
     ]
    },
    {
     "name": "stderr",
     "output_type": "stream",
     "text": [
      "/opt/anaconda3/lib/python3.12/site-packages/sklearn/neural_network/_multilayer_perceptron.py:690: ConvergenceWarning: Stochastic Optimizer: Maximum iterations (500) reached and the optimization hasn't converged yet.\n",
      "  warnings.warn(\n"
     ]
    },
    {
     "name": "stdout",
     "output_type": "stream",
     "text": [
      "[CV 3/3; 157/180] END mlpclassifier__activation=tanh, mlpclassifier__alpha=0.0017782794100389228, mlpclassifier__hidden_layer_sizes=(128, 64, 32), mlpclassifier__learning_rate=constant, mlpclassifier__learning_rate_init=0.0005, mlpclassifier__solver=adam;, score=0.741 total time=  22.2s\n",
      "[CV 2/3; 162/180] START mlpclassifier__activation=tanh, mlpclassifier__alpha=0.0017782794100389228, mlpclassifier__hidden_layer_sizes=(128, 64, 32), mlpclassifier__learning_rate=adaptive, mlpclassifier__learning_rate_init=0.005, mlpclassifier__solver=adam\n",
      "[CV 1/3; 162/180] END mlpclassifier__activation=tanh, mlpclassifier__alpha=0.0017782794100389228, mlpclassifier__hidden_layer_sizes=(128, 64, 32), mlpclassifier__learning_rate=adaptive, mlpclassifier__learning_rate_init=0.005, mlpclassifier__solver=adam;, score=0.684 total time=   4.1s\n",
      "[CV 3/3; 162/180] START mlpclassifier__activation=tanh, mlpclassifier__alpha=0.0017782794100389228, mlpclassifier__hidden_layer_sizes=(128, 64, 32), mlpclassifier__learning_rate=adaptive, mlpclassifier__learning_rate_init=0.005, mlpclassifier__solver=adam\n",
      "[CV 2/3; 162/180] END mlpclassifier__activation=tanh, mlpclassifier__alpha=0.0017782794100389228, mlpclassifier__hidden_layer_sizes=(128, 64, 32), mlpclassifier__learning_rate=adaptive, mlpclassifier__learning_rate_init=0.005, mlpclassifier__solver=adam;, score=0.669 total time=   4.8s\n",
      "[CV 1/3; 163/180] START mlpclassifier__activation=tanh, mlpclassifier__alpha=0.01, mlpclassifier__hidden_layer_sizes=(128, 64), mlpclassifier__learning_rate=constant, mlpclassifier__learning_rate_init=0.0005, mlpclassifier__solver=adam\n",
      "[CV 3/3; 162/180] END mlpclassifier__activation=tanh, mlpclassifier__alpha=0.0017782794100389228, mlpclassifier__hidden_layer_sizes=(128, 64, 32), mlpclassifier__learning_rate=adaptive, mlpclassifier__learning_rate_init=0.005, mlpclassifier__solver=adam;, score=0.704 total time=   4.3s\n",
      "[CV 2/3; 163/180] START mlpclassifier__activation=tanh, mlpclassifier__alpha=0.01, mlpclassifier__hidden_layer_sizes=(128, 64), mlpclassifier__learning_rate=constant, mlpclassifier__learning_rate_init=0.0005, mlpclassifier__solver=adam\n"
     ]
    },
    {
     "name": "stderr",
     "output_type": "stream",
     "text": [
      "/opt/anaconda3/lib/python3.12/site-packages/sklearn/neural_network/_multilayer_perceptron.py:690: ConvergenceWarning: Stochastic Optimizer: Maximum iterations (500) reached and the optimization hasn't converged yet.\n",
      "  warnings.warn(\n"
     ]
    },
    {
     "name": "stdout",
     "output_type": "stream",
     "text": [
      "[CV 1/3; 160/180] END mlpclassifier__activation=tanh, mlpclassifier__alpha=0.0017782794100389228, mlpclassifier__hidden_layer_sizes=(128, 64, 32), mlpclassifier__learning_rate=adaptive, mlpclassifier__learning_rate_init=0.0005, mlpclassifier__solver=adam;, score=0.673 total time=  22.1s\n",
      "[CV 3/3; 163/180] START mlpclassifier__activation=tanh, mlpclassifier__alpha=0.01, mlpclassifier__hidden_layer_sizes=(128, 64), mlpclassifier__learning_rate=constant, mlpclassifier__learning_rate_init=0.0005, mlpclassifier__solver=adam\n"
     ]
    },
    {
     "name": "stderr",
     "output_type": "stream",
     "text": [
      "/opt/anaconda3/lib/python3.12/site-packages/sklearn/neural_network/_multilayer_perceptron.py:690: ConvergenceWarning: Stochastic Optimizer: Maximum iterations (500) reached and the optimization hasn't converged yet.\n",
      "  warnings.warn(\n"
     ]
    },
    {
     "name": "stdout",
     "output_type": "stream",
     "text": [
      "[CV 2/3; 160/180] END mlpclassifier__activation=tanh, mlpclassifier__alpha=0.0017782794100389228, mlpclassifier__hidden_layer_sizes=(128, 64, 32), mlpclassifier__learning_rate=adaptive, mlpclassifier__learning_rate_init=0.0005, mlpclassifier__solver=adam;, score=0.680 total time=  21.9s\n",
      "[CV 1/3; 164/180] START mlpclassifier__activation=tanh, mlpclassifier__alpha=0.01, mlpclassifier__hidden_layer_sizes=(128, 64), mlpclassifier__learning_rate=constant, mlpclassifier__learning_rate_init=0.001, mlpclassifier__solver=adam\n",
      "[CV 1/3; 161/180] END mlpclassifier__activation=tanh, mlpclassifier__alpha=0.0017782794100389228, mlpclassifier__hidden_layer_sizes=(128, 64, 32), mlpclassifier__learning_rate=adaptive, mlpclassifier__learning_rate_init=0.001, mlpclassifier__solver=adam;, score=0.660 total time=  17.6s\n",
      "[CV 2/3; 164/180] START mlpclassifier__activation=tanh, mlpclassifier__alpha=0.01, mlpclassifier__hidden_layer_sizes=(128, 64), mlpclassifier__learning_rate=constant, mlpclassifier__learning_rate_init=0.001, mlpclassifier__solver=adam\n",
      "[CV 2/3; 161/180] END mlpclassifier__activation=tanh, mlpclassifier__alpha=0.0017782794100389228, mlpclassifier__hidden_layer_sizes=(128, 64, 32), mlpclassifier__learning_rate=adaptive, mlpclassifier__learning_rate_init=0.001, mlpclassifier__solver=adam;, score=0.697 total time=  17.6s\n",
      "[CV 3/3; 164/180] START mlpclassifier__activation=tanh, mlpclassifier__alpha=0.01, mlpclassifier__hidden_layer_sizes=(128, 64), mlpclassifier__learning_rate=constant, mlpclassifier__learning_rate_init=0.001, mlpclassifier__solver=adam\n",
      "[CV 3/3; 161/180] END mlpclassifier__activation=tanh, mlpclassifier__alpha=0.0017782794100389228, mlpclassifier__hidden_layer_sizes=(128, 64, 32), mlpclassifier__learning_rate=adaptive, mlpclassifier__learning_rate_init=0.001, mlpclassifier__solver=adam;, score=0.730 total time=  17.4s\n",
      "[CV 1/3; 165/180] START mlpclassifier__activation=tanh, mlpclassifier__alpha=0.01, mlpclassifier__hidden_layer_sizes=(128, 64), mlpclassifier__learning_rate=constant, mlpclassifier__learning_rate_init=0.005, mlpclassifier__solver=adam\n"
     ]
    },
    {
     "name": "stderr",
     "output_type": "stream",
     "text": [
      "/opt/anaconda3/lib/python3.12/site-packages/sklearn/neural_network/_multilayer_perceptron.py:690: ConvergenceWarning: Stochastic Optimizer: Maximum iterations (500) reached and the optimization hasn't converged yet.\n",
      "  warnings.warn(\n"
     ]
    },
    {
     "name": "stdout",
     "output_type": "stream",
     "text": [
      "[CV 3/3; 160/180] END mlpclassifier__activation=tanh, mlpclassifier__alpha=0.0017782794100389228, mlpclassifier__hidden_layer_sizes=(128, 64, 32), mlpclassifier__learning_rate=adaptive, mlpclassifier__learning_rate_init=0.0005, mlpclassifier__solver=adam;, score=0.741 total time=  21.9s\n",
      "[CV 2/3; 165/180] START mlpclassifier__activation=tanh, mlpclassifier__alpha=0.01, mlpclassifier__hidden_layer_sizes=(128, 64), mlpclassifier__learning_rate=constant, mlpclassifier__learning_rate_init=0.005, mlpclassifier__solver=adam\n",
      "[CV 1/3; 165/180] END mlpclassifier__activation=tanh, mlpclassifier__alpha=0.01, mlpclassifier__hidden_layer_sizes=(128, 64), mlpclassifier__learning_rate=constant, mlpclassifier__learning_rate_init=0.005, mlpclassifier__solver=adam;, score=0.676 total time=   6.2s\n",
      "[CV 3/3; 165/180] START mlpclassifier__activation=tanh, mlpclassifier__alpha=0.01, mlpclassifier__hidden_layer_sizes=(128, 64), mlpclassifier__learning_rate=constant, mlpclassifier__learning_rate_init=0.005, mlpclassifier__solver=adam\n",
      "[CV 2/3; 165/180] END mlpclassifier__activation=tanh, mlpclassifier__alpha=0.01, mlpclassifier__hidden_layer_sizes=(128, 64), mlpclassifier__learning_rate=constant, mlpclassifier__learning_rate_init=0.005, mlpclassifier__solver=adam;, score=0.689 total time=   5.7s\n",
      "[CV 1/3; 166/180] START mlpclassifier__activation=tanh, mlpclassifier__alpha=0.01, mlpclassifier__hidden_layer_sizes=(128, 64), mlpclassifier__learning_rate=adaptive, mlpclassifier__learning_rate_init=0.0005, mlpclassifier__solver=adam\n"
     ]
    },
    {
     "name": "stderr",
     "output_type": "stream",
     "text": [
      "/opt/anaconda3/lib/python3.12/site-packages/sklearn/neural_network/_multilayer_perceptron.py:690: ConvergenceWarning: Stochastic Optimizer: Maximum iterations (500) reached and the optimization hasn't converged yet.\n",
      "  warnings.warn(\n"
     ]
    },
    {
     "name": "stdout",
     "output_type": "stream",
     "text": [
      "[CV 1/3; 163/180] END mlpclassifier__activation=tanh, mlpclassifier__alpha=0.01, mlpclassifier__hidden_layer_sizes=(128, 64), mlpclassifier__learning_rate=constant, mlpclassifier__learning_rate_init=0.0005, mlpclassifier__solver=adam;, score=0.692 total time=  18.4s\n",
      "[CV 2/3; 166/180] START mlpclassifier__activation=tanh, mlpclassifier__alpha=0.01, mlpclassifier__hidden_layer_sizes=(128, 64), mlpclassifier__learning_rate=adaptive, mlpclassifier__learning_rate_init=0.0005, mlpclassifier__solver=adam\n"
     ]
    },
    {
     "name": "stderr",
     "output_type": "stream",
     "text": [
      "/opt/anaconda3/lib/python3.12/site-packages/sklearn/neural_network/_multilayer_perceptron.py:690: ConvergenceWarning: Stochastic Optimizer: Maximum iterations (500) reached and the optimization hasn't converged yet.\n",
      "  warnings.warn(\n"
     ]
    },
    {
     "name": "stdout",
     "output_type": "stream",
     "text": [
      "[CV 2/3; 163/180] END mlpclassifier__activation=tanh, mlpclassifier__alpha=0.01, mlpclassifier__hidden_layer_sizes=(128, 64), mlpclassifier__learning_rate=constant, mlpclassifier__learning_rate_init=0.0005, mlpclassifier__solver=adam;, score=0.683 total time=  18.6s\n",
      "[CV 3/3; 166/180] START mlpclassifier__activation=tanh, mlpclassifier__alpha=0.01, mlpclassifier__hidden_layer_sizes=(128, 64), mlpclassifier__learning_rate=adaptive, mlpclassifier__learning_rate_init=0.0005, mlpclassifier__solver=adam\n"
     ]
    },
    {
     "name": "stderr",
     "output_type": "stream",
     "text": [
      "/opt/anaconda3/lib/python3.12/site-packages/sklearn/neural_network/_multilayer_perceptron.py:690: ConvergenceWarning: Stochastic Optimizer: Maximum iterations (500) reached and the optimization hasn't converged yet.\n",
      "  warnings.warn(\n"
     ]
    },
    {
     "name": "stdout",
     "output_type": "stream",
     "text": [
      "[CV 3/3; 163/180] END mlpclassifier__activation=tanh, mlpclassifier__alpha=0.01, mlpclassifier__hidden_layer_sizes=(128, 64), mlpclassifier__learning_rate=constant, mlpclassifier__learning_rate_init=0.0005, mlpclassifier__solver=adam;, score=0.724 total time=  18.7s\n",
      "[CV 1/3; 167/180] START mlpclassifier__activation=tanh, mlpclassifier__alpha=0.01, mlpclassifier__hidden_layer_sizes=(128, 64), mlpclassifier__learning_rate=adaptive, mlpclassifier__learning_rate_init=0.001, mlpclassifier__solver=adam\n",
      "[CV 3/3; 165/180] END mlpclassifier__activation=tanh, mlpclassifier__alpha=0.01, mlpclassifier__hidden_layer_sizes=(128, 64), mlpclassifier__learning_rate=constant, mlpclassifier__learning_rate_init=0.005, mlpclassifier__solver=adam;, score=0.730 total time=   6.6s\n",
      "[CV 2/3; 167/180] START mlpclassifier__activation=tanh, mlpclassifier__alpha=0.01, mlpclassifier__hidden_layer_sizes=(128, 64), mlpclassifier__learning_rate=adaptive, mlpclassifier__learning_rate_init=0.001, mlpclassifier__solver=adam\n"
     ]
    },
    {
     "name": "stderr",
     "output_type": "stream",
     "text": [
      "/opt/anaconda3/lib/python3.12/site-packages/sklearn/neural_network/_multilayer_perceptron.py:690: ConvergenceWarning: Stochastic Optimizer: Maximum iterations (500) reached and the optimization hasn't converged yet.\n",
      "  warnings.warn(\n"
     ]
    },
    {
     "name": "stdout",
     "output_type": "stream",
     "text": [
      "[CV 1/3; 164/180] END mlpclassifier__activation=tanh, mlpclassifier__alpha=0.01, mlpclassifier__hidden_layer_sizes=(128, 64), mlpclassifier__learning_rate=constant, mlpclassifier__learning_rate_init=0.001, mlpclassifier__solver=adam;, score=0.693 total time=  19.2s\n",
      "[CV 3/3; 167/180] START mlpclassifier__activation=tanh, mlpclassifier__alpha=0.01, mlpclassifier__hidden_layer_sizes=(128, 64), mlpclassifier__learning_rate=adaptive, mlpclassifier__learning_rate_init=0.001, mlpclassifier__solver=adam\n"
     ]
    },
    {
     "name": "stderr",
     "output_type": "stream",
     "text": [
      "/opt/anaconda3/lib/python3.12/site-packages/sklearn/neural_network/_multilayer_perceptron.py:690: ConvergenceWarning: Stochastic Optimizer: Maximum iterations (500) reached and the optimization hasn't converged yet.\n",
      "  warnings.warn(\n"
     ]
    },
    {
     "name": "stdout",
     "output_type": "stream",
     "text": [
      "[CV 2/3; 164/180] END mlpclassifier__activation=tanh, mlpclassifier__alpha=0.01, mlpclassifier__hidden_layer_sizes=(128, 64), mlpclassifier__learning_rate=constant, mlpclassifier__learning_rate_init=0.001, mlpclassifier__solver=adam;, score=0.689 total time=  18.5s\n",
      "[CV 1/3; 168/180] START mlpclassifier__activation=tanh, mlpclassifier__alpha=0.01, mlpclassifier__hidden_layer_sizes=(128, 64), mlpclassifier__learning_rate=adaptive, mlpclassifier__learning_rate_init=0.005, mlpclassifier__solver=adam\n"
     ]
    },
    {
     "name": "stderr",
     "output_type": "stream",
     "text": [
      "/opt/anaconda3/lib/python3.12/site-packages/sklearn/neural_network/_multilayer_perceptron.py:690: ConvergenceWarning: Stochastic Optimizer: Maximum iterations (500) reached and the optimization hasn't converged yet.\n",
      "  warnings.warn(\n"
     ]
    },
    {
     "name": "stdout",
     "output_type": "stream",
     "text": [
      "[CV 3/3; 164/180] END mlpclassifier__activation=tanh, mlpclassifier__alpha=0.01, mlpclassifier__hidden_layer_sizes=(128, 64), mlpclassifier__learning_rate=constant, mlpclassifier__learning_rate_init=0.001, mlpclassifier__solver=adam;, score=0.742 total time=  19.0s\n",
      "[CV 2/3; 168/180] START mlpclassifier__activation=tanh, mlpclassifier__alpha=0.01, mlpclassifier__hidden_layer_sizes=(128, 64), mlpclassifier__learning_rate=adaptive, mlpclassifier__learning_rate_init=0.005, mlpclassifier__solver=adam\n",
      "[CV 1/3; 168/180] END mlpclassifier__activation=tanh, mlpclassifier__alpha=0.01, mlpclassifier__hidden_layer_sizes=(128, 64), mlpclassifier__learning_rate=adaptive, mlpclassifier__learning_rate_init=0.005, mlpclassifier__solver=adam;, score=0.676 total time=   6.3s\n",
      "[CV 3/3; 168/180] START mlpclassifier__activation=tanh, mlpclassifier__alpha=0.01, mlpclassifier__hidden_layer_sizes=(128, 64), mlpclassifier__learning_rate=adaptive, mlpclassifier__learning_rate_init=0.005, mlpclassifier__solver=adam\n",
      "[CV 2/3; 168/180] END mlpclassifier__activation=tanh, mlpclassifier__alpha=0.01, mlpclassifier__hidden_layer_sizes=(128, 64), mlpclassifier__learning_rate=adaptive, mlpclassifier__learning_rate_init=0.005, mlpclassifier__solver=adam;, score=0.689 total time=   5.8s\n",
      "[CV 1/3; 169/180] START mlpclassifier__activation=tanh, mlpclassifier__alpha=0.01, mlpclassifier__hidden_layer_sizes=(100, 50), mlpclassifier__learning_rate=constant, mlpclassifier__learning_rate_init=0.0005, mlpclassifier__solver=adam\n"
     ]
    },
    {
     "name": "stderr",
     "output_type": "stream",
     "text": [
      "/opt/anaconda3/lib/python3.12/site-packages/sklearn/neural_network/_multilayer_perceptron.py:690: ConvergenceWarning: Stochastic Optimizer: Maximum iterations (500) reached and the optimization hasn't converged yet.\n",
      "  warnings.warn(\n"
     ]
    },
    {
     "name": "stdout",
     "output_type": "stream",
     "text": [
      "[CV 1/3; 166/180] END mlpclassifier__activation=tanh, mlpclassifier__alpha=0.01, mlpclassifier__hidden_layer_sizes=(128, 64), mlpclassifier__learning_rate=adaptive, mlpclassifier__learning_rate_init=0.0005, mlpclassifier__solver=adam;, score=0.692 total time=  18.9s\n",
      "[CV 2/3; 169/180] START mlpclassifier__activation=tanh, mlpclassifier__alpha=0.01, mlpclassifier__hidden_layer_sizes=(100, 50), mlpclassifier__learning_rate=constant, mlpclassifier__learning_rate_init=0.0005, mlpclassifier__solver=adam\n"
     ]
    },
    {
     "name": "stderr",
     "output_type": "stream",
     "text": [
      "/opt/anaconda3/lib/python3.12/site-packages/sklearn/neural_network/_multilayer_perceptron.py:690: ConvergenceWarning: Stochastic Optimizer: Maximum iterations (500) reached and the optimization hasn't converged yet.\n",
      "  warnings.warn(\n"
     ]
    },
    {
     "name": "stdout",
     "output_type": "stream",
     "text": [
      "[CV 2/3; 166/180] END mlpclassifier__activation=tanh, mlpclassifier__alpha=0.01, mlpclassifier__hidden_layer_sizes=(128, 64), mlpclassifier__learning_rate=adaptive, mlpclassifier__learning_rate_init=0.0005, mlpclassifier__solver=adam;, score=0.683 total time=  19.4s\n",
      "[CV 3/3; 169/180] START mlpclassifier__activation=tanh, mlpclassifier__alpha=0.01, mlpclassifier__hidden_layer_sizes=(100, 50), mlpclassifier__learning_rate=constant, mlpclassifier__learning_rate_init=0.0005, mlpclassifier__solver=adam\n"
     ]
    },
    {
     "name": "stderr",
     "output_type": "stream",
     "text": [
      "/opt/anaconda3/lib/python3.12/site-packages/sklearn/neural_network/_multilayer_perceptron.py:690: ConvergenceWarning: Stochastic Optimizer: Maximum iterations (500) reached and the optimization hasn't converged yet.\n",
      "  warnings.warn(\n"
     ]
    },
    {
     "name": "stdout",
     "output_type": "stream",
     "text": [
      "[CV 3/3; 166/180] END mlpclassifier__activation=tanh, mlpclassifier__alpha=0.01, mlpclassifier__hidden_layer_sizes=(128, 64), mlpclassifier__learning_rate=adaptive, mlpclassifier__learning_rate_init=0.0005, mlpclassifier__solver=adam;, score=0.724 total time=  19.4s\n",
      "[CV 1/3; 170/180] START mlpclassifier__activation=tanh, mlpclassifier__alpha=0.01, mlpclassifier__hidden_layer_sizes=(100, 50), mlpclassifier__learning_rate=constant, mlpclassifier__learning_rate_init=0.001, mlpclassifier__solver=adam\n",
      "[CV 3/3; 168/180] END mlpclassifier__activation=tanh, mlpclassifier__alpha=0.01, mlpclassifier__hidden_layer_sizes=(128, 64), mlpclassifier__learning_rate=adaptive, mlpclassifier__learning_rate_init=0.005, mlpclassifier__solver=adam;, score=0.730 total time=   6.7s\n",
      "[CV 2/3; 170/180] START mlpclassifier__activation=tanh, mlpclassifier__alpha=0.01, mlpclassifier__hidden_layer_sizes=(100, 50), mlpclassifier__learning_rate=constant, mlpclassifier__learning_rate_init=0.001, mlpclassifier__solver=adam\n"
     ]
    },
    {
     "name": "stderr",
     "output_type": "stream",
     "text": [
      "/opt/anaconda3/lib/python3.12/site-packages/sklearn/neural_network/_multilayer_perceptron.py:690: ConvergenceWarning: Stochastic Optimizer: Maximum iterations (500) reached and the optimization hasn't converged yet.\n",
      "  warnings.warn(\n"
     ]
    },
    {
     "name": "stdout",
     "output_type": "stream",
     "text": [
      "[CV 1/3; 167/180] END mlpclassifier__activation=tanh, mlpclassifier__alpha=0.01, mlpclassifier__hidden_layer_sizes=(128, 64), mlpclassifier__learning_rate=adaptive, mlpclassifier__learning_rate_init=0.001, mlpclassifier__solver=adam;, score=0.693 total time=  19.2s\n",
      "[CV 3/3; 170/180] START mlpclassifier__activation=tanh, mlpclassifier__alpha=0.01, mlpclassifier__hidden_layer_sizes=(100, 50), mlpclassifier__learning_rate=constant, mlpclassifier__learning_rate_init=0.001, mlpclassifier__solver=adam\n"
     ]
    },
    {
     "name": "stderr",
     "output_type": "stream",
     "text": [
      "/opt/anaconda3/lib/python3.12/site-packages/sklearn/neural_network/_multilayer_perceptron.py:690: ConvergenceWarning: Stochastic Optimizer: Maximum iterations (500) reached and the optimization hasn't converged yet.\n",
      "  warnings.warn(\n"
     ]
    },
    {
     "name": "stdout",
     "output_type": "stream",
     "text": [
      "[CV 2/3; 167/180] END mlpclassifier__activation=tanh, mlpclassifier__alpha=0.01, mlpclassifier__hidden_layer_sizes=(128, 64), mlpclassifier__learning_rate=adaptive, mlpclassifier__learning_rate_init=0.001, mlpclassifier__solver=adam;, score=0.689 total time=  19.0s\n",
      "[CV 1/3; 171/180] START mlpclassifier__activation=tanh, mlpclassifier__alpha=0.01, mlpclassifier__hidden_layer_sizes=(100, 50), mlpclassifier__learning_rate=constant, mlpclassifier__learning_rate_init=0.005, mlpclassifier__solver=adam\n"
     ]
    },
    {
     "name": "stderr",
     "output_type": "stream",
     "text": [
      "/opt/anaconda3/lib/python3.12/site-packages/sklearn/neural_network/_multilayer_perceptron.py:690: ConvergenceWarning: Stochastic Optimizer: Maximum iterations (500) reached and the optimization hasn't converged yet.\n",
      "  warnings.warn(\n"
     ]
    },
    {
     "name": "stdout",
     "output_type": "stream",
     "text": [
      "[CV 3/3; 167/180] END mlpclassifier__activation=tanh, mlpclassifier__alpha=0.01, mlpclassifier__hidden_layer_sizes=(128, 64), mlpclassifier__learning_rate=adaptive, mlpclassifier__learning_rate_init=0.001, mlpclassifier__solver=adam;, score=0.742 total time=  19.7s\n",
      "[CV 2/3; 171/180] START mlpclassifier__activation=tanh, mlpclassifier__alpha=0.01, mlpclassifier__hidden_layer_sizes=(100, 50), mlpclassifier__learning_rate=constant, mlpclassifier__learning_rate_init=0.005, mlpclassifier__solver=adam\n",
      "[CV 1/3; 171/180] END mlpclassifier__activation=tanh, mlpclassifier__alpha=0.01, mlpclassifier__hidden_layer_sizes=(100, 50), mlpclassifier__learning_rate=constant, mlpclassifier__learning_rate_init=0.005, mlpclassifier__solver=adam;, score=0.686 total time=   5.7s\n",
      "[CV 3/3; 171/180] START mlpclassifier__activation=tanh, mlpclassifier__alpha=0.01, mlpclassifier__hidden_layer_sizes=(100, 50), mlpclassifier__learning_rate=constant, mlpclassifier__learning_rate_init=0.005, mlpclassifier__solver=adam\n"
     ]
    },
    {
     "name": "stderr",
     "output_type": "stream",
     "text": [
      "/opt/anaconda3/lib/python3.12/site-packages/sklearn/neural_network/_multilayer_perceptron.py:690: ConvergenceWarning: Stochastic Optimizer: Maximum iterations (500) reached and the optimization hasn't converged yet.\n",
      "  warnings.warn(\n"
     ]
    },
    {
     "name": "stdout",
     "output_type": "stream",
     "text": [
      "[CV 1/3; 169/180] END mlpclassifier__activation=tanh, mlpclassifier__alpha=0.01, mlpclassifier__hidden_layer_sizes=(100, 50), mlpclassifier__learning_rate=constant, mlpclassifier__learning_rate_init=0.0005, mlpclassifier__solver=adam;, score=0.682 total time=  15.4s\n",
      "[CV 1/3; 172/180] START mlpclassifier__activation=tanh, mlpclassifier__alpha=0.01, mlpclassifier__hidden_layer_sizes=(100, 50), mlpclassifier__learning_rate=adaptive, mlpclassifier__learning_rate_init=0.0005, mlpclassifier__solver=adam\n"
     ]
    },
    {
     "name": "stderr",
     "output_type": "stream",
     "text": [
      "/opt/anaconda3/lib/python3.12/site-packages/sklearn/neural_network/_multilayer_perceptron.py:690: ConvergenceWarning: Stochastic Optimizer: Maximum iterations (500) reached and the optimization hasn't converged yet.\n",
      "  warnings.warn(\n"
     ]
    },
    {
     "name": "stdout",
     "output_type": "stream",
     "text": [
      "[CV 2/3; 169/180] END mlpclassifier__activation=tanh, mlpclassifier__alpha=0.01, mlpclassifier__hidden_layer_sizes=(100, 50), mlpclassifier__learning_rate=constant, mlpclassifier__learning_rate_init=0.0005, mlpclassifier__solver=adam;, score=0.676 total time=  15.1s\n",
      "[CV 2/3; 172/180] START mlpclassifier__activation=tanh, mlpclassifier__alpha=0.01, mlpclassifier__hidden_layer_sizes=(100, 50), mlpclassifier__learning_rate=adaptive, mlpclassifier__learning_rate_init=0.0005, mlpclassifier__solver=adam\n",
      "[CV 2/3; 171/180] END mlpclassifier__activation=tanh, mlpclassifier__alpha=0.01, mlpclassifier__hidden_layer_sizes=(100, 50), mlpclassifier__learning_rate=constant, mlpclassifier__learning_rate_init=0.005, mlpclassifier__solver=adam;, score=0.696 total time=   6.4s\n",
      "[CV 3/3; 172/180] START mlpclassifier__activation=tanh, mlpclassifier__alpha=0.01, mlpclassifier__hidden_layer_sizes=(100, 50), mlpclassifier__learning_rate=adaptive, mlpclassifier__learning_rate_init=0.0005, mlpclassifier__solver=adam\n"
     ]
    },
    {
     "name": "stderr",
     "output_type": "stream",
     "text": [
      "/opt/anaconda3/lib/python3.12/site-packages/sklearn/neural_network/_multilayer_perceptron.py:690: ConvergenceWarning: Stochastic Optimizer: Maximum iterations (500) reached and the optimization hasn't converged yet.\n",
      "  warnings.warn(\n"
     ]
    },
    {
     "name": "stdout",
     "output_type": "stream",
     "text": [
      "[CV 3/3; 169/180] END mlpclassifier__activation=tanh, mlpclassifier__alpha=0.01, mlpclassifier__hidden_layer_sizes=(100, 50), mlpclassifier__learning_rate=constant, mlpclassifier__learning_rate_init=0.0005, mlpclassifier__solver=adam;, score=0.712 total time=  15.2s\n",
      "[CV 1/3; 173/180] START mlpclassifier__activation=tanh, mlpclassifier__alpha=0.01, mlpclassifier__hidden_layer_sizes=(100, 50), mlpclassifier__learning_rate=adaptive, mlpclassifier__learning_rate_init=0.001, mlpclassifier__solver=adam\n",
      "[CV 3/3; 171/180] END mlpclassifier__activation=tanh, mlpclassifier__alpha=0.01, mlpclassifier__hidden_layer_sizes=(100, 50), mlpclassifier__learning_rate=constant, mlpclassifier__learning_rate_init=0.005, mlpclassifier__solver=adam;, score=0.725 total time=   5.2s\n",
      "[CV 2/3; 173/180] START mlpclassifier__activation=tanh, mlpclassifier__alpha=0.01, mlpclassifier__hidden_layer_sizes=(100, 50), mlpclassifier__learning_rate=adaptive, mlpclassifier__learning_rate_init=0.001, mlpclassifier__solver=adam\n"
     ]
    },
    {
     "name": "stderr",
     "output_type": "stream",
     "text": [
      "/opt/anaconda3/lib/python3.12/site-packages/sklearn/neural_network/_multilayer_perceptron.py:690: ConvergenceWarning: Stochastic Optimizer: Maximum iterations (500) reached and the optimization hasn't converged yet.\n",
      "  warnings.warn(\n",
      "/opt/anaconda3/lib/python3.12/site-packages/sklearn/neural_network/_multilayer_perceptron.py:690: ConvergenceWarning: Stochastic Optimizer: Maximum iterations (500) reached and the optimization hasn't converged yet.\n",
      "  warnings.warn(\n"
     ]
    },
    {
     "name": "stdout",
     "output_type": "stream",
     "text": [
      "[CV 2/3; 170/180] END mlpclassifier__activation=tanh, mlpclassifier__alpha=0.01, mlpclassifier__hidden_layer_sizes=(100, 50), mlpclassifier__learning_rate=constant, mlpclassifier__learning_rate_init=0.001, mlpclassifier__solver=adam;, score=0.683 total time=  15.2s\n",
      "[CV 3/3; 173/180] START mlpclassifier__activation=tanh, mlpclassifier__alpha=0.01, mlpclassifier__hidden_layer_sizes=(100, 50), mlpclassifier__learning_rate=adaptive, mlpclassifier__learning_rate_init=0.001, mlpclassifier__solver=adam\n",
      "[CV 1/3; 170/180] END mlpclassifier__activation=tanh, mlpclassifier__alpha=0.01, mlpclassifier__hidden_layer_sizes=(100, 50), mlpclassifier__learning_rate=constant, mlpclassifier__learning_rate_init=0.001, mlpclassifier__solver=adam;, score=0.678 total time=  15.5s\n",
      "[CV 1/3; 174/180] START mlpclassifier__activation=tanh, mlpclassifier__alpha=0.01, mlpclassifier__hidden_layer_sizes=(100, 50), mlpclassifier__learning_rate=adaptive, mlpclassifier__learning_rate_init=0.005, mlpclassifier__solver=adam\n"
     ]
    },
    {
     "name": "stderr",
     "output_type": "stream",
     "text": [
      "/opt/anaconda3/lib/python3.12/site-packages/sklearn/neural_network/_multilayer_perceptron.py:690: ConvergenceWarning: Stochastic Optimizer: Maximum iterations (500) reached and the optimization hasn't converged yet.\n",
      "  warnings.warn(\n"
     ]
    },
    {
     "name": "stdout",
     "output_type": "stream",
     "text": [
      "[CV 3/3; 170/180] END mlpclassifier__activation=tanh, mlpclassifier__alpha=0.01, mlpclassifier__hidden_layer_sizes=(100, 50), mlpclassifier__learning_rate=constant, mlpclassifier__learning_rate_init=0.001, mlpclassifier__solver=adam;, score=0.727 total time=  15.2s\n",
      "[CV 2/3; 174/180] START mlpclassifier__activation=tanh, mlpclassifier__alpha=0.01, mlpclassifier__hidden_layer_sizes=(100, 50), mlpclassifier__learning_rate=adaptive, mlpclassifier__learning_rate_init=0.005, mlpclassifier__solver=adam\n",
      "[CV 1/3; 174/180] END mlpclassifier__activation=tanh, mlpclassifier__alpha=0.01, mlpclassifier__hidden_layer_sizes=(100, 50), mlpclassifier__learning_rate=adaptive, mlpclassifier__learning_rate_init=0.005, mlpclassifier__solver=adam;, score=0.686 total time=   5.8s\n",
      "[CV 3/3; 174/180] START mlpclassifier__activation=tanh, mlpclassifier__alpha=0.01, mlpclassifier__hidden_layer_sizes=(100, 50), mlpclassifier__learning_rate=adaptive, mlpclassifier__learning_rate_init=0.005, mlpclassifier__solver=adam\n",
      "[CV 2/3; 174/180] END mlpclassifier__activation=tanh, mlpclassifier__alpha=0.01, mlpclassifier__hidden_layer_sizes=(100, 50), mlpclassifier__learning_rate=adaptive, mlpclassifier__learning_rate_init=0.005, mlpclassifier__solver=adam;, score=0.696 total time=   6.2s\n",
      "[CV 1/3; 175/180] START mlpclassifier__activation=tanh, mlpclassifier__alpha=0.01, mlpclassifier__hidden_layer_sizes=(128, 64, 32), mlpclassifier__learning_rate=constant, mlpclassifier__learning_rate_init=0.0005, mlpclassifier__solver=adam\n"
     ]
    },
    {
     "name": "stderr",
     "output_type": "stream",
     "text": [
      "/opt/anaconda3/lib/python3.12/site-packages/sklearn/neural_network/_multilayer_perceptron.py:690: ConvergenceWarning: Stochastic Optimizer: Maximum iterations (500) reached and the optimization hasn't converged yet.\n",
      "  warnings.warn(\n"
     ]
    },
    {
     "name": "stdout",
     "output_type": "stream",
     "text": [
      "[CV 1/3; 172/180] END mlpclassifier__activation=tanh, mlpclassifier__alpha=0.01, mlpclassifier__hidden_layer_sizes=(100, 50), mlpclassifier__learning_rate=adaptive, mlpclassifier__learning_rate_init=0.0005, mlpclassifier__solver=adam;, score=0.682 total time=  15.1s\n",
      "[CV 2/3; 175/180] START mlpclassifier__activation=tanh, mlpclassifier__alpha=0.01, mlpclassifier__hidden_layer_sizes=(128, 64, 32), mlpclassifier__learning_rate=constant, mlpclassifier__learning_rate_init=0.0005, mlpclassifier__solver=adam\n"
     ]
    },
    {
     "name": "stderr",
     "output_type": "stream",
     "text": [
      "/opt/anaconda3/lib/python3.12/site-packages/sklearn/neural_network/_multilayer_perceptron.py:690: ConvergenceWarning: Stochastic Optimizer: Maximum iterations (500) reached and the optimization hasn't converged yet.\n",
      "  warnings.warn(\n"
     ]
    },
    {
     "name": "stdout",
     "output_type": "stream",
     "text": [
      "[CV 2/3; 172/180] END mlpclassifier__activation=tanh, mlpclassifier__alpha=0.01, mlpclassifier__hidden_layer_sizes=(100, 50), mlpclassifier__learning_rate=adaptive, mlpclassifier__learning_rate_init=0.0005, mlpclassifier__solver=adam;, score=0.676 total time=  15.0s\n",
      "[CV 3/3; 175/180] START mlpclassifier__activation=tanh, mlpclassifier__alpha=0.01, mlpclassifier__hidden_layer_sizes=(128, 64, 32), mlpclassifier__learning_rate=constant, mlpclassifier__learning_rate_init=0.0005, mlpclassifier__solver=adam\n",
      "[CV 3/3; 174/180] END mlpclassifier__activation=tanh, mlpclassifier__alpha=0.01, mlpclassifier__hidden_layer_sizes=(100, 50), mlpclassifier__learning_rate=adaptive, mlpclassifier__learning_rate_init=0.005, mlpclassifier__solver=adam;, score=0.725 total time=   5.3s\n",
      "[CV 1/3; 176/180] START mlpclassifier__activation=tanh, mlpclassifier__alpha=0.01, mlpclassifier__hidden_layer_sizes=(128, 64, 32), mlpclassifier__learning_rate=constant, mlpclassifier__learning_rate_init=0.001, mlpclassifier__solver=adam\n"
     ]
    },
    {
     "name": "stderr",
     "output_type": "stream",
     "text": [
      "/opt/anaconda3/lib/python3.12/site-packages/sklearn/neural_network/_multilayer_perceptron.py:690: ConvergenceWarning: Stochastic Optimizer: Maximum iterations (500) reached and the optimization hasn't converged yet.\n",
      "  warnings.warn(\n"
     ]
    },
    {
     "name": "stdout",
     "output_type": "stream",
     "text": [
      "[CV 3/3; 172/180] END mlpclassifier__activation=tanh, mlpclassifier__alpha=0.01, mlpclassifier__hidden_layer_sizes=(100, 50), mlpclassifier__learning_rate=adaptive, mlpclassifier__learning_rate_init=0.0005, mlpclassifier__solver=adam;, score=0.712 total time=  15.3s\n",
      "[CV 2/3; 176/180] START mlpclassifier__activation=tanh, mlpclassifier__alpha=0.01, mlpclassifier__hidden_layer_sizes=(128, 64, 32), mlpclassifier__learning_rate=constant, mlpclassifier__learning_rate_init=0.001, mlpclassifier__solver=adam\n"
     ]
    },
    {
     "name": "stderr",
     "output_type": "stream",
     "text": [
      "/opt/anaconda3/lib/python3.12/site-packages/sklearn/neural_network/_multilayer_perceptron.py:690: ConvergenceWarning: Stochastic Optimizer: Maximum iterations (500) reached and the optimization hasn't converged yet.\n",
      "  warnings.warn(\n"
     ]
    },
    {
     "name": "stdout",
     "output_type": "stream",
     "text": [
      "[CV 1/3; 173/180] END mlpclassifier__activation=tanh, mlpclassifier__alpha=0.01, mlpclassifier__hidden_layer_sizes=(100, 50), mlpclassifier__learning_rate=adaptive, mlpclassifier__learning_rate_init=0.001, mlpclassifier__solver=adam;, score=0.678 total time=  15.4s\n",
      "[CV 3/3; 176/180] START mlpclassifier__activation=tanh, mlpclassifier__alpha=0.01, mlpclassifier__hidden_layer_sizes=(128, 64, 32), mlpclassifier__learning_rate=constant, mlpclassifier__learning_rate_init=0.001, mlpclassifier__solver=adam\n"
     ]
    },
    {
     "name": "stderr",
     "output_type": "stream",
     "text": [
      "/opt/anaconda3/lib/python3.12/site-packages/sklearn/neural_network/_multilayer_perceptron.py:690: ConvergenceWarning: Stochastic Optimizer: Maximum iterations (500) reached and the optimization hasn't converged yet.\n",
      "  warnings.warn(\n"
     ]
    },
    {
     "name": "stdout",
     "output_type": "stream",
     "text": [
      "[CV 2/3; 173/180] END mlpclassifier__activation=tanh, mlpclassifier__alpha=0.01, mlpclassifier__hidden_layer_sizes=(100, 50), mlpclassifier__learning_rate=adaptive, mlpclassifier__learning_rate_init=0.001, mlpclassifier__solver=adam;, score=0.683 total time=  15.1s\n",
      "[CV 1/3; 177/180] START mlpclassifier__activation=tanh, mlpclassifier__alpha=0.01, mlpclassifier__hidden_layer_sizes=(128, 64, 32), mlpclassifier__learning_rate=constant, mlpclassifier__learning_rate_init=0.005, mlpclassifier__solver=adam\n"
     ]
    },
    {
     "name": "stderr",
     "output_type": "stream",
     "text": [
      "/opt/anaconda3/lib/python3.12/site-packages/sklearn/neural_network/_multilayer_perceptron.py:690: ConvergenceWarning: Stochastic Optimizer: Maximum iterations (500) reached and the optimization hasn't converged yet.\n",
      "  warnings.warn(\n"
     ]
    },
    {
     "name": "stdout",
     "output_type": "stream",
     "text": [
      "[CV 3/3; 173/180] END mlpclassifier__activation=tanh, mlpclassifier__alpha=0.01, mlpclassifier__hidden_layer_sizes=(100, 50), mlpclassifier__learning_rate=adaptive, mlpclassifier__learning_rate_init=0.001, mlpclassifier__solver=adam;, score=0.727 total time=  15.1s\n",
      "[CV 2/3; 177/180] START mlpclassifier__activation=tanh, mlpclassifier__alpha=0.01, mlpclassifier__hidden_layer_sizes=(128, 64, 32), mlpclassifier__learning_rate=constant, mlpclassifier__learning_rate_init=0.005, mlpclassifier__solver=adam\n",
      "[CV 1/3; 177/180] END mlpclassifier__activation=tanh, mlpclassifier__alpha=0.01, mlpclassifier__hidden_layer_sizes=(128, 64, 32), mlpclassifier__learning_rate=constant, mlpclassifier__learning_rate_init=0.005, mlpclassifier__solver=adam;, score=0.695 total time=   5.6s\n",
      "[CV 3/3; 177/180] START mlpclassifier__activation=tanh, mlpclassifier__alpha=0.01, mlpclassifier__hidden_layer_sizes=(128, 64, 32), mlpclassifier__learning_rate=constant, mlpclassifier__learning_rate_init=0.005, mlpclassifier__solver=adam\n",
      "[CV 2/3; 177/180] END mlpclassifier__activation=tanh, mlpclassifier__alpha=0.01, mlpclassifier__hidden_layer_sizes=(128, 64, 32), mlpclassifier__learning_rate=constant, mlpclassifier__learning_rate_init=0.005, mlpclassifier__solver=adam;, score=0.694 total time=   5.0s\n",
      "[CV 1/3; 178/180] START mlpclassifier__activation=tanh, mlpclassifier__alpha=0.01, mlpclassifier__hidden_layer_sizes=(128, 64, 32), mlpclassifier__learning_rate=adaptive, mlpclassifier__learning_rate_init=0.0005, mlpclassifier__solver=adam\n",
      "[CV 3/3; 177/180] END mlpclassifier__activation=tanh, mlpclassifier__alpha=0.01, mlpclassifier__hidden_layer_sizes=(128, 64, 32), mlpclassifier__learning_rate=constant, mlpclassifier__learning_rate_init=0.005, mlpclassifier__solver=adam;, score=0.726 total time=   4.7s\n",
      "[CV 2/3; 178/180] START mlpclassifier__activation=tanh, mlpclassifier__alpha=0.01, mlpclassifier__hidden_layer_sizes=(128, 64, 32), mlpclassifier__learning_rate=adaptive, mlpclassifier__learning_rate_init=0.0005, mlpclassifier__solver=adam\n",
      "[CV 1/3; 176/180] END mlpclassifier__activation=tanh, mlpclassifier__alpha=0.01, mlpclassifier__hidden_layer_sizes=(128, 64, 32), mlpclassifier__learning_rate=constant, mlpclassifier__learning_rate_init=0.001, mlpclassifier__solver=adam;, score=0.685 total time=  18.6s\n",
      "[CV 3/3; 178/180] START mlpclassifier__activation=tanh, mlpclassifier__alpha=0.01, mlpclassifier__hidden_layer_sizes=(128, 64, 32), mlpclassifier__learning_rate=adaptive, mlpclassifier__learning_rate_init=0.0005, mlpclassifier__solver=adam\n",
      "[CV 2/3; 176/180] END mlpclassifier__activation=tanh, mlpclassifier__alpha=0.01, mlpclassifier__hidden_layer_sizes=(128, 64, 32), mlpclassifier__learning_rate=constant, mlpclassifier__learning_rate_init=0.001, mlpclassifier__solver=adam;, score=0.698 total time=  19.4s\n",
      "[CV 1/3; 179/180] START mlpclassifier__activation=tanh, mlpclassifier__alpha=0.01, mlpclassifier__hidden_layer_sizes=(128, 64, 32), mlpclassifier__learning_rate=adaptive, mlpclassifier__learning_rate_init=0.001, mlpclassifier__solver=adam\n"
     ]
    },
    {
     "name": "stderr",
     "output_type": "stream",
     "text": [
      "/opt/anaconda3/lib/python3.12/site-packages/sklearn/neural_network/_multilayer_perceptron.py:690: ConvergenceWarning: Stochastic Optimizer: Maximum iterations (500) reached and the optimization hasn't converged yet.\n",
      "  warnings.warn(\n"
     ]
    },
    {
     "name": "stdout",
     "output_type": "stream",
     "text": [
      "[CV 1/3; 175/180] END mlpclassifier__activation=tanh, mlpclassifier__alpha=0.01, mlpclassifier__hidden_layer_sizes=(128, 64, 32), mlpclassifier__learning_rate=constant, mlpclassifier__learning_rate_init=0.0005, mlpclassifier__solver=adam;, score=0.672 total time=  23.9s\n",
      "[CV 2/3; 179/180] START mlpclassifier__activation=tanh, mlpclassifier__alpha=0.01, mlpclassifier__hidden_layer_sizes=(128, 64, 32), mlpclassifier__learning_rate=adaptive, mlpclassifier__learning_rate_init=0.001, mlpclassifier__solver=adam\n",
      "[CV 3/3; 176/180] END mlpclassifier__activation=tanh, mlpclassifier__alpha=0.01, mlpclassifier__hidden_layer_sizes=(128, 64, 32), mlpclassifier__learning_rate=constant, mlpclassifier__learning_rate_init=0.001, mlpclassifier__solver=adam;, score=0.735 total time=  19.5s\n",
      "[CV 3/3; 179/180] START mlpclassifier__activation=tanh, mlpclassifier__alpha=0.01, mlpclassifier__hidden_layer_sizes=(128, 64, 32), mlpclassifier__learning_rate=adaptive, mlpclassifier__learning_rate_init=0.001, mlpclassifier__solver=adam\n"
     ]
    },
    {
     "name": "stderr",
     "output_type": "stream",
     "text": [
      "/opt/anaconda3/lib/python3.12/site-packages/sklearn/neural_network/_multilayer_perceptron.py:690: ConvergenceWarning: Stochastic Optimizer: Maximum iterations (500) reached and the optimization hasn't converged yet.\n",
      "  warnings.warn(\n"
     ]
    },
    {
     "name": "stdout",
     "output_type": "stream",
     "text": [
      "[CV 2/3; 175/180] END mlpclassifier__activation=tanh, mlpclassifier__alpha=0.01, mlpclassifier__hidden_layer_sizes=(128, 64, 32), mlpclassifier__learning_rate=constant, mlpclassifier__learning_rate_init=0.0005, mlpclassifier__solver=adam;, score=0.681 total time=  24.0s\n",
      "[CV 1/3; 180/180] START mlpclassifier__activation=tanh, mlpclassifier__alpha=0.01, mlpclassifier__hidden_layer_sizes=(128, 64, 32), mlpclassifier__learning_rate=adaptive, mlpclassifier__learning_rate_init=0.005, mlpclassifier__solver=adam\n"
     ]
    },
    {
     "name": "stderr",
     "output_type": "stream",
     "text": [
      "/opt/anaconda3/lib/python3.12/site-packages/sklearn/neural_network/_multilayer_perceptron.py:690: ConvergenceWarning: Stochastic Optimizer: Maximum iterations (500) reached and the optimization hasn't converged yet.\n",
      "  warnings.warn(\n"
     ]
    },
    {
     "name": "stdout",
     "output_type": "stream",
     "text": [
      "[CV 3/3; 175/180] END mlpclassifier__activation=tanh, mlpclassifier__alpha=0.01, mlpclassifier__hidden_layer_sizes=(128, 64, 32), mlpclassifier__learning_rate=constant, mlpclassifier__learning_rate_init=0.0005, mlpclassifier__solver=adam;, score=0.738 total time=  24.0s\n",
      "[CV 2/3; 180/180] START mlpclassifier__activation=tanh, mlpclassifier__alpha=0.01, mlpclassifier__hidden_layer_sizes=(128, 64, 32), mlpclassifier__learning_rate=adaptive, mlpclassifier__learning_rate_init=0.005, mlpclassifier__solver=adam\n",
      "[CV 1/3; 180/180] END mlpclassifier__activation=tanh, mlpclassifier__alpha=0.01, mlpclassifier__hidden_layer_sizes=(128, 64, 32), mlpclassifier__learning_rate=adaptive, mlpclassifier__learning_rate_init=0.005, mlpclassifier__solver=adam;, score=0.695 total time=   5.8s\n",
      "[CV 3/3; 180/180] START mlpclassifier__activation=tanh, mlpclassifier__alpha=0.01, mlpclassifier__hidden_layer_sizes=(128, 64, 32), mlpclassifier__learning_rate=adaptive, mlpclassifier__learning_rate_init=0.005, mlpclassifier__solver=adam\n",
      "[CV 2/3; 180/180] END mlpclassifier__activation=tanh, mlpclassifier__alpha=0.01, mlpclassifier__hidden_layer_sizes=(128, 64, 32), mlpclassifier__learning_rate=adaptive, mlpclassifier__learning_rate_init=0.005, mlpclassifier__solver=adam;, score=0.694 total time=   5.1s\n",
      "[CV 3/3; 180/180] END mlpclassifier__activation=tanh, mlpclassifier__alpha=0.01, mlpclassifier__hidden_layer_sizes=(128, 64, 32), mlpclassifier__learning_rate=adaptive, mlpclassifier__learning_rate_init=0.005, mlpclassifier__solver=adam;, score=0.726 total time=   4.3s\n",
      "[CV 1/3; 178/180] END mlpclassifier__activation=tanh, mlpclassifier__alpha=0.01, mlpclassifier__hidden_layer_sizes=(128, 64, 32), mlpclassifier__learning_rate=adaptive, mlpclassifier__learning_rate_init=0.0005, mlpclassifier__solver=adam;, score=0.672 total time=  23.5s\n"
     ]
    },
    {
     "name": "stderr",
     "output_type": "stream",
     "text": [
      "/opt/anaconda3/lib/python3.12/site-packages/sklearn/neural_network/_multilayer_perceptron.py:690: ConvergenceWarning: Stochastic Optimizer: Maximum iterations (500) reached and the optimization hasn't converged yet.\n",
      "  warnings.warn(\n",
      "/opt/anaconda3/lib/python3.12/site-packages/sklearn/neural_network/_multilayer_perceptron.py:690: ConvergenceWarning: Stochastic Optimizer: Maximum iterations (500) reached and the optimization hasn't converged yet.\n",
      "  warnings.warn(\n"
     ]
    },
    {
     "name": "stdout",
     "output_type": "stream",
     "text": [
      "[CV 2/3; 178/180] END mlpclassifier__activation=tanh, mlpclassifier__alpha=0.01, mlpclassifier__hidden_layer_sizes=(128, 64, 32), mlpclassifier__learning_rate=adaptive, mlpclassifier__learning_rate_init=0.0005, mlpclassifier__solver=adam;, score=0.681 total time=  22.6s\n",
      "[CV 1/3; 179/180] END mlpclassifier__activation=tanh, mlpclassifier__alpha=0.01, mlpclassifier__hidden_layer_sizes=(128, 64, 32), mlpclassifier__learning_rate=adaptive, mlpclassifier__learning_rate_init=0.001, mlpclassifier__solver=adam;, score=0.685 total time=  16.2s\n",
      "[CV 2/3; 179/180] END mlpclassifier__activation=tanh, mlpclassifier__alpha=0.01, mlpclassifier__hidden_layer_sizes=(128, 64, 32), mlpclassifier__learning_rate=adaptive, mlpclassifier__learning_rate_init=0.001, mlpclassifier__solver=adam;, score=0.698 total time=  16.4s\n",
      "[CV 3/3; 179/180] END mlpclassifier__activation=tanh, mlpclassifier__alpha=0.01, mlpclassifier__hidden_layer_sizes=(128, 64, 32), mlpclassifier__learning_rate=adaptive, mlpclassifier__learning_rate_init=0.001, mlpclassifier__solver=adam;, score=0.735 total time=  16.4s\n"
     ]
    },
    {
     "name": "stderr",
     "output_type": "stream",
     "text": [
      "/opt/anaconda3/lib/python3.12/site-packages/sklearn/neural_network/_multilayer_perceptron.py:690: ConvergenceWarning: Stochastic Optimizer: Maximum iterations (500) reached and the optimization hasn't converged yet.\n",
      "  warnings.warn(\n"
     ]
    },
    {
     "name": "stdout",
     "output_type": "stream",
     "text": [
      "[CV 3/3; 178/180] END mlpclassifier__activation=tanh, mlpclassifier__alpha=0.01, mlpclassifier__hidden_layer_sizes=(128, 64, 32), mlpclassifier__learning_rate=adaptive, mlpclassifier__learning_rate_init=0.0005, mlpclassifier__solver=adam;, score=0.738 total time=  19.5s\n",
      "\n",
      "Migliori parametri trovati: {'mlpclassifier__activation': 'relu', 'mlpclassifier__alpha': 1e-05, 'mlpclassifier__hidden_layer_sizes': (128, 64), 'mlpclassifier__learning_rate': 'constant', 'mlpclassifier__learning_rate_init': 0.001, 'mlpclassifier__solver': 'adam'}\n",
      "Score medio CV: 0.7116\n"
     ]
    }
   ],
   "source": [
    "# Pipeline modello\n",
    "pipeline = make_pipeline(StandardScaler(), MLPClassifier(max_iter=500, random_state=42))\n",
    "\n",
    "\n",
    "local_param_grid = {\n",
    "    'mlpclassifier__solver': ['adam'],\n",
    "    'mlpclassifier__learning_rate_init': [0.0005, 0.001, 0.005],\n",
    "    'mlpclassifier__learning_rate': ['constant', 'adaptive'],\n",
    "    'mlpclassifier__hidden_layer_sizes': [(128, 64), (100, 50), (128, 64, 32)],\n",
    "    'mlpclassifier__alpha': np.logspace(-5, -2, 5),\n",
    "    'mlpclassifier__activation': ['relu', 'tanh']\n",
    "}\n",
    "\n",
    "# Random search\n",
    "search = GridSearchCV(pipeline, local_param_grid, cv=3, n_jobs=-1, verbose=10)\n",
    "\n",
    "# Fit\n",
    "search.fit(X, y)\n",
    "\n",
    "# Risultati\n",
    "print(f\"\\nMigliori parametri trovati: {search.best_params_}\")\n",
    "print(f\"Score medio CV: {search.best_score_:.4f}\")"
   ]
  },
  {
   "cell_type": "code",
   "execution_count": 27,
   "metadata": {},
   "outputs": [
    {
     "name": "stdout",
     "output_type": "stream",
     "text": [
      "Final model accuracy: 0.8039\n",
      "              precision    recall  f1-score   support\n",
      "\n",
      "           1       0.93      0.93      0.93       469\n",
      "           2       0.75      0.77      0.76       429\n",
      "           3       0.70      0.65      0.68       439\n",
      "           4       0.82      0.86      0.84       422\n",
      "\n",
      "    accuracy                           0.80      1759\n",
      "   macro avg       0.80      0.80      0.80      1759\n",
      "weighted avg       0.80      0.80      0.80      1759\n",
      "\n"
     ]
    }
   ],
   "source": [
    "# instancing MLP with best parameters\n",
    "pipeline = make_pipeline(StandardScaler(), MLPClassifier(max_iter=2000, random_state=42))\n",
    "pipeline.set_params(**search.best_params_)\n",
    "pipeline.fit(X_train, y_train)\n",
    "\n",
    "# Predict on the test set\n",
    "y_pred = pipeline.predict(X_test)\n",
    "\n",
    "# Evaluate the model\n",
    "accuracy = accuracy_score(y_test, y_pred)\n",
    "print(f\"Final model accuracy: {accuracy:.4f}\")\n",
    "print(classification_report(y_test, y_pred))"
   ]
  }
 ],
 "metadata": {
  "colab": {
   "provenance": []
  },
  "kernelspec": {
   "display_name": "base",
   "language": "python",
   "name": "python3"
  },
  "language_info": {
   "codemirror_mode": {
    "name": "ipython",
    "version": 3
   },
   "file_extension": ".py",
   "mimetype": "text/x-python",
   "name": "python",
   "nbconvert_exporter": "python",
   "pygments_lexer": "ipython3",
   "version": "3.12.7"
  }
 },
 "nbformat": 4,
 "nbformat_minor": 0
}
