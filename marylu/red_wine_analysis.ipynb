{
 "cells": [
  {
   "cell_type": "markdown",
   "id": "238f2a850969f23e",
   "metadata": {},
   "source": [
    "### TO DO:\n",
    "- controllare se ci sono metodi che lui non usa (drop, value_counts, classification_report, classification_report_imbalanced)"
   ]
  },
  {
   "cell_type": "code",
   "id": "initial_id",
   "metadata": {
    "collapsed": true,
    "ExecuteTime": {
     "end_time": "2025-06-03T10:56:57.860761Z",
     "start_time": "2025-06-03T10:56:57.828844Z"
    }
   },
   "source": [
    "import pandas as pd\n",
    "import matplotlib.pyplot as plt\n",
    "import numpy as np\n",
    "from sklearn.tree import DecisionTreeClassifier\n",
    "from sklearn.neural_network import MLPClassifier\n",
    "from sklearn.linear_model import LogisticRegression\n",
    "from sklearn.svm import SVC\n",
    "from sklearn.model_selection import train_test_split\n",
    "from sklearn.preprocessing import StandardScaler\n",
    "from sklearn.metrics import classification_report, accuracy_score\n",
    "\n",
    "\n",
    "\n",
    "# Import red wine data\n",
    "red_wine = pd.read_csv(\"../winequality-red.csv\", delimiter=';')\n",
    "\n",
    "# Import white wine data\n",
    "white_wine = pd.read_csv(\"../winequality-white.csv\", delimiter=';')\n",
    "\n",
    "# Visualize array dimensions\n",
    "print(\"Red wine shape:\", red_wine.shape)\n",
    "print(\"White wine shape:\", white_wine.shape)\n"
   ],
   "outputs": [
    {
     "name": "stdout",
     "output_type": "stream",
     "text": [
      "Red wine shape: (1599, 12)\n",
      "White wine shape: (4898, 12)\n"
     ]
    }
   ],
   "execution_count": 97
  },
  {
   "cell_type": "markdown",
   "id": "69f79691978f11d1",
   "metadata": {},
   "source": [
    "There are significantly more data samples for white wines compared to red wines.\n",
    "I decided to analyze the two categories separately at first in order to identify pattern in each group, afterward I'll perform a unified analysis to explore any common trends when combining both datasets."
   ]
  },
  {
   "cell_type": "markdown",
   "id": "82df914363f13d23",
   "metadata": {},
   "source": [
    "### Red Wine Analysis\n",
    "- observations : 1599\n",
    "- features: 12"
   ]
  },
  {
   "cell_type": "code",
   "id": "8523dc84d9c0a0be",
   "metadata": {
    "ExecuteTime": {
     "end_time": "2025-06-03T10:56:57.898475Z",
     "start_time": "2025-06-03T10:56:57.876405Z"
    }
   },
   "source": [
    "red_wine.head(1000)"
   ],
   "outputs": [
    {
     "data": {
      "text/plain": [
       "     fixed acidity  volatile acidity  citric acid  residual sugar  chlorides  \\\n",
       "0              7.4              0.70         0.00            1.90      0.076   \n",
       "1              7.8              0.88         0.00            2.60      0.098   \n",
       "2              7.8              0.76         0.04            2.30      0.092   \n",
       "3             11.2              0.28         0.56            1.90      0.075   \n",
       "4              7.4              0.70         0.00            1.90      0.076   \n",
       "..             ...               ...          ...             ...        ...   \n",
       "995            7.7              0.60         0.06            2.00      0.079   \n",
       "996            5.6              0.66         0.00            2.20      0.087   \n",
       "997            5.6              0.66         0.00            2.20      0.087   \n",
       "998            8.9              0.84         0.34            1.40      0.050   \n",
       "999            6.4              0.69         0.00            1.65      0.055   \n",
       "\n",
       "     free sulfur dioxide  total sulfur dioxide  density    pH  sulphates  \\\n",
       "0                   11.0                  34.0  0.99780  3.51       0.56   \n",
       "1                   25.0                  67.0  0.99680  3.20       0.68   \n",
       "2                   15.0                  54.0  0.99700  3.26       0.65   \n",
       "3                   17.0                  60.0  0.99800  3.16       0.58   \n",
       "4                   11.0                  34.0  0.99780  3.51       0.56   \n",
       "..                   ...                   ...      ...   ...        ...   \n",
       "995                 19.0                  41.0  0.99697  3.39       0.62   \n",
       "996                  3.0                  11.0  0.99378  3.71       0.63   \n",
       "997                  3.0                  11.0  0.99378  3.71       0.63   \n",
       "998                  4.0                  10.0  0.99554  3.12       0.48   \n",
       "999                  7.0                  12.0  0.99162  3.47       0.53   \n",
       "\n",
       "     alcohol  quality  \n",
       "0        9.4        5  \n",
       "1        9.8        5  \n",
       "2        9.8        5  \n",
       "3        9.8        6  \n",
       "4        9.4        5  \n",
       "..       ...      ...  \n",
       "995     10.1        6  \n",
       "996     12.8        7  \n",
       "997     12.8        7  \n",
       "998      9.1        6  \n",
       "999     12.9        6  \n",
       "\n",
       "[1000 rows x 12 columns]"
      ],
      "text/html": [
       "<div>\n",
       "<style scoped>\n",
       "    .dataframe tbody tr th:only-of-type {\n",
       "        vertical-align: middle;\n",
       "    }\n",
       "\n",
       "    .dataframe tbody tr th {\n",
       "        vertical-align: top;\n",
       "    }\n",
       "\n",
       "    .dataframe thead th {\n",
       "        text-align: right;\n",
       "    }\n",
       "</style>\n",
       "<table border=\"1\" class=\"dataframe\">\n",
       "  <thead>\n",
       "    <tr style=\"text-align: right;\">\n",
       "      <th></th>\n",
       "      <th>fixed acidity</th>\n",
       "      <th>volatile acidity</th>\n",
       "      <th>citric acid</th>\n",
       "      <th>residual sugar</th>\n",
       "      <th>chlorides</th>\n",
       "      <th>free sulfur dioxide</th>\n",
       "      <th>total sulfur dioxide</th>\n",
       "      <th>density</th>\n",
       "      <th>pH</th>\n",
       "      <th>sulphates</th>\n",
       "      <th>alcohol</th>\n",
       "      <th>quality</th>\n",
       "    </tr>\n",
       "  </thead>\n",
       "  <tbody>\n",
       "    <tr>\n",
       "      <th>0</th>\n",
       "      <td>7.4</td>\n",
       "      <td>0.70</td>\n",
       "      <td>0.00</td>\n",
       "      <td>1.90</td>\n",
       "      <td>0.076</td>\n",
       "      <td>11.0</td>\n",
       "      <td>34.0</td>\n",
       "      <td>0.99780</td>\n",
       "      <td>3.51</td>\n",
       "      <td>0.56</td>\n",
       "      <td>9.4</td>\n",
       "      <td>5</td>\n",
       "    </tr>\n",
       "    <tr>\n",
       "      <th>1</th>\n",
       "      <td>7.8</td>\n",
       "      <td>0.88</td>\n",
       "      <td>0.00</td>\n",
       "      <td>2.60</td>\n",
       "      <td>0.098</td>\n",
       "      <td>25.0</td>\n",
       "      <td>67.0</td>\n",
       "      <td>0.99680</td>\n",
       "      <td>3.20</td>\n",
       "      <td>0.68</td>\n",
       "      <td>9.8</td>\n",
       "      <td>5</td>\n",
       "    </tr>\n",
       "    <tr>\n",
       "      <th>2</th>\n",
       "      <td>7.8</td>\n",
       "      <td>0.76</td>\n",
       "      <td>0.04</td>\n",
       "      <td>2.30</td>\n",
       "      <td>0.092</td>\n",
       "      <td>15.0</td>\n",
       "      <td>54.0</td>\n",
       "      <td>0.99700</td>\n",
       "      <td>3.26</td>\n",
       "      <td>0.65</td>\n",
       "      <td>9.8</td>\n",
       "      <td>5</td>\n",
       "    </tr>\n",
       "    <tr>\n",
       "      <th>3</th>\n",
       "      <td>11.2</td>\n",
       "      <td>0.28</td>\n",
       "      <td>0.56</td>\n",
       "      <td>1.90</td>\n",
       "      <td>0.075</td>\n",
       "      <td>17.0</td>\n",
       "      <td>60.0</td>\n",
       "      <td>0.99800</td>\n",
       "      <td>3.16</td>\n",
       "      <td>0.58</td>\n",
       "      <td>9.8</td>\n",
       "      <td>6</td>\n",
       "    </tr>\n",
       "    <tr>\n",
       "      <th>4</th>\n",
       "      <td>7.4</td>\n",
       "      <td>0.70</td>\n",
       "      <td>0.00</td>\n",
       "      <td>1.90</td>\n",
       "      <td>0.076</td>\n",
       "      <td>11.0</td>\n",
       "      <td>34.0</td>\n",
       "      <td>0.99780</td>\n",
       "      <td>3.51</td>\n",
       "      <td>0.56</td>\n",
       "      <td>9.4</td>\n",
       "      <td>5</td>\n",
       "    </tr>\n",
       "    <tr>\n",
       "      <th>...</th>\n",
       "      <td>...</td>\n",
       "      <td>...</td>\n",
       "      <td>...</td>\n",
       "      <td>...</td>\n",
       "      <td>...</td>\n",
       "      <td>...</td>\n",
       "      <td>...</td>\n",
       "      <td>...</td>\n",
       "      <td>...</td>\n",
       "      <td>...</td>\n",
       "      <td>...</td>\n",
       "      <td>...</td>\n",
       "    </tr>\n",
       "    <tr>\n",
       "      <th>995</th>\n",
       "      <td>7.7</td>\n",
       "      <td>0.60</td>\n",
       "      <td>0.06</td>\n",
       "      <td>2.00</td>\n",
       "      <td>0.079</td>\n",
       "      <td>19.0</td>\n",
       "      <td>41.0</td>\n",
       "      <td>0.99697</td>\n",
       "      <td>3.39</td>\n",
       "      <td>0.62</td>\n",
       "      <td>10.1</td>\n",
       "      <td>6</td>\n",
       "    </tr>\n",
       "    <tr>\n",
       "      <th>996</th>\n",
       "      <td>5.6</td>\n",
       "      <td>0.66</td>\n",
       "      <td>0.00</td>\n",
       "      <td>2.20</td>\n",
       "      <td>0.087</td>\n",
       "      <td>3.0</td>\n",
       "      <td>11.0</td>\n",
       "      <td>0.99378</td>\n",
       "      <td>3.71</td>\n",
       "      <td>0.63</td>\n",
       "      <td>12.8</td>\n",
       "      <td>7</td>\n",
       "    </tr>\n",
       "    <tr>\n",
       "      <th>997</th>\n",
       "      <td>5.6</td>\n",
       "      <td>0.66</td>\n",
       "      <td>0.00</td>\n",
       "      <td>2.20</td>\n",
       "      <td>0.087</td>\n",
       "      <td>3.0</td>\n",
       "      <td>11.0</td>\n",
       "      <td>0.99378</td>\n",
       "      <td>3.71</td>\n",
       "      <td>0.63</td>\n",
       "      <td>12.8</td>\n",
       "      <td>7</td>\n",
       "    </tr>\n",
       "    <tr>\n",
       "      <th>998</th>\n",
       "      <td>8.9</td>\n",
       "      <td>0.84</td>\n",
       "      <td>0.34</td>\n",
       "      <td>1.40</td>\n",
       "      <td>0.050</td>\n",
       "      <td>4.0</td>\n",
       "      <td>10.0</td>\n",
       "      <td>0.99554</td>\n",
       "      <td>3.12</td>\n",
       "      <td>0.48</td>\n",
       "      <td>9.1</td>\n",
       "      <td>6</td>\n",
       "    </tr>\n",
       "    <tr>\n",
       "      <th>999</th>\n",
       "      <td>6.4</td>\n",
       "      <td>0.69</td>\n",
       "      <td>0.00</td>\n",
       "      <td>1.65</td>\n",
       "      <td>0.055</td>\n",
       "      <td>7.0</td>\n",
       "      <td>12.0</td>\n",
       "      <td>0.99162</td>\n",
       "      <td>3.47</td>\n",
       "      <td>0.53</td>\n",
       "      <td>12.9</td>\n",
       "      <td>6</td>\n",
       "    </tr>\n",
       "  </tbody>\n",
       "</table>\n",
       "<p>1000 rows × 12 columns</p>\n",
       "</div>"
      ]
     },
     "execution_count": 98,
     "metadata": {},
     "output_type": "execute_result"
    }
   ],
   "execution_count": 98
  },
  {
   "cell_type": "code",
   "id": "177c29dde21a62f8",
   "metadata": {
    "ExecuteTime": {
     "end_time": "2025-06-03T10:56:58.266974Z",
     "start_time": "2025-06-03T10:56:58.042819Z"
    }
   },
   "source": [
    "quality_counts = red_wine['quality'].value_counts().sort_index()\n",
    "\n",
    "xpoints=quality_counts.index\n",
    "ypoints=quality_counts.values\n",
    "\n",
    "plt.bar(xpoints, ypoints, color='purple')\n",
    "plt.xlabel(\"Wine Quality\")\n",
    "plt.ylabel(\"Count\")\n",
    "plt.title(\"Distribution of Red Wine Quality\")"
   ],
   "outputs": [
    {
     "data": {
      "text/plain": [
       "Text(0.5, 1.0, 'Distribution of Red Wine Quality')"
      ]
     },
     "execution_count": 99,
     "metadata": {},
     "output_type": "execute_result"
    },
    {
     "data": {
      "text/plain": [
       "<Figure size 640x480 with 1 Axes>"
      ],
      "image/png": "[encoded data removed]"
     },
     "metadata": {},
     "output_type": "display_data"
    }
   ],
   "execution_count": 99
  },
  {
   "cell_type": "markdown",
   "id": "3ef959eebda24e51",
   "metadata": {},
   "source": [
    "We can see from the graph below that the distribution of data is centered in two values: 5 and 6. We have more than 600 observetions while in the other categories we have at most 200 observation.\n",
    "I can conclude that the dataset is imbalanced."
   ]
  },
  {
   "cell_type": "code",
   "id": "68bbfadae73a80bb",
   "metadata": {
    "ExecuteTime": {
     "end_time": "2025-06-03T10:56:58.390501Z",
     "start_time": "2025-06-03T10:56:58.373284Z"
    }
   },
   "source": [
    "x = red_wine.drop('quality', axis=1)\n",
    "y= red_wine['quality']\n",
    "\n",
    "X_train, X_test, y_train, y_test = train_test_split(x, y, train_size=0.8)"
   ],
   "outputs": [],
   "execution_count": 100
  },
  {
   "metadata": {},
   "cell_type": "markdown",
   "source": "I'll scale the set, necessary for some models.",
   "id": "77df883e1c9712e5"
  },
  {
   "metadata": {
    "ExecuteTime": {
     "end_time": "2025-06-03T10:56:58.542728Z",
     "start_time": "2025-06-03T10:56:58.525211Z"
    }
   },
   "cell_type": "code",
   "source": [
    "# Initialize scaler\n",
    "scaler = StandardScaler()\n",
    "\n",
    "# Calculate mean and standard deviation on the training set\n",
    "scaler.fit(X_train)\n",
    "\n",
    "# Apply transformation to both set\n",
    "X_train_scaled = scaler.transform(X_train)\n",
    "X_test_scaled = scaler.transform(X_test)\n",
    "\n",
    "X_train_scaled"
   ],
   "id": "b821e9cb8a086b57",
   "outputs": [
    {
     "data": {
      "text/plain": [
       "array([[-0.68940163, -0.5690129 , -0.49092876, ...,  1.16580531,\n",
       "        -0.09550325,  0.00459145],\n",
       "       [-0.39704597, -0.68097713, -0.13315219, ..., -0.21104654,\n",
       "        -0.3871667 , -0.87141183],\n",
       "       [-0.74787276, -0.84892348,  1.14462128, ...,  0.51016157,\n",
       "         0.66282173,  0.97792844],\n",
       "       ...,\n",
       "       [-0.86481503,  0.60661152, -1.2064819 , ...,  0.31346845,\n",
       "        -0.44549939,  0.00459145],\n",
       "       [-0.6309305 ,  0.21473671, -1.10426002, ...,  0.4445972 ,\n",
       "        -0.32883401, -0.09274225],\n",
       "       [-1.27411296, -0.84892348, -0.59315063, ...,  0.70685469,\n",
       "        -0.50383208, -0.96874553]], shape=(1279, 11))"
      ]
     },
     "execution_count": 101,
     "metadata": {},
     "output_type": "execute_result"
    }
   ],
   "execution_count": 101
  },
  {
   "metadata": {
    "ExecuteTime": {
     "end_time": "2025-06-03T10:56:58.690319Z",
     "start_time": "2025-06-03T10:56:58.685076Z"
    }
   },
   "cell_type": "code",
   "source": [
    "models = {\n",
    "    'SVM': SVC(),\n",
    "    'Logistic Regression': LogisticRegression(max_iter=1000),\n",
    "    'MLP': MLPClassifier(max_iter=4000),\n",
    "    'Decision Tree': DecisionTreeClassifier(criterion='entropy')\n",
    "}"
   ],
   "id": "237df40d35d10dda",
   "outputs": [],
   "execution_count": 102
  },
  {
   "metadata": {
    "ExecuteTime": {
     "end_time": "2025-06-03T10:57:08.518569Z",
     "start_time": "2025-06-03T10:56:58.753803Z"
    }
   },
   "cell_type": "code",
   "source": [
    "best_models = {}\n",
    "for name, model in models.items():\n",
    "    if name == 'Decision Tree':\n",
    "        x = X_train\n",
    "        test = X_test\n",
    "    else:\n",
    "        x = X_train_scaled\n",
    "        test = X_test_scaled\n",
    "\n",
    "    model.fit(x, y_train)\n",
    "    y_pred = model.predict(test)\n",
    "\n",
    "    acc = accuracy_score (y_test, y_pred)\n",
    "    print(f\"{name} Accuracy: {acc}\")\n",
    "\n",
    "    if acc >= 0.67:\n",
    "        best_models[name] = model"
   ],
   "id": "aadab6a24f863519",
   "outputs": [
    {
     "name": "stdout",
     "output_type": "stream",
     "text": [
      "SVM Accuracy: 0.625\n",
      "Logistic Regression Accuracy: 0.55625\n",
      "MLP Accuracy: 0.625\n",
      "Decision Tree Accuracy: 0.603125\n"
     ]
    }
   ],
   "execution_count": 103
  },
  {
   "metadata": {},
   "cell_type": "markdown",
   "source": "These accuracy are a little low, let's try if some oversample can make some higher performance",
   "id": "a5493766e89e675f"
  },
  {
   "cell_type": "markdown",
   "id": "8434608b720080dd",
   "metadata": {},
   "source": [
    "We can notice that the precision is high only for 5 and 6 values of quality.\n",
    "We have to do some oversampling for the categories with lowest precision.\n",
    "\n",
    "### SMOTE\n",
    "\n"
   ]
  },
  {
   "cell_type": "code",
   "id": "4ad331f2d2ec3824",
   "metadata": {
    "ExecuteTime": {
     "end_time": "2025-06-03T10:57:08.550007Z",
     "start_time": "2025-06-03T10:57:08.518569Z"
    }
   },
   "source": [
    "from imblearn.over_sampling import SMOTE  #library taken from slide 17\n",
    "\n",
    "X_resampled, y_resampled = SMOTE(k_neighbors=5).fit_resample(X_train, y_train)\n",
    "\n",
    "# Scale new X\n",
    "scaler = StandardScaler()\n",
    "scaler.fit(X_train)\n",
    "\n",
    "X_train_scaled = scaler.transform(X_resampled)\n",
    "X_test_scaled = scaler.transform(X_test)"
   ],
   "outputs": [],
   "execution_count": 104
  },
  {
   "metadata": {
    "ExecuteTime": {
     "end_time": "2025-06-03T10:57:20.488741Z",
     "start_time": "2025-06-03T10:57:08.621403Z"
    }
   },
   "cell_type": "code",
   "source": [
    "for name, model in models.items():\n",
    "    if name == 'Decision Tree':\n",
    "        x_train = X_resampled\n",
    "        x_test = X_test\n",
    "    else:\n",
    "        x_train = X_train_scaled\n",
    "        x_test = X_test_scaled\n",
    "\n",
    "    model.fit(x_train, y_resampled)\n",
    "    y_predicted_train = model.predict(x_train)\n",
    "    y_predicted_test = model.predict(x_test)\n",
    "\n",
    "    acc_train = accuracy_score(y_resampled, y_predicted_train)\n",
    "    acc_test = accuracy_score(y_test, y_predicted_test)\n",
    "\n",
    "    print('Model: ', name)\n",
    "    print('Training Accuracy: ', acc_train)\n",
    "    print('Testing Accuracy: ', acc_test)\n",
    "    print()\n"
   ],
   "id": "6526c35b6c40a865",
   "outputs": [
    {
     "name": "stdout",
     "output_type": "stream",
     "text": [
      "Model:  SVM\n",
      "Training Accuracy:  0.8157575757575758\n",
      "Testing Accuracy:  0.509375\n",
      "\n",
      "Model:  Logistic Regression\n",
      "Training Accuracy:  0.6327272727272727\n",
      "Testing Accuracy:  0.425\n",
      "\n",
      "Model:  MLP\n",
      "Training Accuracy:  0.9706060606060606\n",
      "Testing Accuracy:  0.6125\n",
      "\n",
      "Model:  Decision Tree\n",
      "Training Accuracy:  1.0\n",
      "Testing Accuracy:  0.565625\n",
      "\n"
     ]
    }
   ],
   "execution_count": 105
  },
  {
   "cell_type": "markdown",
   "id": "7ef93ddc4d1e7885",
   "metadata": {},
   "source": []
  },
  {
   "cell_type": "markdown",
   "id": "81ede06ec0d93eb4",
   "metadata": {},
   "source": [
    "### Random OverSampler"
   ]
  },
  {
   "cell_type": "code",
   "id": "ee10e66db1735cd4",
   "metadata": {
    "ExecuteTime": {
     "end_time": "2025-06-03T10:57:20.587106Z",
     "start_time": "2025-06-03T10:57:20.570282Z"
    }
   },
   "source": [
    "from imblearn.over_sampling import RandomOverSampler\n",
    "\n",
    "X_resampled, y_resampled = RandomOverSampler(random_state=0).fit_resample(X_train, y_train)\n",
    "\n",
    "# Scale new X\n",
    "scaler = StandardScaler()\n",
    "scaler.fit(X_train)\n",
    "\n",
    "X_train_scaled = scaler.transform(X_resampled)\n",
    "X_test_scaled = scaler.transform(X_test)\n"
   ],
   "outputs": [],
   "execution_count": 106
  },
  {
   "cell_type": "code",
   "id": "b880d4a6108916c7",
   "metadata": {
    "ExecuteTime": {
     "end_time": "2025-06-03T10:57:34.023220Z",
     "start_time": "2025-06-03T10:57:20.667583Z"
    }
   },
   "source": [
    "for name, model in models.items():\n",
    "    if name == 'Decision Tree':\n",
    "        x_train = X_resampled\n",
    "        x_test = X_test\n",
    "    else:\n",
    "        x_train = X_train_scaled\n",
    "        x_test = X_test_scaled\n",
    "\n",
    "    model.fit(x_train, y_resampled)\n",
    "    y_predicted_train = model.predict(x_train)\n",
    "    y_predicted_test = model.predict(x_test)\n",
    "\n",
    "    acc_train = accuracy_score(y_resampled, y_predicted_train)\n",
    "    acc_test = accuracy_score(y_test, y_predicted_test)\n",
    "\n",
    "    print('Model: ', name)\n",
    "    print('Training Accuracy: ', acc_train)\n",
    "    print('Testing Accuracy: ', acc_test)\n",
    "    print()"
   ],
   "outputs": [
    {
     "name": "stdout",
     "output_type": "stream",
     "text": [
      "Model:  SVM\n",
      "Training Accuracy:  0.796969696969697\n",
      "Testing Accuracy:  0.5\n",
      "\n",
      "Model:  Logistic Regression\n",
      "Training Accuracy:  0.5909090909090909\n",
      "Testing Accuracy:  0.4\n",
      "\n",
      "Model:  MLP\n",
      "Training Accuracy:  0.980909090909091\n",
      "Testing Accuracy:  0.615625\n",
      "\n",
      "Model:  Decision Tree\n",
      "Training Accuracy:  1.0\n",
      "Testing Accuracy:  0.5625\n",
      "\n"
     ]
    }
   ],
   "execution_count": 107
  },
  {
   "cell_type": "markdown",
   "id": "5df0482f82227d3b",
   "metadata": {},
   "source": [
    "### Manually Undersampling\n"
   ]
  },
  {
   "cell_type": "code",
   "id": "1e48b183270e8cc2",
   "metadata": {
    "ExecuteTime": {
     "end_time": "2025-06-03T10:57:34.119037Z",
     "start_time": "2025-06-03T10:57:34.100317Z"
    }
   },
   "source": [
    "n_samples = 100 # number of selected samples\n",
    "\n",
    "# Select only samples with quality == 5 and do undersampling\n",
    "df_quality_5 = red_wine[red_wine['quality'] == 5]\n",
    "df_quality_sampled = df_quality_5.sample(n=n_samples, random_state=42)\n",
    "\n",
    "# Select other samples\n",
    "df_other_qualities = red_wine[red_wine['quality'] != 5]\n",
    "\n",
    "# Combine both samples\n",
    "df_undersampled = pd.concat([df_other_qualities, df_quality_sampled])\n",
    "df_undersampled = df_undersampled.reset_index(drop=True)\n",
    "\n",
    "# Do the same for samples with quality == 6\n",
    "df_quality_6 = red_wine[red_wine['quality'] == 6]\n",
    "df_quality_sampled = df_quality_6.sample(n=n_samples, random_state=42)\n",
    "df_other_qualities = red_wine[red_wine['quality'] != 6]\n",
    "df_undersampled = pd.concat([df_other_qualities, df_quality_sampled])\n",
    "df_undersampled = df_undersampled.reset_index(drop=True)\n",
    "\n",
    "# Do the same for samples with quality == 7\n",
    "df_quality_7 = red_wine[red_wine['quality'] == 7]\n",
    "df_quality_sampled = df_quality_7.sample(n=n_samples, random_state=42)\n",
    "df_other_qualities = red_wine[red_wine['quality'] != 7]\n",
    "df_undersampled = pd.concat([df_other_qualities, df_quality_sampled])\n",
    "df_undersampled = df_undersampled.reset_index(drop=True)\n",
    "\n",
    "\n",
    "# Extract X and Y from updated data\n",
    "X_undersampled = df_undersampled.drop('quality', axis=1)\n",
    "y_undersampled = df_undersampled['quality']"
   ],
   "outputs": [],
   "execution_count": 108
  },
  {
   "metadata": {},
   "cell_type": "markdown",
   "source": "Scale Data",
   "id": "c6f1dcc39a7cda66"
  },
  {
   "metadata": {
    "ExecuteTime": {
     "end_time": "2025-06-03T10:57:34.209835Z",
     "start_time": "2025-06-03T10:57:34.199138Z"
    }
   },
   "cell_type": "code",
   "source": [
    "scaler = StandardScaler()\n",
    "scaler.fit(X_undersampled)\n",
    "\n",
    "X_train_scaled = scaler.transform(X_undersampled)\n",
    "X_test_scaled = scaler.transform(X_test)"
   ],
   "id": "bc74339ddbc748bd",
   "outputs": [],
   "execution_count": 109
  },
  {
   "metadata": {},
   "cell_type": "markdown",
   "source": "Try executing different models for the new dataset.",
   "id": "a622a27cf7c3fed2"
  },
  {
   "metadata": {
    "ExecuteTime": {
     "end_time": "2025-06-03T10:57:42.640102Z",
     "start_time": "2025-06-03T10:57:34.331159Z"
    }
   },
   "cell_type": "code",
   "source": [
    "for name, model in models.items():\n",
    "    if name == 'Decision Tree':\n",
    "        x_train = X_undersampled\n",
    "        x_test = X_test\n",
    "    else:\n",
    "        x_train = X_train_scaled\n",
    "        x_test = X_test_scaled\n",
    "\n",
    "    model.fit(x_train, y_undersampled)\n",
    "    y_predicted_train = model.predict(x_train)\n",
    "    y_predicted_test = model.predict(x_test)\n",
    "\n",
    "    acc_train = accuracy_score(y_undersampled, y_predicted_train)\n",
    "    acc_test = accuracy_score(y_test, y_predicted_test)\n",
    "\n",
    "    print('Model: ', name)\n",
    "    print('Training Accuracy: ', acc_train)\n",
    "    print('Testing Accuracy: ', acc_test)\n",
    "    print()"
   ],
   "id": "4e57e4633849d803",
   "outputs": [
    {
     "name": "stdout",
     "output_type": "stream",
     "text": [
      "Model:  SVM\n",
      "Training Accuracy:  0.6853333333333333\n",
      "Testing Accuracy:  0.596875\n",
      "\n",
      "Model:  Logistic Regression\n",
      "Training Accuracy:  0.632\n",
      "Testing Accuracy:  0.528125\n",
      "\n",
      "Model:  MLP\n",
      "Training Accuracy:  0.9193333333333333\n",
      "Testing Accuracy:  0.8625\n",
      "\n",
      "Model:  Decision Tree\n",
      "Training Accuracy:  1.0\n",
      "Testing Accuracy:  0.946875\n",
      "\n"
     ]
    }
   ],
   "execution_count": 110
  }
 ],
 "metadata": {
  "kernelspec": {
   "display_name": "rossi-manno",
   "language": "python",
   "name": "python3"
  },
  "language_info": {
   "codemirror_mode": {
    "name": "ipython",
    "version": 2
   },
   "file_extension": ".py",
   "mimetype": "text/x-python",
   "name": "python",
   "nbconvert_exporter": "python",
   "pygments_lexer": "ipython2",
   "version": "3.13.3"
  }
 },
 "nbformat": 4,
 "nbformat_minor": 5
}
