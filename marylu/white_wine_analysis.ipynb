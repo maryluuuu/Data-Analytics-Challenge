{
 "cells": [
  {
   "cell_type": "markdown",
   "id": "238f2a850969f23e",
   "metadata": {},
   "source": [
    "### TO DO:\n",
    "- controllare se ci sono metodi che lui non usa (drop, value_counts, classification_report, classification_report_imbalanced)"
   ]
  },
  {
   "cell_type": "code",
   "id": "initial_id",
   "metadata": {
    "collapsed": true,
    "ExecuteTime": {
     "end_time": "2025-06-03T10:57:47.635964Z",
     "start_time": "2025-06-03T10:57:47.608182Z"
    }
   },
   "source": [
    "import pandas as pd\n",
    "import matplotlib.pyplot as plt\n",
    "import numpy as np\n",
    "from sklearn.tree import DecisionTreeClassifier\n",
    "from sklearn.neural_network import MLPClassifier\n",
    "from sklearn.linear_model import LogisticRegression\n",
    "from sklearn.svm import SVC\n",
    "from sklearn.model_selection import train_test_split\n",
    "from sklearn.preprocessing import StandardScaler\n",
    "from sklearn.metrics import classification_report, accuracy_score\n",
    "\n",
    "\n",
    "\n",
    "# Import red wine data\n",
    "red_wine = pd.read_csv(\"../winequality-red.csv\", delimiter=';')\n",
    "\n",
    "# Import white wine data\n",
    "white_wine = pd.read_csv(\"../winequality-white.csv\", delimiter=';')\n",
    "\n",
    "# Visualize array dimensions\n",
    "print(\"Red wine shape:\", red_wine.shape)\n",
    "print(\"White wine shape:\", white_wine.shape)\n"
   ],
   "outputs": [
    {
     "name": "stdout",
     "output_type": "stream",
     "text": [
      "Red wine shape: (1599, 12)\n",
      "White wine shape: (4898, 12)\n"
     ]
    }
   ],
   "execution_count": 32
  },
  {
   "cell_type": "markdown",
   "id": "69f79691978f11d1",
   "metadata": {},
   "source": [
    "There are significantly more data samples for white wines compared to red wines.\n",
    "I decided to analyze the two categories separately at first in order to identify pattern in each group, afterward I'll perform a unified analysis to explore any common trends when combining both datasets."
   ]
  },
  {
   "cell_type": "markdown",
   "id": "82df914363f13d23",
   "metadata": {},
   "source": [
    "### White Wine Analysis\n",
    "- observations : 4898\n",
    "- features: 12"
   ]
  },
  {
   "cell_type": "code",
   "id": "8523dc84d9c0a0be",
   "metadata": {
    "ExecuteTime": {
     "end_time": "2025-06-03T10:57:47.679117Z",
     "start_time": "2025-06-03T10:57:47.653598Z"
    }
   },
   "source": "white_wine.head(1000)",
   "outputs": [
    {
     "data": {
      "text/plain": [
       "     fixed acidity  volatile acidity  citric acid  residual sugar  chlorides  \\\n",
       "0              7.0              0.27         0.36           20.70      0.045   \n",
       "1              6.3              0.30         0.34            1.60      0.049   \n",
       "2              8.1              0.28         0.40            6.90      0.050   \n",
       "3              7.2              0.23         0.32            8.50      0.058   \n",
       "4              7.2              0.23         0.32            8.50      0.058   \n",
       "..             ...               ...          ...             ...        ...   \n",
       "995            7.8              0.27         0.34            1.60      0.046   \n",
       "996            6.0              0.26         0.34            1.30      0.046   \n",
       "997            6.1              0.24         0.27            9.80      0.062   \n",
       "998            8.0              0.24         0.30           17.45      0.056   \n",
       "999            7.6              0.21         0.60            2.10      0.046   \n",
       "\n",
       "     free sulfur dioxide  total sulfur dioxide  density    pH  sulphates  \\\n",
       "0                   45.0                 170.0   1.0010  3.00       0.45   \n",
       "1                   14.0                 132.0   0.9940  3.30       0.49   \n",
       "2                   30.0                  97.0   0.9951  3.26       0.44   \n",
       "3                   47.0                 186.0   0.9956  3.19       0.40   \n",
       "4                   47.0                 186.0   0.9956  3.19       0.40   \n",
       "..                   ...                   ...      ...   ...        ...   \n",
       "995                 27.0                 154.0   0.9927  3.05       0.45   \n",
       "996                  6.0                  29.0   0.9924  3.29       0.63   \n",
       "997                 33.0                 152.0   0.9966  3.31       0.47   \n",
       "998                 43.0                 184.0   0.9997  3.05       0.50   \n",
       "999                 47.0                 165.0   0.9936  3.05       0.54   \n",
       "\n",
       "     alcohol  quality  \n",
       "0        8.8        6  \n",
       "1        9.5        6  \n",
       "2       10.1        6  \n",
       "3        9.9        6  \n",
       "4        9.9        6  \n",
       "..       ...      ...  \n",
       "995     10.5        6  \n",
       "996     10.4        5  \n",
       "997      9.5        6  \n",
       "998      9.2        6  \n",
       "999     10.1        7  \n",
       "\n",
       "[1000 rows x 12 columns]"
      ],
      "text/html": [
       "<div>\n",
       "<style scoped>\n",
       "    .dataframe tbody tr th:only-of-type {\n",
       "        vertical-align: middle;\n",
       "    }\n",
       "\n",
       "    .dataframe tbody tr th {\n",
       "        vertical-align: top;\n",
       "    }\n",
       "\n",
       "    .dataframe thead th {\n",
       "        text-align: right;\n",
       "    }\n",
       "</style>\n",
       "<table border=\"1\" class=\"dataframe\">\n",
       "  <thead>\n",
       "    <tr style=\"text-align: right;\">\n",
       "      <th></th>\n",
       "      <th>fixed acidity</th>\n",
       "      <th>volatile acidity</th>\n",
       "      <th>citric acid</th>\n",
       "      <th>residual sugar</th>\n",
       "      <th>chlorides</th>\n",
       "      <th>free sulfur dioxide</th>\n",
       "      <th>total sulfur dioxide</th>\n",
       "      <th>density</th>\n",
       "      <th>pH</th>\n",
       "      <th>sulphates</th>\n",
       "      <th>alcohol</th>\n",
       "      <th>quality</th>\n",
       "    </tr>\n",
       "  </thead>\n",
       "  <tbody>\n",
       "    <tr>\n",
       "      <th>0</th>\n",
       "      <td>7.0</td>\n",
       "      <td>0.27</td>\n",
       "      <td>0.36</td>\n",
       "      <td>20.70</td>\n",
       "      <td>0.045</td>\n",
       "      <td>45.0</td>\n",
       "      <td>170.0</td>\n",
       "      <td>1.0010</td>\n",
       "      <td>3.00</td>\n",
       "      <td>0.45</td>\n",
       "      <td>8.8</td>\n",
       "      <td>6</td>\n",
       "    </tr>\n",
       "    <tr>\n",
       "      <th>1</th>\n",
       "      <td>6.3</td>\n",
       "      <td>0.30</td>\n",
       "      <td>0.34</td>\n",
       "      <td>1.60</td>\n",
       "      <td>0.049</td>\n",
       "      <td>14.0</td>\n",
       "      <td>132.0</td>\n",
       "      <td>0.9940</td>\n",
       "      <td>3.30</td>\n",
       "      <td>0.49</td>\n",
       "      <td>9.5</td>\n",
       "      <td>6</td>\n",
       "    </tr>\n",
       "    <tr>\n",
       "      <th>2</th>\n",
       "      <td>8.1</td>\n",
       "      <td>0.28</td>\n",
       "      <td>0.40</td>\n",
       "      <td>6.90</td>\n",
       "      <td>0.050</td>\n",
       "      <td>30.0</td>\n",
       "      <td>97.0</td>\n",
       "      <td>0.9951</td>\n",
       "      <td>3.26</td>\n",
       "      <td>0.44</td>\n",
       "      <td>10.1</td>\n",
       "      <td>6</td>\n",
       "    </tr>\n",
       "    <tr>\n",
       "      <th>3</th>\n",
       "      <td>7.2</td>\n",
       "      <td>0.23</td>\n",
       "      <td>0.32</td>\n",
       "      <td>8.50</td>\n",
       "      <td>0.058</td>\n",
       "      <td>47.0</td>\n",
       "      <td>186.0</td>\n",
       "      <td>0.9956</td>\n",
       "      <td>3.19</td>\n",
       "      <td>0.40</td>\n",
       "      <td>9.9</td>\n",
       "      <td>6</td>\n",
       "    </tr>\n",
       "    <tr>\n",
       "      <th>4</th>\n",
       "      <td>7.2</td>\n",
       "      <td>0.23</td>\n",
       "      <td>0.32</td>\n",
       "      <td>8.50</td>\n",
       "      <td>0.058</td>\n",
       "      <td>47.0</td>\n",
       "      <td>186.0</td>\n",
       "      <td>0.9956</td>\n",
       "      <td>3.19</td>\n",
       "      <td>0.40</td>\n",
       "      <td>9.9</td>\n",
       "      <td>6</td>\n",
       "    </tr>\n",
       "    <tr>\n",
       "      <th>...</th>\n",
       "      <td>...</td>\n",
       "      <td>...</td>\n",
       "      <td>...</td>\n",
       "      <td>...</td>\n",
       "      <td>...</td>\n",
       "      <td>...</td>\n",
       "      <td>...</td>\n",
       "      <td>...</td>\n",
       "      <td>...</td>\n",
       "      <td>...</td>\n",
       "      <td>...</td>\n",
       "      <td>...</td>\n",
       "    </tr>\n",
       "    <tr>\n",
       "      <th>995</th>\n",
       "      <td>7.8</td>\n",
       "      <td>0.27</td>\n",
       "      <td>0.34</td>\n",
       "      <td>1.60</td>\n",
       "      <td>0.046</td>\n",
       "      <td>27.0</td>\n",
       "      <td>154.0</td>\n",
       "      <td>0.9927</td>\n",
       "      <td>3.05</td>\n",
       "      <td>0.45</td>\n",
       "      <td>10.5</td>\n",
       "      <td>6</td>\n",
       "    </tr>\n",
       "    <tr>\n",
       "      <th>996</th>\n",
       "      <td>6.0</td>\n",
       "      <td>0.26</td>\n",
       "      <td>0.34</td>\n",
       "      <td>1.30</td>\n",
       "      <td>0.046</td>\n",
       "      <td>6.0</td>\n",
       "      <td>29.0</td>\n",
       "      <td>0.9924</td>\n",
       "      <td>3.29</td>\n",
       "      <td>0.63</td>\n",
       "      <td>10.4</td>\n",
       "      <td>5</td>\n",
       "    </tr>\n",
       "    <tr>\n",
       "      <th>997</th>\n",
       "      <td>6.1</td>\n",
       "      <td>0.24</td>\n",
       "      <td>0.27</td>\n",
       "      <td>9.80</td>\n",
       "      <td>0.062</td>\n",
       "      <td>33.0</td>\n",
       "      <td>152.0</td>\n",
       "      <td>0.9966</td>\n",
       "      <td>3.31</td>\n",
       "      <td>0.47</td>\n",
       "      <td>9.5</td>\n",
       "      <td>6</td>\n",
       "    </tr>\n",
       "    <tr>\n",
       "      <th>998</th>\n",
       "      <td>8.0</td>\n",
       "      <td>0.24</td>\n",
       "      <td>0.30</td>\n",
       "      <td>17.45</td>\n",
       "      <td>0.056</td>\n",
       "      <td>43.0</td>\n",
       "      <td>184.0</td>\n",
       "      <td>0.9997</td>\n",
       "      <td>3.05</td>\n",
       "      <td>0.50</td>\n",
       "      <td>9.2</td>\n",
       "      <td>6</td>\n",
       "    </tr>\n",
       "    <tr>\n",
       "      <th>999</th>\n",
       "      <td>7.6</td>\n",
       "      <td>0.21</td>\n",
       "      <td>0.60</td>\n",
       "      <td>2.10</td>\n",
       "      <td>0.046</td>\n",
       "      <td>47.0</td>\n",
       "      <td>165.0</td>\n",
       "      <td>0.9936</td>\n",
       "      <td>3.05</td>\n",
       "      <td>0.54</td>\n",
       "      <td>10.1</td>\n",
       "      <td>7</td>\n",
       "    </tr>\n",
       "  </tbody>\n",
       "</table>\n",
       "<p>1000 rows × 12 columns</p>\n",
       "</div>"
      ]
     },
     "execution_count": 33,
     "metadata": {},
     "output_type": "execute_result"
    }
   ],
   "execution_count": 33
  },
  {
   "cell_type": "code",
   "id": "177c29dde21a62f8",
   "metadata": {
    "ExecuteTime": {
     "end_time": "2025-06-03T10:57:48.080433Z",
     "start_time": "2025-06-03T10:57:47.839995Z"
    }
   },
   "source": [
    "quality_counts = white_wine['quality'].value_counts().sort_index()\n",
    "\n",
    "xpoints=quality_counts.index\n",
    "ypoints=quality_counts.values\n",
    "\n",
    "plt.bar(xpoints, ypoints, color='purple')\n",
    "plt.xlabel(\"Wine Quality\")\n",
    "plt.ylabel(\"Count\")\n",
    "plt.title(\"Distribution of White Wine Quality\")"
   ],
   "outputs": [
    {
     "data": {
      "text/plain": [
       "Text(0.5, 1.0, 'Distribution of White Wine Quality')"
      ]
     },
     "execution_count": 34,
     "metadata": {},
     "output_type": "execute_result"
    },
    {
     "data": {
      "text/plain": [
       "<Figure size 640x480 with 1 Axes>"
      ],
      "image/png": "[encoded data removed]"
     },
     "metadata": {},
     "output_type": "display_data"
    }
   ],
   "execution_count": 34
  },
  {
   "cell_type": "markdown",
   "id": "3ef959eebda24e51",
   "metadata": {},
   "source": [
    "We can see from the graph below that the distribution of data is centered in two values: 5 and 6 in which we have more than 1000 observations, in the values 7 we have a middle number of observation less than 1000, while in the other categories we have at most 100 observation.\n",
    "I can conclude that the dataset is imbalanced."
   ]
  },
  {
   "cell_type": "code",
   "id": "68bbfadae73a80bb",
   "metadata": {
    "ExecuteTime": {
     "end_time": "2025-06-03T10:57:48.155459Z",
     "start_time": "2025-06-03T10:57:48.146009Z"
    }
   },
   "source": [
    "x = white_wine.drop('quality', axis=1)\n",
    "y= white_wine['quality']\n",
    "\n",
    "X_train, X_test, y_train, y_test = train_test_split(x, y, train_size=0.8)"
   ],
   "outputs": [],
   "execution_count": 35
  },
  {
   "metadata": {},
   "cell_type": "markdown",
   "source": "I'll scale the set, necessary for some models.",
   "id": "77df883e1c9712e5"
  },
  {
   "metadata": {
    "ExecuteTime": {
     "end_time": "2025-06-03T10:57:48.222673Z",
     "start_time": "2025-06-03T10:57:48.204315Z"
    }
   },
   "cell_type": "code",
   "source": [
    "# Initialize scaler\n",
    "scaler = StandardScaler()\n",
    "\n",
    "# Calculate mean and standard deviation on the training set\n",
    "scaler.fit(X_train)\n",
    "\n",
    "# Apply transformation to both set\n",
    "X_train_scaled = scaler.transform(X_train)\n",
    "X_test_scaled = scaler.transform(X_test)\n",
    "\n",
    "X_train_scaled"
   ],
   "id": "b821e9cb8a086b57",
   "outputs": [
    {
     "data": {
      "text/plain": [
       "array([[ 2.32284039,  0.50470266,  0.8662186 , ..., -1.51772021,\n",
       "        -0.78700334,  1.69068034],\n",
       "       [ 2.5619175 , -0.77559843, -0.04041105, ..., -0.32122912,\n",
       "        -1.13611925, -0.58045974],\n",
       "       [-0.78516206,  0.20924857,  0.70137685, ..., -0.38770085,\n",
       "        -0.9615613 ,  0.87955888],\n",
       "       ...,\n",
       "       [-1.26331629,  0.01227917,  2.67947791, ...,  3.1353007 ,\n",
       "         0.52218136,  0.23066172],\n",
       "       [ 1.36653194,  0.40621796,  0.20685158, ...,  0.67584679,\n",
       "        -0.17605048,  1.20400747],\n",
       "       [-1.14377773, -0.97256782, -0.37009456, ...,  0.14407297,\n",
       "        -0.9615613 ,  0.63622245]], shape=(3918, 11))"
      ]
     },
     "execution_count": 36,
     "metadata": {},
     "output_type": "execute_result"
    }
   ],
   "execution_count": 36
  },
  {
   "metadata": {
    "ExecuteTime": {
     "end_time": "2025-06-03T10:57:48.424613Z",
     "start_time": "2025-06-03T10:57:48.416625Z"
    }
   },
   "cell_type": "code",
   "source": [
    "models = {\n",
    "    'SVM': SVC(),\n",
    "    'Logistic Regression': LogisticRegression(max_iter=1000),\n",
    "    'MLP': MLPClassifier(max_iter=4000),\n",
    "    'Decision Tree': DecisionTreeClassifier(criterion='entropy')\n",
    "}"
   ],
   "id": "237df40d35d10dda",
   "outputs": [],
   "execution_count": 37
  },
  {
   "metadata": {
    "ExecuteTime": {
     "end_time": "2025-06-03T10:57:58.305237Z",
     "start_time": "2025-06-03T10:57:48.550195Z"
    }
   },
   "cell_type": "code",
   "source": [
    "best_models = {}\n",
    "for name, model in models.items():\n",
    "    if name == 'Decision Tree':\n",
    "        x = X_train\n",
    "        test = X_test\n",
    "    else:\n",
    "        x = X_train_scaled\n",
    "        test = X_test_scaled\n",
    "\n",
    "    model.fit(x, y_train)\n",
    "    y_pred = model.predict(test)\n",
    "\n",
    "    acc = accuracy_score (y_test, y_pred)\n",
    "    print(f\"{name} Accuracy: {acc}\")\n",
    "\n",
    "    if acc >= 0.67:\n",
    "        best_models[name] = model"
   ],
   "id": "aadab6a24f863519",
   "outputs": [
    {
     "name": "stdout",
     "output_type": "stream",
     "text": [
      "SVM Accuracy: 0.5530612244897959\n",
      "Logistic Regression Accuracy: 0.5377551020408163\n",
      "MLP Accuracy: 0.563265306122449\n",
      "Decision Tree Accuracy: 0.6\n"
     ]
    }
   ],
   "execution_count": 38
  },
  {
   "metadata": {},
   "cell_type": "markdown",
   "source": "These accuracy are a little low, let's try if some oversample can make some higher performance",
   "id": "a5493766e89e675f"
  },
  {
   "cell_type": "markdown",
   "id": "8434608b720080dd",
   "metadata": {},
   "source": [
    "We can notice that the precision is high only for 5 and 6 values of quality.\n",
    "We have to do some oversampling for the categories with lowest precision.\n",
    "\n",
    "### SMOTE\n",
    "\n"
   ]
  },
  {
   "cell_type": "code",
   "id": "4ad331f2d2ec3824",
   "metadata": {
    "ExecuteTime": {
     "end_time": "2025-06-03T10:59:29.381148Z",
     "start_time": "2025-06-03T10:59:29.305879Z"
    }
   },
   "source": [
    "from imblearn.over_sampling import SMOTE  #library taken from slide 17\n",
    "\n",
    "X_resampled, y_resampled = SMOTE(k_neighbors=4).fit_resample(X_train, y_train)\n",
    "\n",
    "# Scale new X\n",
    "scaler = StandardScaler()\n",
    "scaler.fit(X_train)\n",
    "\n",
    "X_train_scaled = scaler.transform(X_resampled)\n",
    "X_test_scaled = scaler.transform(X_test)"
   ],
   "outputs": [
    {
     "ename": "ValueError",
     "evalue": "Expected n_neighbors <= n_samples_fit, but n_neighbors = 5, n_samples_fit = 4, n_samples = 4",
     "output_type": "error",
     "traceback": [
      "\u001B[1;31m---------------------------------------------------------------------------\u001B[0m",
      "\u001B[1;31mValueError\u001B[0m                                Traceback (most recent call last)",
      "Cell \u001B[1;32mIn[46], line 3\u001B[0m\n\u001B[0;32m      1\u001B[0m \u001B[38;5;28;01mfrom\u001B[39;00m \u001B[38;5;21;01mimblearn\u001B[39;00m\u001B[38;5;21;01m.\u001B[39;00m\u001B[38;5;21;01mover_sampling\u001B[39;00m \u001B[38;5;28;01mimport\u001B[39;00m SMOTE  \u001B[38;5;66;03m#library taken from slide 17\u001B[39;00m\n\u001B[1;32m----> 3\u001B[0m X_resampled, y_resampled \u001B[38;5;241m=\u001B[39m SMOTE(k_neighbors\u001B[38;5;241m=\u001B[39m\u001B[38;5;241m4\u001B[39m)\u001B[38;5;241m.\u001B[39mfit_resample(X_train, y_train)\n\u001B[0;32m      5\u001B[0m \u001B[38;5;66;03m# Scale new X\u001B[39;00m\n\u001B[0;32m      6\u001B[0m scaler \u001B[38;5;241m=\u001B[39m StandardScaler()\n",
      "File \u001B[1;32m~\\miniconda3\\Lib\\site-packages\\imblearn\\base.py:202\u001B[0m, in \u001B[0;36mBaseSampler.fit_resample\u001B[1;34m(self, X, y, **params)\u001B[0m\n\u001B[0;32m    181\u001B[0m \u001B[38;5;28;01mdef\u001B[39;00m \u001B[38;5;21mfit_resample\u001B[39m(\u001B[38;5;28mself\u001B[39m, X, y, \u001B[38;5;241m*\u001B[39m\u001B[38;5;241m*\u001B[39mparams):\n\u001B[0;32m    182\u001B[0m \u001B[38;5;250m    \u001B[39m\u001B[38;5;124;03m\"\"\"Resample the dataset.\u001B[39;00m\n\u001B[0;32m    183\u001B[0m \n\u001B[0;32m    184\u001B[0m \u001B[38;5;124;03m    Parameters\u001B[39;00m\n\u001B[1;32m   (...)\u001B[0m\n\u001B[0;32m    200\u001B[0m \u001B[38;5;124;03m        The corresponding label of `X_resampled`.\u001B[39;00m\n\u001B[0;32m    201\u001B[0m \u001B[38;5;124;03m    \"\"\"\u001B[39;00m\n\u001B[1;32m--> 202\u001B[0m     \u001B[38;5;28;01mreturn\u001B[39;00m \u001B[38;5;28msuper\u001B[39m()\u001B[38;5;241m.\u001B[39mfit_resample(X, y, \u001B[38;5;241m*\u001B[39m\u001B[38;5;241m*\u001B[39mparams)\n",
      "File \u001B[1;32m~\\miniconda3\\Lib\\site-packages\\sklearn\\base.py:1389\u001B[0m, in \u001B[0;36m_fit_context.<locals>.decorator.<locals>.wrapper\u001B[1;34m(estimator, *args, **kwargs)\u001B[0m\n\u001B[0;32m   1382\u001B[0m     estimator\u001B[38;5;241m.\u001B[39m_validate_params()\n\u001B[0;32m   1384\u001B[0m \u001B[38;5;28;01mwith\u001B[39;00m config_context(\n\u001B[0;32m   1385\u001B[0m     skip_parameter_validation\u001B[38;5;241m=\u001B[39m(\n\u001B[0;32m   1386\u001B[0m         prefer_skip_nested_validation \u001B[38;5;129;01mor\u001B[39;00m global_skip_validation\n\u001B[0;32m   1387\u001B[0m     )\n\u001B[0;32m   1388\u001B[0m ):\n\u001B[1;32m-> 1389\u001B[0m     \u001B[38;5;28;01mreturn\u001B[39;00m fit_method(estimator, \u001B[38;5;241m*\u001B[39margs, \u001B[38;5;241m*\u001B[39m\u001B[38;5;241m*\u001B[39mkwargs)\n",
      "File \u001B[1;32m~\\miniconda3\\Lib\\site-packages\\imblearn\\base.py:105\u001B[0m, in \u001B[0;36mSamplerMixin.fit_resample\u001B[1;34m(self, X, y, **params)\u001B[0m\n\u001B[0;32m     99\u001B[0m X, y, binarize_y \u001B[38;5;241m=\u001B[39m \u001B[38;5;28mself\u001B[39m\u001B[38;5;241m.\u001B[39m_check_X_y(X, y)\n\u001B[0;32m    101\u001B[0m \u001B[38;5;28mself\u001B[39m\u001B[38;5;241m.\u001B[39msampling_strategy_ \u001B[38;5;241m=\u001B[39m check_sampling_strategy(\n\u001B[0;32m    102\u001B[0m     \u001B[38;5;28mself\u001B[39m\u001B[38;5;241m.\u001B[39msampling_strategy, y, \u001B[38;5;28mself\u001B[39m\u001B[38;5;241m.\u001B[39m_sampling_type\n\u001B[0;32m    103\u001B[0m )\n\u001B[1;32m--> 105\u001B[0m output \u001B[38;5;241m=\u001B[39m \u001B[38;5;28mself\u001B[39m\u001B[38;5;241m.\u001B[39m_fit_resample(X, y, \u001B[38;5;241m*\u001B[39m\u001B[38;5;241m*\u001B[39mparams)\n\u001B[0;32m    107\u001B[0m y_ \u001B[38;5;241m=\u001B[39m (\n\u001B[0;32m    108\u001B[0m     label_binarize(output[\u001B[38;5;241m1\u001B[39m], classes\u001B[38;5;241m=\u001B[39mnp\u001B[38;5;241m.\u001B[39munique(y)) \u001B[38;5;28;01mif\u001B[39;00m binarize_y \u001B[38;5;28;01melse\u001B[39;00m output[\u001B[38;5;241m1\u001B[39m]\n\u001B[0;32m    109\u001B[0m )\n\u001B[0;32m    111\u001B[0m X_, y_ \u001B[38;5;241m=\u001B[39m arrays_transformer\u001B[38;5;241m.\u001B[39mtransform(output[\u001B[38;5;241m0\u001B[39m], y_)\n",
      "File \u001B[1;32m~\\miniconda3\\Lib\\site-packages\\imblearn\\over_sampling\\_smote\\base.py:359\u001B[0m, in \u001B[0;36mSMOTE._fit_resample\u001B[1;34m(self, X, y)\u001B[0m\n\u001B[0;32m    356\u001B[0m X_class \u001B[38;5;241m=\u001B[39m _safe_indexing(X, target_class_indices)\n\u001B[0;32m    358\u001B[0m \u001B[38;5;28mself\u001B[39m\u001B[38;5;241m.\u001B[39mnn_k_\u001B[38;5;241m.\u001B[39mfit(X_class)\n\u001B[1;32m--> 359\u001B[0m nns \u001B[38;5;241m=\u001B[39m \u001B[38;5;28mself\u001B[39m\u001B[38;5;241m.\u001B[39mnn_k_\u001B[38;5;241m.\u001B[39mkneighbors(X_class, return_distance\u001B[38;5;241m=\u001B[39m\u001B[38;5;28;01mFalse\u001B[39;00m)[:, \u001B[38;5;241m1\u001B[39m:]\n\u001B[0;32m    360\u001B[0m X_new, y_new \u001B[38;5;241m=\u001B[39m \u001B[38;5;28mself\u001B[39m\u001B[38;5;241m.\u001B[39m_make_samples(\n\u001B[0;32m    361\u001B[0m     X_class, y\u001B[38;5;241m.\u001B[39mdtype, class_sample, X_class, nns, n_samples, \u001B[38;5;241m1.0\u001B[39m\n\u001B[0;32m    362\u001B[0m )\n\u001B[0;32m    363\u001B[0m X_resampled\u001B[38;5;241m.\u001B[39mappend(X_new)\n",
      "File \u001B[1;32m~\\miniconda3\\Lib\\site-packages\\sklearn\\neighbors\\_base.py:854\u001B[0m, in \u001B[0;36mKNeighborsMixin.kneighbors\u001B[1;34m(self, X, n_neighbors, return_distance)\u001B[0m\n\u001B[0;32m    852\u001B[0m     \u001B[38;5;28;01melse\u001B[39;00m:\n\u001B[0;32m    853\u001B[0m         inequality_str \u001B[38;5;241m=\u001B[39m \u001B[38;5;124m\"\u001B[39m\u001B[38;5;124mn_neighbors <= n_samples_fit\u001B[39m\u001B[38;5;124m\"\u001B[39m\n\u001B[1;32m--> 854\u001B[0m     \u001B[38;5;28;01mraise\u001B[39;00m \u001B[38;5;167;01mValueError\u001B[39;00m(\n\u001B[0;32m    855\u001B[0m         \u001B[38;5;124mf\u001B[39m\u001B[38;5;124m\"\u001B[39m\u001B[38;5;124mExpected \u001B[39m\u001B[38;5;132;01m{\u001B[39;00minequality_str\u001B[38;5;132;01m}\u001B[39;00m\u001B[38;5;124m, but \u001B[39m\u001B[38;5;124m\"\u001B[39m\n\u001B[0;32m    856\u001B[0m         \u001B[38;5;124mf\u001B[39m\u001B[38;5;124m\"\u001B[39m\u001B[38;5;124mn_neighbors = \u001B[39m\u001B[38;5;132;01m{\u001B[39;00mn_neighbors\u001B[38;5;132;01m}\u001B[39;00m\u001B[38;5;124m, n_samples_fit = \u001B[39m\u001B[38;5;132;01m{\u001B[39;00mn_samples_fit\u001B[38;5;132;01m}\u001B[39;00m\u001B[38;5;124m, \u001B[39m\u001B[38;5;124m\"\u001B[39m\n\u001B[0;32m    857\u001B[0m         \u001B[38;5;124mf\u001B[39m\u001B[38;5;124m\"\u001B[39m\u001B[38;5;124mn_samples = \u001B[39m\u001B[38;5;132;01m{\u001B[39;00mX\u001B[38;5;241m.\u001B[39mshape[\u001B[38;5;241m0\u001B[39m]\u001B[38;5;132;01m}\u001B[39;00m\u001B[38;5;124m\"\u001B[39m  \u001B[38;5;66;03m# include n_samples for common tests\u001B[39;00m\n\u001B[0;32m    858\u001B[0m     )\n\u001B[0;32m    860\u001B[0m n_jobs \u001B[38;5;241m=\u001B[39m effective_n_jobs(\u001B[38;5;28mself\u001B[39m\u001B[38;5;241m.\u001B[39mn_jobs)\n\u001B[0;32m    861\u001B[0m chunked_results \u001B[38;5;241m=\u001B[39m \u001B[38;5;28;01mNone\u001B[39;00m\n",
      "\u001B[1;31mValueError\u001B[0m: Expected n_neighbors <= n_samples_fit, but n_neighbors = 5, n_samples_fit = 4, n_samples = 4"
     ]
    }
   ],
   "execution_count": 46
  },
  {
   "metadata": {
    "ExecuteTime": {
     "end_time": "2025-06-03T10:58:35.570253Z",
     "start_time": "2025-06-03T10:57:58.432413Z"
    }
   },
   "cell_type": "code",
   "source": [
    "for name, model in models.items():\n",
    "    if name == 'Decision Tree':\n",
    "        x_train = X_resampled\n",
    "        x_test = X_test\n",
    "    else:\n",
    "        x_train = X_train_scaled\n",
    "        x_test = X_test_scaled\n",
    "\n",
    "    model.fit(x_train, y_resampled)\n",
    "    y_predicted_train = model.predict(x_train)\n",
    "    y_predicted_test = model.predict(x_test)\n",
    "\n",
    "    acc_train = accuracy_score(y_resampled, y_predicted_train)\n",
    "    acc_test = accuracy_score(y_test, y_predicted_test)\n",
    "\n",
    "    print('Model: ', name)\n",
    "    print('Training Accuracy: ', acc_train)\n",
    "    print('Testing Accuracy: ', acc_test)\n",
    "    print()\n"
   ],
   "id": "6526c35b6c40a865",
   "outputs": [
    {
     "name": "stdout",
     "output_type": "stream",
     "text": [
      "Model:  SVM\n",
      "Training Accuracy:  0.7732796780684105\n",
      "Testing Accuracy:  0.4479591836734694\n",
      "\n",
      "Model:  Logistic Regression\n",
      "Training Accuracy:  0.5113883299798793\n",
      "Testing Accuracy:  0.3469387755102041\n",
      "\n",
      "Model:  MLP\n",
      "Training Accuracy:  0.8571428571428571\n",
      "Testing Accuracy:  0.5071428571428571\n",
      "\n",
      "Model:  Decision Tree\n",
      "Training Accuracy:  1.0\n",
      "Testing Accuracy:  0.5816326530612245\n",
      "\n"
     ]
    }
   ],
   "execution_count": 40
  },
  {
   "cell_type": "markdown",
   "id": "7ef93ddc4d1e7885",
   "metadata": {},
   "source": []
  },
  {
   "cell_type": "markdown",
   "id": "81ede06ec0d93eb4",
   "metadata": {},
   "source": [
    "### Random OverSampler"
   ]
  },
  {
   "cell_type": "code",
   "id": "ee10e66db1735cd4",
   "metadata": {
    "ExecuteTime": {
     "end_time": "2025-06-03T10:58:35.716422Z",
     "start_time": "2025-06-03T10:58:35.681023Z"
    }
   },
   "source": [
    "from imblearn.over_sampling import RandomOverSampler\n",
    "\n",
    "X_resampled, y_resampled = RandomOverSampler(random_state=0).fit_resample(X_train, y_train)\n",
    "\n",
    "# Scale new X\n",
    "scaler = StandardScaler()\n",
    "scaler.fit(X_train)\n",
    "\n",
    "X_train_scaled = scaler.transform(X_resampled)\n",
    "X_test_scaled = scaler.transform(X_test)\n"
   ],
   "outputs": [],
   "execution_count": 41
  },
  {
   "cell_type": "code",
   "id": "b880d4a6108916c7",
   "metadata": {
    "ExecuteTime": {
     "end_time": "2025-06-03T10:59:16.785517Z",
     "start_time": "2025-06-03T10:58:35.801881Z"
    }
   },
   "source": [
    "for name, model in models.items():\n",
    "    if name == 'Decision Tree':\n",
    "        x_train = X_resampled\n",
    "        x_test = X_test\n",
    "    else:\n",
    "        x_train = X_train_scaled\n",
    "        x_test = X_test_scaled\n",
    "\n",
    "    model.fit(x_train, y_resampled)\n",
    "    y_predicted_train = model.predict(x_train)\n",
    "    y_predicted_test = model.predict(x_test)\n",
    "\n",
    "    acc_train = accuracy_score(y_resampled, y_predicted_train)\n",
    "    acc_test = accuracy_score(y_test, y_predicted_test)\n",
    "\n",
    "    print('Model: ', name)\n",
    "    print('Training Accuracy: ', acc_train)\n",
    "    print('Testing Accuracy: ', acc_test)\n",
    "    print()"
   ],
   "outputs": [
    {
     "name": "stdout",
     "output_type": "stream",
     "text": [
      "Model:  SVM\n",
      "Training Accuracy:  0.7672434607645875\n",
      "Testing Accuracy:  0.45816326530612245\n",
      "\n",
      "Model:  Logistic Regression\n",
      "Training Accuracy:  0.4693762575452716\n",
      "Testing Accuracy:  0.3489795918367347\n",
      "\n",
      "Model:  MLP\n",
      "Training Accuracy:  0.8898189134808853\n",
      "Testing Accuracy:  0.5163265306122449\n",
      "\n",
      "Model:  Decision Tree\n",
      "Training Accuracy:  1.0\n",
      "Testing Accuracy:  0.5969387755102041\n",
      "\n"
     ]
    }
   ],
   "execution_count": 42
  },
  {
   "cell_type": "markdown",
   "id": "5df0482f82227d3b",
   "metadata": {},
   "source": [
    "### Manually Undersampling\n",
    "I think that in this case the manually undersempling is not so effective because we have a very low number of observations that if we try to undersampler all classes we have to have like 4 observations for each variables that means that almost all the observation will be scarted.\n",
    "\n",
    "However I'll try to eliminate"
   ]
  },
  {
   "cell_type": "code",
   "id": "1e48b183270e8cc2",
   "metadata": {
    "ExecuteTime": {
     "end_time": "2025-06-03T10:59:16.896077Z",
     "start_time": "2025-06-03T10:59:16.878592Z"
    }
   },
   "source": [
    "n_samples = 100 # number of selected samples\n",
    "\n",
    "# Select only samples with quality == 5 and do undersampling\n",
    "df_quality_5 = white_wine[white_wine['quality'] == 5]\n",
    "df_quality_sampled = df_quality_5.sample(n=n_samples, random_state=42)\n",
    "\n",
    "# Select other samples\n",
    "df_other_qualities = white_wine[white_wine['quality'] != 5]\n",
    "\n",
    "# Combine both samples\n",
    "df_undersampled = pd.concat([df_other_qualities, df_quality_sampled])\n",
    "df_undersampled = df_undersampled.reset_index(drop=True)\n",
    "\n",
    "# Do the same for samples with quality == 6\n",
    "df_quality_6 = white_wine[white_wine['quality'] == 6]\n",
    "df_quality_sampled = df_quality_6.sample(n=n_samples, random_state=42)\n",
    "df_other_qualities = white_wine[white_wine['quality'] != 6]\n",
    "df_undersampled = pd.concat([df_other_qualities, df_quality_sampled])\n",
    "df_undersampled = df_undersampled.reset_index(drop=True)\n",
    "\n",
    "# Do the same for samples with quality == 7\n",
    "df_quality_7 = white_wine[white_wine['quality'] == 7]\n",
    "df_quality_sampled = df_quality_7.sample(n=n_samples, random_state=42)\n",
    "df_other_qualities = white_wine[white_wine['quality'] != 7]\n",
    "df_undersampled = pd.concat([df_other_qualities, df_quality_sampled])\n",
    "df_undersampled = df_undersampled.reset_index(drop=True)\n",
    "\n",
    "\n",
    "# Extract X and Y from updated data\n",
    "X_undersampled = df_undersampled.drop('quality', axis=1)\n",
    "y_undersampled = df_undersampled['quality']"
   ],
   "outputs": [],
   "execution_count": 43
  },
  {
   "metadata": {},
   "cell_type": "markdown",
   "source": "Scale Data",
   "id": "c6f1dcc39a7cda66"
  },
  {
   "metadata": {
    "ExecuteTime": {
     "end_time": "2025-06-03T10:59:17.011684Z",
     "start_time": "2025-06-03T10:59:16.998046Z"
    }
   },
   "cell_type": "code",
   "source": [
    "scaler = StandardScaler()\n",
    "scaler.fit(X_undersampled)\n",
    "\n",
    "X_train_scaled = scaler.transform(X_undersampled)\n",
    "X_test_scaled = scaler.transform(X_test)"
   ],
   "id": "bc74339ddbc748bd",
   "outputs": [],
   "execution_count": 44
  },
  {
   "metadata": {},
   "cell_type": "markdown",
   "source": "Try executing different models for the new dataset.",
   "id": "a622a27cf7c3fed2"
  },
  {
   "metadata": {
    "ExecuteTime": {
     "end_time": "2025-06-03T10:59:29.224469Z",
     "start_time": "2025-06-03T10:59:17.083928Z"
    }
   },
   "cell_type": "code",
   "source": [
    "for name, model in models.items():\n",
    "    if name == 'Decision Tree':\n",
    "        x_train = X_undersampled\n",
    "        x_test = X_test\n",
    "    else:\n",
    "        x_train = X_train_scaled\n",
    "        x_test = X_test_scaled\n",
    "\n",
    "    model.fit(x_train, y_undersampled)\n",
    "    y_predicted_train = model.predict(x_train)\n",
    "    y_predicted_test = model.predict(x_test)\n",
    "\n",
    "    acc_train = accuracy_score(y_undersampled, y_predicted_train)\n",
    "    acc_test = accuracy_score(y_test, y_predicted_test)\n",
    "\n",
    "    print('Model: ', name)\n",
    "    print('Training Accuracy: ', acc_train)\n",
    "    print('Testing Accuracy: ', acc_test)\n",
    "    print()"
   ],
   "id": "4e57e4633849d803",
   "outputs": [
    {
     "name": "stdout",
     "output_type": "stream",
     "text": [
      "Model:  SVM\n",
      "Training Accuracy:  0.6850412821758135\n",
      "Testing Accuracy:  0.5724489795918367\n",
      "\n",
      "Model:  Logistic Regression\n",
      "Training Accuracy:  0.6257892180670228\n",
      "Testing Accuracy:  0.5306122448979592\n",
      "\n",
      "Model:  MLP\n",
      "Training Accuracy:  0.7790189412336086\n",
      "Testing Accuracy:  0.6785714285714286\n",
      "\n",
      "Model:  Decision Tree\n",
      "Training Accuracy:  1.0\n",
      "Testing Accuracy:  0.860204081632653\n",
      "\n"
     ]
    }
   ],
   "execution_count": 45
  }
 ],
 "metadata": {
  "kernelspec": {
   "display_name": "rossi-manno",
   "language": "python",
   "name": "python3"
  },
  "language_info": {
   "codemirror_mode": {
    "name": "ipython",
    "version": 2
   },
   "file_extension": ".py",
   "mimetype": "text/x-python",
   "name": "python",
   "nbconvert_exporter": "python",
   "pygments_lexer": "ipython2",
   "version": "3.13.3"
  }
 },
 "nbformat": 4,
 "nbformat_minor": 5
}
