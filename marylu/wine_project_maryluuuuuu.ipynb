{
 "cells": [
  {
   "cell_type": "markdown",
   "id": "238f2a850969f23e",
   "metadata": {},
   "source": [
    "### TO DO:\n",
    "- controllare se ci sono metodi che lui non usa (drop, value_counts, classification_report, classification_report_imbalanced)"
   ]
  },
  {
   "cell_type": "code",
   "id": "initial_id",
   "metadata": {
    "collapsed": true,
    "ExecuteTime": {
     "end_time": "2025-06-02T15:35:51.898587Z",
     "start_time": "2025-06-02T15:35:51.879406Z"
    }
   },
   "source": [
    "import pandas as pd\n",
    "import matplotlib.pyplot as plt\n",
    "import numpy as np\n",
    "from sklearn.tree import DecisionTreeClassifier\n",
    "from sklearn.neural_network import MLPClassifier\n",
    "from sklearn.linear_model import LogisticRegression\n",
    "from sklearn.svm import SVC\n",
    "from sklearn.model_selection import train_test_split\n",
    "from sklearn.preprocessing import StandardScaler\n",
    "from sklearn.metrics import classification_report, accuracy_score\n",
    "\n",
    "\n",
    "\n",
    "# Import red wine data\n",
    "red_wine = pd.read_csv(\"../winequality-red.csv\", delimiter=';')\n",
    "\n",
    "# Import white wine data\n",
    "white_wine = pd.read_csv(\"../winequality-white.csv\", delimiter=';')\n",
    "\n",
    "# Visualize array dimensions\n",
    "print(\"Red wine shape:\", red_wine.shape)\n",
    "print(\"White wine shape:\", white_wine.shape)\n"
   ],
   "outputs": [
    {
     "name": "stdout",
     "output_type": "stream",
     "text": [
      "Red wine shape: (1599, 12)\n",
      "White wine shape: (4898, 12)\n"
     ]
    }
   ],
   "execution_count": 22
  },
  {
   "cell_type": "markdown",
   "id": "69f79691978f11d1",
   "metadata": {},
   "source": [
    "There are significantly more data samples for white wines compared to red wines.\n",
    "I decided to analyze the two categories separately at first in order to identify pattern in each group, afterward I'll perform a unified analysis to explore any common trends when combining both datasets."
   ]
  },
  {
   "cell_type": "markdown",
   "id": "82df914363f13d23",
   "metadata": {},
   "source": [
    "### Red Wine Analysis\n",
    "- observations : 1599\n",
    "- features: 12"
   ]
  },
  {
   "cell_type": "code",
   "id": "8523dc84d9c0a0be",
   "metadata": {
    "ExecuteTime": {
     "end_time": "2025-06-02T15:35:51.963311Z",
     "start_time": "2025-06-02T15:35:51.941305Z"
    }
   },
   "source": [
    "red_wine.head(1000)"
   ],
   "outputs": [
    {
     "data": {
      "text/plain": [
       "     fixed acidity  volatile acidity  citric acid  residual sugar  chlorides  \\\n",
       "0              7.4              0.70         0.00            1.90      0.076   \n",
       "1              7.8              0.88         0.00            2.60      0.098   \n",
       "2              7.8              0.76         0.04            2.30      0.092   \n",
       "3             11.2              0.28         0.56            1.90      0.075   \n",
       "4              7.4              0.70         0.00            1.90      0.076   \n",
       "..             ...               ...          ...             ...        ...   \n",
       "995            7.7              0.60         0.06            2.00      0.079   \n",
       "996            5.6              0.66         0.00            2.20      0.087   \n",
       "997            5.6              0.66         0.00            2.20      0.087   \n",
       "998            8.9              0.84         0.34            1.40      0.050   \n",
       "999            6.4              0.69         0.00            1.65      0.055   \n",
       "\n",
       "     free sulfur dioxide  total sulfur dioxide  density    pH  sulphates  \\\n",
       "0                   11.0                  34.0  0.99780  3.51       0.56   \n",
       "1                   25.0                  67.0  0.99680  3.20       0.68   \n",
       "2                   15.0                  54.0  0.99700  3.26       0.65   \n",
       "3                   17.0                  60.0  0.99800  3.16       0.58   \n",
       "4                   11.0                  34.0  0.99780  3.51       0.56   \n",
       "..                   ...                   ...      ...   ...        ...   \n",
       "995                 19.0                  41.0  0.99697  3.39       0.62   \n",
       "996                  3.0                  11.0  0.99378  3.71       0.63   \n",
       "997                  3.0                  11.0  0.99378  3.71       0.63   \n",
       "998                  4.0                  10.0  0.99554  3.12       0.48   \n",
       "999                  7.0                  12.0  0.99162  3.47       0.53   \n",
       "\n",
       "     alcohol  quality  \n",
       "0        9.4        5  \n",
       "1        9.8        5  \n",
       "2        9.8        5  \n",
       "3        9.8        6  \n",
       "4        9.4        5  \n",
       "..       ...      ...  \n",
       "995     10.1        6  \n",
       "996     12.8        7  \n",
       "997     12.8        7  \n",
       "998      9.1        6  \n",
       "999     12.9        6  \n",
       "\n",
       "[1000 rows x 12 columns]"
      ],
      "text/html": [
       "<div>\n",
       "<style scoped>\n",
       "    .dataframe tbody tr th:only-of-type {\n",
       "        vertical-align: middle;\n",
       "    }\n",
       "\n",
       "    .dataframe tbody tr th {\n",
       "        vertical-align: top;\n",
       "    }\n",
       "\n",
       "    .dataframe thead th {\n",
       "        text-align: right;\n",
       "    }\n",
       "</style>\n",
       "<table border=\"1\" class=\"dataframe\">\n",
       "  <thead>\n",
       "    <tr style=\"text-align: right;\">\n",
       "      <th></th>\n",
       "      <th>fixed acidity</th>\n",
       "      <th>volatile acidity</th>\n",
       "      <th>citric acid</th>\n",
       "      <th>residual sugar</th>\n",
       "      <th>chlorides</th>\n",
       "      <th>free sulfur dioxide</th>\n",
       "      <th>total sulfur dioxide</th>\n",
       "      <th>density</th>\n",
       "      <th>pH</th>\n",
       "      <th>sulphates</th>\n",
       "      <th>alcohol</th>\n",
       "      <th>quality</th>\n",
       "    </tr>\n",
       "  </thead>\n",
       "  <tbody>\n",
       "    <tr>\n",
       "      <th>0</th>\n",
       "      <td>7.4</td>\n",
       "      <td>0.70</td>\n",
       "      <td>0.00</td>\n",
       "      <td>1.90</td>\n",
       "      <td>0.076</td>\n",
       "      <td>11.0</td>\n",
       "      <td>34.0</td>\n",
       "      <td>0.99780</td>\n",
       "      <td>3.51</td>\n",
       "      <td>0.56</td>\n",
       "      <td>9.4</td>\n",
       "      <td>5</td>\n",
       "    </tr>\n",
       "    <tr>\n",
       "      <th>1</th>\n",
       "      <td>7.8</td>\n",
       "      <td>0.88</td>\n",
       "      <td>0.00</td>\n",
       "      <td>2.60</td>\n",
       "      <td>0.098</td>\n",
       "      <td>25.0</td>\n",
       "      <td>67.0</td>\n",
       "      <td>0.99680</td>\n",
       "      <td>3.20</td>\n",
       "      <td>0.68</td>\n",
       "      <td>9.8</td>\n",
       "      <td>5</td>\n",
       "    </tr>\n",
       "    <tr>\n",
       "      <th>2</th>\n",
       "      <td>7.8</td>\n",
       "      <td>0.76</td>\n",
       "      <td>0.04</td>\n",
       "      <td>2.30</td>\n",
       "      <td>0.092</td>\n",
       "      <td>15.0</td>\n",
       "      <td>54.0</td>\n",
       "      <td>0.99700</td>\n",
       "      <td>3.26</td>\n",
       "      <td>0.65</td>\n",
       "      <td>9.8</td>\n",
       "      <td>5</td>\n",
       "    </tr>\n",
       "    <tr>\n",
       "      <th>3</th>\n",
       "      <td>11.2</td>\n",
       "      <td>0.28</td>\n",
       "      <td>0.56</td>\n",
       "      <td>1.90</td>\n",
       "      <td>0.075</td>\n",
       "      <td>17.0</td>\n",
       "      <td>60.0</td>\n",
       "      <td>0.99800</td>\n",
       "      <td>3.16</td>\n",
       "      <td>0.58</td>\n",
       "      <td>9.8</td>\n",
       "      <td>6</td>\n",
       "    </tr>\n",
       "    <tr>\n",
       "      <th>4</th>\n",
       "      <td>7.4</td>\n",
       "      <td>0.70</td>\n",
       "      <td>0.00</td>\n",
       "      <td>1.90</td>\n",
       "      <td>0.076</td>\n",
       "      <td>11.0</td>\n",
       "      <td>34.0</td>\n",
       "      <td>0.99780</td>\n",
       "      <td>3.51</td>\n",
       "      <td>0.56</td>\n",
       "      <td>9.4</td>\n",
       "      <td>5</td>\n",
       "    </tr>\n",
       "    <tr>\n",
       "      <th>...</th>\n",
       "      <td>...</td>\n",
       "      <td>...</td>\n",
       "      <td>...</td>\n",
       "      <td>...</td>\n",
       "      <td>...</td>\n",
       "      <td>...</td>\n",
       "      <td>...</td>\n",
       "      <td>...</td>\n",
       "      <td>...</td>\n",
       "      <td>...</td>\n",
       "      <td>...</td>\n",
       "      <td>...</td>\n",
       "    </tr>\n",
       "    <tr>\n",
       "      <th>995</th>\n",
       "      <td>7.7</td>\n",
       "      <td>0.60</td>\n",
       "      <td>0.06</td>\n",
       "      <td>2.00</td>\n",
       "      <td>0.079</td>\n",
       "      <td>19.0</td>\n",
       "      <td>41.0</td>\n",
       "      <td>0.99697</td>\n",
       "      <td>3.39</td>\n",
       "      <td>0.62</td>\n",
       "      <td>10.1</td>\n",
       "      <td>6</td>\n",
       "    </tr>\n",
       "    <tr>\n",
       "      <th>996</th>\n",
       "      <td>5.6</td>\n",
       "      <td>0.66</td>\n",
       "      <td>0.00</td>\n",
       "      <td>2.20</td>\n",
       "      <td>0.087</td>\n",
       "      <td>3.0</td>\n",
       "      <td>11.0</td>\n",
       "      <td>0.99378</td>\n",
       "      <td>3.71</td>\n",
       "      <td>0.63</td>\n",
       "      <td>12.8</td>\n",
       "      <td>7</td>\n",
       "    </tr>\n",
       "    <tr>\n",
       "      <th>997</th>\n",
       "      <td>5.6</td>\n",
       "      <td>0.66</td>\n",
       "      <td>0.00</td>\n",
       "      <td>2.20</td>\n",
       "      <td>0.087</td>\n",
       "      <td>3.0</td>\n",
       "      <td>11.0</td>\n",
       "      <td>0.99378</td>\n",
       "      <td>3.71</td>\n",
       "      <td>0.63</td>\n",
       "      <td>12.8</td>\n",
       "      <td>7</td>\n",
       "    </tr>\n",
       "    <tr>\n",
       "      <th>998</th>\n",
       "      <td>8.9</td>\n",
       "      <td>0.84</td>\n",
       "      <td>0.34</td>\n",
       "      <td>1.40</td>\n",
       "      <td>0.050</td>\n",
       "      <td>4.0</td>\n",
       "      <td>10.0</td>\n",
       "      <td>0.99554</td>\n",
       "      <td>3.12</td>\n",
       "      <td>0.48</td>\n",
       "      <td>9.1</td>\n",
       "      <td>6</td>\n",
       "    </tr>\n",
       "    <tr>\n",
       "      <th>999</th>\n",
       "      <td>6.4</td>\n",
       "      <td>0.69</td>\n",
       "      <td>0.00</td>\n",
       "      <td>1.65</td>\n",
       "      <td>0.055</td>\n",
       "      <td>7.0</td>\n",
       "      <td>12.0</td>\n",
       "      <td>0.99162</td>\n",
       "      <td>3.47</td>\n",
       "      <td>0.53</td>\n",
       "      <td>12.9</td>\n",
       "      <td>6</td>\n",
       "    </tr>\n",
       "  </tbody>\n",
       "</table>\n",
       "<p>1000 rows × 12 columns</p>\n",
       "</div>"
      ]
     },
     "execution_count": 23,
     "metadata": {},
     "output_type": "execute_result"
    }
   ],
   "execution_count": 23
  },
  {
   "cell_type": "code",
   "id": "177c29dde21a62f8",
   "metadata": {
    "ExecuteTime": {
     "end_time": "2025-06-02T15:35:52.238149Z",
     "start_time": "2025-06-02T15:35:52.007763Z"
    }
   },
   "source": [
    "quality_counts = red_wine['quality'].value_counts().sort_index()\n",
    "\n",
    "xpoints=quality_counts.index\n",
    "ypoints=quality_counts.values\n",
    "\n",
    "plt.bar(xpoints, ypoints, color='purple')\n",
    "plt.xlabel(\"Wine Quality\")\n",
    "plt.ylabel(\"Count\")\n",
    "plt.title(\"Distribution of Red Wine Quality\")"
   ],
   "outputs": [
    {
     "data": {
      "text/plain": [
       "Text(0.5, 1.0, 'Distribution of Red Wine Quality')"
      ]
     },
     "execution_count": 24,
     "metadata": {},
     "output_type": "execute_result"
    },
    {
     "data": {
      "text/plain": [
       "<Figure size 640x480 with 1 Axes>"
      ],
      "image/png": "[encoded data removed]"
     },
     "metadata": {},
     "output_type": "display_data"
    }
   ],
   "execution_count": 24
  },
  {
   "cell_type": "markdown",
   "id": "3ef959eebda24e51",
   "metadata": {},
   "source": [
    "We can see from the graph below that the distribution of data is centered in two values: 5 and 6. We have more than 600 observetions while in the other categories we have at most 200 observation.\n",
    "I can conclude that the dataset is imbalanced."
   ]
  },
  {
   "cell_type": "code",
   "id": "68bbfadae73a80bb",
   "metadata": {
    "ExecuteTime": {
     "end_time": "2025-06-02T15:35:52.355127Z",
     "start_time": "2025-06-02T15:35:52.344256Z"
    }
   },
   "source": [
    "x = red_wine.drop('quality', axis=1)\n",
    "y= red_wine['quality']\n",
    "\n",
    "X_train, X_test, y_train, y_test = train_test_split(x, y, train_size=0.8)"
   ],
   "outputs": [],
   "execution_count": 25
  },
  {
   "metadata": {},
   "cell_type": "markdown",
   "source": "I'll scale the set, necessary for some models.",
   "id": "77df883e1c9712e5"
  },
  {
   "metadata": {
    "ExecuteTime": {
     "end_time": "2025-06-02T15:35:52.428100Z",
     "start_time": "2025-06-02T15:35:52.409158Z"
    }
   },
   "cell_type": "code",
   "source": [
    "# Initialize scaler\n",
    "scaler = StandardScaler()\n",
    "\n",
    "# Calculate mean and standard deviation on the training set\n",
    "scaler.fit(X_train)\n",
    "\n",
    "# Apply transformation to both set\n",
    "X_train_scaled = scaler.transform(X_train)\n",
    "X_test_scaled = scaler.transform(X_test)\n",
    "\n",
    "X_train_scaled"
   ],
   "id": "b821e9cb8a086b57",
   "outputs": [
    {
     "data": {
      "text/plain": [
       "array([[ 0.43474052,  0.61702595, -0.20929876, ..., -0.18897979,\n",
       "        -0.39889407, -0.66822296],\n",
       "       [ 0.43474052, -1.72863768, -0.15740013, ...,  0.65979573,\n",
       "         1.2383775 , -0.09505496],\n",
       "       [-0.7657011 ,  0.67287508, -1.29916988, ...,  1.05153828,\n",
       "         0.06889781, -0.85927895],\n",
       "       ...,\n",
       "       [-0.30839001,  0.39362941, -0.67638638, ...,  0.72508615,\n",
       "        -0.34042009,  0.38258503],\n",
       "       [-0.36555389,  2.40419824, -0.36499463, ...,  0.33334361,\n",
       "        -1.27600384,  0.47811303],\n",
       "       [ 0.14892109,  0.86834705, -0.88398088, ...,  0.00689148,\n",
       "        -0.04805016, -0.81151495]], shape=(1279, 11))"
      ]
     },
     "execution_count": 26,
     "metadata": {},
     "output_type": "execute_result"
    }
   ],
   "execution_count": 26
  },
  {
   "metadata": {
    "ExecuteTime": {
     "end_time": "2025-06-02T15:35:52.565086Z",
     "start_time": "2025-06-02T15:35:52.557590Z"
    }
   },
   "cell_type": "code",
   "source": [
    "models = {\n",
    "    'SVM': SVC(),\n",
    "    'Logistic Regression': LogisticRegression(max_iter=1000),\n",
    "    'MLP': MLPClassifier(max_iter=2000),\n",
    "    'Decision Tree': DecisionTreeClassifier()\n",
    "}"
   ],
   "id": "237df40d35d10dda",
   "outputs": [],
   "execution_count": 27
  },
  {
   "metadata": {
    "ExecuteTime": {
     "end_time": "2025-06-02T15:36:01.191095Z",
     "start_time": "2025-06-02T15:35:52.664675Z"
    }
   },
   "cell_type": "code",
   "source": [
    "best_models = {}\n",
    "for name, model in models.items():\n",
    "    if name == 'Decision Tree':\n",
    "        x = X_train\n",
    "        test = X_test\n",
    "    else:\n",
    "        x = X_train_scaled\n",
    "        test = X_test_scaled\n",
    "\n",
    "    model.fit(x, y_train)\n",
    "    y_pred = model.predict(test)\n",
    "\n",
    "    acc = accuracy_score (y_test, y_pred)\n",
    "    print(f\"{name} Accuracy: {acc}\")\n",
    "\n",
    "    if acc >= 0.67:\n",
    "        best_models[name] = model"
   ],
   "id": "aadab6a24f863519",
   "outputs": [
    {
     "name": "stdout",
     "output_type": "stream",
     "text": [
      "SVM Accuracy: 0.653125\n",
      "Logistic Regression Accuracy: 0.603125\n",
      "MLP Accuracy: 0.65625\n",
      "Decision Tree Accuracy: 0.65\n"
     ]
    }
   ],
   "execution_count": 28
  },
  {
   "metadata": {},
   "cell_type": "markdown",
   "source": "These accuracy are a little low, let's try if some oversample can make some higher performance",
   "id": "a5493766e89e675f"
  },
  {
   "cell_type": "code",
   "id": "ee08a20f9a46224d",
   "metadata": {
    "ExecuteTime": {
     "end_time": "2025-06-02T15:36:01.335421Z",
     "start_time": "2025-06-02T15:36:01.312494Z"
    }
   },
   "source": [
    "from sklearn.metrics import classification_report\n",
    "# lui non la usa uso solo io per controllare prima\n",
    "\n",
    "print(classification_report(y_test, y_predicted_test))"
   ],
   "outputs": [
    {
     "name": "stdout",
     "output_type": "stream",
     "text": [
      "              precision    recall  f1-score   support\n",
      "\n",
      "           3       0.50      0.50      0.50         2\n",
      "           4       0.29      0.29      0.29        14\n",
      "           5       0.75      0.75      0.75       131\n",
      "           6       0.68      0.68      0.68       124\n",
      "           7       0.60      0.66      0.63        44\n",
      "           8       0.50      0.20      0.29         5\n",
      "\n",
      "    accuracy                           0.68       320\n",
      "   macro avg       0.55      0.51      0.52       320\n",
      "weighted avg       0.68      0.68      0.68       320\n",
      "\n"
     ]
    }
   ],
   "execution_count": 30
  },
  {
   "cell_type": "markdown",
   "id": "8434608b720080dd",
   "metadata": {},
   "source": [
    "We can notice that the precision is high only for 5 and 6 values of quality.\n",
    "We have to do some oversampling for the categories with lowest precision.\n",
    "\n",
    "### SMOTE\n",
    "\n"
   ]
  },
  {
   "cell_type": "code",
   "id": "4ad331f2d2ec3824",
   "metadata": {
    "ExecuteTime": {
     "end_time": "2025-06-02T15:36:01.536839Z",
     "start_time": "2025-06-02T15:36:01.436989Z"
    }
   },
   "source": [
    "from imblearn.over_sampling import SMOTE  #library taken from slide 17\n",
    "\n",
    "X_resampled, y_resampled = SMOTE().fit_resample(x, y)\n",
    "tree_model = DecisionTreeClassifier(criterion = 'entropy')\n",
    "tree_model.fit(X_resampled, y_resampled)\n",
    "\n",
    "y_predicted_train = tree_model.predict(X_resampled)\n",
    "y_predicted_test = tree_model.predict(X_resampled)\n",
    "training_acc = accuracy_score(y_resampled, y_predicted_train)\n",
    "testing_acc = accuracy_score(y_resampled, y_predicted_test)\n",
    "\n",
    "print(f'training accuracy {training_acc}\\n testing accuracy {testing_acc}')\n"
   ],
   "outputs": [
    {
     "ename": "ValueError",
     "evalue": "Found input variables with inconsistent numbers of samples: [1279, 1599]",
     "output_type": "error",
     "traceback": [
      "\u001B[1;31m---------------------------------------------------------------------------\u001B[0m",
      "\u001B[1;31mValueError\u001B[0m                                Traceback (most recent call last)",
      "Cell \u001B[1;32mIn[31], line 3\u001B[0m\n\u001B[0;32m      1\u001B[0m \u001B[38;5;28;01mfrom\u001B[39;00m \u001B[38;5;21;01mimblearn\u001B[39;00m\u001B[38;5;21;01m.\u001B[39;00m\u001B[38;5;21;01mover_sampling\u001B[39;00m \u001B[38;5;28;01mimport\u001B[39;00m SMOTE  \u001B[38;5;66;03m#library taken from slide 17\u001B[39;00m\n\u001B[1;32m----> 3\u001B[0m X_resampled, y_resampled \u001B[38;5;241m=\u001B[39m SMOTE()\u001B[38;5;241m.\u001B[39mfit_resample(x, y)\n\u001B[0;32m      4\u001B[0m tree_model \u001B[38;5;241m=\u001B[39m DecisionTreeClassifier(criterion \u001B[38;5;241m=\u001B[39m \u001B[38;5;124m'\u001B[39m\u001B[38;5;124mentropy\u001B[39m\u001B[38;5;124m'\u001B[39m)\n\u001B[0;32m      5\u001B[0m tree_model\u001B[38;5;241m.\u001B[39mfit(X_resampled, y_resampled)\n",
      "File \u001B[1;32m~\\miniconda3\\Lib\\site-packages\\imblearn\\base.py:202\u001B[0m, in \u001B[0;36mBaseSampler.fit_resample\u001B[1;34m(self, X, y, **params)\u001B[0m\n\u001B[0;32m    181\u001B[0m \u001B[38;5;28;01mdef\u001B[39;00m \u001B[38;5;21mfit_resample\u001B[39m(\u001B[38;5;28mself\u001B[39m, X, y, \u001B[38;5;241m*\u001B[39m\u001B[38;5;241m*\u001B[39mparams):\n\u001B[0;32m    182\u001B[0m \u001B[38;5;250m    \u001B[39m\u001B[38;5;124;03m\"\"\"Resample the dataset.\u001B[39;00m\n\u001B[0;32m    183\u001B[0m \n\u001B[0;32m    184\u001B[0m \u001B[38;5;124;03m    Parameters\u001B[39;00m\n\u001B[1;32m   (...)\u001B[0m\n\u001B[0;32m    200\u001B[0m \u001B[38;5;124;03m        The corresponding label of `X_resampled`.\u001B[39;00m\n\u001B[0;32m    201\u001B[0m \u001B[38;5;124;03m    \"\"\"\u001B[39;00m\n\u001B[1;32m--> 202\u001B[0m     \u001B[38;5;28;01mreturn\u001B[39;00m \u001B[38;5;28msuper\u001B[39m()\u001B[38;5;241m.\u001B[39mfit_resample(X, y, \u001B[38;5;241m*\u001B[39m\u001B[38;5;241m*\u001B[39mparams)\n",
      "File \u001B[1;32m~\\miniconda3\\Lib\\site-packages\\sklearn\\base.py:1389\u001B[0m, in \u001B[0;36m_fit_context.<locals>.decorator.<locals>.wrapper\u001B[1;34m(estimator, *args, **kwargs)\u001B[0m\n\u001B[0;32m   1382\u001B[0m     estimator\u001B[38;5;241m.\u001B[39m_validate_params()\n\u001B[0;32m   1384\u001B[0m \u001B[38;5;28;01mwith\u001B[39;00m config_context(\n\u001B[0;32m   1385\u001B[0m     skip_parameter_validation\u001B[38;5;241m=\u001B[39m(\n\u001B[0;32m   1386\u001B[0m         prefer_skip_nested_validation \u001B[38;5;129;01mor\u001B[39;00m global_skip_validation\n\u001B[0;32m   1387\u001B[0m     )\n\u001B[0;32m   1388\u001B[0m ):\n\u001B[1;32m-> 1389\u001B[0m     \u001B[38;5;28;01mreturn\u001B[39;00m fit_method(estimator, \u001B[38;5;241m*\u001B[39margs, \u001B[38;5;241m*\u001B[39m\u001B[38;5;241m*\u001B[39mkwargs)\n",
      "File \u001B[1;32m~\\miniconda3\\Lib\\site-packages\\imblearn\\base.py:99\u001B[0m, in \u001B[0;36mSamplerMixin.fit_resample\u001B[1;34m(self, X, y, **params)\u001B[0m\n\u001B[0;32m     97\u001B[0m check_classification_targets(y)\n\u001B[0;32m     98\u001B[0m arrays_transformer \u001B[38;5;241m=\u001B[39m ArraysTransformer(X, y)\n\u001B[1;32m---> 99\u001B[0m X, y, binarize_y \u001B[38;5;241m=\u001B[39m \u001B[38;5;28mself\u001B[39m\u001B[38;5;241m.\u001B[39m_check_X_y(X, y)\n\u001B[0;32m    101\u001B[0m \u001B[38;5;28mself\u001B[39m\u001B[38;5;241m.\u001B[39msampling_strategy_ \u001B[38;5;241m=\u001B[39m check_sampling_strategy(\n\u001B[0;32m    102\u001B[0m     \u001B[38;5;28mself\u001B[39m\u001B[38;5;241m.\u001B[39msampling_strategy, y, \u001B[38;5;28mself\u001B[39m\u001B[38;5;241m.\u001B[39m_sampling_type\n\u001B[0;32m    103\u001B[0m )\n\u001B[0;32m    105\u001B[0m output \u001B[38;5;241m=\u001B[39m \u001B[38;5;28mself\u001B[39m\u001B[38;5;241m.\u001B[39m_fit_resample(X, y, \u001B[38;5;241m*\u001B[39m\u001B[38;5;241m*\u001B[39mparams)\n",
      "File \u001B[1;32m~\\miniconda3\\Lib\\site-packages\\imblearn\\base.py:157\u001B[0m, in \u001B[0;36mBaseSampler._check_X_y\u001B[1;34m(self, X, y, accept_sparse)\u001B[0m\n\u001B[0;32m    155\u001B[0m     accept_sparse \u001B[38;5;241m=\u001B[39m [\u001B[38;5;124m\"\u001B[39m\u001B[38;5;124mcsr\u001B[39m\u001B[38;5;124m\"\u001B[39m, \u001B[38;5;124m\"\u001B[39m\u001B[38;5;124mcsc\u001B[39m\u001B[38;5;124m\"\u001B[39m]\n\u001B[0;32m    156\u001B[0m y, binarize_y \u001B[38;5;241m=\u001B[39m check_target_type(y, indicate_one_vs_all\u001B[38;5;241m=\u001B[39m\u001B[38;5;28;01mTrue\u001B[39;00m)\n\u001B[1;32m--> 157\u001B[0m X, y \u001B[38;5;241m=\u001B[39m validate_data(\u001B[38;5;28mself\u001B[39m, X\u001B[38;5;241m=\u001B[39mX, y\u001B[38;5;241m=\u001B[39my, reset\u001B[38;5;241m=\u001B[39m\u001B[38;5;28;01mTrue\u001B[39;00m, accept_sparse\u001B[38;5;241m=\u001B[39maccept_sparse)\n\u001B[0;32m    158\u001B[0m \u001B[38;5;28;01mreturn\u001B[39;00m X, y, binarize_y\n",
      "File \u001B[1;32m~\\miniconda3\\Lib\\site-packages\\sklearn\\utils\\validation.py:2961\u001B[0m, in \u001B[0;36mvalidate_data\u001B[1;34m(_estimator, X, y, reset, validate_separately, skip_check_array, **check_params)\u001B[0m\n\u001B[0;32m   2959\u001B[0m         y \u001B[38;5;241m=\u001B[39m check_array(y, input_name\u001B[38;5;241m=\u001B[39m\u001B[38;5;124m\"\u001B[39m\u001B[38;5;124my\u001B[39m\u001B[38;5;124m\"\u001B[39m, \u001B[38;5;241m*\u001B[39m\u001B[38;5;241m*\u001B[39mcheck_y_params)\n\u001B[0;32m   2960\u001B[0m     \u001B[38;5;28;01melse\u001B[39;00m:\n\u001B[1;32m-> 2961\u001B[0m         X, y \u001B[38;5;241m=\u001B[39m check_X_y(X, y, \u001B[38;5;241m*\u001B[39m\u001B[38;5;241m*\u001B[39mcheck_params)\n\u001B[0;32m   2962\u001B[0m     out \u001B[38;5;241m=\u001B[39m X, y\n\u001B[0;32m   2964\u001B[0m \u001B[38;5;28;01mif\u001B[39;00m \u001B[38;5;129;01mnot\u001B[39;00m no_val_X \u001B[38;5;129;01mand\u001B[39;00m check_params\u001B[38;5;241m.\u001B[39mget(\u001B[38;5;124m\"\u001B[39m\u001B[38;5;124mensure_2d\u001B[39m\u001B[38;5;124m\"\u001B[39m, \u001B[38;5;28;01mTrue\u001B[39;00m):\n",
      "File \u001B[1;32m~\\miniconda3\\Lib\\site-packages\\sklearn\\utils\\validation.py:1389\u001B[0m, in \u001B[0;36mcheck_X_y\u001B[1;34m(X, y, accept_sparse, accept_large_sparse, dtype, order, copy, force_writeable, force_all_finite, ensure_all_finite, ensure_2d, allow_nd, multi_output, ensure_min_samples, ensure_min_features, y_numeric, estimator)\u001B[0m\n\u001B[0;32m   1370\u001B[0m X \u001B[38;5;241m=\u001B[39m check_array(\n\u001B[0;32m   1371\u001B[0m     X,\n\u001B[0;32m   1372\u001B[0m     accept_sparse\u001B[38;5;241m=\u001B[39maccept_sparse,\n\u001B[1;32m   (...)\u001B[0m\n\u001B[0;32m   1384\u001B[0m     input_name\u001B[38;5;241m=\u001B[39m\u001B[38;5;124m\"\u001B[39m\u001B[38;5;124mX\u001B[39m\u001B[38;5;124m\"\u001B[39m,\n\u001B[0;32m   1385\u001B[0m )\n\u001B[0;32m   1387\u001B[0m y \u001B[38;5;241m=\u001B[39m _check_y(y, multi_output\u001B[38;5;241m=\u001B[39mmulti_output, y_numeric\u001B[38;5;241m=\u001B[39my_numeric, estimator\u001B[38;5;241m=\u001B[39mestimator)\n\u001B[1;32m-> 1389\u001B[0m check_consistent_length(X, y)\n\u001B[0;32m   1391\u001B[0m \u001B[38;5;28;01mreturn\u001B[39;00m X, y\n",
      "File \u001B[1;32m~\\miniconda3\\Lib\\site-packages\\sklearn\\utils\\validation.py:475\u001B[0m, in \u001B[0;36mcheck_consistent_length\u001B[1;34m(*arrays)\u001B[0m\n\u001B[0;32m    473\u001B[0m uniques \u001B[38;5;241m=\u001B[39m np\u001B[38;5;241m.\u001B[39munique(lengths)\n\u001B[0;32m    474\u001B[0m \u001B[38;5;28;01mif\u001B[39;00m \u001B[38;5;28mlen\u001B[39m(uniques) \u001B[38;5;241m>\u001B[39m \u001B[38;5;241m1\u001B[39m:\n\u001B[1;32m--> 475\u001B[0m     \u001B[38;5;28;01mraise\u001B[39;00m \u001B[38;5;167;01mValueError\u001B[39;00m(\n\u001B[0;32m    476\u001B[0m         \u001B[38;5;124m\"\u001B[39m\u001B[38;5;124mFound input variables with inconsistent numbers of samples: \u001B[39m\u001B[38;5;132;01m%r\u001B[39;00m\u001B[38;5;124m\"\u001B[39m\n\u001B[0;32m    477\u001B[0m         \u001B[38;5;241m%\u001B[39m [\u001B[38;5;28mint\u001B[39m(l) \u001B[38;5;28;01mfor\u001B[39;00m l \u001B[38;5;129;01min\u001B[39;00m lengths]\n\u001B[0;32m    478\u001B[0m     )\n",
      "\u001B[1;31mValueError\u001B[0m: Found input variables with inconsistent numbers of samples: [1279, 1599]"
     ]
    }
   ],
   "execution_count": 31
  },
  {
   "cell_type": "code",
   "execution_count": 259,
   "id": "b7fc8f473a64fd88",
   "metadata": {
    "ExecuteTime": {
     "end_time": "2025-06-02T15:36:01.536839200Z",
     "start_time": "2025-05-31T08:38:15.836626Z"
    }
   },
   "outputs": [
    {
     "name": "stdout",
     "output_type": "stream",
     "text": [
      "              precision    recall  f1-score   support\n",
      "\n",
      "           3       0.91      0.24      0.38       681\n",
      "           4       0.74      0.42      0.54       681\n",
      "           5       0.51      0.94      0.66       681\n",
      "           6       0.51      0.91      0.65       681\n",
      "           7       0.61      0.68      0.64       681\n",
      "           8       0.89      0.38      0.53       681\n",
      "\n",
      "    accuracy                           0.60      4086\n",
      "   macro avg       0.69      0.60      0.57      4086\n",
      "weighted avg       0.69      0.60      0.57      4086\n",
      "\n"
     ]
    }
   ],
   "source": [
    "print(classification_report(y_resampled, y_predicted_test_2))\n",
    "\n",
    "#Nel complesso ok accuracy ma valori delle classi piu basse un pò troppo alti ora"
   ]
  },
  {
   "cell_type": "markdown",
   "id": "7ef93ddc4d1e7885",
   "metadata": {},
   "source": []
  },
  {
   "cell_type": "markdown",
   "id": "81ede06ec0d93eb4",
   "metadata": {},
   "source": [
    "### Random OverSampler"
   ]
  },
  {
   "cell_type": "code",
   "execution_count": 260,
   "id": "ee10e66db1735cd4",
   "metadata": {
    "ExecuteTime": {
     "end_time": "2025-06-02T15:36:01.552476300Z",
     "start_time": "2025-05-31T08:38:15.927812Z"
    }
   },
   "outputs": [
    {
     "name": "stdout",
     "output_type": "stream",
     "text": [
      "training accuracy 1.0\n",
      " testing accuracy 1.0\n"
     ]
    }
   ],
   "source": [
    "from imblearn.over_sampling import RandomOverSampler\n",
    "\n",
    "X_resampled, y_resampled = RandomOverSampler(random_state=0).fit_resample(x, y)\n",
    "\n",
    "tree_model = DecisionTreeClassifier(criterion = 'entropy')\n",
    "tree_model.fit(X_resampled, y_resampled)\n",
    "\n",
    "y_predicted_train = tree_model.predict(X_resampled)\n",
    "y_predicted_test = tree_model.predict(X_resampled)\n",
    "training_acc = accuracy_score(y_resampled, y_predicted_train)\n",
    "testing_acc = accuracy_score(y_resampled, y_predicted_test)\n",
    "\n",
    "print(f'training accuracy {training_acc}\\n testing accuracy {testing_acc}')\n"
   ]
  },
  {
   "cell_type": "code",
   "execution_count": 261,
   "id": "b880d4a6108916c7",
   "metadata": {
    "ExecuteTime": {
     "end_time": "2025-06-02T15:36:01.552576400Z",
     "start_time": "2025-05-31T08:38:16.077927Z"
    }
   },
   "outputs": [
    {
     "name": "stdout",
     "output_type": "stream",
     "text": [
      "              precision    recall  f1-score   support\n",
      "\n",
      "           3       1.00      1.00      1.00       681\n",
      "           4       1.00      1.00      1.00       681\n",
      "           5       1.00      1.00      1.00       681\n",
      "           6       1.00      1.00      1.00       681\n",
      "           7       1.00      1.00      1.00       681\n",
      "           8       1.00      1.00      1.00       681\n",
      "\n",
      "    accuracy                           1.00      4086\n",
      "   macro avg       1.00      1.00      1.00      4086\n",
      "weighted avg       1.00      1.00      1.00      4086\n",
      "\n"
     ]
    }
   ],
   "source": [
    "print(classification_report(y_resampled, y_predicted_test))\n",
    "\n",
    "### mmmmh overfitting? ù.ù"
   ]
  },
  {
   "cell_type": "markdown",
   "id": "5df0482f82227d3b",
   "metadata": {},
   "source": [
    "### Manually Undersampling\n"
   ]
  },
  {
   "cell_type": "code",
   "execution_count": 262,
   "id": "1e48b183270e8cc2",
   "metadata": {
    "ExecuteTime": {
     "end_time": "2025-06-02T15:36:01.552576400Z",
     "start_time": "2025-05-31T08:38:16.174882Z"
    }
   },
   "outputs": [
    {
     "name": "stdout",
     "output_type": "stream",
     "text": [
      "(200, 12)\n",
      "(918, 12)\n",
      "(1118, 12)\n",
      "      fixed acidity  volatile acidity  citric acid  residual sugar  chlorides  \\\n",
      "0              11.2             0.280         0.56             1.9      0.075   \n",
      "1               7.3             0.650         0.00             1.2      0.065   \n",
      "2               7.8             0.580         0.02             2.0      0.073   \n",
      "3               8.5             0.280         0.56             1.8      0.092   \n",
      "4               7.4             0.590         0.08             4.4      0.086   \n",
      "...             ...               ...          ...             ...        ...   \n",
      "1113            8.9             0.620         0.18             3.8      0.176   \n",
      "1114            8.7             0.820         0.02             1.2      0.070   \n",
      "1115            9.7             0.660         0.34             2.6      0.094   \n",
      "1116            8.5             0.210         0.52             1.9      0.090   \n",
      "1117           15.6             0.645         0.49             4.2      0.095   \n",
      "\n",
      "      free sulfur dioxide  total sulfur dioxide  density    pH  sulphates  \\\n",
      "0                    17.0                  60.0  0.99800  3.16       0.58   \n",
      "1                    15.0                  21.0  0.99460  3.39       0.47   \n",
      "2                     9.0                  18.0  0.99680  3.36       0.57   \n",
      "3                    35.0                 103.0  0.99690  3.30       0.75   \n",
      "4                     6.0                  29.0  0.99740  3.38       0.50   \n",
      "...                   ...                   ...      ...   ...        ...   \n",
      "1113                 52.0                 145.0  0.99860  3.16       0.88   \n",
      "1114                 36.0                  48.0  0.99520  3.20       0.58   \n",
      "1115                 12.0                  88.0  0.99796  3.26       0.66   \n",
      "1116                  9.0                  23.0  0.99648  3.36       0.67   \n",
      "1117                 10.0                  23.0  1.00315  2.92       0.74   \n",
      "\n",
      "      alcohol  quality  \n",
      "0         9.8        6  \n",
      "1        10.0        7  \n",
      "2         9.5        7  \n",
      "3        10.5        7  \n",
      "4         9.0        4  \n",
      "...       ...      ...  \n",
      "1113      9.2        5  \n",
      "1114      9.8        5  \n",
      "1115     10.1        5  \n",
      "1116     10.4        5  \n",
      "1117     11.1        5  \n",
      "\n",
      "[1118 rows x 12 columns]\n"
     ]
    }
   ],
   "source": [
    "df_quality_5 = red_wine[red_wine['quality'] == 5]\n",
    "\n",
    "df_quality_sampled= df_quality_5.sample(n=200, random_state=42)\n",
    "#print(df_quality_sampled.shape)\n",
    "\n",
    "df_other_qualities = red_wine[red_wine['quality'] != 5]\n",
    "#print(df_other_qualities.shape)\n",
    "\n",
    "df_undersampled = pd.concat([df_other_qualities, df_quality_sampled])\n",
    "#print(df_undersampled.shape)\n",
    "\n",
    "df_undersampled = df_undersampled.reset_index(drop=True)\n",
    "#print(df_undersampled)\n",
    "\n",
    "df_quality_5 = red_wine[red_wine['quality'] == 5]\n",
    "\n",
    "\n"
   ]
  },
  {
   "cell_type": "code",
   "execution_count": 263,
   "id": "5a00b6ad9b257326",
   "metadata": {
    "ExecuteTime": {
     "end_time": "2025-06-02T15:36:01.552576400Z",
     "start_time": "2025-05-31T08:38:16.284352Z"
    }
   },
   "outputs": [
    {
     "ename": "ValueError",
     "evalue": "Cannot take a larger sample than population when 'replace=False'",
     "output_type": "error",
     "traceback": [
      "\u001B[1;31m---------------------------------------------------------------------------\u001B[0m",
      "\u001B[1;31mValueError\u001B[0m                                Traceback (most recent call last)",
      "Cell \u001B[1;32mIn[263], line 22\u001B[0m\n\u001B[0;32m     20\u001B[0m \u001B[38;5;66;03m# and value 7\u001B[39;00m\n\u001B[0;32m     21\u001B[0m df_quality_7 \u001B[38;5;241m=\u001B[39m red_wine[red_wine[\u001B[38;5;124m'\u001B[39m\u001B[38;5;124mquality\u001B[39m\u001B[38;5;124m'\u001B[39m] \u001B[38;5;241m==\u001B[39m \u001B[38;5;241m7\u001B[39m]\n\u001B[1;32m---> 22\u001B[0m df_quality_sampled\u001B[38;5;241m=\u001B[39m df_quality_7\u001B[38;5;241m.\u001B[39msample(n\u001B[38;5;241m=\u001B[39m\u001B[38;5;241m200\u001B[39m, random_state\u001B[38;5;241m=\u001B[39m\u001B[38;5;241m42\u001B[39m)\n\u001B[0;32m     23\u001B[0m df_other_qualities \u001B[38;5;241m=\u001B[39m df_undersampled[df_undersampled[\u001B[38;5;124m'\u001B[39m\u001B[38;5;124mquality\u001B[39m\u001B[38;5;124m'\u001B[39m] \u001B[38;5;241m!=\u001B[39m \u001B[38;5;241m7\u001B[39m]\n\u001B[0;32m     24\u001B[0m df_undersampled \u001B[38;5;241m=\u001B[39m pd\u001B[38;5;241m.\u001B[39mconcat([df_other_qualities, df_quality_sampled])\n",
      "File \u001B[1;32m~\\miniconda3\\Lib\\site-packages\\pandas\\core\\generic.py:6118\u001B[0m, in \u001B[0;36mNDFrame.sample\u001B[1;34m(self, n, frac, replace, weights, random_state, axis, ignore_index)\u001B[0m\n\u001B[0;32m   6115\u001B[0m \u001B[38;5;28;01mif\u001B[39;00m weights \u001B[38;5;129;01mis\u001B[39;00m \u001B[38;5;129;01mnot\u001B[39;00m \u001B[38;5;28;01mNone\u001B[39;00m:\n\u001B[0;32m   6116\u001B[0m     weights \u001B[38;5;241m=\u001B[39m sample\u001B[38;5;241m.\u001B[39mpreprocess_weights(\u001B[38;5;28mself\u001B[39m, weights, axis)\n\u001B[1;32m-> 6118\u001B[0m sampled_indices \u001B[38;5;241m=\u001B[39m sample\u001B[38;5;241m.\u001B[39msample(obj_len, size, replace, weights, rs)\n\u001B[0;32m   6119\u001B[0m result \u001B[38;5;241m=\u001B[39m \u001B[38;5;28mself\u001B[39m\u001B[38;5;241m.\u001B[39mtake(sampled_indices, axis\u001B[38;5;241m=\u001B[39maxis)\n\u001B[0;32m   6121\u001B[0m \u001B[38;5;28;01mif\u001B[39;00m ignore_index:\n",
      "File \u001B[1;32m~\\miniconda3\\Lib\\site-packages\\pandas\\core\\sample.py:152\u001B[0m, in \u001B[0;36msample\u001B[1;34m(obj_len, size, replace, weights, random_state)\u001B[0m\n\u001B[0;32m    149\u001B[0m     \u001B[38;5;28;01melse\u001B[39;00m:\n\u001B[0;32m    150\u001B[0m         \u001B[38;5;28;01mraise\u001B[39;00m \u001B[38;5;167;01mValueError\u001B[39;00m(\u001B[38;5;124m\"\u001B[39m\u001B[38;5;124mInvalid weights: weights sum to zero\u001B[39m\u001B[38;5;124m\"\u001B[39m)\n\u001B[1;32m--> 152\u001B[0m \u001B[38;5;28;01mreturn\u001B[39;00m random_state\u001B[38;5;241m.\u001B[39mchoice(obj_len, size\u001B[38;5;241m=\u001B[39msize, replace\u001B[38;5;241m=\u001B[39mreplace, p\u001B[38;5;241m=\u001B[39mweights)\u001B[38;5;241m.\u001B[39mastype(\n\u001B[0;32m    153\u001B[0m     np\u001B[38;5;241m.\u001B[39mintp, copy\u001B[38;5;241m=\u001B[39m\u001B[38;5;28;01mFalse\u001B[39;00m\n\u001B[0;32m    154\u001B[0m )\n",
      "File \u001B[1;32mnumpy\\\\random\\\\mtrand.pyx:1020\u001B[0m, in \u001B[0;36mnumpy.random.mtrand.RandomState.choice\u001B[1;34m()\u001B[0m\n",
      "\u001B[1;31mValueError\u001B[0m: Cannot take a larger sample than population when 'replace=False'"
     ]
    }
   ],
   "source": [
    "# isolate data with value 5\n",
    "df_quality_5 = red_wine[red_wine['quality'] == 5]\n",
    "\n",
    "# take random sample of 200 rows\n",
    "df_quality_sampled= df_quality_5.sample(n=200, random_state=42)\n",
    "\n",
    "df_other_qualities = red_wine[red_wine['quality'] != 5]\n",
    "df_undersampled = pd.concat([df_other_qualities, df_quality_sampled])\n",
    "\n",
    "#reset index\n",
    "df_undersampled = df_undersampled.reset_index(drop=True)\n",
    "\n",
    "# same for the value 6\n",
    "df_quality_6 = red_wine[red_wine['quality'] == 6]\n",
    "df_quality_sampled= df_quality_6.sample(n=200, random_state=42)\n",
    "df_other_qualities = df_undersampled[df_undersampled['quality'] != 6]\n",
    "df_undersampled = pd.concat([df_other_qualities, df_quality_sampled])\n",
    "df_undersampled = df_undersampled.reset_index(drop=True)\n",
    "\n",
    "# and value 7\n",
    "df_quality_7 = red_wine[red_wine['quality'] == 7]\n",
    "df_quality_sampled= df_quality_7.sample(n=200, random_state=42)\n",
    "df_other_qualities = df_undersampled[df_undersampled['quality'] != 7]\n",
    "df_undersampled = pd.concat([df_other_qualities, df_quality_sampled])\n",
    "df_undersampled = df_undersampled.reset_index(drop=True)\n",
    "\n",
    "\n",
    "\n",
    "print(df_undersampled.shape)\n",
    "print(df_undersampled.head())\n"
   ]
  }
 ],
 "metadata": {
  "kernelspec": {
   "display_name": "rossi-manno",
   "language": "python",
   "name": "python3"
  },
  "language_info": {
   "codemirror_mode": {
    "name": "ipython",
    "version": 2
   },
   "file_extension": ".py",
   "mimetype": "text/x-python",
   "name": "python",
   "nbconvert_exporter": "python",
   "pygments_lexer": "ipython2",
   "version": "3.13.3"
  }
 },
 "nbformat": 4,
 "nbformat_minor": 5
}
