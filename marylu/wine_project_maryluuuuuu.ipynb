{
 "cells": [
  {
   "cell_type": "markdown",
   "id": "238f2a850969f23e",
   "metadata": {},
   "source": [
    "### TO DO:\n",
    "- controllare se ci sono metodi che lui non usa (drop, value_counts, classification_report, classification_report_imbalanced)"
   ]
  },
  {
   "cell_type": "code",
   "execution_count": 251,
   "id": "initial_id",
   "metadata": {
    "ExecuteTime": {
     "end_time": "2025-05-31T08:38:14.761991Z",
     "start_time": "2025-05-31T08:38:14.740829Z"
    },
    "collapsed": true
   },
   "outputs": [
    {
     "name": "stdout",
     "output_type": "stream",
     "text": [
      "Red wine shape: (1599, 12)\n",
      "White wine shape: (4898, 12)\n"
     ]
    }
   ],
   "source": [
    "import pandas as pd\n",
    "import matplotlib.pyplot as plt\n",
    "import numpy as np\n",
    "\n",
    "# Import red wine data\n",
    "red_wine = pd.read_csv(\"wine+quality/winequality-red.csv\", delimiter=';')\n",
    "\n",
    "# Import white wine data\n",
    "white_wine = pd.read_csv(\"wine+quality/winequality-white.csv\", delimiter=';')\n",
    "\n",
    "# Visualize array dimensions\n",
    "print(\"Red wine shape:\", red_wine.shape)\n",
    "print(\"White wine shape:\", white_wine.shape)\n"
   ]
  },
  {
   "cell_type": "markdown",
   "id": "69f79691978f11d1",
   "metadata": {},
   "source": [
    "There are significantly more data samples for white wines compared to red wines.\n",
    "I decided to analyze the two categories separately at first in order to identify pattern in each group, afterward I'll perform a unified analysis to explore any common trends when combining both datasets."
   ]
  },
  {
   "cell_type": "markdown",
   "id": "82df914363f13d23",
   "metadata": {},
   "source": [
    "### Red Wine Analysis\n",
    "- observations : 1599\n",
    "- features: 12"
   ]
  },
  {
   "cell_type": "code",
   "execution_count": 252,
   "id": "8523dc84d9c0a0be",
   "metadata": {
    "ExecuteTime": {
     "end_time": "2025-05-31T08:38:14.875759Z",
     "start_time": "2025-05-31T08:38:14.834747Z"
    }
   },
   "outputs": [
    {
     "data": {
      "text/html": [
       "<div>\n",
       "<style scoped>\n",
       "    .dataframe tbody tr th:only-of-type {\n",
       "        vertical-align: middle;\n",
       "    }\n",
       "\n",
       "    .dataframe tbody tr th {\n",
       "        vertical-align: top;\n",
       "    }\n",
       "\n",
       "    .dataframe thead th {\n",
       "        text-align: right;\n",
       "    }\n",
       "</style>\n",
       "<table border=\"1\" class=\"dataframe\">\n",
       "  <thead>\n",
       "    <tr style=\"text-align: right;\">\n",
       "      <th></th>\n",
       "      <th>fixed acidity</th>\n",
       "      <th>volatile acidity</th>\n",
       "      <th>citric acid</th>\n",
       "      <th>residual sugar</th>\n",
       "      <th>chlorides</th>\n",
       "      <th>free sulfur dioxide</th>\n",
       "      <th>total sulfur dioxide</th>\n",
       "      <th>density</th>\n",
       "      <th>pH</th>\n",
       "      <th>sulphates</th>\n",
       "      <th>alcohol</th>\n",
       "      <th>quality</th>\n",
       "    </tr>\n",
       "  </thead>\n",
       "  <tbody>\n",
       "    <tr>\n",
       "      <th>0</th>\n",
       "      <td>7.4</td>\n",
       "      <td>0.70</td>\n",
       "      <td>0.00</td>\n",
       "      <td>1.90</td>\n",
       "      <td>0.076</td>\n",
       "      <td>11.0</td>\n",
       "      <td>34.0</td>\n",
       "      <td>0.99780</td>\n",
       "      <td>3.51</td>\n",
       "      <td>0.56</td>\n",
       "      <td>9.4</td>\n",
       "      <td>5</td>\n",
       "    </tr>\n",
       "    <tr>\n",
       "      <th>1</th>\n",
       "      <td>7.8</td>\n",
       "      <td>0.88</td>\n",
       "      <td>0.00</td>\n",
       "      <td>2.60</td>\n",
       "      <td>0.098</td>\n",
       "      <td>25.0</td>\n",
       "      <td>67.0</td>\n",
       "      <td>0.99680</td>\n",
       "      <td>3.20</td>\n",
       "      <td>0.68</td>\n",
       "      <td>9.8</td>\n",
       "      <td>5</td>\n",
       "    </tr>\n",
       "    <tr>\n",
       "      <th>2</th>\n",
       "      <td>7.8</td>\n",
       "      <td>0.76</td>\n",
       "      <td>0.04</td>\n",
       "      <td>2.30</td>\n",
       "      <td>0.092</td>\n",
       "      <td>15.0</td>\n",
       "      <td>54.0</td>\n",
       "      <td>0.99700</td>\n",
       "      <td>3.26</td>\n",
       "      <td>0.65</td>\n",
       "      <td>9.8</td>\n",
       "      <td>5</td>\n",
       "    </tr>\n",
       "    <tr>\n",
       "      <th>3</th>\n",
       "      <td>11.2</td>\n",
       "      <td>0.28</td>\n",
       "      <td>0.56</td>\n",
       "      <td>1.90</td>\n",
       "      <td>0.075</td>\n",
       "      <td>17.0</td>\n",
       "      <td>60.0</td>\n",
       "      <td>0.99800</td>\n",
       "      <td>3.16</td>\n",
       "      <td>0.58</td>\n",
       "      <td>9.8</td>\n",
       "      <td>6</td>\n",
       "    </tr>\n",
       "    <tr>\n",
       "      <th>4</th>\n",
       "      <td>7.4</td>\n",
       "      <td>0.70</td>\n",
       "      <td>0.00</td>\n",
       "      <td>1.90</td>\n",
       "      <td>0.076</td>\n",
       "      <td>11.0</td>\n",
       "      <td>34.0</td>\n",
       "      <td>0.99780</td>\n",
       "      <td>3.51</td>\n",
       "      <td>0.56</td>\n",
       "      <td>9.4</td>\n",
       "      <td>5</td>\n",
       "    </tr>\n",
       "    <tr>\n",
       "      <th>...</th>\n",
       "      <td>...</td>\n",
       "      <td>...</td>\n",
       "      <td>...</td>\n",
       "      <td>...</td>\n",
       "      <td>...</td>\n",
       "      <td>...</td>\n",
       "      <td>...</td>\n",
       "      <td>...</td>\n",
       "      <td>...</td>\n",
       "      <td>...</td>\n",
       "      <td>...</td>\n",
       "      <td>...</td>\n",
       "    </tr>\n",
       "    <tr>\n",
       "      <th>995</th>\n",
       "      <td>7.7</td>\n",
       "      <td>0.60</td>\n",
       "      <td>0.06</td>\n",
       "      <td>2.00</td>\n",
       "      <td>0.079</td>\n",
       "      <td>19.0</td>\n",
       "      <td>41.0</td>\n",
       "      <td>0.99697</td>\n",
       "      <td>3.39</td>\n",
       "      <td>0.62</td>\n",
       "      <td>10.1</td>\n",
       "      <td>6</td>\n",
       "    </tr>\n",
       "    <tr>\n",
       "      <th>996</th>\n",
       "      <td>5.6</td>\n",
       "      <td>0.66</td>\n",
       "      <td>0.00</td>\n",
       "      <td>2.20</td>\n",
       "      <td>0.087</td>\n",
       "      <td>3.0</td>\n",
       "      <td>11.0</td>\n",
       "      <td>0.99378</td>\n",
       "      <td>3.71</td>\n",
       "      <td>0.63</td>\n",
       "      <td>12.8</td>\n",
       "      <td>7</td>\n",
       "    </tr>\n",
       "    <tr>\n",
       "      <th>997</th>\n",
       "      <td>5.6</td>\n",
       "      <td>0.66</td>\n",
       "      <td>0.00</td>\n",
       "      <td>2.20</td>\n",
       "      <td>0.087</td>\n",
       "      <td>3.0</td>\n",
       "      <td>11.0</td>\n",
       "      <td>0.99378</td>\n",
       "      <td>3.71</td>\n",
       "      <td>0.63</td>\n",
       "      <td>12.8</td>\n",
       "      <td>7</td>\n",
       "    </tr>\n",
       "    <tr>\n",
       "      <th>998</th>\n",
       "      <td>8.9</td>\n",
       "      <td>0.84</td>\n",
       "      <td>0.34</td>\n",
       "      <td>1.40</td>\n",
       "      <td>0.050</td>\n",
       "      <td>4.0</td>\n",
       "      <td>10.0</td>\n",
       "      <td>0.99554</td>\n",
       "      <td>3.12</td>\n",
       "      <td>0.48</td>\n",
       "      <td>9.1</td>\n",
       "      <td>6</td>\n",
       "    </tr>\n",
       "    <tr>\n",
       "      <th>999</th>\n",
       "      <td>6.4</td>\n",
       "      <td>0.69</td>\n",
       "      <td>0.00</td>\n",
       "      <td>1.65</td>\n",
       "      <td>0.055</td>\n",
       "      <td>7.0</td>\n",
       "      <td>12.0</td>\n",
       "      <td>0.99162</td>\n",
       "      <td>3.47</td>\n",
       "      <td>0.53</td>\n",
       "      <td>12.9</td>\n",
       "      <td>6</td>\n",
       "    </tr>\n",
       "  </tbody>\n",
       "</table>\n",
       "<p>1000 rows × 12 columns</p>\n",
       "</div>"
      ],
      "text/plain": [
       "     fixed acidity  volatile acidity  citric acid  residual sugar  chlorides  \\\n",
       "0              7.4              0.70         0.00            1.90      0.076   \n",
       "1              7.8              0.88         0.00            2.60      0.098   \n",
       "2              7.8              0.76         0.04            2.30      0.092   \n",
       "3             11.2              0.28         0.56            1.90      0.075   \n",
       "4              7.4              0.70         0.00            1.90      0.076   \n",
       "..             ...               ...          ...             ...        ...   \n",
       "995            7.7              0.60         0.06            2.00      0.079   \n",
       "996            5.6              0.66         0.00            2.20      0.087   \n",
       "997            5.6              0.66         0.00            2.20      0.087   \n",
       "998            8.9              0.84         0.34            1.40      0.050   \n",
       "999            6.4              0.69         0.00            1.65      0.055   \n",
       "\n",
       "     free sulfur dioxide  total sulfur dioxide  density    pH  sulphates  \\\n",
       "0                   11.0                  34.0  0.99780  3.51       0.56   \n",
       "1                   25.0                  67.0  0.99680  3.20       0.68   \n",
       "2                   15.0                  54.0  0.99700  3.26       0.65   \n",
       "3                   17.0                  60.0  0.99800  3.16       0.58   \n",
       "4                   11.0                  34.0  0.99780  3.51       0.56   \n",
       "..                   ...                   ...      ...   ...        ...   \n",
       "995                 19.0                  41.0  0.99697  3.39       0.62   \n",
       "996                  3.0                  11.0  0.99378  3.71       0.63   \n",
       "997                  3.0                  11.0  0.99378  3.71       0.63   \n",
       "998                  4.0                  10.0  0.99554  3.12       0.48   \n",
       "999                  7.0                  12.0  0.99162  3.47       0.53   \n",
       "\n",
       "     alcohol  quality  \n",
       "0        9.4        5  \n",
       "1        9.8        5  \n",
       "2        9.8        5  \n",
       "3        9.8        6  \n",
       "4        9.4        5  \n",
       "..       ...      ...  \n",
       "995     10.1        6  \n",
       "996     12.8        7  \n",
       "997     12.8        7  \n",
       "998      9.1        6  \n",
       "999     12.9        6  \n",
       "\n",
       "[1000 rows x 12 columns]"
      ]
     },
     "execution_count": 252,
     "metadata": {},
     "output_type": "execute_result"
    }
   ],
   "source": [
    "red_wine.head(1000)"
   ]
  },
  {
   "cell_type": "code",
   "execution_count": 253,
   "id": "177c29dde21a62f8",
   "metadata": {
    "ExecuteTime": {
     "end_time": "2025-05-31T08:38:15.221268Z",
     "start_time": "2025-05-31T08:38:15.002767Z"
    }
   },
   "outputs": [
    {
     "data": {
      "text/plain": [
       "Text(0.5, 1.0, 'Distribution of Red Wine Quality')"
      ]
     },
     "execution_count": 253,
     "metadata": {},
     "output_type": "execute_result"
    },
    {
     "data": {
      "image/png": "[encoded data removed]",
      "text/plain": [
       "<Figure size 640x480 with 1 Axes>"
      ]
     },
     "metadata": {},
     "output_type": "display_data"
    }
   ],
   "source": [
    "quality_counts = red_wine['quality'].value_counts().sort_index()\n",
    "\n",
    "xpoints=quality_counts.index\n",
    "ypoints=quality_counts.values\n",
    "\n",
    "plt.bar(xpoints, ypoints, color='purple')\n",
    "plt.xlabel(\"Wine Quality\")\n",
    "plt.ylabel(\"Count\")\n",
    "plt.title(\"Distribution of Red Wine Quality\")"
   ]
  },
  {
   "cell_type": "markdown",
   "id": "3ef959eebda24e51",
   "metadata": {},
   "source": [
    "We can see from the graph below that the distribution of data is centered in two values: 5 and 6. We have more than 600 observetions while in the other categories we have at most 200 observation.\n",
    "I can conclude that the dataset is imbalanced.\n",
    "\n",
    "I'll train a Decision Tree Classifier and check the ruslts"
   ]
  },
  {
   "cell_type": "code",
   "execution_count": 254,
   "id": "68bbfadae73a80bb",
   "metadata": {
    "ExecuteTime": {
     "end_time": "2025-05-31T08:38:15.302218Z",
     "start_time": "2025-05-31T08:38:15.289823Z"
    }
   },
   "outputs": [],
   "source": [
    "x = red_wine.drop('quality', axis=1)\n",
    "y= red_wine['quality']"
   ]
  },
  {
   "cell_type": "code",
   "execution_count": 255,
   "id": "37fc2c09a97a5f60",
   "metadata": {
    "ExecuteTime": {
     "end_time": "2025-05-31T08:38:15.487932Z",
     "start_time": "2025-05-31T08:38:15.452382Z"
    }
   },
   "outputs": [
    {
     "name": "stdout",
     "output_type": "stream",
     "text": [
      "(1279, 11)\n",
      "training accuracy 1.0\n",
      " testing accuracy 0.6\n"
     ]
    }
   ],
   "source": [
    "from sklearn.model_selection import train_test_split\n",
    "from sklearn.metrics import accuracy_score\n",
    "from sklearn.tree import DecisionTreeClassifier\n",
    "\n",
    "X_train, X_test, y_train, y_test = train_test_split(x, y, train_size=0.8)\n",
    "print(X_train.shape)\n",
    "tree_model = DecisionTreeClassifier(criterion = 'entropy')\n",
    "tree_model.fit(X_train, y_train)\n",
    "y_predicted_train = tree_model.predict(X_train)\n",
    "y_predicted_test = tree_model.predict(X_test)\n",
    "training_acc = accuracy_score(y_train, y_predicted_train)\n",
    "testing_acc = accuracy_score(y_test, y_predicted_test)\n",
    "print(f'training accuracy {training_acc}\\n testing accuracy {testing_acc}')"
   ]
  },
  {
   "cell_type": "code",
   "execution_count": 256,
   "id": "4b3680e1868e8360",
   "metadata": {
    "ExecuteTime": {
     "end_time": "2025-05-31T08:38:15.505036Z",
     "start_time": "2025-05-31T08:38:15.494510Z"
    }
   },
   "outputs": [
    {
     "name": "stderr",
     "output_type": "stream",
     "text": [
      "C:\\Users\\marylu\\miniconda3\\Lib\\site-packages\\sklearn\\utils\\validation.py:2739: UserWarning: X does not have valid feature names, but DecisionTreeClassifier was fitted with feature names\n",
      "  warnings.warn(\n",
      "C:\\Users\\marylu\\miniconda3\\Lib\\site-packages\\sklearn\\utils\\validation.py:2739: UserWarning: X does not have valid feature names, but DecisionTreeClassifier was fitted with feature names\n",
      "  warnings.warn(\n"
     ]
    },
    {
     "data": {
      "text/plain": [
       "np.int64(5)"
      ]
     },
     "execution_count": 256,
     "metadata": {},
     "output_type": "execute_result"
    }
   ],
   "source": [
    "provaa = np.array([7.4,0.70,0.0,1.9,0.076,11.0,34.0,0.9978,3.51,0.56,9.4])\n",
    "result=tree_model.predict(provaa.reshape(1,-1))\n",
    "result[0] #corretto per input uguale al dataset con qualità 5\n",
    "\n",
    "provaaa = np.array([0.56,2.8,0.080,6.0,17.0,0.9964,3.15,0.92,11.7])\n",
    "result=tree_model.predict(provaa.reshape(1,-1))\n",
    "result[0] #sbagliato per input uguale al dataset con qualità 8\n"
   ]
  },
  {
   "cell_type": "code",
   "execution_count": 257,
   "id": "ee08a20f9a46224d",
   "metadata": {
    "ExecuteTime": {
     "end_time": "2025-05-31T08:38:15.598649Z",
     "start_time": "2025-05-31T08:38:15.584655Z"
    }
   },
   "outputs": [
    {
     "name": "stdout",
     "output_type": "stream",
     "text": [
      "              precision    recall  f1-score   support\n",
      "\n",
      "           3       0.00      0.00      0.00         3\n",
      "           4       0.12      0.11      0.12         9\n",
      "           5       0.69      0.70      0.69       136\n",
      "           6       0.62      0.62      0.62       128\n",
      "           7       0.47      0.41      0.44        41\n",
      "           8       0.00      0.00      0.00         3\n",
      "\n",
      "    accuracy                           0.60       320\n",
      "   macro avg       0.32      0.31      0.31       320\n",
      "weighted avg       0.60      0.60      0.60       320\n",
      "\n"
     ]
    }
   ],
   "source": [
    "from sklearn.metrics import classification_report\n",
    "# lui non la usa uso solo io per controllare prima\n",
    "\n",
    "print(classification_report(y_test, y_predicted_test))"
   ]
  },
  {
   "cell_type": "markdown",
   "id": "8434608b720080dd",
   "metadata": {},
   "source": [
    "We can notice that the precision is high only for 5 and 6 values of quality.\n",
    "We have to do some oversampling for the categories with lowest precision.\n",
    "\n",
    "### SMOTE\n",
    "\n"
   ]
  },
  {
   "cell_type": "code",
   "execution_count": 258,
   "id": "4ad331f2d2ec3824",
   "metadata": {
    "ExecuteTime": {
     "end_time": "2025-05-31T08:38:15.763795Z",
     "start_time": "2025-05-31T08:38:15.664436Z"
    }
   },
   "outputs": [
    {
     "name": "stdout",
     "output_type": "stream",
     "text": [
      "training accuracy 0.5954478707782672\n",
      " testing accuracy 0.5954478707782672\n"
     ]
    }
   ],
   "source": [
    "from imblearn.over_sampling import SMOTE  #library taken from slide 17\n",
    "\n",
    "X_resampled, y_resampled = SMOTE().fit_resample(x, y)\n",
    "tree_model_2 = DecisionTreeClassifier(criterion = 'entropy')\n",
    "tree_model_2.fit(X_resampled, y_resampled)\n",
    "\n",
    "y_predicted_train_2 = tree_model.predict(X_resampled)\n",
    "y_predicted_test_2 = tree_model.predict(X_resampled)\n",
    "training_acc = accuracy_score(y_resampled, y_predicted_train_2)\n",
    "testing_acc = accuracy_score(y_resampled, y_predicted_test_2)\n",
    "\n",
    "print(f'training accuracy {training_acc}\\n testing accuracy {testing_acc}')\n"
   ]
  },
  {
   "cell_type": "code",
   "execution_count": 259,
   "id": "b7fc8f473a64fd88",
   "metadata": {
    "ExecuteTime": {
     "end_time": "2025-05-31T08:38:15.855999Z",
     "start_time": "2025-05-31T08:38:15.836626Z"
    }
   },
   "outputs": [
    {
     "name": "stdout",
     "output_type": "stream",
     "text": [
      "              precision    recall  f1-score   support\n",
      "\n",
      "           3       0.91      0.24      0.38       681\n",
      "           4       0.74      0.42      0.54       681\n",
      "           5       0.51      0.94      0.66       681\n",
      "           6       0.51      0.91      0.65       681\n",
      "           7       0.61      0.68      0.64       681\n",
      "           8       0.89      0.38      0.53       681\n",
      "\n",
      "    accuracy                           0.60      4086\n",
      "   macro avg       0.69      0.60      0.57      4086\n",
      "weighted avg       0.69      0.60      0.57      4086\n",
      "\n"
     ]
    }
   ],
   "source": [
    "print(classification_report(y_resampled, y_predicted_test_2))\n",
    "\n",
    "#Nel complesso ok accuracy ma valori delle classi piu basse un pò troppo alti ora"
   ]
  },
  {
   "cell_type": "markdown",
   "id": "7ef93ddc4d1e7885",
   "metadata": {},
   "source": []
  },
  {
   "cell_type": "markdown",
   "id": "81ede06ec0d93eb4",
   "metadata": {},
   "source": [
    "### Random OverSampler"
   ]
  },
  {
   "cell_type": "code",
   "execution_count": 260,
   "id": "ee10e66db1735cd4",
   "metadata": {
    "ExecuteTime": {
     "end_time": "2025-05-31T08:38:15.991844Z",
     "start_time": "2025-05-31T08:38:15.927812Z"
    }
   },
   "outputs": [
    {
     "name": "stdout",
     "output_type": "stream",
     "text": [
      "training accuracy 1.0\n",
      " testing accuracy 1.0\n"
     ]
    }
   ],
   "source": [
    "from imblearn.over_sampling import RandomOverSampler\n",
    "\n",
    "X_resampled, y_resampled = RandomOverSampler(random_state=0).fit_resample(x, y)\n",
    "\n",
    "tree_model = DecisionTreeClassifier(criterion = 'entropy')\n",
    "tree_model.fit(X_resampled, y_resampled)\n",
    "\n",
    "y_predicted_train = tree_model.predict(X_resampled)\n",
    "y_predicted_test = tree_model.predict(X_resampled)\n",
    "training_acc = accuracy_score(y_resampled, y_predicted_train)\n",
    "testing_acc = accuracy_score(y_resampled, y_predicted_test)\n",
    "\n",
    "print(f'training accuracy {training_acc}\\n testing accuracy {testing_acc}')\n"
   ]
  },
  {
   "cell_type": "code",
   "execution_count": 261,
   "id": "b880d4a6108916c7",
   "metadata": {
    "ExecuteTime": {
     "end_time": "2025-05-31T08:38:16.094647Z",
     "start_time": "2025-05-31T08:38:16.077927Z"
    }
   },
   "outputs": [
    {
     "name": "stdout",
     "output_type": "stream",
     "text": [
      "              precision    recall  f1-score   support\n",
      "\n",
      "           3       1.00      1.00      1.00       681\n",
      "           4       1.00      1.00      1.00       681\n",
      "           5       1.00      1.00      1.00       681\n",
      "           6       1.00      1.00      1.00       681\n",
      "           7       1.00      1.00      1.00       681\n",
      "           8       1.00      1.00      1.00       681\n",
      "\n",
      "    accuracy                           1.00      4086\n",
      "   macro avg       1.00      1.00      1.00      4086\n",
      "weighted avg       1.00      1.00      1.00      4086\n",
      "\n"
     ]
    }
   ],
   "source": [
    "print(classification_report(y_resampled, y_predicted_test))\n",
    "\n",
    "### mmmmh overfitting? ù.ù"
   ]
  },
  {
   "cell_type": "markdown",
   "id": "5df0482f82227d3b",
   "metadata": {},
   "source": [
    "### Manually Undersampling\n"
   ]
  },
  {
   "cell_type": "code",
   "execution_count": 262,
   "id": "1e48b183270e8cc2",
   "metadata": {
    "ExecuteTime": {
     "end_time": "2025-05-31T08:38:16.196681Z",
     "start_time": "2025-05-31T08:38:16.174882Z"
    }
   },
   "outputs": [
    {
     "name": "stdout",
     "output_type": "stream",
     "text": [
      "(200, 12)\n",
      "(918, 12)\n",
      "(1118, 12)\n",
      "      fixed acidity  volatile acidity  citric acid  residual sugar  chlorides  \\\n",
      "0              11.2             0.280         0.56             1.9      0.075   \n",
      "1               7.3             0.650         0.00             1.2      0.065   \n",
      "2               7.8             0.580         0.02             2.0      0.073   \n",
      "3               8.5             0.280         0.56             1.8      0.092   \n",
      "4               7.4             0.590         0.08             4.4      0.086   \n",
      "...             ...               ...          ...             ...        ...   \n",
      "1113            8.9             0.620         0.18             3.8      0.176   \n",
      "1114            8.7             0.820         0.02             1.2      0.070   \n",
      "1115            9.7             0.660         0.34             2.6      0.094   \n",
      "1116            8.5             0.210         0.52             1.9      0.090   \n",
      "1117           15.6             0.645         0.49             4.2      0.095   \n",
      "\n",
      "      free sulfur dioxide  total sulfur dioxide  density    pH  sulphates  \\\n",
      "0                    17.0                  60.0  0.99800  3.16       0.58   \n",
      "1                    15.0                  21.0  0.99460  3.39       0.47   \n",
      "2                     9.0                  18.0  0.99680  3.36       0.57   \n",
      "3                    35.0                 103.0  0.99690  3.30       0.75   \n",
      "4                     6.0                  29.0  0.99740  3.38       0.50   \n",
      "...                   ...                   ...      ...   ...        ...   \n",
      "1113                 52.0                 145.0  0.99860  3.16       0.88   \n",
      "1114                 36.0                  48.0  0.99520  3.20       0.58   \n",
      "1115                 12.0                  88.0  0.99796  3.26       0.66   \n",
      "1116                  9.0                  23.0  0.99648  3.36       0.67   \n",
      "1117                 10.0                  23.0  1.00315  2.92       0.74   \n",
      "\n",
      "      alcohol  quality  \n",
      "0         9.8        6  \n",
      "1        10.0        7  \n",
      "2         9.5        7  \n",
      "3        10.5        7  \n",
      "4         9.0        4  \n",
      "...       ...      ...  \n",
      "1113      9.2        5  \n",
      "1114      9.8        5  \n",
      "1115     10.1        5  \n",
      "1116     10.4        5  \n",
      "1117     11.1        5  \n",
      "\n",
      "[1118 rows x 12 columns]\n"
     ]
    }
   ],
   "source": [
    "df_quality_5 = red_wine[red_wine['quality'] == 5]\n",
    "\n",
    "df_quality_sampled= df_quality_5.sample(n=200, random_state=42)\n",
    "#print(df_quality_sampled.shape)\n",
    "\n",
    "df_other_qualities = red_wine[red_wine['quality'] != 5]\n",
    "#print(df_other_qualities.shape)\n",
    "\n",
    "df_undersampled = pd.concat([df_other_qualities, df_quality_sampled])\n",
    "#print(df_undersampled.shape)\n",
    "\n",
    "df_undersampled = df_undersampled.reset_index(drop=True)\n",
    "#print(df_undersampled)\n",
    "\n",
    "df_quality_5 = red_wine[red_wine['quality'] == 5]\n",
    "\n",
    "\n"
   ]
  },
  {
   "cell_type": "code",
   "execution_count": 263,
   "id": "5a00b6ad9b257326",
   "metadata": {
    "ExecuteTime": {
     "end_time": "2025-05-31T08:38:16.336116Z",
     "start_time": "2025-05-31T08:38:16.284352Z"
    }
   },
   "outputs": [
    {
     "ename": "ValueError",
     "evalue": "Cannot take a larger sample than population when 'replace=False'",
     "output_type": "error",
     "traceback": [
      "\u001b[1;31m---------------------------------------------------------------------------\u001b[0m",
      "\u001b[1;31mValueError\u001b[0m                                Traceback (most recent call last)",
      "Cell \u001b[1;32mIn[263], line 22\u001b[0m\n\u001b[0;32m     20\u001b[0m \u001b[38;5;66;03m# and value 7\u001b[39;00m\n\u001b[0;32m     21\u001b[0m df_quality_7 \u001b[38;5;241m=\u001b[39m red_wine[red_wine[\u001b[38;5;124m'\u001b[39m\u001b[38;5;124mquality\u001b[39m\u001b[38;5;124m'\u001b[39m] \u001b[38;5;241m==\u001b[39m \u001b[38;5;241m7\u001b[39m]\n\u001b[1;32m---> 22\u001b[0m df_quality_sampled\u001b[38;5;241m=\u001b[39m df_quality_7\u001b[38;5;241m.\u001b[39msample(n\u001b[38;5;241m=\u001b[39m\u001b[38;5;241m200\u001b[39m, random_state\u001b[38;5;241m=\u001b[39m\u001b[38;5;241m42\u001b[39m)\n\u001b[0;32m     23\u001b[0m df_other_qualities \u001b[38;5;241m=\u001b[39m df_undersampled[df_undersampled[\u001b[38;5;124m'\u001b[39m\u001b[38;5;124mquality\u001b[39m\u001b[38;5;124m'\u001b[39m] \u001b[38;5;241m!=\u001b[39m \u001b[38;5;241m7\u001b[39m]\n\u001b[0;32m     24\u001b[0m df_undersampled \u001b[38;5;241m=\u001b[39m pd\u001b[38;5;241m.\u001b[39mconcat([df_other_qualities, df_quality_sampled])\n",
      "File \u001b[1;32m~\\miniconda3\\Lib\\site-packages\\pandas\\core\\generic.py:6118\u001b[0m, in \u001b[0;36mNDFrame.sample\u001b[1;34m(self, n, frac, replace, weights, random_state, axis, ignore_index)\u001b[0m\n\u001b[0;32m   6115\u001b[0m \u001b[38;5;28;01mif\u001b[39;00m weights \u001b[38;5;129;01mis\u001b[39;00m \u001b[38;5;129;01mnot\u001b[39;00m \u001b[38;5;28;01mNone\u001b[39;00m:\n\u001b[0;32m   6116\u001b[0m     weights \u001b[38;5;241m=\u001b[39m sample\u001b[38;5;241m.\u001b[39mpreprocess_weights(\u001b[38;5;28mself\u001b[39m, weights, axis)\n\u001b[1;32m-> 6118\u001b[0m sampled_indices \u001b[38;5;241m=\u001b[39m sample\u001b[38;5;241m.\u001b[39msample(obj_len, size, replace, weights, rs)\n\u001b[0;32m   6119\u001b[0m result \u001b[38;5;241m=\u001b[39m \u001b[38;5;28mself\u001b[39m\u001b[38;5;241m.\u001b[39mtake(sampled_indices, axis\u001b[38;5;241m=\u001b[39maxis)\n\u001b[0;32m   6121\u001b[0m \u001b[38;5;28;01mif\u001b[39;00m ignore_index:\n",
      "File \u001b[1;32m~\\miniconda3\\Lib\\site-packages\\pandas\\core\\sample.py:152\u001b[0m, in \u001b[0;36msample\u001b[1;34m(obj_len, size, replace, weights, random_state)\u001b[0m\n\u001b[0;32m    149\u001b[0m     \u001b[38;5;28;01melse\u001b[39;00m:\n\u001b[0;32m    150\u001b[0m         \u001b[38;5;28;01mraise\u001b[39;00m \u001b[38;5;167;01mValueError\u001b[39;00m(\u001b[38;5;124m\"\u001b[39m\u001b[38;5;124mInvalid weights: weights sum to zero\u001b[39m\u001b[38;5;124m\"\u001b[39m)\n\u001b[1;32m--> 152\u001b[0m \u001b[38;5;28;01mreturn\u001b[39;00m random_state\u001b[38;5;241m.\u001b[39mchoice(obj_len, size\u001b[38;5;241m=\u001b[39msize, replace\u001b[38;5;241m=\u001b[39mreplace, p\u001b[38;5;241m=\u001b[39mweights)\u001b[38;5;241m.\u001b[39mastype(\n\u001b[0;32m    153\u001b[0m     np\u001b[38;5;241m.\u001b[39mintp, copy\u001b[38;5;241m=\u001b[39m\u001b[38;5;28;01mFalse\u001b[39;00m\n\u001b[0;32m    154\u001b[0m )\n",
      "File \u001b[1;32mnumpy\\\\random\\\\mtrand.pyx:1020\u001b[0m, in \u001b[0;36mnumpy.random.mtrand.RandomState.choice\u001b[1;34m()\u001b[0m\n",
      "\u001b[1;31mValueError\u001b[0m: Cannot take a larger sample than population when 'replace=False'"
     ]
    }
   ],
   "source": [
    "# isolate data with value 5\n",
    "df_quality_5 = red_wine[red_wine['quality'] == 5]\n",
    "\n",
    "# take random sample of 200 rows\n",
    "df_quality_sampled= df_quality_5.sample(n=200, random_state=42)\n",
    "\n",
    "df_other_qualities = red_wine[red_wine['quality'] != 5]\n",
    "df_undersampled = pd.concat([df_other_qualities, df_quality_sampled])\n",
    "\n",
    "#reset index\n",
    "df_undersampled = df_undersampled.reset_index(drop=True)\n",
    "\n",
    "# same for the value 6\n",
    "df_quality_6 = red_wine[red_wine['quality'] == 6]\n",
    "df_quality_sampled= df_quality_6.sample(n=200, random_state=42)\n",
    "df_other_qualities = df_undersampled[df_undersampled['quality'] != 6]\n",
    "df_undersampled = pd.concat([df_other_qualities, df_quality_sampled])\n",
    "df_undersampled = df_undersampled.reset_index(drop=True)\n",
    "\n",
    "# and value 7\n",
    "df_quality_7 = red_wine[red_wine['quality'] == 7]\n",
    "df_quality_sampled= df_quality_7.sample(n=200, random_state=42)\n",
    "df_other_qualities = df_undersampled[df_undersampled['quality'] != 7]\n",
    "df_undersampled = pd.concat([df_other_qualities, df_quality_sampled])\n",
    "df_undersampled = df_undersampled.reset_index(drop=True)\n",
    "\n",
    "\n",
    "\n",
    "print(df_undersampled.shape)\n",
    "print(df_undersampled.head())\n"
   ]
  }
 ],
 "metadata": {
  "kernelspec": {
   "display_name": "rossi-manno",
   "language": "python",
   "name": "python3"
  },
  "language_info": {
   "codemirror_mode": {
    "name": "ipython",
    "version": 2
   },
   "file_extension": ".py",
   "mimetype": "text/x-python",
   "name": "python",
   "nbconvert_exporter": "python",
   "pygments_lexer": "ipython2",
   "version": "3.13.3"
  }
 },
 "nbformat": 4,
 "nbformat_minor": 5
}
